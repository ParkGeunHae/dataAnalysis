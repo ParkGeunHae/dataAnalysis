{
 "cells": [
  {
   "cell_type": "markdown",
   "id": "4fJ5O84wPYPL",
   "metadata": {
    "id": "4fJ5O84wPYPL"
   },
   "source": [
    "# 데이터 분석"
   ]
  },
  {
   "cell_type": "markdown",
   "id": "5EeG6TDjPY8n",
   "metadata": {
    "id": "5EeG6TDjPY8n"
   },
   "source": [
    "## 4. 웹 크롤링으로 데이터 수집 - 동적 웹크롤링"
   ]
  },
  {
   "cell_type": "markdown",
   "id": "Hu6wdFx6QFkN",
   "metadata": {
    "id": "Hu6wdFx6QFkN"
   },
   "source": [
    "### 1) 웹 크롤링 기초"
   ]
  },
  {
   "cell_type": "markdown",
   "id": "lS04IwMiQGxb",
   "metadata": {
    "id": "lS04IwMiQGxb"
   },
   "source": [
    "### 2) 정적 크롤링(스크래핑)"
   ]
  },
  {
   "cell_type": "markdown",
   "id": "GlUTfO8OPZE1",
   "metadata": {
    "id": "GlUTfO8OPZE1"
   },
   "source": [
    "### 3) 동적 크롤링(Visual Studio Code 사용)"
   ]
  },
  {
   "cell_type": "markdown",
   "id": "dfff7426",
   "metadata": {
    "id": "dfff7426"
   },
   "source": [
    "- 공식페이지: https://www.selenium.dev/\n",
    "- 참고: https://wikidocs.net/198942"
   ]
  },
  {
   "cell_type": "markdown",
   "id": "76c531bf",
   "metadata": {},
   "source": [
    "- https://chromedriver.chromium.org/\n",
    "- 최신 chrome webdriver 다운로드\n",
    "- 코드가 있는 위치에 chromedriver.exe파일 옮겨놓는다.\n",
    "- 자신의 크롬 웹 브라우저의 버전을 확인하고 버전에 맞는 것을 다운로드해야한다."
   ]
  },
  {
   "cell_type": "markdown",
   "id": "baf83cdb",
   "metadata": {},
   "source": [
    "#### 자신의 PC 폰트 목록 가져오기"
   ]
  },
  {
   "cell_type": "code",
   "execution_count": 7,
   "id": "f6e23694",
   "metadata": {},
   "outputs": [
    {
     "name": "stdout",
     "output_type": "stream",
     "text": [
      "Requirement already satisfied: numpy in c:\\python\\python312\\lib\\site-packages (1.26.4)\n"
     ]
    }
   ],
   "source": [
    "!pip install numpy"
   ]
  },
  {
   "cell_type": "code",
   "execution_count": 8,
   "id": "088bf070",
   "metadata": {},
   "outputs": [
    {
     "name": "stdout",
     "output_type": "stream",
     "text": [
      "Requirement already satisfied: pandas in c:\\python\\python312\\lib\\site-packages (2.2.1)\n",
      "Requirement already satisfied: numpy<2,>=1.26.0 in c:\\python\\python312\\lib\\site-packages (from pandas) (1.26.4)\n",
      "Requirement already satisfied: python-dateutil>=2.8.2 in c:\\python\\python312\\lib\\site-packages (from pandas) (2.9.0.post0)\n",
      "Requirement already satisfied: pytz>=2020.1 in c:\\python\\python312\\lib\\site-packages (from pandas) (2024.1)\n",
      "Requirement already satisfied: tzdata>=2022.7 in c:\\python\\python312\\lib\\site-packages (from pandas) (2024.1)\n",
      "Requirement already satisfied: six>=1.5 in c:\\python\\python312\\lib\\site-packages (from python-dateutil>=2.8.2->pandas) (1.16.0)\n"
     ]
    }
   ],
   "source": [
    "!pip install pandas"
   ]
  },
  {
   "cell_type": "code",
   "execution_count": 9,
   "id": "e56bb794",
   "metadata": {},
   "outputs": [
    {
     "name": "stdout",
     "output_type": "stream",
     "text": [
      "Requirement already satisfied: matplotlib in c:\\python\\python312\\lib\\site-packages (3.8.4)\n",
      "Requirement already satisfied: contourpy>=1.0.1 in c:\\python\\python312\\lib\\site-packages (from matplotlib) (1.2.1)\n",
      "Requirement already satisfied: cycler>=0.10 in c:\\python\\python312\\lib\\site-packages (from matplotlib) (0.12.1)\n",
      "Requirement already satisfied: fonttools>=4.22.0 in c:\\python\\python312\\lib\\site-packages (from matplotlib) (4.51.0)\n",
      "Requirement already satisfied: kiwisolver>=1.3.1 in c:\\python\\python312\\lib\\site-packages (from matplotlib) (1.4.5)\n",
      "Requirement already satisfied: numpy>=1.21 in c:\\python\\python312\\lib\\site-packages (from matplotlib) (1.26.4)\n",
      "Requirement already satisfied: packaging>=20.0 in c:\\python\\python312\\lib\\site-packages (from matplotlib) (24.0)\n",
      "Requirement already satisfied: pillow>=8 in c:\\python\\python312\\lib\\site-packages (from matplotlib) (10.3.0)\n",
      "Requirement already satisfied: pyparsing>=2.3.1 in c:\\python\\python312\\lib\\site-packages (from matplotlib) (3.1.2)\n",
      "Requirement already satisfied: python-dateutil>=2.7 in c:\\python\\python312\\lib\\site-packages (from matplotlib) (2.9.0.post0)\n",
      "Requirement already satisfied: six>=1.5 in c:\\python\\python312\\lib\\site-packages (from python-dateutil>=2.7->matplotlib) (1.16.0)\n"
     ]
    }
   ],
   "source": [
    "!pip install matplotlib"
   ]
  },
  {
   "cell_type": "code",
   "execution_count": 10,
   "id": "cdb71456",
   "metadata": {},
   "outputs": [
    {
     "name": "stdout",
     "output_type": "stream",
     "text": [
      "Collecting seaborn\n",
      "  Downloading seaborn-0.13.2-py3-none-any.whl.metadata (5.4 kB)\n",
      "Requirement already satisfied: numpy!=1.24.0,>=1.20 in c:\\python\\python312\\lib\\site-packages (from seaborn) (1.26.4)\n",
      "Requirement already satisfied: pandas>=1.2 in c:\\python\\python312\\lib\\site-packages (from seaborn) (2.2.1)\n",
      "Requirement already satisfied: matplotlib!=3.6.1,>=3.4 in c:\\python\\python312\\lib\\site-packages (from seaborn) (3.8.4)\n",
      "Requirement already satisfied: contourpy>=1.0.1 in c:\\python\\python312\\lib\\site-packages (from matplotlib!=3.6.1,>=3.4->seaborn) (1.2.1)\n",
      "Requirement already satisfied: cycler>=0.10 in c:\\python\\python312\\lib\\site-packages (from matplotlib!=3.6.1,>=3.4->seaborn) (0.12.1)\n",
      "Requirement already satisfied: fonttools>=4.22.0 in c:\\python\\python312\\lib\\site-packages (from matplotlib!=3.6.1,>=3.4->seaborn) (4.51.0)\n",
      "Requirement already satisfied: kiwisolver>=1.3.1 in c:\\python\\python312\\lib\\site-packages (from matplotlib!=3.6.1,>=3.4->seaborn) (1.4.5)\n",
      "Requirement already satisfied: packaging>=20.0 in c:\\python\\python312\\lib\\site-packages (from matplotlib!=3.6.1,>=3.4->seaborn) (24.0)\n",
      "Requirement already satisfied: pillow>=8 in c:\\python\\python312\\lib\\site-packages (from matplotlib!=3.6.1,>=3.4->seaborn) (10.3.0)\n",
      "Requirement already satisfied: pyparsing>=2.3.1 in c:\\python\\python312\\lib\\site-packages (from matplotlib!=3.6.1,>=3.4->seaborn) (3.1.2)\n",
      "Requirement already satisfied: python-dateutil>=2.7 in c:\\python\\python312\\lib\\site-packages (from matplotlib!=3.6.1,>=3.4->seaborn) (2.9.0.post0)\n",
      "Requirement already satisfied: pytz>=2020.1 in c:\\python\\python312\\lib\\site-packages (from pandas>=1.2->seaborn) (2024.1)\n",
      "Requirement already satisfied: tzdata>=2022.7 in c:\\python\\python312\\lib\\site-packages (from pandas>=1.2->seaborn) (2024.1)\n",
      "Requirement already satisfied: six>=1.5 in c:\\python\\python312\\lib\\site-packages (from python-dateutil>=2.7->matplotlib!=3.6.1,>=3.4->seaborn) (1.16.0)\n",
      "Downloading seaborn-0.13.2-py3-none-any.whl (294 kB)\n",
      "   ---------------------------------------- 0.0/294.9 kB ? eta -:--:--\n",
      "   ---- ---------------------------------- 30.7/294.9 kB 640.0 kB/s eta 0:00:01\n",
      "   -------------------------------------- - 286.7/294.9 kB 3.5 MB/s eta 0:00:01\n",
      "   ---------------------------------------- 294.9/294.9 kB 3.0 MB/s eta 0:00:00\n",
      "Installing collected packages: seaborn\n",
      "Successfully installed seaborn-0.13.2\n"
     ]
    }
   ],
   "source": [
    "!pip install seaborn"
   ]
  },
  {
   "cell_type": "code",
   "execution_count": 11,
   "id": "76b121da",
   "metadata": {},
   "outputs": [
    {
     "name": "stdout",
     "output_type": "stream",
     "text": [
      "Collecting plotly\n",
      "  Downloading plotly-5.21.0-py3-none-any.whl.metadata (7.1 kB)\n",
      "Collecting tenacity>=6.2.0 (from plotly)\n",
      "  Downloading tenacity-8.2.3-py3-none-any.whl.metadata (1.0 kB)\n",
      "Requirement already satisfied: packaging in c:\\python\\python312\\lib\\site-packages (from plotly) (24.0)\n",
      "Downloading plotly-5.21.0-py3-none-any.whl (15.7 MB)\n",
      "   ---------------------------------------- 0.0/15.7 MB ? eta -:--:--\n",
      "   ---------------------------------------- 0.0/15.7 MB ? eta -:--:--\n",
      "    --------------------------------------- 0.4/15.7 MB 4.5 MB/s eta 0:00:04\n",
      "   -- ------------------------------------- 1.2/15.7 MB 9.2 MB/s eta 0:00:02\n",
      "   ----- ---------------------------------- 2.3/15.7 MB 13.3 MB/s eta 0:00:02\n",
      "   ---------- ----------------------------- 4.1/15.7 MB 18.7 MB/s eta 0:00:01\n",
      "   ---------------- ----------------------- 6.4/15.7 MB 23.9 MB/s eta 0:00:01\n",
      "   -------------------- ------------------- 8.0/15.7 MB 25.6 MB/s eta 0:00:01\n",
      "   -------------------------- ------------- 10.4/15.7 MB 34.4 MB/s eta 0:00:01\n",
      "   -------------------------------- ------- 12.8/15.7 MB 43.5 MB/s eta 0:00:01\n",
      "   ------------------------------------- -- 14.8/15.7 MB 43.5 MB/s eta 0:00:01\n",
      "   ------------------------------------- -- 14.9/15.7 MB 38.6 MB/s eta 0:00:01\n",
      "   -------------------------------------- - 15.0/15.7 MB 32.8 MB/s eta 0:00:01\n",
      "   -------------------------------------- - 15.1/15.7 MB 31.1 MB/s eta 0:00:01\n",
      "   ---------------------------------------  15.3/15.7 MB 26.2 MB/s eta 0:00:01\n",
      "   ---------------------------------------  15.7/15.7 MB 22.5 MB/s eta 0:00:01\n",
      "   ---------------------------------------  15.7/15.7 MB 22.5 MB/s eta 0:00:01\n",
      "   ---------------------------------------- 15.7/15.7 MB 19.2 MB/s eta 0:00:00\n",
      "Downloading tenacity-8.2.3-py3-none-any.whl (24 kB)\n",
      "Installing collected packages: tenacity, plotly\n",
      "Successfully installed plotly-5.21.0 tenacity-8.2.3\n"
     ]
    }
   ],
   "source": [
    "!pip install plotly"
   ]
  },
  {
   "cell_type": "code",
   "execution_count": 3,
   "id": "9de9e8da",
   "metadata": {},
   "outputs": [
    {
     "name": "stdout",
     "output_type": "stream",
     "text": [
      "windows 폰트 목록 : ['C:\\\\Windows\\\\Fonts\\\\TCMI____.TTF', 'C:\\\\Windows\\\\Fonts\\\\Hancom Gothic Regular.ttf', 'C:\\\\Windows\\\\Fonts\\\\CALISTB.TTF', 'C:\\\\Windows\\\\Fonts\\\\ANTQUAB.TTF', 'C:\\\\Windows\\\\Fonts\\\\HanSantteutDotum-Bold.ttf', 'C:\\\\Windows\\\\Fonts\\\\calibrii.ttf', 'C:\\\\Windows\\\\Fonts\\\\H2HDRM.TTF', 'C:\\\\Windows\\\\Fonts\\\\LSANSI.TTF', 'C:\\\\Windows\\\\Fonts\\\\HANWing2.ttf', 'C:\\\\Windows\\\\Fonts\\\\\\x7f\\x7f\\x7f\\x7f.TTF', 'C:\\\\Windows\\\\Fonts\\\\PAPYRUS.TTF', 'C:\\\\Windows\\\\Fonts\\\\OLDENGL.TTF', 'C:\\\\Windows\\\\Fonts\\\\HTOWERTI.TTF', 'C:\\\\Windows\\\\Fonts\\\\Candaral.ttf', 'C:\\\\Windows\\\\Fonts\\\\MSUIGHUR.TTF', 'C:\\\\Windows\\\\Fonts\\\\phagspa.ttf', 'C:\\\\Windows\\\\Fonts\\\\BSSYM7.TTF', 'C:\\\\Windows\\\\Fonts\\\\LSANSDI.TTF', 'C:\\\\Windows\\\\Fonts\\\\DUBAI-LIGHT.TTF', 'C:\\\\Windows\\\\Fonts\\\\Nirmala.ttf', 'C:\\\\Windows\\\\Fonts\\\\BRLNSB.TTF', 'C:\\\\Windows\\\\Fonts\\\\cambriaz.ttf', 'C:\\\\Windows\\\\Fonts\\\\comici.ttf', 'C:\\\\Windows\\\\Fonts\\\\WINGDNG3.TTF', 'C:\\\\Windows\\\\Fonts\\\\msyhbd.ttc', 'C:\\\\Windows\\\\Fonts\\\\YuGothR.ttc', 'C:\\\\Windows\\\\Fonts\\\\PERB____.TTF', 'C:\\\\Windows\\\\Fonts\\\\malgun.ttf', 'C:\\\\Windows\\\\Fonts\\\\BOOKOSB.TTF', 'C:\\\\Windows\\\\Fonts\\\\verdanai.ttf', 'C:\\\\Windows\\\\Fonts\\\\BOD_BI.TTF', 'C:\\\\Windows\\\\Fonts\\\\GOUDOSB.TTF', 'C:\\\\Windows\\\\Fonts\\\\impact.ttf', 'C:\\\\Windows\\\\Fonts\\\\KUNSTLER.TTF', 'C:\\\\Windows\\\\Fonts\\\\msjh.ttc', 'C:\\\\Windows\\\\Fonts\\\\BASKVILL.TTF', 'C:\\\\Windows\\\\Fonts\\\\MTCORSVA.TTF', 'C:\\\\Windows\\\\Fonts\\\\HANBatangExtBB.ttf', 'C:\\\\Windows\\\\Fonts\\\\SitkaZ.ttc', 'C:\\\\Windows\\\\Fonts\\\\H2PORL.TTF', 'C:\\\\Windows\\\\Fonts\\\\BKANT.TTF', 'C:\\\\Windows\\\\Fonts\\\\msyhl.ttc', 'C:\\\\Windows\\\\Fonts\\\\H2GTRM.TTF', 'C:\\\\Windows\\\\Fonts\\\\H2MJRE.TTF', 'C:\\\\Windows\\\\Fonts\\\\seguihis.ttf', 'C:\\\\Windows\\\\Fonts\\\\segoeprb.ttf', 'C:\\\\Windows\\\\Fonts\\\\HANDotumExt.ttf', 'C:\\\\Windows\\\\Fonts\\\\CALIFI.TTF', 'C:\\\\Windows\\\\Fonts\\\\COPRGTL.TTF', 'C:\\\\Windows\\\\Fonts\\\\LHANDW.TTF', 'C:\\\\Windows\\\\Fonts\\\\timesbd.ttf', 'C:\\\\Windows\\\\Fonts\\\\BOD_PSTC.TTF', 'C:\\\\Windows\\\\Fonts\\\\SCRIPTBL.TTF', 'C:\\\\Windows\\\\Fonts\\\\GILI____.TTF', 'C:\\\\Windows\\\\Fonts\\\\BOD_CBI.TTF', 'C:\\\\Windows\\\\Fonts\\\\BRLNSDB.TTF', 'C:\\\\Windows\\\\Fonts\\\\LEELAWAD.TTF', 'C:\\\\Windows\\\\Fonts\\\\ONYX.TTF', 'C:\\\\Windows\\\\Fonts\\\\calibrib.ttf', 'C:\\\\Windows\\\\Fonts\\\\Gabriola.ttf', 'C:\\\\Windows\\\\Fonts\\\\COPRGTB.TTF', 'C:\\\\Windows\\\\Fonts\\\\timesi.ttf', 'C:\\\\Windows\\\\Fonts\\\\TCM_____.TTF', 'C:\\\\Windows\\\\Fonts\\\\BELL.TTF', 'C:\\\\Windows\\\\Fonts\\\\FTLTLT.TTF', 'C:\\\\Windows\\\\Fonts\\\\TCB_____.TTF', 'C:\\\\Windows\\\\Fonts\\\\georgiai.ttf', 'C:\\\\Windows\\\\Fonts\\\\TCCM____.TTF', 'C:\\\\Windows\\\\Fonts\\\\FRAHV.TTF', 'C:\\\\Windows\\\\Fonts\\\\TCBI____.TTF', 'C:\\\\Windows\\\\Fonts\\\\trebucit.ttf', 'C:\\\\Windows\\\\Fonts\\\\BOD_CB.TTF', 'C:\\\\Windows\\\\Fonts\\\\seguisbi.ttf', 'C:\\\\Windows\\\\Fonts\\\\palabi.ttf', 'C:\\\\Windows\\\\Fonts\\\\webdings.ttf', 'C:\\\\Windows\\\\Fonts\\\\GARA.TTF', 'C:\\\\Windows\\\\Fonts\\\\SitkaB.ttc', 'C:\\\\Windows\\\\Fonts\\\\FRABK.TTF', 'C:\\\\Windows\\\\Fonts\\\\GOUDYSTO.TTF', 'C:\\\\Windows\\\\Fonts\\\\FREESCPT.TTF', 'C:\\\\Windows\\\\Fonts\\\\OUTLOOK.TTF', 'C:\\\\Windows\\\\Fonts\\\\gadugib.ttf', 'C:\\\\Windows\\\\Fonts\\\\SitkaI.ttc', 'C:\\\\Windows\\\\Fonts\\\\VINERITC.TTF', 'C:\\\\Windows\\\\Fonts\\\\GLECB.TTF', 'C:\\\\Windows\\\\Fonts\\\\ERASDEMI.TTF', 'C:\\\\Windows\\\\Fonts\\\\FRAHVIT.TTF', 'C:\\\\Windows\\\\Fonts\\\\FRADMCN.TTF', 'C:\\\\Windows\\\\Fonts\\\\trebucbi.ttf', 'C:\\\\Windows\\\\Fonts\\\\HARLOWSI.TTF', 'C:\\\\Windows\\\\Fonts\\\\FRADMIT.TTF', 'C:\\\\Windows\\\\Fonts\\\\cambriai.ttf', 'C:\\\\Windows\\\\Fonts\\\\mingliub.ttc', 'C:\\\\Windows\\\\Fonts\\\\BOD_I.TTF', 'C:\\\\Windows\\\\Fonts\\\\PARCHM.TTF', 'C:\\\\Windows\\\\Fonts\\\\H2PORM.TTF', 'C:\\\\Windows\\\\Fonts\\\\LTYPEO.TTF', 'C:\\\\Windows\\\\Fonts\\\\malgunbd.ttf', 'C:\\\\Windows\\\\Fonts\\\\gulim.ttc', 'C:\\\\Windows\\\\Fonts\\\\calibri.ttf', 'C:\\\\Windows\\\\Fonts\\\\corbelb.ttf', 'C:\\\\Windows\\\\Fonts\\\\couri.ttf', 'C:\\\\Windows\\\\Fonts\\\\segoeuisl.ttf', 'C:\\\\Windows\\\\Fonts\\\\georgiaz.ttf', 'C:\\\\Windows\\\\Fonts\\\\ITCKRIST.TTF', 'C:\\\\Windows\\\\Fonts\\\\POORICH.TTF', 'C:\\\\Windows\\\\Fonts\\\\ROCKI.TTF', 'C:\\\\Windows\\\\Fonts\\\\HANBatangExtB.ttf', 'C:\\\\Windows\\\\Fonts\\\\courbi.ttf', 'C:\\\\Windows\\\\Fonts\\\\msyi.ttf', 'C:\\\\Windows\\\\Fonts\\\\COOPBL.TTF', 'C:\\\\Windows\\\\Fonts\\\\HMKMMAG.TTF', 'C:\\\\Windows\\\\Fonts\\\\mmrtextb.ttf', 'C:\\\\Windows\\\\Fonts\\\\JUICE___.TTF', 'C:\\\\Windows\\\\Fonts\\\\LCALLIG.TTF', 'C:\\\\Windows\\\\Fonts\\\\LSANSD.TTF', 'C:\\\\Windows\\\\Fonts\\\\BRUSHSCI.TTF', 'C:\\\\Windows\\\\Fonts\\\\PALSCRI.TTF', 'C:\\\\Windows\\\\Fonts\\\\GOTHICBI.TTF', 'C:\\\\Windows\\\\Fonts\\\\Candarali.ttf', 'C:\\\\Windows\\\\Fonts\\\\GILBI___.TTF', 'C:\\\\Windows\\\\Fonts\\\\consola.ttf', 'C:\\\\Windows\\\\Fonts\\\\ROCC____.TTF', 'C:\\\\Windows\\\\Fonts\\\\courbd.ttf', 'C:\\\\Windows\\\\Fonts\\\\seguiemj.ttf', 'C:\\\\Windows\\\\Fonts\\\\CALIST.TTF', 'C:\\\\Windows\\\\Fonts\\\\l_10646.ttf', 'C:\\\\Windows\\\\Fonts\\\\constanz.ttf', 'C:\\\\Windows\\\\Fonts\\\\TCCEB.TTF', 'C:\\\\Windows\\\\Fonts\\\\SCHLBKB.TTF', 'C:\\\\Windows\\\\Fonts\\\\calibriz.ttf', 'C:\\\\Windows\\\\Fonts\\\\Candarab.ttf', 'C:\\\\Windows\\\\Fonts\\\\HANBatangExt.ttf', 'C:\\\\Windows\\\\Fonts\\\\corbell.ttf', 'C:\\\\Windows\\\\Fonts\\\\seguisli.ttf', 'C:\\\\Windows\\\\Fonts\\\\seguisb.ttf', 'C:\\\\Windows\\\\Fonts\\\\framd.ttf', 'C:\\\\Windows\\\\Fonts\\\\PERTILI.TTF', 'C:\\\\Windows\\\\Fonts\\\\tahomabd.ttf', 'C:\\\\Windows\\\\Fonts\\\\LFAXD.TTF', 'C:\\\\Windows\\\\Fonts\\\\CASTELAR.TTF', 'C:\\\\Windows\\\\Fonts\\\\HANBatangB.ttf', 'C:\\\\Windows\\\\Fonts\\\\MOD20.TTF', 'C:\\\\Windows\\\\Fonts\\\\HMKMAMI.TTF', 'C:\\\\Windows\\\\Fonts\\\\segoeuiz.ttf', 'C:\\\\Windows\\\\Fonts\\\\VLADIMIR.TTF', 'C:\\\\Windows\\\\Fonts\\\\segoepr.ttf', 'C:\\\\Windows\\\\Fonts\\\\HanSantteutDotum-Regular.ttf', 'C:\\\\Windows\\\\Fonts\\\\HMFMOLD.TTF', 'C:\\\\Windows\\\\Fonts\\\\LBRITEI.TTF', 'C:\\\\Windows\\\\Fonts\\\\ARIALNB.TTF', 'C:\\\\Windows\\\\Fonts\\\\LFAXDI.TTF', 'C:\\\\Windows\\\\Fonts\\\\ntailu.ttf', 'C:\\\\Windows\\\\Fonts\\\\LFAX.TTF', 'C:\\\\Windows\\\\Fonts\\\\GILSANUB.TTF', 'C:\\\\Windows\\\\Fonts\\\\LBRITEDI.TTF', 'C:\\\\Windows\\\\Fonts\\\\seguili.ttf', 'C:\\\\Windows\\\\Fonts\\\\pala.ttf', 'C:\\\\Windows\\\\Fonts\\\\HMKMRHD.TTF', 'C:\\\\Windows\\\\Fonts\\\\WINGDNG2.TTF', 'C:\\\\Windows\\\\Fonts\\\\ERASMD.TTF', 'C:\\\\Windows\\\\Fonts\\\\ERASBD.TTF', 'C:\\\\Windows\\\\Fonts\\\\ARIALNI.TTF', 'C:\\\\Windows\\\\Fonts\\\\PLAYBILL.TTF', 'C:\\\\Windows\\\\Fonts\\\\himalaya.ttf', 'C:\\\\Windows\\\\Fonts\\\\CHILLER.TTF', 'C:\\\\Windows\\\\Fonts\\\\LTYPEBO.TTF', 'C:\\\\Windows\\\\Fonts\\\\monbaiti.ttf', 'C:\\\\Windows\\\\Fonts\\\\ANTQUAI.TTF', 'C:\\\\Windows\\\\Fonts\\\\sylfaen.ttf', 'C:\\\\Windows\\\\Fonts\\\\trebucbd.ttf', 'C:\\\\Windows\\\\Fonts\\\\ALGER.TTF', 'C:\\\\Windows\\\\Fonts\\\\ANTQUABI.TTF', 'C:\\\\Windows\\\\Fonts\\\\H2MJSM.TTF', 'C:\\\\Windows\\\\Fonts\\\\FRADM.TTF', 'C:\\\\Windows\\\\Fonts\\\\VIVALDII.TTF', 'C:\\\\Windows\\\\Fonts\\\\BELLB.TTF', 'C:\\\\Windows\\\\Fonts\\\\comicbd.ttf', 'C:\\\\Windows\\\\Fonts\\\\BOOKOSI.TTF', 'C:\\\\Windows\\\\Fonts\\\\PER_____.TTF', 'C:\\\\Windows\\\\Fonts\\\\BOD_BLAR.TTF', 'C:\\\\Windows\\\\Fonts\\\\LTYPEB.TTF', 'C:\\\\Windows\\\\Fonts\\\\GARABD.TTF', 'C:\\\\Windows\\\\Fonts\\\\NGULIM.TTF', 'C:\\\\Windows\\\\Fonts\\\\H2SA1M.TTF', 'C:\\\\Windows\\\\Fonts\\\\trebuc.ttf', 'C:\\\\Windows\\\\Fonts\\\\georgiab.ttf', 'C:\\\\Windows\\\\Fonts\\\\msyh.ttc', 'C:\\\\Windows\\\\Fonts\\\\HANDotumB.ttf', 'C:\\\\Windows\\\\Fonts\\\\MATURASC.TTF', 'C:\\\\Windows\\\\Fonts\\\\ENGR.TTF', 'C:\\\\Windows\\\\Fonts\\\\arialbi.ttf', 'C:\\\\Windows\\\\Fonts\\\\DUBAI-REGULAR.TTF', 'C:\\\\Windows\\\\Fonts\\\\palab.ttf', 'C:\\\\Windows\\\\Fonts\\\\LBRITE.TTF', 'C:\\\\Windows\\\\Fonts\\\\mmrtext.ttf', 'C:\\\\Windows\\\\Fonts\\\\HMFMPYUN.TTF', 'C:\\\\Windows\\\\Fonts\\\\OCRAEXT.TTF', 'C:\\\\Windows\\\\Fonts\\\\corbel.ttf', 'C:\\\\Windows\\\\Fonts\\\\consolai.ttf', 'C:\\\\Windows\\\\Fonts\\\\NirmalaS.ttf', 'C:\\\\Windows\\\\Fonts\\\\ARIALN.TTF', 'C:\\\\Windows\\\\Fonts\\\\ERASLGHT.TTF', 'C:\\\\Windows\\\\Fonts\\\\cour.ttf', 'C:\\\\Windows\\\\Fonts\\\\SCHLBKI.TTF', 'C:\\\\Windows\\\\Fonts\\\\cambria.ttc', 'C:\\\\Windows\\\\Fonts\\\\\\x7f\\x7f\\x7f\\x7fEXTRABOLD.TTF', 'C:\\\\Windows\\\\Fonts\\\\seguisym.ttf', 'C:\\\\Windows\\\\Fonts\\\\LATINWD.TTF', 'C:\\\\Windows\\\\Fonts\\\\FORTE.TTF', 'C:\\\\Windows\\\\Fonts\\\\framdit.ttf', 'C:\\\\Windows\\\\Fonts\\\\SHOWG.TTF', 'C:\\\\Windows\\\\Fonts\\\\ARIALNBI.TTF', 'C:\\\\Windows\\\\Fonts\\\\BOD_CI.TTF', 'C:\\\\Windows\\\\Fonts\\\\BRLNSR.TTF', 'C:\\\\Windows\\\\Fonts\\\\HANDotum.ttf', 'C:\\\\Windows\\\\Fonts\\\\lucon.ttf', 'C:\\\\Windows\\\\Fonts\\\\BOD_B.TTF', 'C:\\\\Windows\\\\Fonts\\\\ROCK.TTF', 'C:\\\\Windows\\\\Fonts\\\\cambriab.ttf', 'C:\\\\Windows\\\\Fonts\\\\calibrili.ttf', 'C:\\\\Windows\\\\Fonts\\\\PRISTINA.TTF', 'C:\\\\Windows\\\\Fonts\\\\msgothic.ttc', 'C:\\\\Windows\\\\Fonts\\\\CENTAUR.TTF', 'C:\\\\Windows\\\\Fonts\\\\GOUDOSI.TTF', 'C:\\\\Windows\\\\Fonts\\\\GILC____.TTF', 'C:\\\\Windows\\\\Fonts\\\\BOOKOS.TTF', 'C:\\\\Windows\\\\Fonts\\\\CALISTBI.TTF', 'C:\\\\Windows\\\\Fonts\\\\ariblk.ttf', 'C:\\\\Windows\\\\Fonts\\\\GILLUBCD.TTF', 'C:\\\\Windows\\\\Fonts\\\\NIAGSOL.TTF', 'C:\\\\Windows\\\\Fonts\\\\AGENCYB.TTF', 'C:\\\\Windows\\\\Fonts\\\\NIAGENG.TTF', 'C:\\\\Windows\\\\Fonts\\\\BROADW.TTF', 'C:\\\\Windows\\\\Fonts\\\\CALIFR.TTF', 'C:\\\\Windows\\\\Fonts\\\\arial.ttf', 'C:\\\\Windows\\\\Fonts\\\\constan.ttf', 'C:\\\\Windows\\\\Fonts\\\\MTEXTRA.TTF', 'C:\\\\Windows\\\\Fonts\\\\taile.ttf', 'C:\\\\Windows\\\\Fonts\\\\Hancom Gothic Bold.ttf', 'C:\\\\Windows\\\\Fonts\\\\MAIAN.TTF', 'C:\\\\Windows\\\\Fonts\\\\CENTURY.TTF', 'C:\\\\Windows\\\\Fonts\\\\batang.ttc', 'C:\\\\Windows\\\\Fonts\\\\BOD_BLAI.TTF', 'C:\\\\Windows\\\\Fonts\\\\mvboli.ttf', 'C:\\\\Windows\\\\Fonts\\\\SCHLBKBI.TTF', 'C:\\\\Windows\\\\Fonts\\\\phagspab.ttf', 'C:\\\\Windows\\\\Fonts\\\\segmdl2.ttf', 'C:\\\\Windows\\\\Fonts\\\\TEMPSITC.TTF', 'C:\\\\Windows\\\\Fonts\\\\corbeli.ttf', 'C:\\\\Windows\\\\Fonts\\\\verdanab.ttf', 'C:\\\\Windows\\\\Fonts\\\\COLONNA.TTF', 'C:\\\\Windows\\\\Fonts\\\\segoesc.ttf', 'C:\\\\Windows\\\\Fonts\\\\segoeuib.ttf', 'C:\\\\Windows\\\\Fonts\\\\HATTEN.TTF', 'C:\\\\Windows\\\\Fonts\\\\YuGothB.ttc', 'C:\\\\Windows\\\\Fonts\\\\ROCKBI.TTF', 'C:\\\\Windows\\\\Fonts\\\\comicz.ttf', 'C:\\\\Windows\\\\Fonts\\\\constani.ttf', 'C:\\\\Windows\\\\Fonts\\\\timesbi.ttf', 'C:\\\\Windows\\\\Fonts\\\\MSUIGHUB.TTF', 'C:\\\\Windows\\\\Fonts\\\\GIL_____.TTF', 'C:\\\\Windows\\\\Fonts\\\\palai.ttf', 'C:\\\\Windows\\\\Fonts\\\\\\x7f\\x7f\\x7f\\x7fBOLD.TTF', 'C:\\\\Windows\\\\Fonts\\\\HMFMMUEX.TTC', 'C:\\\\Windows\\\\Fonts\\\\HancomEQN.ttf', 'C:\\\\Windows\\\\Fonts\\\\corbelz.ttf', 'C:\\\\Windows\\\\Fonts\\\\Candarai.ttf', 'C:\\\\Windows\\\\Fonts\\\\comic.ttf', 'C:\\\\Windows\\\\Fonts\\\\NirmalaB.ttf', 'C:\\\\Windows\\\\Fonts\\\\INFROMAN.TTF', 'C:\\\\Windows\\\\Fonts\\\\CALIFB.TTF', 'C:\\\\Windows\\\\Fonts\\\\Sitka.ttc', 'C:\\\\Windows\\\\Fonts\\\\simsun.ttc', 'C:\\\\Windows\\\\Fonts\\\\HTOWERT.TTF', 'C:\\\\Windows\\\\Fonts\\\\micross.ttf', 'C:\\\\Windows\\\\Fonts\\\\symbol.ttf', 'C:\\\\Windows\\\\Fonts\\\\gadugi.ttf', 'C:\\\\Windows\\\\Fonts\\\\YuGothL.ttc', 'C:\\\\Windows\\\\Fonts\\\\verdana.ttf', 'C:\\\\Windows\\\\Fonts\\\\FRABKIT.TTF', 'C:\\\\Windows\\\\Fonts\\\\LFAXI.TTF', 'C:\\\\Windows\\\\Fonts\\\\ITCEDSCR.TTF', 'C:\\\\Windows\\\\Fonts\\\\malgunsl.ttf', 'C:\\\\Windows\\\\Fonts\\\\ELEPHNT.TTF', 'C:\\\\Windows\\\\Fonts\\\\SNAP____.TTF', 'C:\\\\Windows\\\\Fonts\\\\RAGE.TTF', 'C:\\\\Windows\\\\Fonts\\\\ROCKB.TTF', 'C:\\\\Windows\\\\Fonts\\\\PERI____.TTF', 'C:\\\\Windows\\\\Fonts\\\\TCCB____.TTF', 'C:\\\\Windows\\\\Fonts\\\\GIGI.TTF', 'C:\\\\Windows\\\\Fonts\\\\javatext.ttf', 'C:\\\\Windows\\\\Fonts\\\\GILB____.TTF', 'C:\\\\Windows\\\\Fonts\\\\FRAMDCN.TTF', 'C:\\\\Windows\\\\Fonts\\\\MAGNETOB.TTF', 'C:\\\\Windows\\\\Fonts\\\\corbelli.ttf', 'C:\\\\Windows\\\\Fonts\\\\PERBI___.TTF', 'C:\\\\Windows\\\\Fonts\\\\LEELAWDB.TTF', 'C:\\\\Windows\\\\Fonts\\\\LSANS.TTF', 'C:\\\\Windows\\\\Fonts\\\\segoeuii.ttf', 'C:\\\\Windows\\\\Fonts\\\\BAUHS93.TTF', 'C:\\\\Windows\\\\Fonts\\\\ARLRDBD.TTF', 'C:\\\\Windows\\\\Fonts\\\\ROCKEB.TTF', 'C:\\\\Windows\\\\Fonts\\\\ROCCB___.TTF', 'C:\\\\Windows\\\\Fonts\\\\constanb.ttf', 'C:\\\\Windows\\\\Fonts\\\\FRSCRIPT.TTF', 'C:\\\\Windows\\\\Fonts\\\\GOTHICI.TTF', 'C:\\\\Windows\\\\Fonts\\\\msjhl.ttc', 'C:\\\\Windows\\\\Fonts\\\\LTYPE.TTF', 'C:\\\\Windows\\\\Fonts\\\\REFSPCL.TTF', 'C:\\\\Windows\\\\Fonts\\\\CALISTI.TTF', 'C:\\\\Windows\\\\Fonts\\\\JOKERMAN.TTF', 'C:\\\\Windows\\\\Fonts\\\\segoescb.ttf', 'C:\\\\Windows\\\\Fonts\\\\REFSAN.TTF', 'C:\\\\Windows\\\\Fonts\\\\georgia.ttf', 'C:\\\\Windows\\\\Fonts\\\\Candaraz.ttf', 'C:\\\\Windows\\\\Fonts\\\\GLSNECB.TTF', 'C:\\\\Windows\\\\Fonts\\\\CURLZ___.TTF', 'C:\\\\Windows\\\\Fonts\\\\verdanaz.ttf', 'C:\\\\Windows\\\\Fonts\\\\YuGothM.ttc', 'C:\\\\Windows\\\\Fonts\\\\segoeui.ttf', 'C:\\\\Windows\\\\Fonts\\\\DUBAI-MEDIUM.TTF', 'C:\\\\Windows\\\\Fonts\\\\LBRITED.TTF', 'C:\\\\Windows\\\\Fonts\\\\PERTIBD.TTF', 'C:\\\\Windows\\\\Fonts\\\\ntailub.ttf', 'C:\\\\Windows\\\\Fonts\\\\segoeuil.ttf', 'C:\\\\Windows\\\\Fonts\\\\bahnschrift.ttf', 'C:\\\\Windows\\\\Fonts\\\\consolab.ttf', 'C:\\\\Windows\\\\Fonts\\\\RAVIE.TTF', 'C:\\\\Windows\\\\Fonts\\\\FELIXTI.TTF', 'C:\\\\Windows\\\\Fonts\\\\calibril.ttf', 'C:\\\\Windows\\\\Fonts\\\\BOD_R.TTF', 'C:\\\\Windows\\\\Fonts\\\\BOD_CR.TTF', 'C:\\\\Windows\\\\Fonts\\\\Inkfree.ttf', 'C:\\\\Windows\\\\Fonts\\\\DUBAI-BOLD.TTF', 'C:\\\\Windows\\\\Fonts\\\\LeelaUIb.ttf', 'C:\\\\Windows\\\\Fonts\\\\wingding.ttf', 'C:\\\\Windows\\\\Fonts\\\\H2MKPB.TTF', 'C:\\\\Windows\\\\Fonts\\\\seguibl.ttf', 'C:\\\\Windows\\\\Fonts\\\\BRITANIC.TTF', 'C:\\\\Windows\\\\Fonts\\\\taileb.ttf', 'C:\\\\Windows\\\\Fonts\\\\GOTHICB.TTF', 'C:\\\\Windows\\\\Fonts\\\\ebrimabd.ttf', 'C:\\\\Windows\\\\Fonts\\\\consolaz.ttf', 'C:\\\\Windows\\\\Fonts\\\\LeelawUI.ttf', 'C:\\\\Windows\\\\Fonts\\\\IMPRISHA.TTF', 'C:\\\\Windows\\\\Fonts\\\\MISTRAL.TTF', 'C:\\\\Windows\\\\Fonts\\\\JUMJA.TTF', 'C:\\\\Windows\\\\Fonts\\\\HYHWPEQ.TTF', 'C:\\\\Windows\\\\Fonts\\\\arialbd.ttf', 'C:\\\\Windows\\\\Fonts\\\\seguibli.ttf', 'C:\\\\Windows\\\\Fonts\\\\CENSCBK.TTF', 'C:\\\\Windows\\\\Fonts\\\\AGENCYR.TTF', 'C:\\\\Windows\\\\Fonts\\\\tahoma.ttf', 'C:\\\\Windows\\\\Fonts\\\\times.ttf', 'C:\\\\Windows\\\\Fonts\\\\holomdl2.ttf', 'C:\\\\Windows\\\\Fonts\\\\BOOKOSBI.TTF', 'C:\\\\Windows\\\\Fonts\\\\ebrima.ttf', 'C:\\\\Windows\\\\Fonts\\\\LeelUIsl.ttf', 'C:\\\\Windows\\\\Fonts\\\\ariali.ttf', 'C:\\\\Windows\\\\Fonts\\\\ELEPHNTI.TTF', 'C:\\\\Windows\\\\Fonts\\\\Candara.ttf', 'C:\\\\Windows\\\\Fonts\\\\H2GTRE.TTF', 'C:\\\\Windows\\\\Fonts\\\\ITCBLKAD.TTF', 'C:\\\\Windows\\\\Fonts\\\\BELLI.TTF', 'C:\\\\Windows\\\\Fonts\\\\H2GSRB.TTF', 'C:\\\\Windows\\\\Fonts\\\\H2GPRM.TTF', 'C:\\\\Windows\\\\Fonts\\\\BERNHC.TTF', 'C:\\\\Windows\\\\Fonts\\\\GOUDOS.TTF', 'C:\\\\Windows\\\\Fonts\\\\simsunb.ttf', 'C:\\\\Windows\\\\Fonts\\\\GARAIT.TTF', 'C:\\\\Windows\\\\Fonts\\\\HARNGTON.TTF', 'C:\\\\Windows\\\\Fonts\\\\BRADHITC.TTF', 'C:\\\\Windows\\\\Fonts\\\\msjhbd.ttc', 'C:\\\\Windows\\\\Fonts\\\\STENCIL.TTF', 'C:\\\\Windows\\\\Fonts\\\\GOTHIC.TTF', 'C:\\\\Windows\\\\Fonts\\\\HANBatang.ttf']\n"
     ]
    }
   ],
   "source": [
    "#(windows) 폰트 목록 가져오기\n",
    "import matplotlib.font_manager as fm\n",
    "font_list_win = fm.findSystemFonts(fontpaths=None, fontext='ttf')\n",
    "print(f'windows 폰트 목록 : {font_list_win}')"
   ]
  },
  {
   "cell_type": "code",
   "execution_count": 12,
   "id": "5a5b64c6",
   "metadata": {},
   "outputs": [
    {
     "ename": "AttributeError",
     "evalue": "module 'matplotlib.font_manager' has no attribute 'OSXInstalledFonts'",
     "output_type": "error",
     "traceback": [
      "\u001b[1;31m---------------------------------------------------------------------------\u001b[0m",
      "\u001b[1;31mAttributeError\u001b[0m                            Traceback (most recent call last)",
      "Cell \u001b[1;32mIn[12], line 4\u001b[0m\n\u001b[0;32m      1\u001b[0m \u001b[38;5;66;03m#(Mac) 폰트 목록 가져오기\u001b[39;00m\n\u001b[0;32m      2\u001b[0m \u001b[38;5;28;01mimport\u001b[39;00m \u001b[38;5;21;01mmatplotlib\u001b[39;00m\u001b[38;5;21;01m.\u001b[39;00m\u001b[38;5;21;01mfont_manager\u001b[39;00m \u001b[38;5;28;01mas\u001b[39;00m \u001b[38;5;21;01mfm\u001b[39;00m\n\u001b[1;32m----> 4\u001b[0m font_list_mac \u001b[38;5;241m=\u001b[39m \u001b[43mfm\u001b[49m\u001b[38;5;241;43m.\u001b[39;49m\u001b[43mOSXInstalledFonts\u001b[49m()\n\u001b[0;32m      5\u001b[0m \u001b[38;5;28mprint\u001b[39m(\u001b[38;5;124mf\u001b[39m\u001b[38;5;124m'\u001b[39m\u001b[38;5;124mMac 폰트 목록 : \u001b[39m\u001b[38;5;132;01m{\u001b[39;00mfont_list_mac\u001b[38;5;132;01m}\u001b[39;00m\u001b[38;5;124m'\u001b[39m)\n",
      "\u001b[1;31mAttributeError\u001b[0m: module 'matplotlib.font_manager' has no attribute 'OSXInstalledFonts'"
     ]
    }
   ],
   "source": [
    "#(Mac) 폰트 목록 가져오기\n",
    "import matplotlib.font_manager as fm\n",
    "\n",
    "font_list_mac = fm.OSXInstalledFonts()\n",
    "print(f'Mac 폰트 목록 : {font_list_mac}')"
   ]
  },
  {
   "cell_type": "markdown",
   "id": "61e1b434",
   "metadata": {},
   "source": [
    "- **한글 폰트 지정하기**"
   ]
  },
  {
   "cell_type": "code",
   "execution_count": 13,
   "id": "cf54b67d",
   "metadata": {},
   "outputs": [],
   "source": [
    "# 코랩에서 한글 폰트 종류와 이름이 win과 다를 수 있다!!!\n",
    "# 코랩: NanumGothic, 윈도우: Malgun Gothic\n",
    "import matplotlib.pyplot as plt\n",
    "plt.rcParams.update({'font.family': 'Malgun Gothic',\n",
    "                     'font.size': 12,\n",
    "                     'figure.figsize': (6, 4),\n",
    "                     'axes.unicode_minus':  False }) # 폰트 설정"
   ]
  },
  {
   "cell_type": "markdown",
   "id": "c73553a7",
   "metadata": {
    "id": "c73553a7"
   },
   "source": [
    "#### 1.라이브러리 설치하기"
   ]
  },
  {
   "cell_type": "code",
   "execution_count": 5,
   "id": "b09f72f8",
   "metadata": {},
   "outputs": [
    {
     "name": "stdout",
     "output_type": "stream",
     "text": [
      "Name: requests\n",
      "Version: 2.31.0\n",
      "Summary: Python HTTP for Humans.\n",
      "Home-page: https://requests.readthedocs.io\n",
      "Author: Kenneth Reitz\n",
      "Author-email: me@kennethreitz.org\n",
      "License: Apache 2.0\n",
      "Location: C:\\python\\Python312\\Lib\\site-packages\n",
      "Requires: certifi, charset-normalizer, idna, urllib3\n",
      "Required-by: jupyterlab_server\n"
     ]
    }
   ],
   "source": [
    "!pip show requests"
   ]
  },
  {
   "cell_type": "code",
   "execution_count": 6,
   "id": "0693c6c9",
   "metadata": {},
   "outputs": [
    {
     "name": "stdout",
     "output_type": "stream",
     "text": [
      "Name: beautifulsoup4\n",
      "Version: 4.12.3\n",
      "Summary: Screen-scraping library\n",
      "Home-page: \n",
      "Author: \n",
      "Author-email: Leonard Richardson <leonardr@segfault.org>\n",
      "License: MIT License\n",
      "Location: C:\\python\\Python312\\Lib\\site-packages\n",
      "Requires: soupsieve\n",
      "Required-by: nbconvert\n"
     ]
    }
   ],
   "source": [
    "!pip show beautifulsoup4"
   ]
  },
  {
   "cell_type": "code",
   "execution_count": 14,
   "id": "b89d7109",
   "metadata": {
    "colab": {
     "base_uri": "https://localhost:8080/"
    },
    "id": "b89d7109",
    "outputId": "c7df51d7-21d9-4640-b972-8ee156b9b930"
   },
   "outputs": [
    {
     "name": "stdout",
     "output_type": "stream",
     "text": [
      "Collecting selenium\n",
      "  Downloading selenium-4.20.0-py3-none-any.whl.metadata (6.9 kB)\n",
      "Requirement already satisfied: urllib3<3,>=1.26 in c:\\python\\python312\\lib\\site-packages (from urllib3[socks]<3,>=1.26->selenium) (2.2.1)\n",
      "Collecting trio~=0.17 (from selenium)\n",
      "  Downloading trio-0.25.0-py3-none-any.whl.metadata (8.7 kB)\n",
      "Collecting trio-websocket~=0.9 (from selenium)\n",
      "  Downloading trio_websocket-0.11.1-py3-none-any.whl.metadata (4.7 kB)\n",
      "Requirement already satisfied: certifi>=2021.10.8 in c:\\python\\python312\\lib\\site-packages (from selenium) (2024.2.2)\n",
      "Collecting typing_extensions>=4.9.0 (from selenium)\n",
      "  Downloading typing_extensions-4.11.0-py3-none-any.whl.metadata (3.0 kB)\n",
      "Requirement already satisfied: attrs>=23.2.0 in c:\\python\\python312\\lib\\site-packages (from trio~=0.17->selenium) (23.2.0)\n",
      "Collecting sortedcontainers (from trio~=0.17->selenium)\n",
      "  Downloading sortedcontainers-2.4.0-py2.py3-none-any.whl.metadata (10 kB)\n",
      "Requirement already satisfied: idna in c:\\python\\python312\\lib\\site-packages (from trio~=0.17->selenium) (3.6)\n",
      "Collecting outcome (from trio~=0.17->selenium)\n",
      "  Downloading outcome-1.3.0.post0-py2.py3-none-any.whl.metadata (2.6 kB)\n",
      "Requirement already satisfied: sniffio>=1.3.0 in c:\\python\\python312\\lib\\site-packages (from trio~=0.17->selenium) (1.3.1)\n",
      "Requirement already satisfied: cffi>=1.14 in c:\\python\\python312\\lib\\site-packages (from trio~=0.17->selenium) (1.16.0)\n",
      "Collecting wsproto>=0.14 (from trio-websocket~=0.9->selenium)\n",
      "  Downloading wsproto-1.2.0-py3-none-any.whl.metadata (5.6 kB)\n",
      "Collecting pysocks!=1.5.7,<2.0,>=1.5.6 (from urllib3[socks]<3,>=1.26->selenium)\n",
      "  Downloading PySocks-1.7.1-py3-none-any.whl.metadata (13 kB)\n",
      "Requirement already satisfied: pycparser in c:\\python\\python312\\lib\\site-packages (from cffi>=1.14->trio~=0.17->selenium) (2.21)\n",
      "Requirement already satisfied: h11<1,>=0.9.0 in c:\\python\\python312\\lib\\site-packages (from wsproto>=0.14->trio-websocket~=0.9->selenium) (0.14.0)\n",
      "Downloading selenium-4.20.0-py3-none-any.whl (9.5 MB)\n",
      "   ---------------------------------------- 0.0/9.5 MB ? eta -:--:--\n",
      "   -- ------------------------------------- 0.6/9.5 MB 18.9 MB/s eta 0:00:01\n",
      "   ------ --------------------------------- 1.7/9.5 MB 20.9 MB/s eta 0:00:01\n",
      "   ------------ --------------------------- 2.9/9.5 MB 23.1 MB/s eta 0:00:01\n",
      "   -------------------- ------------------- 5.0/9.5 MB 28.9 MB/s eta 0:00:01\n",
      "   ------------------------------------ --- 8.6/9.5 MB 39.2 MB/s eta 0:00:01\n",
      "   ---------------------------------------  9.5/9.5 MB 40.5 MB/s eta 0:00:01\n",
      "   ---------------------------------------- 9.5/9.5 MB 33.7 MB/s eta 0:00:00\n",
      "Downloading trio-0.25.0-py3-none-any.whl (467 kB)\n",
      "   ---------------------------------------- 0.0/467.2 kB ? eta -:--:--\n",
      "   --------------------------------------- 467.2/467.2 kB 30.5 MB/s eta 0:00:00\n",
      "Downloading trio_websocket-0.11.1-py3-none-any.whl (17 kB)\n",
      "Downloading typing_extensions-4.11.0-py3-none-any.whl (34 kB)\n",
      "Downloading PySocks-1.7.1-py3-none-any.whl (16 kB)\n",
      "Downloading wsproto-1.2.0-py3-none-any.whl (24 kB)\n",
      "Downloading outcome-1.3.0.post0-py2.py3-none-any.whl (10 kB)\n",
      "Downloading sortedcontainers-2.4.0-py2.py3-none-any.whl (29 kB)\n",
      "Installing collected packages: sortedcontainers, wsproto, typing_extensions, pysocks, outcome, trio, trio-websocket, selenium\n",
      "Successfully installed outcome-1.3.0.post0 pysocks-1.7.1 selenium-4.20.0 sortedcontainers-2.4.0 trio-0.25.0 trio-websocket-0.11.1 typing_extensions-4.11.0 wsproto-1.2.0\n"
     ]
    }
   ],
   "source": [
    "# 동적 크롤링을 위한 라이브러리\n",
    "!pip install selenium"
   ]
  },
  {
   "cell_type": "code",
   "execution_count": 22,
   "id": "a629dc77",
   "metadata": {
    "colab": {
     "base_uri": "https://localhost:8080/"
    },
    "id": "a629dc77",
    "outputId": "be93e870-841c-4fb8-ad0d-100c2d4d6dbe",
    "scrolled": true
   },
   "outputs": [
    {
     "name": "stdout",
     "output_type": "stream",
     "text": [
      "Requirement already satisfied: chromedriver_autoinstaller in c:\\python\\python312\\lib\\site-packages (0.6.4)\n",
      "Requirement already satisfied: packaging>=23.1 in c:\\python\\python312\\lib\\site-packages (from chromedriver_autoinstaller) (24.0)\n"
     ]
    }
   ],
   "source": [
    "!pip install chromedriver-autoinstaller"
   ]
  },
  {
   "cell_type": "code",
   "execution_count": 16,
   "id": "281f2c4e",
   "metadata": {
    "colab": {
     "base_uri": "https://localhost:8080/",
     "height": 35
    },
    "id": "281f2c4e",
    "outputId": "aec195c6-99c6-41da-f8cd-912cbbfc6c46"
   },
   "outputs": [
    {
     "data": {
      "text/plain": [
       "'4.20.0'"
      ]
     },
     "execution_count": 16,
     "metadata": {},
     "output_type": "execute_result"
    }
   ],
   "source": [
    "import selenium\n",
    "selenium.__version__"
   ]
  },
  {
   "cell_type": "code",
   "execution_count": 21,
   "id": "0c299c2e",
   "metadata": {},
   "outputs": [],
   "source": [
    "import chromedriver_autoinstaller"
   ]
  },
  {
   "cell_type": "markdown",
   "id": "ebd87b66",
   "metadata": {},
   "source": [
    "#### 2.ChromeDriver 사용"
   ]
  },
  {
   "cell_type": "markdown",
   "id": "bf60499d",
   "metadata": {
    "id": "bf60499d"
   },
   "source": [
    "* ChromeDriver 사용방법\n",
    "    - 방법1 : **chromedriver-autoinstaller 라이브러리 사용해서 버전 고려 안하기(쉬움)**\n",
    "    - 방법2 : 버전 업데이트마다 PC에 ChromeDriver.exe 드라이버 재설치(복잡함)"
   ]
  },
  {
   "cell_type": "markdown",
   "id": "17142302",
   "metadata": {
    "id": "17142302"
   },
   "source": [
    "* ChromeDriver 동작 확인\n",
    "    - 크롬 브라우저에 'Chrome이 자동화된 테스트 소프트웨어에 의해 제어되고 있습니다' 문구와 함께 화면이 뜨면 성공!"
   ]
  },
  {
   "cell_type": "code",
   "execution_count": 23,
   "id": "fa86b594",
   "metadata": {
    "colab": {
     "base_uri": "https://localhost:8080/",
     "height": 408
    },
    "id": "fa86b594",
    "outputId": "b4a3093e-ffc2-43cc-cd94-30349b0c1ccb"
   },
   "outputs": [],
   "source": [
    "import chromedriver_autoinstaller # chrome driver 자동 설치 라이브러리\n",
    "from selenium import webdriver\n",
    "\n",
    "# chrome driver를 자동으로 설치함\n",
    "chromedriver_autoinstaller.install()\n",
    "\n",
    "options = webdriver.ChromeOptions() # Browser 세팅하기\n",
    "options.add_argument('lang=ko_KR') # 사용언어 한국어\n",
    "options.add_argument('disable-gpu') # 하드웨어 가속 안함\n",
    "# options.add_argument('headless') # 창 숨기기\n",
    "\n",
    "# # 브라우저 세팅\n",
    "driver = webdriver.Chrome(options=options)\n",
    "\n",
    "# 브라우저에 URL 호출하기\n",
    "driver.get(url='https://www.naver.com/')\n",
    "\n",
    "# 브라우저 탭 닫기\n",
    "driver.close()\n",
    "\n",
    "# 브라우저 종료하기 (탭 모두 종료)\n",
    "driver.quit()"
   ]
  },
  {
   "cell_type": "markdown",
   "id": "bc52e0c5",
   "metadata": {
    "id": "bc52e0c5"
   },
   "source": [
    "- 간단하게 사용하기"
   ]
  },
  {
   "cell_type": "code",
   "execution_count": 24,
   "id": "c0e5a15a",
   "metadata": {
    "id": "c0e5a15a",
    "scrolled": true
   },
   "outputs": [],
   "source": [
    "from selenium import webdriver\n",
    "\n",
    "# 드라이버 초기화\n",
    "driver = webdriver.Chrome()\n",
    "\n",
    "# 웹페이지로 이동\n",
    "driver.get('https://www.naver.com/')"
   ]
  },
  {
   "cell_type": "markdown",
   "id": "bac30b7d",
   "metadata": {
    "id": "bac30b7d"
   },
   "source": [
    "---------------"
   ]
  },
  {
   "cell_type": "markdown",
   "id": "87ff3753",
   "metadata": {
    "id": "87ff3753"
   },
   "source": [
    "#### 3. Selenium을 사용하여 동적 웹 페이지와 상호작용하기"
   ]
  },
  {
   "cell_type": "markdown",
   "id": "6170ea5e",
   "metadata": {
    "id": "6170ea5e"
   },
   "source": [
    "* **(클릭 이벤트를 위한 xpath 복사)작업 순서**\n",
    "    - 크롬에서 target 페이지 접속(https://www.naver.com/)\n",
    "    - F12 눌러 오른쪽 영역에 개발자 페이지 나타나도록 함(html코드 나타남)\n",
    "    - ctrl+shift+c 누른 상태에서 클릭 이벤트 발생할 곳 찾아 마우스 클릭\n",
    "    - 해당 html코드 영역에서 마우스 오른쪽키 누르고 copy>copy.xpath 메뉴 선택하여 이벤트 코드 클립보드에 복사\n",
    "    - driver.find_element(By.XPATH, '복사되니 부분 붙여넣기').click()"
   ]
  },
  {
   "cell_type": "markdown",
   "id": "6b1a352f",
   "metadata": {
    "id": "6b1a352f"
   },
   "source": [
    "* **[사용방법] 버튼(링크) 클릭**"
   ]
  },
  {
   "cell_type": "code",
   "execution_count": 25,
   "id": "f7005f89",
   "metadata": {
    "id": "f7005f89",
    "scrolled": true
   },
   "outputs": [],
   "source": [
    "from selenium import webdriver\n",
    "from selenium.webdriver.common.by import By\n",
    "\n",
    "# 드라이버 초기화\n",
    "driver = webdriver.Chrome()\n",
    "\n",
    "# 웹페이지로 이동\n",
    "driver.get('https://www.naver.com/')\n",
    "\n",
    "# 클릭(copy.xpath 이용)\n",
    "search_button = driver.find_element(By.XPATH, '//*[@id=\"search-btn\"]')\n",
    "search_button.click()"
   ]
  },
  {
   "cell_type": "markdown",
   "id": "56040955",
   "metadata": {
    "id": "56040955"
   },
   "source": [
    "#### [1단계] 네이버 메인페이지에서 검색어 입력하고 버튼 클릭하기"
   ]
  },
  {
   "cell_type": "code",
   "execution_count": 26,
   "id": "8c43c66f",
   "metadata": {
    "id": "8c43c66f"
   },
   "outputs": [
    {
     "name": "stdout",
     "output_type": "stream",
     "text": [
      "현재URL : https://search.naver.com/search.naver?where=nexearch&sm=top_hty&fbm=0&ie=utf8&query=%EB%88%88%EB%AC%BC%EC%9D%98%EC%97%AC%EC%99%95\n"
     ]
    }
   ],
   "source": [
    "import chromedriver_autoinstaller\n",
    "from selenium import webdriver\n",
    "from selenium.webdriver.common.by import By\n",
    "\n",
    "# chrome driver를 자동으로 설치함\n",
    "chromedriver_autoinstaller.install()\n",
    "\n",
    "# 드라이버 초기화\n",
    "driver = webdriver.Chrome()\n",
    "\n",
    "def naver_main_search(driver, keyword):\n",
    "    driver.get('https://www.naver.com/') # 웹페이지 로드\n",
    "    search_box = driver.find_element(By.XPATH, '//*[@id=\"query\"]')  # 검색 키워드 영역\n",
    "    search_button = driver.find_element(By.XPATH, '//*[@id=\"search-btn\"]') # 검색 버튼\n",
    "    search_keyword = keyword  # 키워드\n",
    "    search_box.send_keys(search_keyword)\n",
    "    search_button.click()\n",
    "\n",
    "# 1.네이버 메인 검색\n",
    "keyword = '눈물의여왕'\n",
    "naver_main_search(driver, keyword)\n",
    "print(f'현재URL : {driver.current_url}')\n"
   ]
  },
  {
   "cell_type": "markdown",
   "id": "f3462821",
   "metadata": {
    "id": "f3462821"
   },
   "source": [
    "#### [2단계] 네이버 검색 결과 페이지에서 다시 버튼 클릭\n",
    "- 버튼 클릭 위치 확인(xPath) : 마우스오른쪽버튼 > Copy >Copy xPath"
   ]
  },
  {
   "cell_type": "code",
   "execution_count": 27,
   "id": "3b0f56d8",
   "metadata": {
    "id": "3b0f56d8"
   },
   "outputs": [
    {
     "name": "stdout",
     "output_type": "stream",
     "text": [
      "\n",
      "1단계 : 검색어 넣고 네이버 메인 검색......\n",
      "\n",
      "2단계 : 검색 결과에서 탭 선택......\n",
      "      currnet_url=https://search.naver.com/search.naver?where=nexearch&sm=top_hty&fbm=0&ie=utf8&query=%EA%B3%A0%EB%A0%B9%ED%99%94\n"
     ]
    }
   ],
   "source": [
    "import chromedriver_autoinstaller\n",
    "from selenium import webdriver\n",
    "from selenium.webdriver.common.by import By\n",
    "\n",
    "# chrome driver를 자동으로 설치함\n",
    "chromedriver_autoinstaller.install()\n",
    "\n",
    "# 드라이버 초기화\n",
    "driver = webdriver.Chrome()\n",
    "\n",
    "# [CODE 1] : 검색어 넣고 네이버 메인 검색\n",
    "def naver_main_search(driver, keyword):\n",
    "    print('\\n1단계 : 검색어 넣고 네이버 메인 검색......')\n",
    "    driver.get('https://www.naver.com/') # 웹페이지 로드\n",
    "    search_box = driver.find_element(By.XPATH, '//*[@id=\"query\"]')  # 검색 키워드 영역\n",
    "    search_button = driver.find_element(By.XPATH, '//*[@id=\"search-btn\"]') # 검색 버튼\n",
    "    search_keyword = keyword  # 키워드\n",
    "    search_box.send_keys(search_keyword) # 검색창에 검색어 반영\n",
    "    search_button.click() # 클릭 이벤트\n",
    "\n",
    "# [CODE 2] : 검색 결과에서 다른 탭 선택\n",
    "def naver_main_search_tab(driver, url, xpath):\n",
    "    print('\\n2단계 : 검색 결과에서 탭 선택......')\n",
    "    print(f'      currnet_url={driver.current_url}')\n",
    "    driver.get(url) # 해당 웹페이지 로드\n",
    "    search_button = driver.find_element(By.XPATH, xpath) # target xpath\n",
    "    search_button.click()\n",
    "\n",
    "\n",
    "keyword = input('페이지 검색어 입력: ')\n",
    "\n",
    "# 1.[CODE 1] : 검색어 넣고 네이버 메인 검색\n",
    "naver_main_search(driver, keyword)\n",
    "\n",
    "# 2.[CODE 2] : 검색 결과에서 다른 탭 선택 ( 마우스오른쪽버튼 > Copy >Copy xPath)\n",
    "naver_main_search_tab(driver, driver.current_url, '//*[@id=\"lnb\"]/div[1]/div/div[1]/div/div[1]/div[1]/a' )"
   ]
  },
  {
   "cell_type": "markdown",
   "id": "f0d15d93",
   "metadata": {
    "id": "f0d15d93"
   },
   "source": [
    "#### [3단계] 네이버 검색 다른 탭 정보 추출하기 : 제목, 상세설명, 링크\n",
    "- 추출할 정보의 정확한 위치 확인 후 --> 적절히 코드 수정후 실행한다."
   ]
  },
  {
   "cell_type": "code",
   "execution_count": 28,
   "id": "978ecf6f",
   "metadata": {
    "id": "978ecf6f"
   },
   "outputs": [
    {
     "name": "stdout",
     "output_type": "stream",
     "text": [
      "\n",
      "1단계 : 검색어 넣고 네이버 메인 검색......\n",
      "\n",
      "2단계 : 검색 결과에서 다른 탭 선택......\n",
      "      currnet_url=https://search.naver.com/search.naver?where=nexearch&sm=top_hty&fbm=0&ie=utf8&query=%EA%B3%A0%EB%A0%B9%ED%99%94\n",
      "\n",
      "3단계 : 다른 탭 페이지에서 정보(제목,상세,링크) 추출......\n"
     ]
    },
    {
     "ename": "AttributeError",
     "evalue": "'NoneType' object has no attribute 'select'",
     "output_type": "error",
     "traceback": [
      "\u001b[1;31m---------------------------------------------------------------------------\u001b[0m",
      "\u001b[1;31mAttributeError\u001b[0m                            Traceback (most recent call last)",
      "Cell \u001b[1;32mIn[28], line 67\u001b[0m\n\u001b[0;32m     64\u001b[0m html \u001b[38;5;241m=\u001b[39m driver\u001b[38;5;241m.\u001b[39mpage_source  \u001b[38;5;66;03m# 페이지 소스 가져오기\u001b[39;00m\n\u001b[0;32m     66\u001b[0m \u001b[38;5;66;03m# 3.[CODE 3] : 다른 탭 페이지에서 정보(ex: 제목,상세,링크) 추출\u001b[39;00m\n\u001b[1;32m---> 67\u001b[0m df \u001b[38;5;241m=\u001b[39m \u001b[43mnaver_html_parse\u001b[49m\u001b[43m(\u001b[49m\u001b[43mhtml\u001b[49m\u001b[43m)\u001b[49m\n\u001b[0;32m     68\u001b[0m \u001b[38;5;28mprint\u001b[39m(\u001b[38;5;124m'\u001b[39m\u001b[38;5;130;01m\\n\u001b[39;00m\u001b[38;5;124m완료 : 추출된 정보 표로 만들기......\u001b[39m\u001b[38;5;124m'\u001b[39m)\n\u001b[0;32m     69\u001b[0m \u001b[38;5;28mprint\u001b[39m(\u001b[38;5;124mf\u001b[39m\u001b[38;5;124m'\u001b[39m\u001b[38;5;124mTotal[\u001b[39m\u001b[38;5;132;01m{\u001b[39;00m\u001b[38;5;28mlen\u001b[39m(df)\u001b[38;5;132;01m}\u001b[39;00m\u001b[38;5;124m 건]\u001b[39m\u001b[38;5;124m'\u001b[39m)\n",
      "Cell \u001b[1;32mIn[28], line 42\u001b[0m, in \u001b[0;36mnaver_html_parse\u001b[1;34m(html)\u001b[0m\n\u001b[0;32m     40\u001b[0m ul \u001b[38;5;241m=\u001b[39m soup\u001b[38;5;241m.\u001b[39mselect_one(\u001b[38;5;124m'\u001b[39m\u001b[38;5;124mul.lst_view._fe_view_infinite_scroll_append_target\u001b[39m\u001b[38;5;124m'\u001b[39m) \u001b[38;5;66;03m#공백에 있을 경우 . 사용\u001b[39;00m\n\u001b[0;32m     41\u001b[0m \u001b[38;5;66;03m# 제목, 링크 추출하기\u001b[39;00m\n\u001b[1;32m---> 42\u001b[0m contents \u001b[38;5;241m=\u001b[39m \u001b[43mul\u001b[49m\u001b[38;5;241;43m.\u001b[39;49m\u001b[43mselect\u001b[49m(\u001b[38;5;124m'\u001b[39m\u001b[38;5;124mli > div > div > div.title_area > a\u001b[39m\u001b[38;5;124m'\u001b[39m)\n\u001b[0;32m     43\u001b[0m \u001b[38;5;28;01mfor\u001b[39;00m content \u001b[38;5;129;01min\u001b[39;00m contents:\n\u001b[0;32m     44\u001b[0m     t_list\u001b[38;5;241m.\u001b[39mappend(content\u001b[38;5;241m.\u001b[39mget_text())       \u001b[38;5;66;03m# 제목        \u001b[39;00m\n",
      "\u001b[1;31mAttributeError\u001b[0m: 'NoneType' object has no attribute 'select'"
     ]
    }
   ],
   "source": [
    "import chromedriver_autoinstaller\n",
    "from selenium import webdriver\n",
    "from selenium.webdriver.common.by import By\n",
    "from bs4 import BeautifulSoup\n",
    "import requests\n",
    "import pandas as pd\n",
    "\n",
    "# chrome driver를 자동으로 설치함\n",
    "chromedriver_autoinstaller.install()\n",
    "\n",
    "# 드라이버 초기화\n",
    "driver = webdriver.Chrome()\n",
    "\n",
    "\n",
    "# [CODE 1] : 검색어 넣고 네이버 메인 검색\n",
    "def naver_main_search(driver, keyword):\n",
    "    print('\\n1단계 : 검색어 넣고 네이버 메인 검색......')\n",
    "    driver.get('https://www.naver.com/') # 웹페이지 로드\n",
    "    search_box = driver.find_element(By.XPATH, '//*[@id=\"query\"]')  # 검색 키워드 영역\n",
    "    search_button = driver.find_element(By.XPATH, '//*[@id=\"search-btn\"]') # 검색 버튼\n",
    "    search_keyword = keyword  # 키워드\n",
    "    search_box.send_keys(search_keyword)\n",
    "    search_button.click()\n",
    "\n",
    "# [CODE 2] : 검색 결과에서 다른 탭(첫번째 탭) 선택\n",
    "def naver_main_search_tab(driver, url, xpath):\n",
    "    print('\\n2단계 : 검색 결과에서 다른 탭 선택......')\n",
    "    print(f'      currnet_url={driver.current_url}')\n",
    "    driver.get(url) # 해당 웹페이지 로드\n",
    "    search_button = driver.find_element(By.XPATH, xpath) # target xpath\n",
    "    search_button.click()\n",
    "\n",
    "# [CODE 3] : 다른 탭 페이지에서 정보(ex: 제목,상세,링크) 추출\n",
    "def naver_html_parse(html):\n",
    "    print('\\n3단계 : 다른 탭 페이지에서 정보(제목,상세,링크) 추출......')\n",
    "    t_list, d_list, link_list = [], [], []\n",
    "\n",
    "    soup = BeautifulSoup(html, 'html.parser')\n",
    "    #main_pack > section > div.api_subject_bx > ul > li:nth-child(1) > div > div.detail_box > div.title_area > a\n",
    "    ul = soup.select_one('ul.lst_view._fe_view_infinite_scroll_append_target') #공백에 있을 경우 . 사용\n",
    "    # 제목, 링크 추출하기\n",
    "    contents = ul.select('li > div > div > div.title_area > a')\n",
    "    for content in contents:\n",
    "        t_list.append(content.get_text())       # 제목        \n",
    "    # 상세설명 추출하기\n",
    "    contents = ul.select('li > div > div > div.dsc_area > a') # 상세설명\n",
    "    for content in contents:\n",
    "        link_list.append(content.attrs['href']) # href 링크\n",
    "        d_list.append(content.get_text())\n",
    "\n",
    "    # DataFrame으로 만들기\n",
    "    data = {'title': t_list, 'desc':d_list,'link':link_list}\n",
    "    df = pd.DataFrame(data)\n",
    "    return df\n",
    "\n",
    "\n",
    "keyword = input('페이지 검색어 입력: ')\n",
    "\n",
    "# 1.[CODE 1] : 검색어 넣고 네이버 메인 검색\n",
    "naver_main_search(driver, keyword)\n",
    "\n",
    "# 2.[CODE 2] : 검색 결과에서 다른 탭 선택\n",
    "naver_main_search_tab(driver, driver.current_url, '//*[@id=\"lnb\"]/div[1]/div/div[1]/div/div[1]/div[1]/a/i' )\n",
    "html = driver.page_source  # 페이지 소스 가져오기\n",
    "\n",
    "# 3.[CODE 3] : 다른 탭 페이지에서 정보(ex: 제목,상세,링크) 추출\n",
    "df = naver_html_parse(html)\n",
    "print('\\n완료 : 추출된 정보 표로 만들기......')\n",
    "print(f'Total[{len(df)} 건]')\n",
    "df.head(5)"
   ]
  },
  {
   "cell_type": "markdown",
   "id": "84b91436",
   "metadata": {
    "id": "84b91436"
   },
   "source": [
    "#### [4단계] 페이지 자동 스크롤링한 후 정보 가져오기"
   ]
  },
  {
   "cell_type": "code",
   "execution_count": 38,
   "id": "658def73",
   "metadata": {
    "id": "658def73"
   },
   "outputs": [
    {
     "name": "stdout",
     "output_type": "stream",
     "text": [
      "Collecting webdriver-manager\n",
      "  Downloading webdriver_manager-4.0.1-py2.py3-none-any.whl.metadata (12 kB)\n",
      "Requirement already satisfied: requests in c:\\python\\python312\\lib\\site-packages (from webdriver-manager) (2.31.0)\n",
      "Collecting python-dotenv (from webdriver-manager)\n",
      "  Downloading python_dotenv-1.0.1-py3-none-any.whl.metadata (23 kB)\n",
      "Requirement already satisfied: packaging in c:\\python\\python312\\lib\\site-packages (from webdriver-manager) (24.0)\n",
      "Requirement already satisfied: charset-normalizer<4,>=2 in c:\\python\\python312\\lib\\site-packages (from requests->webdriver-manager) (3.3.2)\n",
      "Requirement already satisfied: idna<4,>=2.5 in c:\\python\\python312\\lib\\site-packages (from requests->webdriver-manager) (3.6)\n",
      "Requirement already satisfied: urllib3<3,>=1.21.1 in c:\\python\\python312\\lib\\site-packages (from requests->webdriver-manager) (2.2.1)\n",
      "Requirement already satisfied: certifi>=2017.4.17 in c:\\python\\python312\\lib\\site-packages (from requests->webdriver-manager) (2024.2.2)\n",
      "Downloading webdriver_manager-4.0.1-py2.py3-none-any.whl (27 kB)\n",
      "Downloading python_dotenv-1.0.1-py3-none-any.whl (19 kB)\n",
      "Installing collected packages: python-dotenv, webdriver-manager\n",
      "Successfully installed python-dotenv-1.0.1 webdriver-manager-4.0.1\n"
     ]
    }
   ],
   "source": [
    "# 웹 드라이버매니저 설치\n",
    "!pip install webdriver-manager"
   ]
  },
  {
   "cell_type": "code",
   "execution_count": 40,
   "id": "58c9b2d8",
   "metadata": {
    "id": "58c9b2d8"
   },
   "outputs": [
    {
     "name": "stdout",
     "output_type": "stream",
     "text": [
      "\n",
      "1단계 : 검색어 넣고 네이버 메인 검색......\n",
      "search_box : <selenium.webdriver.remote.webelement.WebElement (session=\"1deda9a1eff3bfa72833258ef2e9b8b7\", element=\"f.D8E1B90640B828F7DF196FD82AAA1B71.d.693155918271BB7E687795847F519D7F.e.4\")>\n",
      "\n",
      "2단계 : 검색 결과에서 다른 탭 선택......\n",
      "      currnet_url=https://search.naver.com/search.naver?where=nexearch&sm=top_hty&fbm=0&ie=utf8&query=%EB%88%88%EB%AC%BC%EC%9D%98+%EC%97%AC%EC%99%95\n",
      "2단계 : 페이지 자동 스크롤...\n",
      "       page scroll...\n",
      "       page scroll...\n",
      "       page scroll...\n",
      "\n",
      "3단계 : 다른 탭 페이지에서 정보(제목,상세,링크) 추출......\n",
      "\n",
      "완료 : 추출된 정보 표로 만들기......\n",
      "Total[87 건]\n"
     ]
    },
    {
     "data": {
      "text/html": [
       "<div>\n",
       "<style scoped>\n",
       "    .dataframe tbody tr th:only-of-type {\n",
       "        vertical-align: middle;\n",
       "    }\n",
       "\n",
       "    .dataframe tbody tr th {\n",
       "        vertical-align: top;\n",
       "    }\n",
       "\n",
       "    .dataframe thead th {\n",
       "        text-align: right;\n",
       "    }\n",
       "</style>\n",
       "<table border=\"1\" class=\"dataframe\">\n",
       "  <thead>\n",
       "    <tr style=\"text-align: right;\">\n",
       "      <th></th>\n",
       "      <th>title</th>\n",
       "      <th>desc</th>\n",
       "      <th>link</th>\n",
       "    </tr>\n",
       "  </thead>\n",
       "  <tbody>\n",
       "    <tr>\n",
       "      <th>0</th>\n",
       "      <td>눈물의 여왕 15회 예고 최고 시청률에도 혹평 이유 인물관계도</td>\n",
       "      <td>눈물의 여왕 15회 최고 시청률에도 혹평 이유 인물관계도 줄거리 요 작품 김지원, ...</td>\n",
       "      <td>https://blog.naver.com/blanche15/223424671673</td>\n",
       "    </tr>\n",
       "    <tr>\n",
       "      <th>1</th>\n",
       "      <td>눈물의 여왕 14회 리뷰 기억 상실 분노 주의 엔딩 김지원❤️김수현님 연기가 다했다...</td>\n",
       "      <td>출처 : tvN 토일드라마 눈물의 여왕 14회 공식영상 그러나 해인이의 무의식 속에...</td>\n",
       "      <td>https://blog.naver.com/alsk1130/223422787910</td>\n",
       "    </tr>\n",
       "    <tr>\n",
       "      <th>2</th>\n",
       "      <td>눈물의 여왕 몇부작 정보 홍해인 죽지마 (설레는 드라마 추천)</td>\n",
       "      <td>눈물의 여왕 몇부작 정보 홍해인 죽지마 (설레는 드라마 추천) 안녕하세요 ~ ! 요...</td>\n",
       "      <td>https://blog.naver.com/kiwi111/223401230822</td>\n",
       "    </tr>\n",
       "    <tr>\n",
       "      <th>3</th>\n",
       "      <td>&lt;눈물의 여왕&gt;귀여운 백현우 씨 - 10회 명장면</td>\n",
       "      <td>요즘 &lt;눈물의 여왕&gt;을 보면서 김수현이라는 배우는 정말 격이 다른 연기를 하는구나 ...</td>\n",
       "      <td>https://blog.naver.com/i__memory/223414583178</td>\n",
       "    </tr>\n",
       "    <tr>\n",
       "      <th>4</th>\n",
       "      <td>눈물의 여왕 작가, 원작, 등장 인물관계도 총정리! 김수현 출연 드라마</td>\n",
       "      <td>tvN토일 드라마 &lt;세작, 매혹된 자들&gt;이 끝나고 후속 드라마 &lt;눈물의 여왕&gt;이 방...</td>\n",
       "      <td>https://post.naver.com/viewer/postView.naver?v...</td>\n",
       "    </tr>\n",
       "  </tbody>\n",
       "</table>\n",
       "</div>"
      ],
      "text/plain": [
       "                                               title  \\\n",
       "0                 눈물의 여왕 15회 예고 최고 시청률에도 혹평 이유 인물관계도   \n",
       "1  눈물의 여왕 14회 리뷰 기억 상실 분노 주의 엔딩 김지원❤️김수현님 연기가 다했다...   \n",
       "2                 눈물의 여왕 몇부작 정보 홍해인 죽지마 (설레는 드라마 추천)   \n",
       "3                        <눈물의 여왕>귀여운 백현우 씨 - 10회 명장면   \n",
       "4            눈물의 여왕 작가, 원작, 등장 인물관계도 총정리! 김수현 출연 드라마   \n",
       "\n",
       "                                                desc  \\\n",
       "0  눈물의 여왕 15회 최고 시청률에도 혹평 이유 인물관계도 줄거리 요 작품 김지원, ...   \n",
       "1  출처 : tvN 토일드라마 눈물의 여왕 14회 공식영상 그러나 해인이의 무의식 속에...   \n",
       "2  눈물의 여왕 몇부작 정보 홍해인 죽지마 (설레는 드라마 추천) 안녕하세요 ~ ! 요...   \n",
       "3  요즘 <눈물의 여왕>을 보면서 김수현이라는 배우는 정말 격이 다른 연기를 하는구나 ...   \n",
       "4  tvN토일 드라마 <세작, 매혹된 자들>이 끝나고 후속 드라마 <눈물의 여왕>이 방...   \n",
       "\n",
       "                                                link  \n",
       "0      https://blog.naver.com/blanche15/223424671673  \n",
       "1       https://blog.naver.com/alsk1130/223422787910  \n",
       "2        https://blog.naver.com/kiwi111/223401230822  \n",
       "3      https://blog.naver.com/i__memory/223414583178  \n",
       "4  https://post.naver.com/viewer/postView.naver?v...  "
      ]
     },
     "execution_count": 40,
     "metadata": {},
     "output_type": "execute_result"
    }
   ],
   "source": [
    "from selenium import webdriver\n",
    "from selenium.webdriver.chrome.service import Service\n",
    "from selenium.webdriver.chrome.options import Options\n",
    "from selenium.webdriver.common.keys import Keys\n",
    "from selenium.webdriver.common.by import By\n",
    "from bs4 import BeautifulSoup\n",
    "import pandas as pd\n",
    "import time\n",
    "\n",
    "# 크롬 드라이버 자동 업데이트\n",
    "from webdriver_manager.chrome import ChromeDriverManager\n",
    "\n",
    "#브라우저 꺼짐 방지\n",
    "chrome_options = Options()\n",
    "chrome_options.add_experimental_option(\"detach\", True)\n",
    "\n",
    "# 불필요한 에러 메시지 없애기\n",
    "chrome_options.add_experimental_option(\"excludeSwitches\", [\"enable-logging\"])\n",
    "\n",
    "# 드라이버 초기화\n",
    "driver = webdriver.Chrome(options=chrome_options)\n",
    "\n",
    "\n",
    "# [CODE 1] : 검색어 넣고 네이버 메인 검색\n",
    "def naver_main_search(driver, keyword):\n",
    "    print('\\n1단계 : 검색어 넣고 네이버 메인 검색......')\n",
    "    driver.get('https://www.naver.com/') # 웹페이지 로드\n",
    "    search_box = driver.find_element(By.XPATH, '//*[@id=\"query\"]')  # 검색 키워드 영역\n",
    "    search_button = driver.find_element(By.XPATH, '//*[@id=\"search-btn\"]') # 검색 버튼\n",
    "    print(f'search_box : {search_box}')\n",
    "    search_keyword = keyword  # 키워드\n",
    "    search_box.send_keys(search_keyword)\n",
    "    search_button.click()\n",
    "\n",
    "# [CODE 2] : 검색 결과에서 다른 탭 선택\n",
    "def naver_main_search_tab(driver, url, xpath):\n",
    "    print('\\n2단계 : 검색 결과에서 다른 탭 선택......')\n",
    "    print(f'      currnet_url={driver.current_url}')\n",
    "    driver.get(url) # 해당 웹페이지 로드\n",
    "    search_button = driver.find_element(By.XPATH, xpath) # target xpath\n",
    "    search_button.click()\n",
    "\n",
    "    # 페이지 자동 스크롤하기(3번)\n",
    "    print('2단계 : 페이지 자동 스크롤...')\n",
    "    actions = driver.find_element(By.CSS_SELECTOR, 'body')\n",
    "    time.sleep(2)\n",
    "    for _ in range(3):\n",
    "        actions.send_keys(Keys.END)\n",
    "        print('       page scroll...' )\n",
    "        time.sleep(2)\n",
    "\n",
    "# [CODE 3] : VIEW탭 페이지에서 정보(제목,상세,링크) 추출\n",
    "def naver_html_parse(html):\n",
    "    print('\\n3단계 : 다른 탭 페이지에서 정보(제목,상세,링크) 추출......')\n",
    "    t_list, d_list, link_list = [], [], []\n",
    "\n",
    "    soup = BeautifulSoup(html, 'html.parser')\n",
    "    #main_pack > section > div.api_subject_bx > ul > li:nth-child(1) > div > div.detail_box > div.title_area > a\n",
    "    ul = soup.select_one('ul.lst_view._fe_view_infinite_scroll_append_target') #공백에 있을 경우 . 사용\n",
    "    # 제목, 링크 추출하기\n",
    "    contents = ul.select('li > div > div > div.title_area > a')\n",
    "    for content in contents:\n",
    "        t_list.append(content.get_text())       # 제목        \n",
    "    # 상세설명 추출하기\n",
    "    contents = ul.select('li > div > div > div.dsc_area > a') # 상세설명\n",
    "    for content in contents:\n",
    "        link_list.append(content.attrs['href']) # href 링크\n",
    "        d_list.append(content.get_text())\n",
    "\n",
    "    # DataFrame으로 만들기\n",
    "    data = {'title': t_list, 'desc':d_list,'link':link_list}\n",
    "    df = pd.DataFrame(data)\n",
    "    return df\n",
    "\n",
    "\n",
    "keyword = input('페이지 검색어 입력: ')\n",
    "\n",
    "# 1.[CODE 1] : 검색어 넣고 네이버 메인 검색\n",
    "naver_main_search(driver, keyword)\n",
    "\n",
    "# 2.[CODE 2] : 검색 결과에서 VIEW 탭 선택\n",
    "naver_main_search_tab(driver, driver.current_url, '//*[@id=\"lnb\"]/div[1]/div/div[1]/div/div[1]/div[1]/a/i' )\n",
    "html = driver.page_source  # 페이지 소스 가져오기\n",
    "\n",
    "# 3.[CODE 3] : 다른 탭 페이지에서 정보(제목,상세,링크) 추출\n",
    "df = naver_html_parse(html)\n",
    "print('\\n완료 : 추출된 정보 표로 만들기......')\n",
    "print(f'Total[{len(df)} 건]')\n",
    "df.head(5)\n"
   ]
  },
  {
   "cell_type": "code",
   "execution_count": null,
   "id": "5a4d5d79",
   "metadata": {
    "id": "5a4d5d79",
    "scrolled": true
   },
   "outputs": [],
   "source": [
    "df.info()"
   ]
  },
  {
   "cell_type": "markdown",
   "id": "c93264ee",
   "metadata": {
    "id": "c93264ee"
   },
   "source": [
    "-------------------------"
   ]
  },
  {
   "cell_type": "markdown",
   "id": "882b6a04",
   "metadata": {},
   "source": [
    "#### [실습]  커피빈매장 정보 크롤링하여 파일로 저장하기\n",
    "- 아래 사이트를 이용해 호출해야할 자바스크립트 함수를 확인하다.\n",
    "- https://www.coffeebeankorea.com\n",
    "- https://www.coffeebeankorea.com/store/store.asp\n",
    "- (매장 번호로) 자세히보기: javascript:storePop2('374'); \n",
    "- chromedriver.exe 파일 위치는 코드와 동일한 위치에 놓는다."
   ]
  },
  {
   "cell_type": "code",
   "execution_count": 41,
   "id": "889f4ed3",
   "metadata": {},
   "outputs": [
    {
     "name": "stdout",
     "output_type": "stream",
     "text": [
      "CoffeeBean store crawling >>>>>>>>>>>>>>>>>>>>>>>>>>\n",
      "read[1]\n",
      "read[2]\n",
      "read[3]\n",
      "save[  1]   3 - 차병원점\n",
      "read[4]\n",
      "read[5]\n",
      "read[6]\n",
      "save[  2]   6 - 강남대로점\n",
      "read[7]\n",
      "read[8]\n",
      "read[9]\n",
      "read[10]\n",
      "read[11]\n",
      "read[12]\n",
      "read[13]\n",
      "save[  3]  13 - 신사점\n",
      "read[14]\n",
      "read[15]\n",
      "read[16]\n",
      "save[  4]  16 - 양재스포타임점\n",
      "read[17]\n",
      "save[  5]  17 - 청담성당점\n",
      "read[18]\n",
      "save[  6]  18 - 영동점\n",
      "read[19]\n",
      "save[  7]  19 - 도곡점\n",
      "read[20]\n",
      "save[  8]  20 - 영동고앞점\n",
      "read[21]\n",
      "read[22]\n",
      "read[23]\n",
      "read[24]\n",
      "read[25]\n",
      "save[  9]  25 - 압구정시티점\n",
      "read[26]\n",
      "read[27]\n",
      "save[ 10]  27 - 서초우성점\n"
     ]
    },
    {
     "data": {
      "text/html": [
       "<div>\n",
       "<style scoped>\n",
       "    .dataframe tbody tr th:only-of-type {\n",
       "        vertical-align: middle;\n",
       "    }\n",
       "\n",
       "    .dataframe tbody tr th {\n",
       "        vertical-align: top;\n",
       "    }\n",
       "\n",
       "    .dataframe thead th {\n",
       "        text-align: right;\n",
       "    }\n",
       "</style>\n",
       "<table border=\"1\" class=\"dataframe\">\n",
       "  <thead>\n",
       "    <tr style=\"text-align: right;\">\n",
       "      <th></th>\n",
       "      <th>store</th>\n",
       "      <th>address</th>\n",
       "      <th>phone</th>\n",
       "    </tr>\n",
       "  </thead>\n",
       "  <tbody>\n",
       "    <tr>\n",
       "      <th>0</th>\n",
       "      <td>차병원점</td>\n",
       "      <td>서울시 강남구 논현로 566 강남차병원1층</td>\n",
       "      <td>02-538-7615</td>\n",
       "    </tr>\n",
       "    <tr>\n",
       "      <th>1</th>\n",
       "      <td>강남대로점</td>\n",
       "      <td>서울시 서초구 강남대로 369 1층</td>\n",
       "      <td>02-588-5778</td>\n",
       "    </tr>\n",
       "    <tr>\n",
       "      <th>2</th>\n",
       "      <td>신사점</td>\n",
       "      <td>서울시 강남구 도산대로 126</td>\n",
       "      <td>02-548-2741</td>\n",
       "    </tr>\n",
       "    <tr>\n",
       "      <th>3</th>\n",
       "      <td>양재스포타임점</td>\n",
       "      <td>서울시 서초구 강남대로 213 24호 지하1층</td>\n",
       "      <td>02-578-6833</td>\n",
       "    </tr>\n",
       "    <tr>\n",
       "      <th>4</th>\n",
       "      <td>청담성당점</td>\n",
       "      <td>서울시 강남구 삼성로 716 LEE76빌딩2층</td>\n",
       "      <td>02-542-2053</td>\n",
       "    </tr>\n",
       "  </tbody>\n",
       "</table>\n",
       "</div>"
      ],
      "text/plain": [
       "     store                      address        phone\n",
       "0     차병원점    서울시 강남구 논현로 566 강남차병원1층    02-538-7615\n",
       "1    강남대로점        서울시 서초구 강남대로 369 1층    02-588-5778\n",
       "2      신사점           서울시 강남구 도산대로 126    02-548-2741\n",
       "3  양재스포타임점  서울시 서초구 강남대로 213 24호 지하1층    02-578-6833\n",
       "4    청담성당점  서울시 강남구 삼성로 716 LEE76빌딩2층    02-542-2053"
      ]
     },
     "execution_count": 41,
     "metadata": {},
     "output_type": "execute_result"
    }
   ],
   "source": [
    "from bs4 import BeautifulSoup\n",
    "import urllib.request\n",
    "import pandas as pd\n",
    "import datetime\n",
    "\n",
    "from selenium import webdriver\n",
    "import time\n",
    "\n",
    "MAX = 10     # 추출 데이터 건수\n",
    "FILE = './CoffeeBean_매장정보.csv'\n",
    "\n",
    "#[CODE 1] \n",
    "def getStoreInfo():\n",
    "    CoffeeBean_URL = \"https://www.coffeebeankorea.com/store/store.asp\"\n",
    "\n",
    "    # 드라이버 초기화\n",
    "    driver = webdriver.Chrome()\n",
    "    \n",
    "    result = []  # 데이터 저장 변수\n",
    "    total, cnt = 370, 0      \n",
    "    for i in range(1, total+1):  #매장 수 만큼(370) 반복        \n",
    "        driver.get(CoffeeBean_URL)\n",
    "        time.sleep(1)  #웹페이지 연결할 동안 1초 대기\n",
    "        try:\n",
    "            print(f'read[{i}]')\n",
    "            driver.execute_script(\"storePop2(%d)\" %i)\n",
    "            time.sleep(1) #스크립트 실행 할 동안 1초 대기\n",
    "            \n",
    "            html = driver.page_source\n",
    "            soup = BeautifulSoup(html, 'html.parser')\n",
    "            store_name_h2 = soup.select(\"div.store_txt > h2\")\n",
    "            store_name = store_name_h2[0].string  #매장 이름\n",
    "            \n",
    "            store_info = soup.select(\"div.store_txt > table.store_table > tbody > tr > td\")\n",
    "            store_address_list = list(store_info[2])\n",
    "            store_address = store_address_list[0]  #매장 주소\n",
    "\n",
    "            store_phone = store_info[3].string     #매장 전화번호\n",
    "            result.append([store_name]+[store_address]+[store_phone])  \n",
    "            cnt += 1\n",
    "            # 매장정보 가져온 데이터 출력하기\n",
    "            print(\"save[%3d] %3d - %s\" % (cnt, i, store_name))            \n",
    "            \n",
    "             # MAX값에 해당하는 건수 만큼만 실행하기\n",
    "            if cnt >= MAX: \n",
    "                break\n",
    "            \n",
    "        except:\n",
    "            continue\n",
    "\n",
    "    return result\n",
    "\n",
    "#---------------\n",
    "# main\n",
    "#---------------\n",
    "#[CODE 0]\n",
    "def main():\n",
    "    result = []\n",
    "    print('CoffeeBean store crawling >>>>>>>>>>>>>>>>>>>>>>>>>>')\n",
    "    result = getStoreInfo()  #[매장 추출 함수]호출하기   #[CODE 1] 호출 \n",
    "    coffeebean_tbl = pd.DataFrame(result, columns=('store', 'address','phone'))\n",
    "    coffeebean_tbl.to_csv(FILE, encoding='cp949', mode='w', index=True)  # 파일로 저장하기\n",
    "    del result[:]\n",
    "    return coffeebean_tbl\n",
    "\n",
    "\n",
    "df = main() #[CODE 0] 호출\n",
    "df.head()"
   ]
  },
  {
   "cell_type": "markdown",
   "id": "641f3d97",
   "metadata": {
    "id": "641f3d97"
   },
   "source": [
    "----------------------"
   ]
  },
  {
   "cell_type": "markdown",
   "id": "75d30286",
   "metadata": {
    "id": "75d30286"
   },
   "source": [
    "### **[미션] : Selenium을 이용하여 동적인 정보 추출하여 표로 만들기**\n",
    "- 1. 자신이 원하는 웹 페이지를 정해서 동적인 정보를 100개 이상 추출하기\n",
    "- 2. Pandas DataFrame 표로 나타내기\n",
    "- 3. CSV file로 저장하기\n",
    "  4. Slack에 코드 업로드하기"
   ]
  },
  {
   "cell_type": "code",
   "execution_count": null,
   "id": "10d9596d",
   "metadata": {
    "id": "10d9596d"
   },
   "outputs": [],
   "source": [
    "\n",
    "\n",
    "\n"
   ]
  }
 ],
 "metadata": {
  "colab": {
   "provenance": [],
   "toc_visible": true
  },
  "kernelspec": {
   "display_name": "Python 3 (ipykernel)",
   "language": "python",
   "name": "python3"
  },
  "language_info": {
   "codemirror_mode": {
    "name": "ipython",
    "version": 3
   },
   "file_extension": ".py",
   "mimetype": "text/x-python",
   "name": "python",
   "nbconvert_exporter": "python",
   "pygments_lexer": "ipython3",
   "version": "3.12.2"
  }
 },
 "nbformat": 4,
 "nbformat_minor": 5
}
