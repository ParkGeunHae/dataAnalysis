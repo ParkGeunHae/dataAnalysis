{
  "nbformat": 4,
  "nbformat_minor": 0,
  "metadata": {
    "colab": {
      "provenance": [],
      "authorship_tag": "ABX9TyMaJCNK/kyjdhnJwDzGtwMs",
      "include_colab_link": true
    },
    "kernelspec": {
      "name": "python3",
      "display_name": "Python 3"
    },
    "language_info": {
      "name": "python"
    }
  },
  "cells": [
    {
      "cell_type": "markdown",
      "metadata": {
        "id": "view-in-github",
        "colab_type": "text"
      },
      "source": [
        "<a href=\"https://colab.research.google.com/github/ParkGeunHae/dataAnalysis/blob/main/4%EC%9D%BC%EC%B0%A8_%ED%8C%8C%EC%9D%B4%EC%8D%AC%EA%B8%B0%EC%B4%88_%EC%A1%B0%EA%B1%B4%EB%AC%B8.ipynb\" target=\"_parent\"><img src=\"https://colab.research.google.com/assets/colab-badge.svg\" alt=\"Open In Colab\"/></a>"
      ]
    },
    {
      "cell_type": "code",
      "execution_count": null,
      "metadata": {
        "id": "ZTJob0_rcKuH"
      },
      "outputs": [],
      "source": []
    },
    {
      "cell_type": "markdown",
      "source": [
        "# 4.파이썬 조건문"
      ],
      "metadata": {
        "id": "vb-_f_SJcltB"
      }
    },
    {
      "cell_type": "markdown",
      "source": [
        "## 1.if 조건문(if만 사용)"
      ],
      "metadata": {
        "id": "qDfJw2ijcreA"
      }
    },
    {
      "cell_type": "code",
      "source": [
        "a=99\n",
        "if a<100: #만약 a가 10보다 작으면\n",
        "  print(f'{a}는 100보다 작군요')"
      ],
      "metadata": {
        "colab": {
          "base_uri": "https://localhost:8080/"
        },
        "id": "BYq66f5EdW5u",
        "outputId": "93c67e59-36c7-4aa2-d255-ca2fd5b475f0"
      },
      "execution_count": 2,
      "outputs": [
        {
          "output_type": "stream",
          "name": "stdout",
          "text": [
            "99는 100보다 작군요\n"
          ]
        }
      ]
    },
    {
      "cell_type": "markdown",
      "source": [
        "## 2.if ~ else ~ 조건문"
      ],
      "metadata": {
        "id": "H8Ra7_pbdN4o"
      }
    },
    {
      "cell_type": "code",
      "source": [
        "a=int(input('숫자를 입력하세요: '))\n",
        "if a<100: #만약 a가 10보다 작으면(True)\n",
        "  print(f'{a}는 100보다 작군요')\n",
        "else: #그렇지 않다면(False)\n",
        "  print(f'{a}는 100보다 작지 않군요')"
      ],
      "metadata": {
        "colab": {
          "base_uri": "https://localhost:8080/"
        },
        "id": "ZzH_v9c5dwCp",
        "outputId": "054e2879-df25-4598-f61a-f34659921baa"
      },
      "execution_count": 4,
      "outputs": [
        {
          "output_type": "stream",
          "name": "stdout",
          "text": [
            "숫자를 입력하세요: 2567\n",
            "2567는 100보다 작지 않군요\n"
          ]
        }
      ]
    },
    {
      "cell_type": "markdown",
      "source": [
        "## 3.중첩if조건문(if문 안에 if문)"
      ],
      "metadata": {
        "id": "UQ_zMjRSc9p4"
      }
    },
    {
      "cell_type": "code",
      "source": [
        "a=int(input('숫자를 입력하세요: '))\n",
        "if a<100:\n",
        "    if a<50:\n",
        "        print(f'{a}는 50보다 작군요')\n",
        "    else: # 50<=a<100\n",
        "        print(f'{a}는 50과 100사이군요')\n",
        "else:\n",
        "     if a==100:\n",
        "        print(f'{a}는 100과 같군요')\n",
        "     else:\n",
        "        print(f'{a}는 100보다 작지 않군요')"
      ],
      "metadata": {
        "colab": {
          "base_uri": "https://localhost:8080/"
        },
        "id": "OcRcTFdVcpFg",
        "outputId": "af93c99e-f4ac-4029-c847-26858509451f"
      },
      "execution_count": 7,
      "outputs": [
        {
          "output_type": "stream",
          "name": "stdout",
          "text": [
            "숫자를 입력하세요: 100\n",
            "100는 100과 같군요\n"
          ]
        }
      ]
    },
    {
      "cell_type": "markdown",
      "source": [
        "##[실습문제] 짝수/홀수 판별하기"
      ],
      "metadata": {
        "id": "5Z7UTOZCgP6f"
      }
    },
    {
      "cell_type": "code",
      "source": [
        "x=int(input('숫자를 입력해 주세요: '))\n",
        "if x%2==0:print(f'입력된 수 :  {x}==>짝수') #한줄짜리는 옆에다 써도 가능\n",
        "else:print(f'입력된 수 :  {x}==>홀수') #한줄짜리는 옆에다 써도 가능"
      ],
      "metadata": {
        "colab": {
          "base_uri": "https://localhost:8080/"
        },
        "id": "o7WbexSigXSo",
        "outputId": "4b0ac032-d8fa-451c-d509-4981baf39bbc"
      },
      "execution_count": 13,
      "outputs": [
        {
          "output_type": "stream",
          "name": "stdout",
          "text": [
            "숫자를 입력해 주세요: 9\n",
            "입력된 수 :  9==>홀수\n"
          ]
        }
      ]
    },
    {
      "cell_type": "code",
      "source": [
        "#위에 있는 문장을 이렇게 한 줄로도 가능\n",
        "\n",
        "x=int(input('숫자를 입력해 주세요: '))\n",
        "print(f'입력된 수 :  {x}==>짝수')if x%2==0 else print(f'입력된 수 :  {x}==>홀수')"
      ],
      "metadata": {
        "colab": {
          "base_uri": "https://localhost:8080/"
        },
        "id": "eqRzHcTUhlaH",
        "outputId": "8b8772ab-3d4e-4cb4-b453-3ef175b1bf80"
      },
      "execution_count": 15,
      "outputs": [
        {
          "output_type": "stream",
          "name": "stdout",
          "text": [
            "숫자를 입력해 주세요: 20\n",
            "입력된 수 :  20==>짝수\n"
          ]
        }
      ]
    },
    {
      "cell_type": "markdown",
      "source": [
        "###[실습문제]가위/바위/보 게임"
      ],
      "metadata": {
        "id": "8TiPFQcKiN-G"
      }
    },
    {
      "cell_type": "code",
      "source": [
        "import random           #난수 발생 모듈\n",
        "'''random.randint(1,10)    #1~10 사이의 임의의 정수 선택\n",
        "random.choice(['가위','바위','보'])\n",
        "computer=random.choice(['가위','바위','보'])\n",
        "my=input('가위/바위/보 중 하나 입력: ')\n",
        "print(f'computer:{computer},my:{my}')'''\n",
        "\n",
        "\n",
        "print('가위바위보 게임을 시작합니다.')\n",
        "print('-'*30)\n",
        "computer=random.choice(['가위','바위','보'])\n",
        "print('컴퓨터는 정했습니다.!')\n",
        "my=input('가위/바위/보 중 하나 입력: ')\n",
        "print('-'*30,'게임 결과는?')\n",
        "print(f'computer:{computer},my:{my}')\n",
        "\n",
        "# 결과 판단하기\n",
        "if computer==my:\n",
        "    print('비겼습니다.')\n",
        " # 컴퓨터가 이긴 경우\n",
        "else:\n",
        "    if (computer=='바위' and my=='가위') or \\\n",
        "    (computer=='가위' and my=='보') or \\\n",
        "     (computer=='보' and  my=='바위') :\n",
        "        print('컴퓨터가 이겼습니다.!')\n",
        "    else:\n",
        "        print('내가 이겼습니다.')\n"
      ],
      "metadata": {
        "colab": {
          "base_uri": "https://localhost:8080/"
        },
        "id": "J5cBfplqiR7l",
        "outputId": "632fbdf2-70b4-49df-fd25-49830300699f"
      },
      "execution_count": 31,
      "outputs": [
        {
          "output_type": "stream",
          "name": "stdout",
          "text": [
            "가위바위보 게임을 시작합니다.\n",
            "------------------------------\n",
            "컴퓨터는 정했습니다.!\n",
            "가위/바위/보 중 하나 입력: 가위\n",
            "------------------------------ 게임 결과는?\n",
            "computer:바위,my:가위\n",
            "컴퓨터가 이겼습니다.!\n"
          ]
        }
      ]
    },
    {
      "cell_type": "markdown",
      "source": [
        "###[실습문제]직각삼각형 판별하기"
      ],
      "metadata": {
        "id": "zUF2Cit3pngk"
      }
    },
    {
      "cell_type": "code",
      "source": [
        "a=int(input('변 a의 길이:'))\n",
        "b=int(input('변 b의 길이:'))\n",
        "c=int(input('변 c의 길이:'))\n",
        "\n",
        "print('*'*30)\n",
        "\n",
        "if pow(a,2)+pow(b,2)==pow(c,2):\n",
        "    print('직각삼각형입니다')\n",
        "else:\n",
        "    print('직각삼각형이 아닙니다.')"
      ],
      "metadata": {
        "colab": {
          "base_uri": "https://localhost:8080/"
        },
        "id": "vNSDxL9jjUfo",
        "outputId": "cc986715-a836-4978-9579-53468ab9f674"
      },
      "execution_count": 33,
      "outputs": [
        {
          "output_type": "stream",
          "name": "stdout",
          "text": [
            "변 a의 길이:3\n",
            "변 b의 길이:4\n",
            "변 c의 길이:5\n",
            "******************************\n",
            "직각삼각형입니다\n"
          ]
        }
      ]
    },
    {
      "cell_type": "markdown",
      "source": [
        "## 4.다중 조건문\n",
        "if ~ else ~ if -> if~ elif ~"
      ],
      "metadata": {
        "id": "w9gLDCcuyHMC"
      }
    },
    {
      "cell_type": "code",
      "source": [
        "# 나이별 학생 구분하기\n",
        "age=int(input('나이를 입력하세요'))\n",
        "if age<8:\n",
        "    print('미취학 아동입니다.')\n",
        "elif age<14:\n",
        "    print('초등학생입니다.')\n",
        "elif age<17:\n",
        "    print('중학생입니다.')\n",
        "elif age<20:\n",
        "    print('고등학생입니다.')\n",
        "else:\n",
        "    print('성인입니다.')"
      ],
      "metadata": {
        "colab": {
          "base_uri": "https://localhost:8080/"
        },
        "id": "6YwJj3w2yY57",
        "outputId": "cc8de5c1-55ee-45a3-c04b-4473843f5d42"
      },
      "execution_count": 35,
      "outputs": [
        {
          "output_type": "stream",
          "name": "stdout",
          "text": [
            "나이를 입력하세요7\n",
            "미취학 아동입니다.\n"
          ]
        }
      ]
    },
    {
      "cell_type": "markdown",
      "source": [
        "## 5.조건부 표현식"
      ],
      "metadata": {
        "id": "yW7cXXrvz1w3"
      }
    },
    {
      "cell_type": "code",
      "source": [
        "score=int(input('점수를 입력하세요: '))\n",
        "if score>=80:\n",
        "    message='success'\n",
        "else:\n",
        "    message='failure'\n",
        "\n",
        "print(f'당신의 점수 {score}점은 시험에 {message} 하셨습니다.')"
      ],
      "metadata": {
        "colab": {
          "base_uri": "https://localhost:8080/"
        },
        "id": "22PHIEpez5xp",
        "outputId": "aacc0de6-5ec9-4d56-eea1-8027b84db878"
      },
      "execution_count": 41,
      "outputs": [
        {
          "output_type": "stream",
          "name": "stdout",
          "text": [
            "점수를 입력하세요: 10\n",
            "당신의 점수 10점은 시험에 failure 하셨습니다.\n"
          ]
        }
      ]
    },
    {
      "cell_type": "code",
      "source": [
        "score=int(input('점수를 입력하세요: '))\n",
        "message='success' if score>=80 else 'failure'\n",
        "print(f'당신의 점수 {score}점은 시험에 {message} 하셨습니다.')"
      ],
      "metadata": {
        "colab": {
          "base_uri": "https://localhost:8080/"
        },
        "id": "lI06efho0skZ",
        "outputId": "e4a46931-b684-4a2e-aab7-069f6d4d2357"
      },
      "execution_count": 48,
      "outputs": [
        {
          "output_type": "stream",
          "name": "stdout",
          "text": [
            "점수를 입력하세요: 10\n",
            "당신의 점수 10점은 시험에 failure 하셨습니다.\n"
          ]
        }
      ]
    },
    {
      "cell_type": "markdown",
      "source": [
        "##[실습문제] 1.일상 생활의 상황을 조건문으로 표현하기"
      ],
      "metadata": {
        "id": "2l96sV_g15XG"
      }
    },
    {
      "cell_type": "code",
      "source": [
        "'''기온 조건 상황\n",
        "- 온도가 30 이상 에어컨 켜기\n",
        "- 온도가 20 미만이면 내복 입기\n",
        "- 온도가 10 이하면 난방기 켜기\n",
        "'''\n",
        "temp=int(input('온도를 입력하세요: '))\n",
        "if temp>=30:\n",
        "    print('에어컨을 키세요')\n",
        "elif temp<=10:\n",
        "    print('난방기를 키세요')\n",
        "elif temp<20:\n",
        "    print('내복을 입어요')\n",
        "else:\n",
        "    print('아무것도 하지 않아요')"
      ],
      "metadata": {
        "colab": {
          "base_uri": "https://localhost:8080/"
        },
        "id": "fV-TVCpl19Yu",
        "outputId": "26a045a8-24e9-40a7-a14a-2f9faf66b745"
      },
      "execution_count": 62,
      "outputs": [
        {
          "output_type": "stream",
          "name": "stdout",
          "text": [
            "온도를 입력하세요: 13\n",
            "내복을 입어요\n"
          ]
        }
      ]
    },
    {
      "cell_type": "markdown",
      "source": [
        "##[실습문제] 2.일상 생활의 상황을 조건문으로 표현하기"
      ],
      "metadata": {
        "id": "SzMRrOxJ7ZmG"
      }
    },
    {
      "cell_type": "code",
      "source": [
        "degree=int(input('온도를 입력하세요: '))\n",
        "if degree>=30:\n",
        "    print('에어컨을 키세요')\n",
        "else:\n",
        "    if 20<=degree<30:\n",
        "         print('쾌적한 기온입니다.')\n",
        "    if degree<20:\n",
        "        print('내복을 입어요')\n",
        "    if degree<=10:\n",
        "        print('난방기를 켜세요')"
      ],
      "metadata": {
        "colab": {
          "base_uri": "https://localhost:8080/"
        },
        "id": "aNaP7zIE7dvs",
        "outputId": "412e5e50-1a34-4c72-a1c6-c8e74ca97af8"
      },
      "execution_count": 66,
      "outputs": [
        {
          "output_type": "stream",
          "name": "stdout",
          "text": [
            "온도를 입력하세요: 15\n",
            "내복을 입어요\n"
          ]
        }
      ]
    },
    {
      "cell_type": "markdown",
      "source": [
        "### [실습문제]커피 자동주문 프로그램 만들기"
      ],
      "metadata": {
        "id": "T99v6vVz4FTu"
      }
    },
    {
      "cell_type": "code",
      "source": [
        "menu='''[커피 자동주문 머신 메뉴]\n",
        "---------------------------------\n",
        "-아메리카노 : 2500원\n",
        "-카페라떼 : 3000원\n",
        "-카페모카 : 3000원\n",
        "---------------------------------\n",
        "원하시는 커피종류와 잔수를 입력하세요.'''\n",
        "print(menu)\n",
        "coffee1=int(input('아메리카노 몇잔: '))\n",
        "coffee2=int(input('카페라떼   몇잔: '))\n",
        "coffee3=int(input('카페모카   몇잔: '))\n",
        "total=2500*coffee1+3000*coffee2+3000*coffee3\n",
        "print(f'지불하실 총 금액은 {total:,}원 입니다.')\n",
        "money=int(input('돈을 넣어주세요: '))\n",
        "change=total-money  #잔돈\n",
        "if total>money:\n",
        "    print(f'돈이 부족합니다. {change:,}를 더 넣어주세요')\n",
        "else:\n",
        "    print(f'거스름돈은 {abs(change):,}입니다. 커피 맛있게 드세요~')"
      ],
      "metadata": {
        "colab": {
          "base_uri": "https://localhost:8080/"
        },
        "id": "IeI3RqGM4J-g",
        "outputId": "613a2bee-fb26-41ac-9e08-05fe016db256"
      },
      "execution_count": 73,
      "outputs": [
        {
          "output_type": "stream",
          "name": "stdout",
          "text": [
            "[커피 자동주문 머신 메뉴]\n",
            "---------------------------------\n",
            "-아메리카노 : 2500원\n",
            "-카페라떼 : 3000원\n",
            "-카페모카 : 3000원\n",
            "---------------------------------\n",
            "원하시는 커피종류와 잔수를 입력하세요.\n",
            "아메리카노 몇잔: 3\n",
            "카페라떼   몇잔: 2\n",
            "카페모카   몇잔: 1\n",
            "지불하실 총 금액은 16,500원 입니다.\n",
            "돈을 넣어주세요: 18000\n",
            "거스름돈은 1,500입니다. 커피 맛있게 드세요~\n"
          ]
        }
      ]
    },
    {
      "cell_type": "code",
      "source": [
        "!pip install gTTS"
      ],
      "metadata": {
        "colab": {
          "base_uri": "https://localhost:8080/"
        },
        "id": "BA8Sbia9A7Ra",
        "outputId": "ce2709ea-f8a1-48b2-cfa5-08b92b40c847"
      },
      "execution_count": 75,
      "outputs": [
        {
          "output_type": "stream",
          "name": "stdout",
          "text": [
            "Collecting gTTS\n",
            "  Downloading gTTS-2.5.1-py3-none-any.whl (29 kB)\n",
            "Requirement already satisfied: requests<3,>=2.27 in /usr/local/lib/python3.10/dist-packages (from gTTS) (2.31.0)\n",
            "Requirement already satisfied: click<8.2,>=7.1 in /usr/local/lib/python3.10/dist-packages (from gTTS) (8.1.7)\n",
            "Requirement already satisfied: charset-normalizer<4,>=2 in /usr/local/lib/python3.10/dist-packages (from requests<3,>=2.27->gTTS) (3.3.2)\n",
            "Requirement already satisfied: idna<4,>=2.5 in /usr/local/lib/python3.10/dist-packages (from requests<3,>=2.27->gTTS) (3.6)\n",
            "Requirement already satisfied: urllib3<3,>=1.21.1 in /usr/local/lib/python3.10/dist-packages (from requests<3,>=2.27->gTTS) (2.0.7)\n",
            "Requirement already satisfied: certifi>=2017.4.17 in /usr/local/lib/python3.10/dist-packages (from requests<3,>=2.27->gTTS) (2024.2.2)\n",
            "Installing collected packages: gTTS\n",
            "Successfully installed gTTS-2.5.1\n"
          ]
        }
      ]
    },
    {
      "cell_type": "code",
      "source": [
        "# gtts 모듈로 텍스트를 소리로 읽어주기\n",
        "from gtts import gTTS\n",
        "from IPython.display import Audio\n",
        "\n",
        "# 영어 출력\n",
        "# eng_wav = gTTS('Hello World!')\n",
        "# eng_wav.save('eng.wav')\n",
        "# display(Audio('kor.wav', autoplay=True))\n",
        "\n",
        "# 한국어 출력\n",
        "kor_wav = gTTS(menu, lang = 'ko')\n",
        "kor_wav.save('kor.wav')\n",
        "display(Audio('kor.wav', autoplay=True))"
      ],
      "metadata": {
        "colab": {
          "base_uri": "https://localhost:8080/",
          "height": 74
        },
        "id": "UVoQEKn0BMWZ",
        "outputId": "3355b201-e2af-4f72-957b-13a901d828dd"
      },
      "execution_count": 76,
      "outputs": [
        {
          "output_type": "display_data",
          "data": {
            "text/plain": [
              "<IPython.lib.display.Audio object>"
            ],
            "text/html": [
              "\n",
              "                <audio  controls=\"controls\" autoplay=\"autoplay\">\n",
              "                    <source src=\"data:audio/x-wav;base64,//NExAAN6Bo0AHvAACeG0F+LGdbnKAgNPg+CAIAgCAJg+HwfB8EAwU/4IGf///DHAZ8TnyYwEAxTg/KAg4o5b8EDkEDKHNHgIQh1mvM6mp+VOJEgqI00FN0kyQ5w0B29//NExBsQwJI4AMGGTAuNaxWwVcgAiiR2i7ZZcNW4iw2be4AkhptgGUuYrmyDB1Dfts7v/+kwImPBIVK2dx6LUu5ZTy35rPV2vvlrvZu1TZ6BuMAgOjwitqyzhZDBdg0C//NExCsSWHY8AVsQAEYDwsRbemKOqaUoE2xAqOR3mvXrbij6qN/1X+OIOTVu3VhGgluAcnDiC5c9EA2S7gkckAVBsTZUBwBax5gYwQYFEQ48hKBzk82JYSgjfMjQ1SY4//NExDQdyxJ8AZhoATzKLf1pqSadLx4ol4n/0EFoqNFHTybKJchf8rPofmpum1E4zf/7b90FILzCPc2RSL5j//654wZO7/0kx2lBiEcS+oQqlBrlxJbH1FZlcrLl5Q4p//NExA8WKq6YAc84AKVUsbt3RZPiES0yR5XHjgwPigq6se7aujXqxjvzjj9Wqeqa1dLbZ6Zhp5m7Mfv///W/To7bzHR5hjM9WfO/zWscbaUPPQkPZelFssicEwrGhqka//NExAkTgWKcAMMElOS1+2SOxRL2mKA8EsdwLhUJBIEssiVY5Jayqx+tnZmZ6e38/pSv2/alKPvIz7JM5Rh2Dknov/d7TZGCksGR0yqbDOztF5qjhYnwAtnvQmm2/BDI//NExA4VMVqoAM4QlEkWOoJdUDgghM2EpHJBAaizhQ4tdkkSX3CstUtHzdPr9c/99/89/73y/9+78mbhIEHJC+9cJWWf0NeXs///+3QgMEQ+T/49uULPDFyFLM4LMMal//NExAwVIX6sANUOlLHSQwYcTKpgVLAsIPlIBBMmTIcsDTExflIPxDpDY8Og/lrn9b53lNU0fHHqG6iAriAhQRXlB14pL41J4xoT36LbLL1f/kXLNKXGmbiZNqPGZe8A//NExAoVCW6oANZWlIT9i+SFhdNC4yheTI08VHCnWvuoE1NelhCKNGy6ldLXeT3/d1/49/8P/TfTW+P1/Q6oUB1HsvqJJztA9cnepSu0D2g9+2/1f/7lKvwfA5hFULXx//NExAgR2RKcANYEcABDLmGLtNNDENeGjbYS1KONaSLCssYeOsEtSF3lytN+7DvO41I3M/0upW/zOpDFFDBIokwKhI8EwWBpX////TVsThCh4CRuYZCy6TBgXQvT1Z+F//NExBMRMSJoAOPKcILqJHOZKc2xCzBW0E9FhFiU5OUBaE+tuvcRDpuitV/upaTPpdBgGlEhYwaTdLBUbb+pGAQBhgYtB53qBmPRKCAMBQiJACLvmgq1lCVsfL3tzp2+//NExCER4SZMAOPGcD+dq07RwzXi4xmvVyIson3y+lxwz8WUL7yniZZ7Y1Daq6LHZH/QpTCxYMIi8FBM6X4jGpGCAwp5L2lybaGK/zFa9VlVPlZxt8wwC5STNZB1bTUk//NExCwSGQ5AAVwQAPZKKvWdHioueAjXrfPucbPLelo/+L7CPotuVq0qA04/A0yUolKg0adMywS470sDEaU/MKfSmzFEnY1PqE9HMPC9B7SiSQyAvGkutM2ZNERgJ0Ng//NExDYemypYAZpoAOBGrm+ktYlxBMhghaFP9f1KJYeBfHIF0NSB/9bqrzUc5ifkAv0G//fv+ZoFM3MC0kymboUP+/6/v/0DQwTQN05ut0ET9QSgBik4exeZApMfUyaD//NExA4VUWqcAc1gADr1pVr8z8zOTNNmbUrrXc+3iyCp+blgtp3hAGsQkAGhXLdlAl2sszbLNfplF5UEQviOuq/IWAZqJWQgVDw4aDiRUfQzFHL6VVZoeg0ArNIUr4W1//NExAsRuWqgAMBSlIkDsXtXfycgjb/eW+5qUj5f8rmk0mhpF0SbQVUWby3ZNPPle1HkxE2KVHpHRE1vDR6e9nTJ7Gvb/f/V1oMfhhJkek70SdI0zW9j0Yem1zVJ/xYd//NExBcUGraoAMqKuFD9ee2ZyDURakweBwdqT1vuzoQK8RBtBwtGASRQOqBMcRRo9f////////69XSpCKf96E55BihYnTVWJQiLAgge+pfAk40W7craxb5ok1UEVXLdf//NExBkTSV6wAMtQlDvSbP7EgbnCkCNm5Ahie4e/L/KpLD9FLAkllC8KWLGHAW1VQ/H//9k5fj/5XBQ1epjkhTSqmsXiGIwcGlLxBaIvbGKtP5+xldBP1FOV5r5XkmUC//NExB4TEVasANKWlPWJQMgJH0PJnvKWcrfkn00KgiiAbBgQ95W+XgVJl5URV/b/d6/6vvnuODbm/rrq1nEAvsJIT8sHoh4iAICaZ+9DxaZlLOluts5zDm+oW9EZwcho//NExCQSWVasAMtWlKB5Gdy050kzyJD8k73AyyII74av2PBCsWINq/7f///9tvLn1f1V5lZTZJuaaAxBq9dPbb//6LfMShk821tqbfmmdJCsmA5TVoojJsoHeDevJdao//NExC0SeVasAMtWlP0SIRPdCpd9X0IhrTi14t//36+r6e265W0UPK/WxrQCFfxZnKaM5pAnE4iyTHV0RGwmtF76NleW0N1CyYcGQaKuBgapx3XyWembdEGtpAUIbo0v//NExDYSiWqoAMqWlLUuWF/cENfrf///1fdTZbfoPCzl1f++YNuvdvm8FykZhLf1yQ69x0JX9//LfLdwKjhANAFFSw4D5qGmxV1us2eK0WLXcpsrSmfR7lav///////P//NExD4Ryl6wAMIEuHp0ZnePN/229KqvaZQbyLefl+mUuLGnah4GL27UM6mM/1X+lMMBQwq0v+MxqX8DM0r/iJ6nkqxgNN/9dQNYiWCw8FXftiL+DR4FR4TqJDZihAXP//NExEkQkQ6kAMFGcBuJpdIDMmhuk6Mljkaz1l/1tP708SkYUFAbdqRcVShlRoRjQo9lNCXrxfRrS2oeYYqwNQTNi6d27WnQYckXJAI7DBElfsn6b/7/9qv/9L/9N3QT//NExFkRAE5cAVoQAH/vmCCCjdI6aMmPXT+gghOLWmXyTPmYjA4CMaDHGHCQf3QQZAvy6kmVHhyG6ysLgJYMAJQO0L+JQNwwYCdB2gX4HhsnZN01fsmPVIzJo9ykbG54//NExGggCyqUAY1oAGQaEvguD2BXgEQIOOMKmO8eInQsxKxgTtXI6nRkcGBoyn3sdvr/+rps/f/9zop9E/Xsq3ZnYqFFw8QEIKmsapCGVyigkIso4eJDTKW4q6mEg8hS//NExDoXeuK8AcIoAUYqh0QM4kdg6BSB5UESrmmZWcw0hEqyFD0XGhwc0WxNBl6HzKK5L9amHGfLigQyJu5bb1oMyIZ/6InEr8PmIIj/3/8hBwmU76F/ZkoOMdZqQVTY//NExC8RAaK0ABmGlFMGFBjPWrcRNSzyKfa2n/1L1VhrlcneC3fOjcH4yQbq9cQGFRiOuQAyEoqD4uBmIdjAS0MOCyPo9mZUMF/QQZdvbbPnSbMQQVzDOT6Wg5CyKOq+//NExD4VcV6kAHsGlKfWoUJEwVMLF3xEaFCzxKMs/vRryfgbosnRFf0Br+BQx5J8Rgw075atvXrTkZcDCLZaUIDMRjKE9pUnTQiMPqGS9TBgMRSHX9Vht/qetjSY6p7P//NExDsbiZKoAM4SlCXrSQJptzTNsJMWeXUEia5tKTF7D5ffUH0o6c9+7N8IO3t9abv/rGBkLDXnBQoJzbTTidXmaKrQ8UJdm69FlYNLKGwuWM0pMbVM7PJl5uwXFcW6//NExB8UIXK8AMYKlMVxadTPWzC1Dcntyne5793vu9vUlXuVRiODoNNdpKm2kzMpHMKlE6Vkf//0DpzcxC6F3QFSDU3jSsYm/6LMiFkEwlhWRQu7Id5T2G31VLNFYryu//NExCEQgKq0AMYeTDDSJS2HalozdfMwlckSzrRKNOoWcDSx7l50rtXb///kqofZYb67cBSsHsNObkY6RjAqGDwTOX+rXaK3TXalrGatUtxQmmIhMCIoAEGw1FJFdNXX//NExDIRiP6EAVlIAN+S9b7z3GviIUEh4RLdlvu1f/8RKgAZNGpEBJPIKVC6hdl4E+ooXLSdnbcYsJvKEJVHnQAdoJMKGcSrZwqoJGIwCcfZM/TGsTwWQxSS/enxghPS//NExD4hayJ8AZpoARiKEoGH/ttQZYwg4x/GINYXn/0O90xzEiEYZQThMTMRge3/93u/4n5OHkMcvDuHqWkQZBfHv//+23/mCZfLhJmKRfLCYalEZYIesGbB4NwRBIGp//NExAsSUN6gAdlgAHQKINcFIRpaX8KjsihyX5yvCA2v4uGuuUFwBClceHtlnT9t+dtk7f63/buDDiHKa3KEyCj3/b/+S1d7iTn6lYCzC7h6pu86RPO7aZRsJr3wHKa+//NExBQRYPKoAMvKcM/QfjjBLVvL+imwlJMlcnWWJW1VQ6Kzy6nzMoxlcUI4IQqtgamSxMGywXR/////VOaFyjgjFn5ML/iIllZfEywmIk83BrhY+Shi9OZCt+6JcFfl//NExCERGUKgANYKcDb5390nMhfV6ZdUxE6GJiiiQDi5jLfTX3h0UUHP////Y7/9Spa/xZU+ZQDgFJYyk8Jgha4VJhYawQ0CjXkEHlCJcCuZZ0P+7702GrroPie5I3Vl//NExC8SGPaUANvScHdtj2pcn7AHj2lQ8dS5+hbg7/1f/+vkv601iToiEYOBrUASwIJX0+YGEYUGI8uiEfXAfTvbaWCu1C59cs+YRc96lpU7HNBlY1xC8Uk1KAHlywVZ//NExDkSYT6UANvOcB30aj7ZV1jfopu//7nf+yHlqx4sBJh9ssWDQAajR3AkjFkavEOMeA8H7fhfHheRyybVqekfomPau+o+ltpa/EgjYORiVJoqmR5O1VLQj5DUc/////NExEIQqPqYANsScEK5KxgAN80WSQsBABMxvKwEFFEOwmxa84etPjcWqxkvvo32kQX0n/pr6/2u+tP+wuxweQ2mJfpZ/RSlw96e9NM+r//rQaV/040yExMlP9mhoSKg//NExFIRuQKUANvScAmHoQGIlbBIHAxa2Ypj1jxEFxhZJNYmSIUUnCppsYyQVLM6pqzOJfDgdJ5T/pYzsc6WfVuR/4OFQwrj5CqZmY0aMnZbegwaA2DH6cGBaWl/LLLK//NExF4SQNqQANpGcB5+v//////8jHPnuEEXSd/X/U//7/O/16HPU57V/yeeryEJPIQWgg6CGqAEIxzCGzAOeIVFQOIYYnE5bqZNP////0Z2e/Rj3e7Vq/zFKGHMFxMM//NExGgSIvKgAMBEuRdRIG6i7WvUR4ied0y+ffX38ez4Yx7GW1N5+pZ0/ZeyW7kB3qG67NVSnqrMZdSkiUFRoifOst7DcamASMTKz+XFp8sNR+RTKieXILH67VuZggwm//NExHIbgx6sAGnWvAgLwQAWTQZbPmDPTsEkI1P26hCslG++qsVNP/qGKlkcs3//+v3//0NX+b5cpZWd9DXddDIrO7uYzqFAWMKM/jaEFZcd/K0RCqA5peNQObUnJYdM//NExFcSQsq4AIiEuSLJ2uVC3JDj9ol5pn7CSI7CddQhsHhIQ1B8o5GhR2OQfCEyn2rGb/w/zeamkcEDgz/////5UxN/+z+VppMBRkBoytRVGzABh34fAx+xWTDuZqD3//NExGESQS6kANMMcJb0K66LkgnMLDAeKSey5rLosej2nul+ernbQIjpSPb/vn1v6drxlrDun////Urc7GqAU7BHYnIohbcCAYeStIbUwwMYpaJmlJztF/DIEBzqwmpB//NExGsSKTacANvMcNHlnBe5oy637YimYpQn9kE9KeIzWgsW6gResF2/P56+5/6k/Ff///xpdrf/RXJTCMGHE5EZg4SkIIMikEoA86Wvaa0IjK7skRnv7ggswk+/urWO//NExHUTqTqMANvScOTFURG5Xt6yggV9qEetm8RJtpmF1hSjbAExoVHmBIMrVEqGOu///9RhFpz+LEvGWgwwOcjS+iR6JJEjF+E0QcQTkCJWUUcLobesdKztg77v/F/p//NExHkUuP6MAOPScCpZfGi7dU2asOVzZrXiH9WVza2JlosBzAk6rhAROr////b//9NfTOlXHghQsBtGEDcsEupAQDrBVsaL7v/Sjon4qrJDut2hanan8aZx6bkUqeJe//NExHkSuPKUAN4ScGR92l41IkZWSfli4wOQSOgWhprr//l6scqU/////CEMW+7quS50TtGG9mAueEkEiQ5GDKv1KcjT0krdWPO/RKGuNkIJPEXR0OCiiZJ/B96pyZWc//NExIEUQUKcAN4QcJIPCkipxNmqk4dWGE////9W3/10KssXSOy9f6QlrwxrWL7mpPRp0OZ3eQdV8kpc/l19ndGqkC/xDCY5FBqBDQdiONDEQDsg0U20/VsuIlLBtf////NExIMRCOqsANPQcPxD9Yp3//4umsaxIAnGYTypegxxe1yREFhCQpGs0C7WeEZqI0ltQJsbf2tCJtmLMbIY5SOWonfrRwrGlSTDgOslnf50TNJK/h3/94abod8jRZp8//NExJERoUaoANPKcEqhRpu+iI4Yw5iR2/gwAGBB7m5U9dogUmzWWKJRSf5aM4a32Vyaunlo4foMi2zihL6RKuKAZgUFGn3OpXUh9LHspX//7//riyqu7ANNTg34umX0//NExJ0R6PKUANvScDNDYaInxCwwrVSq9yzDR7jckbRpgzT01hgcrsdbBbcT/pDkFbnKMMaggRlUYiQuww7y50VNoT////2/64i8BgtGfISqRMQUjOQGADAQcmJpCmGA//NExKgSiP6QANvScAPzEupgZXBcVMIC7NLQQCNNty31eeg1a3y7a43LyyxyYNCkQ3XkS0FNvUJXf///sW3/m0WDBkHMP/zXA9HwzGQAQUIAYzoLdJCeLAIECTbEBEFw//NExLARgP6UANvScFBEFE5zJZDyFt1Rfb1tanDMjLI1OU4WogVEBIGgqrAPJ/9///+us2nekPiyjKixwhEt8CCh0xGXhMnCU4YfEhl2QidHgRUQ8ewWxEHQolwPaw91//NExL0SqPqIANpYcOarVe7G991LNlc4TnR5kiCxCJiZ2nRWr+ih3//9bpAWap66iLbH7YqmC4kTWsIIqKg5pGx0jhjlBxmA8cCAcII+d4n4FNQBxDwJQhMhcI66eRXK//NExMUSqPqEANpScPuFJvVPTeZ8S7rEIe0u5p9BiBgJmZEXbPh4X75iuzRnuTzuwSFmvtdIjLX/q///Vkk1rKKgSBpIV1L8qVD07vGiCgBEPBnyrNMUZvSqLKmMpaP6//NExM0SYP6EANsScFSVQBlB4KNAXHPTFFnI93b+r/3f1v8Pw/id+/akj0CjFnqKYvwfQvQoL0HFFwNjLYYomHDX////5go7//Lq29BiB3goas+DUSqhQjRAjQFOa+Pd//NExNYYWWaEANPMlJa1aq9N2OslWKooy9/AiF1d9PK6eVpOv5v3377P3768/N6Rx8pIvjxyneqSwDMExUc97UI///+xNeWyM0iGFMWkrF64YenItGIzktjJvaljaWct//NExMcXmWKYAM5QlLVsJ8XEjAVxyoNGBgIBMKFP3MUqQ9tVPM2PgqCjrXmoq5SdakkqGXsNq////t9+lbkAkbKBS5lzqxNwp1yzEFoNyNW5TRWaXP4xyvW1ark0JQEU//NExLsTWT6oAM4McARanlNwDgswzWGiKF3aKBgaETj5Js+kopzD8QO28oJ6OXtYHwFQlCEvk+uo7xQl+Zy4tz9lqrZrYt/iazHLv22yo6zncq/vOnXIIOfe24gORxDo//NExMASYTqsAMPQcEy4+sdpZEhvMZ529IgBwV3XiITHzE+TtIj+TUryJYkKYVzdV8B2YExeSWvPF7JqfiXjcVzOCt8hvEutL7GPGEUbbbK4sRsHjIhm7F7n7Z3i25hX//NExMkTgLaoAMYSTF5hyxh3sQHjkK9esA04Ah1pn/////+h6Psu3bk4NCHd0UogOwC6OqPzHzxyFYWookayIKnBFoLR3JEA1hcGx7Uknp+eMnBMOzJQlLZxB6c7Jjy5//NExM4h8xqcAHiYvcUr1ELJTbW15efpCYltXPOG3mWtYo+yto49ZlDOSnCMTEQlyPTJ3JSI23E8rTVkqrRqcOcdtWOVqr////+fvmYodpdTK6T2iy0jpWj1CMUERB4p//NExJkfixqkACiYvJDz3L5DtCIZI0RrJqDbu3kZc8V6wZL1dw3cXVDkJe9kmU4I0SdIsdflkkE9J///////8j9297jayXt2guHbprWJRCijifMOy0MWWvNfWRlq18aH//NExG0Rawa8AAgQufm/GhmlfudbcflZmV7vK3xibC3kLU4jiT3IGUj///+Uv/76P9v/v8UzZFrqeyPjN92WfTDyxhxaTiVtsskUWlJZ1+HQI68XniHpnt3zf9z+L3Gz//NExHoQuqrEAAgMuZbf7/mYz7jNc4XqzWC0+gTLctXYK6/////yEJCX+v+93kbldm7tvdnhOCO06JQVtVzq9TO7OGihKbJdKqeq9bmetapya71nNUwphQdZQdSSJSzX//NExIoSSsbAAABMuYiPBIsoT6qjZZX8IYGOTo3SFptQKRwranJdCSEp0yNvQlA4UgcB1O9m3+xSi5TnqdyEJsXNIKMxjS6/5QokVOkaK3e2z7VPWP/7PvoV3ca8D14P//NExJMSUiq0AAhMmKAEjNo+wiJrc1OfINz5VvyYyr/va2Hqs8Xoi5ZoQDZPVmKj0yzBaqcEYjDRYh0lmjQe0lEWXQZDBD////1I//9l6MaysoAlVoRV8Jok21ufuR/D//NExJwQkaasAHlElBJolkzx+3qmf2nkTmg6OEB4U2wbjGT+O0wJywDV4RznV2r9HH1rhHHWFn////76nf+lHc21asKcRCDnH1IPEBlkDRQZDoG3pXLOuA4Q0i2mPUvj//NExKwSAVK0AMpQlNOt/6tIFKNmgEx5xKPZAtaefBxYCwj0SLHJ/K1t8rUrNKaIYh////6n/9tP4aqGl8gVEPLFaMQgJs4muBHUiKa79EEs0HgxYBMJo2zlS4zWkVsb//NExLcRmWK0AMKMlGbTI4JCg5MwckQNdi4hlabSAkGBFEp//rOGAg9////9N/TVq5AAeODDE9yUtBTsz0Li8tbAkQPQLhULj2sAezM2u3DE2mydl8I9Hjb1b85vVv7C//NExMMSoVakANLQlCsvhGuQhdV01N/6mCq/////9Sq6mQSUAKQgaamTtQsbF5QUJKpjQ+ly/kivhqVsVPHZCJSVCYZsvYgSuUbPfagbdxPDSBpepgjjUWFR4HZ4QGnA//NExMsRyPqMANsMcFmPITmv//9Fc8mLD2en///7kuXVoSAIIUlXJjNuZsMiIBCEZYMDErWUTAaOhYTIlwJCzazwKIUJ61kcrzpr+ZbDWQ2EapSSIeaVNFIPw3iVE0yX//NExNYQiP6QANpScP1pBsRVu////+lpphIOemKBwEd9BBzWZYVDy8WDEeAnnBIH7PIumclCCXV6PalTO31YFdKrPN4eokks3f63WJNiCQj4kFw6WBpKBmBVC2DSPQKp//NExOYUyW6IANsOlCI7V/3/+zEUpSUq///+K0hQoSVfQo9mUKggDjzwmNmosCmwMPVdLUFjJ2ash6QAd4xjRPJsVUNTZttPssDFY1KlYy1PKlBqUc2CyKAqNMuIxKpI//NExOUSQQKEANpWcIDkKd+QGFXaLLv//slVDWklZ0ADicqEJhIFkw8KgXMzD0iEoFCBEBDAIGQicFpspFRBCY0AEEVFCCKo7pa6/cfrXF8qUqIaZw6KhIWFxUhX/9fV//NExO8W4XpwANvUlGjmUrCTB2ihXev//4uIgqoREZIcngWI4PBgEYMDGJkyQ0ZnpfIy7dIhVAI4SQOIxLturxs77V1YtHNVGKBtYEKqDCZNAYSkcQGNLBVmwHoZQMru//NExOYUIP5oANvScKXKw2ZsbY8HwclBAUSUoz/sWv11KgPEQ3OMgYxCBTEh2DDwnKYJCdVo6n5QDhNNc1ilUYfNS9nMRL6WslG+jAxYcDDyBVo4AyNNxq5Lzhh29jP///NExOgUWW5cAOIKlP7kxexGpQoJ0Zz/gDMYhYGQo3ILhIMEhsJgbJAwbxEqBVRGGlL5W1UYihgQWuEzte4GK4pjFMXxmXOPe9KUZO2RETAVqQd3cNW994t+JkIVHIpm//NExOkVmPpEANmEcBcjFRlcgqzFOYx13mIrOin9uqf/53S1CEHCYwBzCAFEwOIIOBB7G6MHFCcVNrUwCHTCIrOCpozQTDFioMEEkw+CzB4rRwUDCAc0xSha8Xj1aUvL//NExOURIOJUAOLEcN7O9f/4MnTAgLF+DT3m+OeL1ssyhM4aCYsskXcqm19C0+z+/+koQFTrSwqPOsJf6+JlMK00dahiyLm2XSZOLxjcimVhAAgyWXLpkRpMdiMmCUUU//NExPMeomZQAOPKuAmaK1xwgjJCrk0eQWAFAFYxEWPApmwmQcA8y6F0CqFw3NT5eE4JdM0HsF0ku4jY6ksky1vZJBSFJRqggmz16XXx6IJly6S9TNvp9eZn3UhUytdS//NExMsVoNZoAVxAAE3v9f7Wu63Wm6f7f/9X/PwsYdQqEHBD0Q9BQxE42u12IXilpktA6k7uYcqtPVFDjAh5omw4Rij6C2iMkkxiYCXjsHsFqC8jOMKPARkOWJWYIF8L//NExMchyvpsAZxoAMgZwRcYoWIDlAEoKcCVBcwvBKM7xNR4FE4cOATIzJUyUTXW5pzxoankcyL5dHqi6////////7/3Qa7/6//0L9/VZa0zVZ2NoLYBmpkggeZQku4L//NExJIhgxqcAZloATxrSZJp0D1KZM1jKesjqvXVgG9uMWspHWK7srsNzjU7nkJIq0csZmDOF9GEutK42npk1nH6oVkj7GXeGj4znNtw71z73cGfamZNI7d1RqAED/////NExF8daV6cAdp4AOntB8c0E0tyjB4uXF3MYEDgTF1lXsCtswo3KiIKKHQzHgrYslDqY2bL2tL/wqtOspJRwVS5sTfHo4YYqwXCdXQXjepGxVJolqKKwCEX1FnMvpNU//NExDwg2uacAMvOuC0llcuG1IHYxtBwQ4609bYRcbmkxgVCo0gQOFgsASIReC0UknPOVP/////zf1U11NV3Q5ma07sj26qaue0xDmU5kPNYbm5xSsaAVmRomAq8mY+A//NExAsUWVqwAMrSlGPO88bAJyZdSiSTLSP2pfHD+H7n21lSxBM0KBSJAiD5AgbUUYtdBJNAwSxbNQ74Q3Z/Z1s0rkrrant////X/312iglenV1V/RVsUplK1ycMfFJx//NExAwSeU6wAMKSlEpc5DuXDhoXZ0XZFnbbbbqjsQDEZA4G5KomzSGVNUo1xhcsgNdTfV1GqypZLFQSAQ67///+7jP9R11F4RdS7LASQGvDpkMNImUF2IjcZyW0CKWp//NExBUQ0QqgANLMcIwagQumTeeSqt/3/raSOSmTgZKc752r1VAqPc5INFXMw0JgqGhKd/////d//1IqZUMBJptmcMLjIwbYHFAeg2HQyn2wDztvRam3fYK7bjyGYKkr//NExCQRoL6EAN4STMhcsIRZePz3NW0llKYmlQ9wasOlgaDpQVb9v///2tb/yiKKqKrnQ7hhtGY8KtPocBjTd6SoGmkNL4Pmbh49x/eHpTfZV9XKaZSgjq92VKduy4AQ//NExDAP0RaMANMEcCCGKVHAQSFrv0f/5b//+mqUrKC25dzWQA8ZqMgx49gwhqDAQYUgMlCcaHxbnV1+/r02oUAIohx3XXFRFQQfAqPoxsUxx6CZkDwofOf//s/y+oaS//NExEMQwUKYANHQcKaGQd+PAlUI2JYEEasKm1zwkeHTEArFBJRdM02r+f/1GaMxYnsnM9PIMwhObUII7ZNPRRdONIpJPw2rriKf////KZhHVc1ThKJ6+sahslSeD2oU//NExFMSYUKgAMnScCibUmZx3QOQKCqJWO00muuuv72owYSIFQ4BZlfd88iu8qK0kb2Z+EYbJO4uVIFjR6LA2lf///8opm3Pq/ahqV3JuvuE2dICYSiUPA6mvluaeLhU//NExFwSgT6oAMoScDga50WOR5ZEupmKrfV1jGlyYuGFmmFLVk4SUIjJE9qWVlf763s63C3d3uf///6/4q//ptpvhkJsFvgAuw+46EIMnvFEhdIcTbtKkfQR3FILv/bB//NExGURMT6sAMIScGEFg5IGAMkQDRrnMByVTAqNU8tX35+zuXykcCnawl///+vf//9Cas31HyR00s0zwmDWgBmUBAQS6YBnkZMQHm0UUcC+NQzDQsJSiJQComCaktuV//NExHMRkTaoAMJMcBzLEWwciohChAy+dO+P54+6HS/uPBpqUK///xVSP02ZcITAjkVVckSI/F0ysUZMSzlkjke0Qnb+aAftWhhQ5XH+jynGOL1gQuY4XLoT22oNbfJp//NExH8SqTakAMsQcAFEzUxYTbN9eu/yq90PIhFLWTiRIcDlJANBv//61G+zus//+pWGSECGzSCuBixYbEAMxuEFYAv5BAoqhLbE21HadBmLhgOIvz8mKAQIYYUwt7C1//NExIcWETqQANPMcENzbq1rB1m1r+sKsrGuIIrDEgxRQOv6a5sRbmo+06eSMm6jY3TMMu7ujVxtEsRYFf7v/S0c0QuVet6FYCZPid4aCuA83NDLMCRPsGNgSPHGAwMM//NExIEaIZaAANPWlErAWtwwghljlMaV4cCCOpDBwBfDgDmQt+0Od53sa1dfHzjOMa1iFcXcBQGwopOWRpnJV07SxQ4XJRM1/lxh5zyGZWq4lO5q0/1pQQ/96rUovcmS//NExGsawZpwANPSlGQjsaYYAAxqMZEjOAQQg48jLAmdIcpJgpLGhdTFvF5KdJAEawsZN4p1Kml2Gr6phU7ef/O7fJYo0GRUJRRGnVPUsAiIo9/JNQdDjrvz//+ssxxs//NExFMVYPJ4ANvMcPvcpYLMN/A0cWbg0YclO0Mv+YBSlEBSDKVi48gHb4hUwSow4kpLE0rMTAumqTskrWp9/9dJJGtvZq7/oVkIbT9bf7f/9f/////vmQMKXmlTI2CQ//NExFAS8np4ANNEuJ/ZpDpizZgZgYLbUUNgNwhUhVD0um5TEYzAU2qbY4nzuuqR9YzSWx4dp0gNy3xr1OzAUaPrdxR72v////pIrw0qGQMZhohocUGLgaYmKZkYRoBG//NExFcRCI5wANYeTISAEP0FScMWvYW1xY00iW7RoXB2QnVfUWiUKPcdSHHnUiQGUAowNh1VU7YL6gsWPkn1f///+moxxU2cQewJFGLDNxbWMwBHpdypZehVQBgBExYm//NExGUSEI5YAOPMTNyslsalsZepKR/tV4zFe4JjwqCgEorPBpKg7hNbKl3513//5Xamz/+mAgM000DeZU4MHbpaGmrUy5vTw3BqPdOS6Wzz7VCe5Kep+TCjIkMFTplJ//NExG8RMQo8ANJGcFVW0xAMpDVaOt1iw1YqhBgzi6tpV129qFKSKarEKureiihilKls13mWXb9ISoCwEwFlswDVbKhSSDD6AyDyjI4GhwiFZlhju7Gn1tORRnUlVqoJ//NExH0SoMosANGGcD2r2KxRxXasbLHr3ShNU3KtlQZy6lLqV5MyOuhMQBsJ+3YgVHQsqcWEQjOGam2IMvnSTDAWApRgMidpgo8xIttIvCpVVm24aI2CzFAagyaQ1kW7//NExIURAIoYAMDGTPrU6LUKx2XZW05E+cY2jJgZOZWOvQfmprkmDCckUCTw+kBlw49pYufaGbkmnzijii7bTbBI5tYQq7d96iDQFWtygKQF9aXUqgZnRIQ1YkuLih4u//NExJQRKN4UAJBGcB0oLkAGGRCaFXEhxlwJnj4UiU2UGJhIqbRHOiIHBjVpXc0x6kWMyl1m8yrFWtFdphrlmjTq6geJME4XC4gg0RAIChMkRek/IuQ8zsUZRCw4KMEA//NExKIQyO4UAJBEcPLMNCgQWhbySShFJeoLxOUP3pNlEGkwpuiOlrOPuQuQpnF0JNE3uRU7gaoT4Y0sFWsKtevY1rcIQiELCEIRRCc0r/zVbyl9AxjBiuYoGgVDWIQV//NExLEQEAoUAJDGAHBpAlOrCR6JclQVOyvhq3BUS+JpYO4iBp8OqflgahzUDVVMQU1FMy4xMDBVVVVVVVVVVVVVVVVVVVVVVVVVVVVVVVVVVVVVVVVVVVVVTEFNRTMu//NExMMR0LIUAJBGTDEwMFVVVVVVVVVVVVVVVVVVVVVVVVVVVVVVVVVVVVVVVVVVVVVVVVVVVVVVVVVVVVVVVVVVVVVVVVVVVVVVVVVVVVVVVVVVVVVVVVVVVVVVVVVV//NExM4SSQH8AHhEcFVVVVVVVVVVVVVVVVVVVVVVVVVVVVVVVVVVVVVVVVVVVVVVVVVVVVVVVVVVVVVVVVVVVVVVVVVVVVVVVVVVVVVVVVVVVVVVVVVVVVVVVVVVVVVV//NExKwAAANIAAAAAFVVVVVVVVVVVVVVVVVVVVVVVVVVVVVVVVVVVVVVVVVVVVVVVVVVVVVVVVVVVVVVVVVVVVVVVVVVVVVVVVVVVVVVVVVVVVVVVVVVVVVVVVVVVVVV//NExAAO0F4sAUMYAPru7u6IkREQvcOBg+HwQBB34PvrBwEAQBAEAfB8HwfBwEAQBAEAfB8HwfBwEAQBAMA+D75QEP///5QEFb2C8FiHaBKnDbyT7eAe+t2LSejXCefc//NExBcYEc5gAZhoAKx6m4LoM4AmMtaZmSY9z4HgI8pBc3Satl3mBQNKalKsyq2QWS6kC4T3f9aazRDPoLRM1Gn29CmmadZWXzUwO/S/1HtKP/YjyoGVV5whLxAAdoYS//NExAkUMWq0AY94ANMxTk6GIXh/UXUqBP15jaleI8NMcgDWEMPBncI+xdjdarAOh3knl//+9VxeBmLHef//7riStrVjv41N///2zrW9fGdzhh3+XXEfZAC6GE/Vbp0h//NExAsUeVLIAY94AG3zm+c6HpNaFeFIQKuNYZ44h8lsFmJATBUOZ3jtY9BJVIptUpulNfVNRYtN73jT++75+Zb7tCezWzfes71T1gYULgsJfinSK4HQvDQqgPSGJ2lW//NExAwUeXLUAYx4ACCkNiQAscEAV47S4DBJ0gBgFgTY9JYm3YpBL2CwJhgb5s6zq16YvS/3TXteNFx90gS2pnfj3+L2zTNq+1b+/paBo54D6DX5Sm9ilK30qfXGCZPN//NExA0T4WbAAdh4AUM3FlQJHyI0sL/uKz5pd1KSVNjDRTgDWYrcj7pjEmawPL/L4O8V9tevtr29d6dysFoNvB1Xfru2sV3uJAf3hKmjN8X6EcrIioNwqi8rLxulKFFr//NExBAVqXq0AMYSlSsAj7QkSVIo8oqQEosuu8mm9IjUqqjyky60NQPjT2q1vnbONjLeG4SlPz2W+eRhqbKoqkuS4o63eD+3xA9Ih7J+Rukn+82Kqx4wNn4KioYI3qeu//NExAwRaV6oAMvGlWmTE3BZbeZEMY5gLx4qU0WAgxJnKRDyfDyaZGnxbsM/peusbpWbbIzFpDInVD6qrf+/7fGZmAn8Gy2XNAOfBB10cFn6GqkZUAo6kVLVfuUKTs1G//NExBkRQP6QANPMcBiVVrm2qSEPYbiUNBbjsRQMeWglqWUX2WUyCYm1ZRsShJy2v//f///pxxoWrQCMc1A2vGHVApJAi6TMAFqSoB6EVCZEtUanP7sLEI/odDyT24Ao//NExCcQ6O6gANMScAIQggKBsnikg9wpWdrIKZgR/ECWgecLxwIQ+m5KxmhT5ZyIvgCSwqPgVbt5hTKiiLVHlQibTvW4Me0u60vqYs8qJBdIVgIOlCAywRn3kirAsC6x//NExDYRmSq0AMPScTiAxi78n9yd1BegJVyAiH4V5ffkjkey+FhrU4OCjQ+cBNbvsgirn1E1c6YPll+cfnGOw6cqchQ5o+q4qI1iJNhELmFQqbumPFTKlCsRyaTneN4S//NExEIRCUq8AMsSlXJOqssW7HCzCqQRiDwktLA5eK7TLa6wlA3NEDfnOEK2n9qnB9jiUZQSheJCUCVC0uLdFxVRnJJCQsnJU21lGWh+3r61s5NttqzhQ5X9VzF7DkNE//NExFASQVK4AMrYlViWuCNskEQDFxAfUZx3lsebVrkyuBcWQSwGTOBGbbR8lEeR/0Bi9xKuHJ3NXtj1Y3H1B5T2//////9TPrVV1XWwM7TpfYRPAwaJpUfkEniw1Alb//NExFoRCUa8AMHWcGb2ZSTYkVq0F7lsV07AostxMSFLVFc+77d21qZtK5XRv/nVt6xbOa629ihoOFTv///////9asIaR0OG6CbSdYk3trZceD4xXpjBDOtCx6OxhdXy//NExGgSmTqsAMIecPzdQs4uC+UGB+1ZQjIW5ggCi9+F//k/9PI9zlOH14lPOejmlECwRAk+XR//iCqpPp3GpjhMkDY2dQPq1TP8M2WQkUTE+yz+d1vWqx1mWTFE4ahS//NExHASkbacAMoGlE02/9zpv9PJUoBii4JtrkbeXnmu+Zc3vMLd/zv//+Q2f1itjSgClZz0S91OjCAg6lteAcJjNG9WHa3dcvo3zbdI3xr/MXVNau3stGoe6i5BDy0N//NExHgR6U6sAMtSlGv0y6etGEu0Fqo2E9rLElp9EqaZPG3l3AUd/////SNVb84oMLzTBAAj5AtXpkboBip+xgUGhGtWXbLedC1lJuNMqrfj/MDfw9i3f0o1qmZ6N4lR//NExIMU+U6oANPYlN4OwFePEJGsIQwn82u3B2/XnK7stxYk8XVUubIoktDRR1ZjqU+mM/jhq1Prrd/X/9Rz9YoGQAUsU6qVEol/ro0oeYc0cY2k8CEZliYkBaQFBo8B//NExIIbcVqYANvelIGBaHXYrFWKwcpR3KrKr2rWrWXfZc86SVgNgSAcnOFS29cexcueslJrtnum26tW8ytw8mVO+AoaKyddFns/0npaR3lgaWHbvoiUSwSBMchOAIM3//NExGcXuT6IANIYcBTrpAh8RBgcFBQFHVltm7liUMDqSUWa1XT/1Vphr1q2CUUAR/Cfywk1R15qM+ubjP2uUdrF0lvx2re2/X/r/tyqaE3f6Ukm2bYUI1r7CX516WKV//NExFsWkaZQANIMlBACTFIiM2B84qijBomFgWgTFgLALDotZDoFw6QkdTh0/yLvCPMmZVCgIQU40OgjuAyxZomU24khGWanQDQUeZFf//r2RJW939RQgyKoJGjIMvyv//NExFMSOOZEAODGcOl9Xme63cMb9fOksc7h/6wDh3Axb6IaYcXgQjvX/5TtWp3p6P+n7+ve0ufuSD4fggCAIBhYfldRUI1iEljyKwSQ10LeaJ+ipEUbkwuHiEDpJxLj//NExF0P8KpQAVoYAOFB3CqCgGYCWG4kAi41iNkpfBGDQZBKF0GwaOYpdBBk3UbLU5mozRTf7szUlTRJFEyceun+6h8RN1myCRwky6PE6ktBf/911pve7JLdJNRqg+n1//NExHAgmxqQAY9oAb60/9daCRiUmt9CmtjQaUSgkzUv7EcKtYlEzn28XnyrUUEY7ShV5Y7L9OUNPxnxuuKvs9J8cccn6JRp6EQ/ewhbDec5uqGtWp5xpAtEzqe94Emc//NExEAg6pKcAY94AMl8ZxfXw/zHrTx4d/jHgt2rwKXcpo2s1h03iJvFMUpf/11q2M/Wa61871vP9N31/v5/3jHzvdvT7rqWCCZp8HGvF/yClU6nuusLynGPWoZdMKcq//NExA8UqTqgAZlgAE5qYt6aw/CjmZOnjpkf0gnCUaSMHkyd6Ja/e/893T8HV+cbf13Lbe88xqienNzpUhIcgJVDCNjTlPc77v0s73jUf/9FqtJBkwjzfFt5B6enILac//NExA8V8W6sAdhgAOK5CajtF5F0wW5b2QUzinnI7TCARD6pLMQDh8QR8X8vsd/Fn1fyXKwTyF11CuN29HJzb789/36cylumlKbTnFAg5f///hOfMF3GJBZi/pQUM28D//NExAoT4XK0AMPMlE3NPd+ZKie6qIEvAO84WtCmVrP5yT7nEZFEvHSnkQUsSV9aXWr13Fy0u27rScK5wpHJptz7lO/d829xWsjVfEVOZ///+OX6otaQJKMHlbrSx22C//NExA0SeVqwAMPGlDoMVZs6YLI4lYoWQ3WXahcF2yw1c+TiHdBKFganKj7cK2razXUqWxxtqlAoxse3/9zV0xNOgoWc3///6tK01g8QNM0hjMoCpdgcQFirepJC5H2G//NExBYSaQaQANPQcKRDUUeRoGkll9DWBXMy5YkWlWRDjqDILRMaKoU5NWLJF0sdtCNBtxJY2gyPd7g0WaCs7K1kIysPGdXsaXGiYClo8CVtHiiE9SDOsMh0uBguaHjx//NExB8SIQaAANPMcNzPWRqa1Mpl3O0ZTIACU583L5evcuiWjFOfAGgaYCAEwHP2FV////+ihbyR4+Xl4UaOgQCnOL7kS1NwICi/ALzyQZyEwJu9RjYuX5provgxwxyb//NExCkSKP6UANPMcbi4LAg81H3O5E+PL3DZDRFPTr5ObVI7qcx0B0cf1fyCoCXJZJJQ6dYCGOeJFljhksNOAPwPyYH6fI61WtIYaB5j1mCToOU52x43vaU9TVZNf1lb//NExDMRwSqcAMPMcJju1M0nBbs75n+ffHKRGPiI6HnrVUBBUSuKXC5NvShK0IFIkVgcqMQCBBlf1XVjS3mtsYUsVK1tS4tqvWV7nsLvMHOys2VUo6shoqgigDKVyDq9//NExD8SmSqYANYKcXucaBDiF+xsdvd3lVFkJ4SMGB4ZaphEBYGEFFVyskpURjom6t+js5lO19faKCbzE53Vizupr+NT22ts+81WuHZunvHu0NY2lBZH///ra5CcPj2J//NExEcRcS6YANYEcCHgnaWGycBnotUnstdD8TKEJgeSzViEGp5R5PRkxnShSCkONIr8b1QePaptjLKaVmFQfA6BAID6+q5081n///s4tWRh1elU4jBGBSOAsBoRbGmy//NExFQRYHqYAM5wSENIBiUI0raUu3EIBXWBxABoyXrsxPKipZvG7/0r027W79614UGCxcDBNbNiHYZNGP///2Wip0TRNKqZJFAiFSgFsv6HKWgAMh1MqEv0I2lXqLTb//NExGER6QqYAM4EcAomIjBKxdgJ0uo3J1xCrPWfjj7GPtYhClrvQKPadQ13V40Uf///9LQsVEgGNhFVhkqzAasdMPUNYJLd0DJBvkul7mGUNJzXB0C4YEb5ugZp2o/h//NExGwR6IKYAM5eSE+WH1OnDII8qbNpVX0OdQSJNp3DHjnrPf//9TQ2Akg6pDxcJDxZhkZQh8KAIOcKIK3Ao6CoKYaBF3DJhUFAhjwymAXRZoIQ8vQB2gccEIBeYFUE//NExHcScH6QAM4wSHw5BBhjCKmCKS0DZJIvsy/01uitFlut13V3WtIqrSjksi0ko4I6q7SoJW37//////lVWDlw8CX1qoZJTYcpBIUG4CqwAJhEbhQFjQDCosKxAYBD//NExIAZSmZ8ANyEuMDgsCQcxkVBQYBhkUAcgWW+CToc1+2GdbWltQ7ndllWcq9lneYZ4d3Ytf++V8d59r/newq4Vta7WZzolLuyRVFmKZh5xxxUodcVY1lQedG///////NExG0genZoAOYKufnQ1QGFRw0URxAXOXaPN1TL8Js3+S+xjZfHuxEYSFBEnzIa2Dh8EC5ACIwSEDRpbhFmkZgxTEDDZHEMqSDVpcpy70ZgW3DMJls1BVqVyCM8xw13//NExD4cSYZcAOYMlBwyxx1C51WpG0TVT42uc7Yh4nNcoG2J8f5VHNbtUpOA4sFhCeWyCoG//JlkJEpIRdn9laoZBRkHFHTSsYmJZkQUmHgijQscMALku4qaXwze0uhM//NExB8U4bZUAOPGlJoEmLEmNtzMfyFSq2lo1p7Z+fnEb2z7bVZGVYHJVpPSOhU63YfVYMJ/Uvp/+X3jXWBaAa6KEgg1fKOhSBkNLINtJYm3CDrVU1coTwQQIUy0MR0///NExB4PsRo8ANrEcLavnbNvJZZV3Vn5jUc6Xl4aSWMQo96euVIq/+3/a7//olIm3/GiAuVK6ludpeZ3aaRww4G1JEzGK3GaOXqdTWmdqvS9EZ344qXAwlCRxJC5th5j//NExDISaPosANGEcCTsa1+olQkVcm5n790UTV77zaWiZMWbVQUkKJEwsmdmYoONBYIyE8EKGqAQFkwoYFToTBYg+BiSACSQpJ55c2sEp4KwoOMLtLapo3b5XOjXT7B2//NExDsScG4kAMGGKElCjYFnqFHnVdhWkJKfrQZhATQ2RSegtFwMhQBMIRgRijUJsrX9rWjGNnQcCoFPB9BkwbHuAYAaSUHBggFXNGpP7CS9PdHoUqYDA9SyycysZ3ei//NExEQSEMYUAJBGcDbtJUUVBnfVlLmaCgPQtKCubhmlXfw9SkFAJIjhYBmIYAgsl4JBKcAp4zSlasiIkZ9pvaz/ax17h1HMLF3RZopFC6XFSCoKkUup6K26kbbl5z+7//NExE4QCLIUAJBGTALJUJgZnFRVILeV6Yzr/X7FnWsG/49y3T+KXKV844x4+CDB4ccHFLStw1WPirREPm0Peps9SPbIKrHPES4Gd/23bpG9AF7nQcpLB+hz8kQopa4j//NExGAScZoQAJjGlHV8Bdqp3dyXHHMOfUscM99zOnwtat+7fXb/kO3rWvp+n1f1e3fQMpO/ZjnmK7oC6ila5Oo8CHIIIk1FDTRyuashoKCp06p5aAh4SOkRFEws9UqF//NExGkQ4AYUAJDGAWBT08HZVESPLPU+i8DPtbApjtK54tWy/1C4BYKkfnmLMwSRF9QBdbTG/eV3oZAzDzCYwcAQYUeYeQTGkhIGYeZaC0aFRURmRfMgsKhkz/AQSFhc//NExHgReIoQAHhGTDLuMFhYXDICbuFhZugKiypr/Hs//iyKxRVMQU1FMy4xMDBVVVVVVVVVVVVVVVVVVVVVVVVVVVVVVVVVVVVVVVVVVVVVVVVVVVVVVVVVVVVVVVVV//NExIUSkJG8AMGMTFVVVVVVVVVVVVVVVVVVVVVVVVVVVVVVVVVVVVVVVVVVVVVVVVVVVVVVVVVVVVVVVVVVVVVVVVVVVVVVVVVVVVVVVVVVVVVVVVVVVVVVVVVVVVVV//NExAARaFogAGCGJA8K7x5tw4s4A2uaU3w4sHwfBwEAQDAgB8HwfD+j3CAaD4Pg+HwQhhRgHHAhE5d4n///xPE4IAgIBgZLnxO8EHO8nZOEPJoSKkRc2lg1x05atp5Q//NExA0TSUpMANBGlBzNICgCqomY49TPQyoawG0D0ZJDJMBiQBlTI00s/zIuX6yjDiMg8gxHgfB8PlP//1Q/B8TvDFYP0/d3s6ax2ozVbkFg0ykYA0aYSEmxwJoIQgqq//NExBIW+WaEANoSlEZ8XAajL99GnoiOf8tVzeiLcwlF3zaA3YHBJaOfz////P//dUgBMsKAwmjbnq6NsgFDka4Hf///ZW9JzBABvTk1DT5ccD5Q5+zWmn3IK7Bxg2a9//NExAkUQWqcANIMlIScVAjwSILHr4RS8Tdza+MSJqLv5rtKp+7Hh+UCsmWvWzt2f//9/msUgBE1TCZY84AHrAaQtaOkn///NfWtIsEgWR7mqIqCC8YsYYwRAndOEZiz//NExAsTsW6oANHQlFkeOUy2ZHfz5Srzc/Xeufm0PUiTNBcLSROkpre/39afTQYSSfZ/idQmE0BMaKkUKz//0uLBF91cPgEHiYnPuYh6O8oqqvQIYyZjGjU1isFohA3H//NExA8U4qqkANHKuY2ccu2Px5Ne2ZvvV529yVRaOhUaDps1v95zOeosA7iIkOOKB0LMAIsBBYBxjiKTf+3//9X6H3+3UvkcbZLm95N8yChWau2AaANUQaKdlAuhCFA9//NExA4VwraoAMqKuNab39/+DnH030+9TK1NPYfxiGp6I3t8xiU8wcdXOBRBw6MERUWGiphGcztqdTn9HV//6690/VbEtZKxdUK6kXuifRLuzjCb0+rK6S5EmszgFiMO//NExAoTUl6gAMFEuKlLLpVFrW+a/ExjPq3/9So8SAUFMY3/6FqWGFOyt+VWRSpmlLVv79G/9HoajVy5f2MbRAwEYGoSfU8VIt5ItPSRY8WqTtMGEMxFGq4VIhQ+RVFg//NExA8QaMZgAVoQAFA15JqPW7tLrWsf5///77/TTyqFARLK3eZe8zyw0it3+v/ez6zp6JRE8Va/oIhrTnvuXRAUnAg5kweHPZkaSCj4OQXJQttJw16Klp+1sMQ8CpVf//NExCAZawZMAZsYAY8bYzvZqq04fkZ+i0Ltn7fM2JSVT5Zxs0QQ++VK3Pzyn2AiQY9sskLNpbmtKfPThRKbpgDmL8vf7/n5fC0n//mSYssAOjoI4VzP7f///v//z6f///NExA0V6yqkAYJQAPMU7/3SzkEnQ0e/+epzGSRxBi2F4Ix4qiKJR5//mK7rMYnNEsWyQSRcYAYGgrCoIQd//9zzGsfY93RsRY+FwgyMSyM8eBeCoNx0tf+MY/////////NExAgTgt7MAcEoAf///6eTneznQmRBpBOJiCu5WRTKzxFxMhDihR50dWIroNPIYKVg67D7KyOquRXQezkERQ4wo8O3sdjiAcExosQHrASbsAb6ZHFvdfIHPn9fIyEf//NExA0Qkq7IABBEuf//JEIT/9aIpxgwYOdCspUDCkM6GFIVDdDIGMWWpHuqOWyVNRyzaaP+3zW5pgwKiCyT+f/lVblVBg1MBzJNKF2NpG1jueimE0XG9J2lUbdEYbVB//NExB0RuRKsAMJEcADC/wjEDsk6SoWn/bRboGFHEVAq+CyTwKnAo/dYdX/Ue6cW0MZannf/1vsPsG/S5lT7JDxW6ShInRoAjmOkwyX2IJeJ4YY55aZj3i4gAPUFch9b//NExCkRkTq4AMPGcMy9/rfnwIkCDHQ6GLFCYAKRSMCJc03////qaXUG6tXImbvsXsNzGjW80jSYVnNPs9CjEWk4W8eLHQeCGYiThndZS5bu1A9rbtG9v/G/3jEDcMRr//NExDUSYV64AMNMlLhLwCJNB6NGEchR4Y/////qUBQoiv7KDC1lzMEJRcdYmouFSBELak7JHgAdR5UUsKfSLJK/MMTQk1kisvCYNOK48tQ6ymXM1DVEhaJHSJC1A82+//NExD4SQUasANPKcCQtKuDs9////b3qZCCg8QBxp32Ck1uI6ghiu01pgcoteep9LRGc6IUx341txw6L+PHNVReEHfAmYle2RzC/dlflyXZmwCGl2SPsN1f///9f/12S//NExEgRqQ6QANvMcMeEJCduqEw0/ZgwsTGTtCMCLrtu2p6E3gSaHtZK0HHL4lG0OMWpoYTLVOqD5i7AjYeSs0D7IJiCScXRAAwUGk8Tj9wnUGP///6llMNCAOegQ3jZ//NExFQSoQKYANvGcExaCkeMyDRSVcJONrjnCRO2AcCqXyRPXAJKrsv6Zu+658LMuqURuLkaBAHcNYh+ucKEKFsdC7XPJL////uo5PhZMeITDgoAB71SAjHmFQulkLJh//NExFwRwTqoANPGcNuKW5zC621rDraX3aadnNzv8vfJq1Wr2uVnah2EA6zEadq5Sq4qUJmHtRV////s3N/8gtUJArAoxfsRIQgEW7JwjZEx9sicdrJC6jiZN2KLzL7Q//NExGgR6T6kANYKcH4yTu6X92+ffQ/+H0uluvG8UwQOVh2HYaKQQBmIYu6v////vV/1IKkl1cqIE4kmlGzQyDagEPDPmzenlVUtjSW4hlEbHsXFgBchKWqVWwKwr2kl//NExHMSSUagAN4GcMJd5vN5O5Wlacg+GZm6X+RcYgwcTiyv//////5VcJapvSh5AQ6hO5tElQVBDxgvOtwDVWq0V3JLSqYxeYc6y8BCIERcosqcbLySVYi1sGpIJMC4//NExHwRcUKYANPGcIDrEFw0Vl0FwgcJEQ17WjX6vQqNNmMRgx5ZQFlzjVyMLBABD1/oKGJhrL2TocxSz4J4S83J3HZKKEBFrPwJeErVYVAA8BuKUu4jDG/cm/b5WLEi//NExIkSGLp0ANYSTBigEYbJwEAIOECA9P5s2203qQZ+xpiDZG0SKOUgAzxgdCT4LAVUwAipGutKQxi1alir9qwOEQ/S1VRxqgTKVb78hfWRIHuAiYXDPaZPOTh1qiFe//NExJMfiU6AANvSlFA+0sRf3HKgbJRKzVZHdydSM8ZbcyWCl7+pPqqv4KjVqlDMJNGIJpcnL+oppnK1B4jPy/mop8rn9w3R5Shih8cHTgosIA4dEBwi7DCIp//9t6v///NExGcgMtqYANYKuP/sIEdXIdyJ899d1djkX+nVTqRhA7uHzhat1BpLXbizAQQhIUl+MZ0RmlA5Yi1BKAZaXBCYykQ2Kp2qykWupEdDV6EqxUHknEATYlYuYEUsAD4U//NExDkfwWqgANPelET87kONA9zdIWSA3h9jmdtSt01yR2vD9qs8b3rexq2GuGJgP9Sn+kZm1yV7M4UiO///CgFHPCKzibRehwVQxyWuMXh4xBPlsLJTzlo0uWNzLyUi//NExA0UwWa0AMPYlFQRalz1ztU9Squ93GsCfcC1m2uXLEN3Zd0a1MaKGhwQV2Y0ZmgXDgxfBuWUNr2nejd1ic3q1nvm/Xs00rrDbWww3///9uvGPBahEKlFsytW8JDT//NExA0RCVKsAMJWlQypA7GK8whZTJc8etLdykUk85V80MZgFFMgCgCAKRHgHIJrhtNZ6VNamttbeHX+538nXMPP2K2q7EAGWRyGh40ZVOaQulyt8WExwLzVsrHzRjD1//NExBsRWOaEANMYcGtWe202mkfNWfW5CcG8BkExoJRTNbLaLvhW4ayKkHvFjqE+Lrb//////TVhQzmaVp5nn5mIGTLLGhQqAFFs5YtPV5fUdixMUU7LydAgQiAN6Pk0//NExCgRwKpkAM4MTLAKT5gMFCjxKWcPR/omWC5GjaJyobdp////6G16yReUhQYfjQZAQYIMdRICApmWpqyKOCRDtiPkLUoGNBlSAkCQgG4tagMt8p3+JokGPoGaJTI///NExDQSgOJ4ANPGcA56bFb0QQP/8nLvJhE1b/////9F35SpIjswVLBAoAcVoRmm5EvMg4CcCZ6RsobmnxA72IWFlAeyB6WclcW1T8pKXPMjEa1cl2lq1iiQIjHV//rQ//NExD0QYTqMANYKcFJxDX6lZgxw3BpmYQOBzksub9EoUa0gAxKSSkgoIOS1xMQemYLBZKFLfLrf+M2ql/t//6hWX/+6qlB5zAYaqiie6rGnMOBIrZT////61YMQRAAT//NExE4SETaUANYKcCkEMZskHpnMuN0pEAYwUKCyoZRhuDWYNBQnBUPBQE91L79BY5ld7u/f3/1rpK6mcNEQ/DAYDBAJhl5Ay9ob/////0rCBibeLCB6XOSpyVBVfUIL//NExFgR6QKgANYKcF3MTyUQVmlVZSGyBqJIy1YaEvblCqSWZ3e2p12puu1KupDADoMmPCVGcQNcNe461NX////00azVU9JkCrsKGQMrOqKCSjMMkM2rAkA7BPYdkoi+//NExGMReTKoAM4EcC8F6RSpNBUScJ01IOkXLta9dW1Xef6bkjB1BtLwqqtkZlRieMNS5T////WqyhgozDIUBK17Zqpzz1MtHOaVh5lwF4qTfPFWEqL4Zo8QUgHwkjPG//NExHASCU6wAMSGlFfOA0EanMy0ZdOEfPK+asoNmIlRQeE2mTwKEP////cyymryAw0FugS1WeXwS/WmIozvtFGJGwZrgnl5VvLrpSsrxUEbNpUOcKO+tXeN29vn27tZ//NExHoSEQ60AMPGcGnVtC3T2/1UrKRxQgplxV////2SRKrhD4VnAkEbcZCqJ3GnoEXVUQlcanhHoQ+anNGbYr3KtjJ5jG6swMSWff+33jP3idNlKhZQe4IgIf//1lop//NExIQRkWqsAMPElJgzvO////3Cj1WcBKcJPJgseZQBgBIcJC5jRZ532bBkWGgGiCdGYGR9VJGnv3c9dAWRoHOXal7x6UYbPVhRhZDh4XjpH/KiqCwq13///6GHSYUP//NExJARqXKUAMvElL0w3MivCSYMoocVjCIqsZwKWCagIY8gQIjBIOmhGVv5trjYmkwvZxvquJjdBUphjTIwm4gPAQeERxG9f//zs0ewoAHl0f///xZwTA3x9aZIcJZi//NExJwRMQ6EANsKcKVUUUOUgFRjKodfd5q5sjD2BSaqo3HJ+8zM1cJxbjvTttla1Z806kMRHKMjngYkMv/0/30VUQoUcUKVz0f//8iqXiM2oOIQvAAIKMIXEgxgBYEY//NExKoTQY6AANLKlHA7jNvGYcjLzIMDmArVMXqO5tJmaLk6Vx/3sz722fKynZGEHOUScpA6FFMPdrrp//zKWZRRRYAUVVZzDuUBSZmpACj03kLGAELgDFgEXM2+FRmP//NExLASiZZ8ANMElJKJxDM8a6yJPLlvlU8Ey7jk5xaSyoXEppyHWV2ZaFIxBk7drrvp5lu0GQCclGJFIM2T3Q81RBMaTTSgEdCyIFX2qbUTAkVEyEGSEnETY0tNmM2q//NExLgSiZJ0ANsKlPOPEwaTFMt8lqma8VPffLV/M+1GujCdlrXnb87sUVST+Lbl/7ULhIzrjDe44MZBEGgUIBK0m6wJGGHVaFhOLRBUUn9ZTTFJXD2g5VAUPW6yrAzL//NExMAR6ZJoANpElPDpckKFJGK0BWDJA6iVErlnZYsKgIlNEtP//1oWBI5EihdmJwouRLCbf+VRqI2gmmkC0PA4sjFsms2I0pZYSMDJIe+nkceHkh/CwRvdraeQhR5E//NExMsSWRZYANpMcT0heATaWJWe/+N7TCh7Ux3Zu01VQoNbtggISfaA70upqIZ1+tciRhHTmFNsTLp8dus1yUxxYTUgcxPKU4G6TbmAZK2sGNmh1Tet9FLNb/ZWx+p0//NExNQSaTJEAOGGcKV9PUu1SjEATaYw8Sv9ptl3bsxZjMtARLhRKiVJVC0iICogUAhgw4oBFgOzkYq5ZsJXgMoyDhI+CpU6WFUA0BQ3HNJXPQofDQiwLMGjbGgmtDbQ//NExN0SmT40AOGGcNR06p8Qyo0NU82yg8gmRJPHVQLgHLFKmR00LzaKS3ksRnNich9Vx87eEEp1dIItHYjBwz8rizUqbvVWtnyS/9H89Eb7v5tU3i+zckFJNxbm2/u+//NExOURGL4wANmGTPrTu/+tQftn1nl3Y75eyttTqgrS6vW/WrDRDq0/HPMMovI/J9mHsEdHdjGMWqID5g4c3KBFNoTGVd4j45UJvoWJQUNXyVWLNT99jcsvdVX18P////NExPMXiPogANDGcPVIz/OX8VjcvzplsFVhLFUGSR3SVdOiyXnw8WDp/CfW1MpGZcKjSGqnNhFpQ6tZHI6KJpo54O7fCkhwphTZ6URY2Pt/2jTdy99FmHfC+96b29ir//NExOcUiWYQAJjGlbJWXM01W5JvVqk/1AZqtFBma9FjryAEhX0KrlVirMNCQWaF4lCGBqyEp5LZnsJ4MGH4tBfdQqnYKJBk41VA0NUucQw2tFpzfTdtL9huj/buxx52//NExOcUCWYMAJjGlZ4Md/wZsGN+/8ze75zlAfJbEPVjO6cor62cZpmGUOCr7X+Clh9XUEK8ljrtxlI9qSzZqhrGWH/6n666wjjqGBoXOnRKMUBQzCjysjLHgqNhokBX//NExOkTuYYQAJjGlcRK0yXnVuLYlZsSSQH0GuLYSc1EEjUOToyQG3Pc0hLFl4TRyNVllllcjI1YKCBOGTICCYrpHsirNYVFmwKFBY0aBkWJVC+kJCuAgmKu/ZwqLNxQ//NExO0VKcIMAJjGlVqhYi6LC/FhXWpMQU1FMy4xMDCqqqqqqqqqqqqqqqqqqqqqqqqqqqqqqqqqqqqqqqqqqqqqqqqqqqqqqqqqqqqqqqqqqqqqqqqqqqqqqqqqqqqq//NExOsUMYIIAHjGlKqqqqqqqqqqqqqqqqqqqqqqqqqqqqqqqqqqqqqqqqqqqqqqqqqqqqqqqqqqqqqqqqqqqqqqqqqqqqqqqqqqqqqqqqqqqqqqqqqqqqqqqqqqqqqq//NExO0UGL2YAHpGTKqqqqqqqqqqqqqqqqqqqqqqqqqqqqqqqqqqqqqqqqqqqqqqqqqqqqqqqqqqqqqqqqqqqqqqqqqqqqqqqqqqqqqqqqqqqqqqqqqqqqqqqqqqqqqq//NExAASqIJAAHmMSTgE/Axo/wHjyIndkyZMmTCwggQIECBAgQJkyZNMPDwAAAAADDw8PDwAAAAADDw8PDwAAAABGHh4eHgBkARv/D3kAAAAEZ/9Pd7v2jCQD6FBCADh//NExAgRYIo8ANMGTEmEwZpzlQETQ5EkSSaTR5JJy0fKj4CDBoKCgwqiBKjQNBoKCBAlBUwBg6HQOaW4qx744IjULRs6DF4H7P6qMUijU0kOB3nZZRwZXiLcY92z/K9X//NExBUSoIY8AVsYAHWqasbp8KtwLYFoYuDIeGoaIlxEFC8cpwxJ24wKJECBlMa8OJS9YFWvi7/L/dFGCBXYqz/+mnKqP+u8hnGt/7W4XsNIf/t147D3GADkBzBCgM0A//NExB0ZGc6EAZloALXdx5hJADAALdYkAGaSfx5DkJcvkuRERlJfxyHk2TcoF4hnHT/mZfTvTl1FSSCv+pA3dB0KCaCJ40W//VAkVHn//J+UEIHE1ZlylsniyxoJS+S5//NExAsU4WKoAdh4AKUYAhNasoEbOKastMK1C4qqosyT5twiMtWHQllLIWBXFCP9WPjsaMQ/qrPvyRMZt+z0w2OGGtC7eBrw9/N/8a+f8x/T6+Y7ULXddsAADLJssDu5//NExAoU+W64AMYQlCiUH09Ag/STZJNoWaWgkD3oV78vWjB0cZ4lBQUQsCzgyv8Ju9hyWfnK+Y0dFGVIfjkA8UgkPZsnl24X58uOCfW5xxRyH///6H4q/lsm1PYKYX+t//NExAkUmVrAAMPMlFMtx9Z1xFicTneAVkNVgkCqZ0WEqbT0F3Qk3wNMmsyYZtWZa0hxcxd5tGDHeDZLCwlEoJsmVUTt3vdu0/xTSkBwSEwTYx////11zIFOQaGvEjxO//NExAkUIXq8AH4MlErrCIIjnoyFWGkJRxSUwA+uFCn9P0IyR+s12tCq7eX8IrzOXd+l/6r8r8/+zNgDCdE09T3r3WtOcquVvLrmI7CPJzn//6bupd5FgY/SzG0HrjsM//NExAsTGRKwAMPQcIK0hBfaVYApeugJ08amYXp/DCMsiYAHrRkNUeQ4DQhos3JXg7yr3XXxpsDDhsg2H4rRZ7izxLDQmAhIInf//+LdStwwYXJ8JyRB5fLVgqMPCo3F//NExBEREQKMAMvQcKIeZcUJJ8l06hy7WWJXJElp7CbISSIfyHNLAC5xBD50bVY//1pvyahnNyQdKgL1ugsDRGpYpQwEih+hQCFmOPs0gl2EUnWcVALDNAioPO4vXffF//NExB8RGV5QANPKlFQvlwXJvIKCZLhJCcoMHVvj//9ftNKwsIgCHhoL/9U1KwkLQFI1T0MNYEJAu8rRARaLrG3Rispwnqf9Wr+94477n35/OLIghKiYnLoZUy9FxoUe//NExC0QMJJEAVkwAIT6Pabo6qd2LlPsVydS0OF3//+pfeXq4UAMnNuc+66vlZnZR7mLE/E1jw8mm7Egx8c5oyc0MyeOc4Pcoj2HghQQhzCVLVGgcYAmDIF8cKem82c2//NExD8gewqAAZloATc3NgtocslzYml/+ZHpm63TcxHEgSif/WfVN6CCbG1nRUbq0Pp9a16SCCtB6NaY72JRGlqb3/+yb7vQ6nc1KaEFvcxjKkiERusBsSF9GmS2MPTB//NExBASqVqcAdhAAI/ERpqlJMSuvH8LeWffjZiVQdLDUcHQ6DgGpIL5EIXlKJEA1RILWbBJVNL8TUV/Xxx5TAyz///9//9VpaBYIFuHw43gSXnWQiy91qYAe4DovfTf//NExBgSSWawAMJQlOSn9o9uo70xP+MF5rIG9wcHWp13ACkoJQjSNKxt/CVL/vWWf5C////+5e4vy//wioyq5ckozGwW5mTAyPNuAaBZ+PlN6Iuf4eb/ff95/d37otyw//NExCESUWa4AMvMlMAfkKdqMrfKJszjWgCR2hN4xeZ87ui9l/4QXmIa/SYge/TT/66f+2Rq1y2ACqFzjpjYpFaC2kyRUcJopZQpXoO6jWo/Jc4jwlprJx2ALFI9RcvO//NExCoSaQa4AMKYcL9gPZbP1Mr0z00XeD50gFQcHHBgMwSKBv///t////y1mnEfcEyFAcrHRSsCGoPMOAiemJK6R9pfLX6sjv57FjNdghPYROJvsAVAz1jk9yFaUgmA//NExDMRAVawAMsKlCUgjY4FZpcqt6lL6B4sRFWokkMw4LirEdtwpVDjHZQ24AicAbZAzA6R7NGjfJIkgjhgDJwIDSdGeGr2m/Jp4ZjgijsCzQGseWGXMaNFWPtX0q2U//NExEIP+OKoAMpMcIwOnukCxENRtbAKdaa84jWzaysPGdUMMWqCHcq7/z2MNxrKIJpClGHATmWAxuMsJ7uPNaA19+5zwWNuiUVwm2aJ4SzR7HkDF/gF2Pp+pBxwLDzi//NExFUSgPK0AM4ecRgCABGi3gZytThL2GI6V0eMnYrYrYKnbkUEgn0EQ9PkFdWJnIt62ezeKH6MOtsxkSlPf170Pi52N2bq/MlPDtRGRtq7ly6Sr2hHoHlyUA41FpXR//NExF4RUPrAAHvYcdzUMRlYmRhfM7FYAgVEQECzU5bV5WuVxqpRqUdTlBZ2Bx5W1WlwDSNeJFXUYHKa8wK/Zhum4emg3CRtB0BBkKbIS8dL10qoSvfMTa9ZVExIepFC//NExGsQqQLAAMPScFIomyWaLaSloWdRbY34X1NikGmZtjceOtjxen3ig0tffKrSzngWMtVYKVrphkucgCa8PUZTELccUJ7FbmayejQmbULciunJRccAhIUpJql7japb//NExHsSQQq4AHvecfw5zW/F8OadcSXo5UqE1rOgqV////9QdUyjKZTzZ2aGZRCECIAIYFeAs6zgvEwaHpeS5qF0tVZ2PWuNIp5wGPLip/lLY3GjOrPMrSCwRFcPPl7///NExIUScQagAMPWcGmL6GKWIlb///+z1AIdGh2JgMIZQqiI7Q2SBgWgBEmEgfaZmg8k/PcptkqXwqUhQFSTGSCgwOjDSyITB8VYyFQbWygVhRJ4jOyfZ0d//fvT//R6//NExI4RuXZUANJKlOoCPhBZgqpMEAi1blwRDkX7JKQLIG3PJoJEZfqaax6W6rUKnckJDCCwbWUJmBcCCdYwaKkRCQLKYOP0Dt3Xiy//9vZ//bRVGYQyNJMwAU8UdmLA//NExJoR0KI8ANpMTIIVxJMlBO2qSJaREzAGAzDCZgDBpYCWZvY5B4XNkycgQG3RbMown1l6rfT13vfb+v6m/dlUqgbWOWEUthCd0OSrDOh+ZJgNofKpQdqeZL685ktX//NExKURSMY4ANmGcJv5XOcSvZV7mGHlYUOeiuiIK9G+Kmzzb1VJew+nMPlS7C2j7O4CvXVYYfWklmliqUwCBuQ4qicnMxy06bK0pCINtPH0DwEPVKNHnajJtxObQlKX//NExLIQSFI4ANpMJDl61HzkVtUUfIYoZj2XsZZIopS3eaqy6QSDgNgyGlYhpFDGkjQaYvOH1zBBDpK9kCX5mHhzCoeZxT9+/+SZ2bQSd7r837kvZw7a6urufeAYsAcu//NExMMRGRY0ANDGcP+v0PGO1e2gEcdH//f34Dn0W8DPCJVaMcmMsQFaxpkdjiJBjAxmlZp2v8DgDEyIwTAGW4wglBgC2CWF3TTG4dpLEcFsHmK4JP8QMN8YMujnCTBF//NExNEQwGo8AMjGKAC4MRO/ymaj3JN0xPxhiQEwNCl+pF0zyy+dLo/nxxiIHcSP/N3WqikzF4wer//1N2oJIJo/zZFA0///1b7f/pm7mCbueZWSrGYSjgcS8CgoVhym//NExOEUAI5EAVQYAYayY5aZbSAMMLfdH+GYDpm6ajEzSQ7STsGdWw1DDcHZ2LBgpxcgwieBphBAXqnNc/TnOU/2VD08hCEn4hCFLzXRO+NFvFl1nGqzVpSFJGnXUZ89//NExOQgsyqEAZpoAIrrTZV7siHfX//6YsFAk5zf9eqPArRzmHnk1WxkJglWvonXc8WSeMFHKJG9GnybyA0FByeMhVN2WCRcbgRoDjhxiK1wYXS7UTAaRKBvBAA0ghDa//NExLQe0XacAdl4AEvso0IuSmiUoPFycjC4pXLrrQOQW2Wyh87uzjMUUGjCIxIkxuhzz7v//+xrWtYz//+leFfBSMiGaID7pGSoWAsmKksKCglmqOTDskXSy8ccKvLl//NExIsacXagAMvSlLa8x6t1FxaipbFCpGs6gY5NRC3yGSGNx7OWyyUx2Bc2MzJDKVj/ntgzLTFSe/XtalPyd3UWGt0d3vChzin//6Y7//9FSuNVHtMZB5IEU1rLX4QL//NExHQZWX6gAMvYlHLIEyluSAPZ/Ce2f7btRbwswb5eSQ4zjZTzocwBrHiTBKQopY2VOMhHBEhCIjJXl2J7HPe7V1tVd+M/rKBNDqcS5Mx////01dMZbtcISxplVlmM//NExGEVSW6oAMPSlIXxSzgFlnCWmDpGmvtpZtlmprOVtazTq1WyBwdiuerT4CGKOUQUQKcEBAJZpb2vVr9aslTIJhHvJtX7JNSkKjIRJZBBr8x1mEmgucVH9IkDWR2T//NExF4REXawAMMElX6r5GqncmLUc0khDoMtJH7J5yRBKgUWSo/Ll695//97/7/776VPuII///+hS8XqAIcQCdcMfhMynFtMt8o6tyQRMUy3Ms7q3E6fK2tnqYWUBlcP//NExGwRgWawAMJMlI0pMlDFFRaGHAqB0DuDMWr3mrpTe1t4bGDj59v///9C03cttRmA8vkuMcfLTIVUYEkBdUGelkN2G15+o3vnHLs4RGAkSJqyqEnuXpZPT7CVpJNO//NExHkRaXKoAMLKlGtpvkUki0e46lGs3Ejgxk7qgZ5dNIgWUMunmSyUQiUCuPonHmmdya/M/3fXLXq6fCUpjUXMQTjoi4xRMEOJz7pXa9aPMi0eOIOmiLhRrSK1f//6//NExIYPOQKsAMJScBKskoP9IZjTUeOvVbdCVQ8AUqvnoEiURrWj5nO/abOXjrTOlwMAgEMTchU0ZhgcjhWBV4SDDmPPgVoCg8BTojBk92///1001cCqaFwoWMjS0ZGO//NExJwSeYKkAMMKlOwqLpHQxLYIYAMyD4JGnMq5qVRqpbepU84BOgNgcPRrhopFUDOkGXCyjTbDMGRqwE8SimkVO///xEkAqlMQMnnBC4KHjEAUDCpehg0KoYYZdGsr//NExKURiQ6cAMMGcOo8AomWOJNuXjGN+Wx2MZ/Kp5lCTEz8RSmNMbtCgIoKJ8uu3ylpWkEKnRKutAd///yJVNUEFJt3efgAiMFMODVhVWLGbibofZmzpEOFTCqIOrlT//NExLERiP6MANJGcEWOullaVVrcVQeCk82QEDMSqfFjxJ4oSzK1alQqs7Iz1aocAmHMHqQpTJruCB04au8y1d3LXzlgqKXewsseuk+ecLDUpSWKg2H67WoopuW5tLPV//NExL0SiXpsANpElO6y+r965Peh/9javpozlTOrJuEHqW1F6a9M3KTcSKB5TkGKeTqM5uMXQPe6q9zLdlXIhMl/oNSIHlbMLx2+I72x9uZe5p8zu/zyhXHfHINu1/CP//NExMUQCMJEANpQTGBR74Xj+Cff1x9uVDL28KQ/uiofSglQVgXlavS83S6pr+Vz5kXQoNdwYsnGir0BZjDNtrGjNph2I9/Zl+3YyDNDZkI2eDz4dJV9DlxJETHy/w/n//NExNcPYGY0ANMMKPvlCLOHDPO8yDMRZpSIvhAIKciLZUPFsSZKU64w7B1FBmk2dtandbrdjKSBQWOEMEh0eEw4f0mZovQt56ZZf3fJTK0mpJtT1zUEsPI/QkVKQklO//NExOwWEQogAMmGcZzien/ms25G4oXK40Y3PiH2IQhD+1Zclq6MWq7ub929ICwCUioK7rSY3S76Y4khQUVAVcPAQXFy5lQNKOpIEigarFdi3oLnUWrUrcExAo01ynGh//NExOYX6noQAMDGuVYV7ySxyUDQFS1zoWMWCrlKK08s1FyqCpOtdoXlSjDlazM7LXwaggwag4xIQUHRO1MwXTmx3hRNSfVnmonyrEJKG9m34p8urbtztr+X/awgz/27//NExNkVymYMAJjGucq5n3in+5aORXwf/z6qAzWT00Ys0+VjlTlc03aMRGcGebMjtCHcTKTiBTGUpgnOEdKiorEashsxEGfX8Y3LIPW75yKNSbISr1Ud/Pkm437pbXk1//NExNQRIGYUAJBGKP/ayS7vB2fOcr3f1Fqu9g7CqgaZGNImKO1Pv7Yhq9Gr4Koksjk5VGonabpuHaagoK5H+zrVYwqNeVYwVGp5rDUgwCAoJFakICoFLbHnXjKSQNhM//NExOISUKYQAJhGTWdkiSPSTPS06kkRLEj1n9o41UxBTUUzLjEwMFVVVVVVVVVVVVVVVVVVVVVVVVVVVVVVVVVVVVVVVVVVVVVVVVVVVVVVVVVVVVVVVVVVVVVVVVVV//NExOsVkS4MAMDGcVVVVVVVVVVVVVVVVVVVVVVVVVVVVVVVVVVVVVVVVVVVVVVVVVVVVVVVVVVVVVVVVVVVVVVVVVVVVVVVVVVVVVVVVVVVVVVVVVVVVVVVVVVVVVVV//NExOcUqSHkAMGGcFVVVVVVVVVVVVVVVVVVVVVVVVVVVVVVVVVVVVVVVVVVVVVVVVVVVVVVVVVVVVVVVVVVVVVVVVVVVVVVVVVVVVVVVVVVVVVVVVVVVVVVVVVVVVVV//NExAAQuKokAHpETCMADwnomZls79+xggGBQSIECBAgFaNGjAwMDAwMAAAAQAAAAACAMDAwMDAwfBwEAQBAMI4JnwfeHxjv+JwfBwEAQDA4njT9C47D4hSy2UwzRz2W//NExBARKK4wAVkYALKtfyrXd4/esYcwM6UKSlEzMUKEhcSi4LAwx4UD7bR6+KGTLJKNa9gn31W9tTkojaWdHvy9FlZC6KIyjtb/93se8z7hvc25h/0TKHu/2q6IjKb+//NExB4XwypsAZhQAP/p/3mdmSbPf/9Pc008fj8sNxEGf/3P1Pc8889HKiuTGCELheBeExB//58no6WaenPFIHxgSBuKgiwAAhXDokCEE4JHf///////////////7/76//NExBIVyxacAcc4AUxT1stbpMV5ijhdnHR5hQw+OKQLKgkHjQIC0w4fMWVJmkxLFAPBSNyITmBADwRBIKAABsmJBYlEQsC8gFBoA8PHAGCx8ioLf//////////////5//NExA0TIxqoACgWvbq3X/dRvfxW5zTr0T96cNNmERr2vGwsetcJolRoXFw7z5JOsIDJY/nBBY7QIlTEtBOFhuHmhoBoUx2Ln3mhsKoKn+f/+b//5slkr+XX///////M//NExBMVWxqsABBQvVcI79xH1X///FTapbWyUo+KUYP8VLPyi2a6hlpCBWToceqOGHFHUecA8GpBwSgpHDRFBsAsI6jRKIqWOD2iRDHkXNWGj53z5eg7GPEUYieDkyep//NExBAWMtKsADGGucxjkz7/7v/dPn9vd1sNmv2fw3z3K2fHy/v3OpOFQIBhg5SY8s7z5L/W/sX/jZLJSbpMdXPX8MGNvmcZgwYwrOv/BUvqUuBWHjW51Bg3QDEQXGlM//NExAoTsQKsAMPScBlntjRXFLdm+LeZZOy4L6wciGo9qdIerIKsaGh4ICA4RvnFvbudVUI5kMu6mn93sAYrW4SPYwsw2Jx4YDRJ9X///QMQRdW44RqU9D0qRT5xO9pV//NExA4UsXq0AMYMlLqqqo1X4BAsYFjMAIQ/EUb3UubYlAurjry3jxw9lcnMv/DmFR8ep8I1dxvLI+wHjGIs2b/He5Z6n89vK5KN////ejNPpdfKwA2L4PGvbOuqndxg//NExA4QqW68AMQKlDSqJJNwGY+sgZLJLD3S6mM+HumqYuitMDJ5YfMWq41q9S4wyiYSHqYtDaFZC6CrEFAagk9a12iMjWUsY+IhJa9/FyuVAUNoYoopp+H6cUVtLi49//NExB4QwU6kANPGlfftoalCbQVT+pnvxX1hRt4/wjdG9PxK4yrVEkZeq8ZsKJ/JoZ3GDCUAmAI238FDorBxqjbxgQK3bQXD3TqV01OOMpObtw8s1ygHNI5QssT1KPYv//NExC4Q+QaMAOPOcFYWvFWxVoguCS5aVsUfW5NH///t/yGtBKdxkqcJhPaQkFARK40FA1UzDlvxdHsZcIfTStvmG6+V2jdwc3OV+ZvKS/I/ma3T8YOtgakOO013ZQeA//NExD0R8RaIAOPMcFDbd6D7Gf/Nf+2txlyBE0XGSIIv+VRqTFyGJWYDBLVup1rEM8nLEhNt0XW/mLrbbFysxi0EWo+HsZxVSFNcBRUmPr+oclVZHXRd/6AM//oWzZQY//NExEgROQaIAOPKcDr5kkcDk8vGdBhQqXiARIZ54rfrNgFB8GwICVoF4gskJBd5AWIvU5jkYNPKy1r/Ttap5oVTSKxf/1ke5SDinz4looifBMgLrwgrRmSLa2/i26////NExFYRMGaEAN4SKP///7uceImcLP/cz0L+voddKafCeFXPoc0r0Wju7u77gFd33Mt33CCPLlFvAMH/g6B0M3VDFEDI93//+//5f8z/88x3maXnKT+T30YrsP5NjikV//NExGQRGsaUAHgGuVevQ31qCYfVIYGDiNxIXzcQDAkckUIgJktBsTF5wQY43GffOy62VjAqkoxXEssOyIBZBMeB8NSYAQmmSI/cVrz0qGGBOHxVbHMPCmP8Sxe0SxzF//NExHIgaxagADhYuYXjRWnfvQkE4sUcKi9O+ALQlLJ44t3nT4vHZRkSf4x7LzH//Mzf/5mZmcy0FvXsOdAwsbaJi1fTAeNEMhFlP4kEozZaXRJCcfjqYrxWclheniuP//NExEMfgxawABhYuT6dZZIfvsxL4VjKEX+aipVdbHkI7dVWq5X1qWjJ6UeUlR9BE5QSl645jKonF0tHrzbz+HMG5ZzKuPVbxQamguNAwIZBfJMr2NdWVbI7ERFQMb9L//NExBgWir64ACiQub/+sgNamP+e/pUHpYckALB8MD4kVNYkmpFUyix0//rHLcar/cM0qsfDFHT//tfNcz99cWvDTQtBxQslVOlQu4CohtWguhZEcqMJQFYy8gGAPLDp//NExBAWKXKcANPMlH/LttDlEwvqswBN5JS3oXcn5C0+fisZGLsMG3eWhYxt9jXvfPv799b/Ix7pdnVZgXzT1+92IZm9USVTPLP/+rwdXxBemjT/aLr7TxHBUwfTEoQe//NExAoVIWqsANYMlAurQEJMun3rIgc9QjhmT7oVqaplUVvy59l81eW52rcjP51L+vra3vD9l++byv8T8mrOLKqwReJDPRe7oW7lIZz3KPT////ix0IBuv+SHctawJAF//NExAgR4Wa0AMvGlGjkfFi6manbbfIMNawujF+SeJbDWKVay/X0cvmTf3F+Zdcm5f/0PjMEBiUECmBtm5LR/Ca0AYCHmf///0MDoTrKldo6bGjdtC5Ut8VEpeS+VsIh//NExBMR+WaoANPKlFMkydeg7TxzpQ5gIhpq2E2xlPT9vi/D3Xa7fi1RI05aFaJliAGe/Tbmxoqhw6KzH///9tEjhlhRCgmXYxMBwoALaG6gpISsVcaGYc0JEv4K5IqD//NExB4SMQqMANvScIY/tepO2lycoQcvFZoUo11JWgalSFlNaOKSgXrSyy3a2mDwE9P///CX/62QsnMGDQ5MbygUMuMIFxEuKlgPsHaCpx5bRY4nJgE0R0iscsME+oas//NExCgSoQKIAOPMcNtaHfdS8JeD8g7bbMORnFvAORBBoMWfN1Ogc8j6f//7//6VlTCQpRGjiKgwgGjHiVThmRKKPNeIEtF8Gq/bC1caL1mA5HJgR50r62hLioywRybR//NExDASgP6IANvScKT21JObVjqqckKyayIuBxaJocdZZGA4xtHrqvgBI4Ian+MKSB4uUeMKHAcIqrmDhZSm+JZUl/HE+NA3WQ0D/OguC0/nUMtnokIDYOW4mmsslLya//NExDkR0QKQANvGcLBqKFQcrvFBZX////1EFb78Gd5F6AqROuMaerIPY00wClEixbAXrxWCVU5KEOE/BGjiMBVsicizQ5omVSwofmrZ2HydWDDAVg9/uJkk+7///9iV//NExEQQ4O6QANPGcPkgMvWqBeesNFUEUgbGcJRgincLWy+a/X4XpAa1y4qyxEBStccYjEnr2s7nGKRPW+s7vkM9CFAgoMF70o1EjmOYKuNzCTO8NkdcVGrChMUCY0P4//NExFMQSTKcAM4KcSKwja0JfCfMUsS5YNTGMlBC+irYDkM/N3sN1oZFvJcjMpbNiJ6kGOa+kdwosOEGhxDEqU5////+qqy+Q5kfJ1dUxh4sAnk/h5VwgMpuXPZQgxla//NExGQSYS6oAMYGcFJTifMnJjq8ZhL60upKXMxznfQnJ1pvaaFhhwzKiHVpR2Gd5JrChfQ7///9wXJpyXgRpSlFiQWiM9T/wGl8sMIORAtJcxNkNOApkEfqjFhEJDGD//NExG0SQTqsAMYEcGBTk5AWG2GUWGldKNZGsr3peuqQiB6pShUqBT5YMRos/d///8xV0SOKYjNRrrqNsm5L2u0gwRvnPuA+S4mQ4H63uENTMyeH0bg4jnRiplgTxs03//NExHcSSQqsAMPEcGxvHzvGat0O5cz6bp7f8/q8pbR6JKixsVb///8ctUqBVAEnRTaJGB1tPkwJXANASIvqK8rmAbzGyrxKk6X2K463Ci7YaHNxIvEjezdUyvsGZ2DM//NExIASoWakAMPGlGhE9UWAjY63yyhKAgmKA6CRN3//+Sz1Ck/BK+GzTfTSgmbOKsOPGFIDTBaLXoHU9Cm5GH6QUcJNjKcYP+d1rFnW9MES/3j51WsWvJHiCsUWEQDd//NExIgTGRKMANPGcAgkYcDV0v/Snr7XYS59v///9VQyaSDfYRIIOwciAWgSJs7bmKAW4yFaDEhmgLJS8cHjye9pnfnMuDuePH9RcpFRzxr1j4M7lCRgWNUvd/mQ+ae4//NExI4TsYZ8ANPElH////VRbuZruCkZt1IgLHTPgoEUDyQiySK5rFlNIPIaFTCk8XlLjWu/4lhWWxfDuvbTrWc4pblMdlFBRIWvt///ocpwoMyw7apE43noprHePmDH//NExJIQ+Q6AANMQcJg5RgwpdYdEwO8WTPpdJSQDJgsu2hiz8Yl89JaiXFPv793+GtZ3mdVXOKoDiUjr//9KXmR0HoKNlioEDCswBgqM1l5RE08PTAgPp0+WOt/KXLLC//NExKEQyZJ4ANLElSRBuwaWlJKbNylnucjYIzF52x3at7a77utu03TdIKQQlD+Uv/fnkOLjIoDLws6+6hYAOdRT3hMxs7HRhCsFBVVjTsMGisdmMziY0kRBrolT1+3q//NExLAQwZZsANJKlMjUnanKKKNf0lVVjhHVzI0VB1I1NWcq5VinpzYNNmYxIwwKp49r9QoETO03NyA0wIBDBwXRJS9byBk1AaIwR/U1XUXiQWoUjzSBJiyJYMrCwq4Y//NExMASURZgAOJMceQYYaYVeZKxYtAKWT7lDTKE/pr3/0L60FEjJs8yorJARfS7giSLoXEPb1GMFUUVs53LcFRKUIlgEOAq1HlCRolE4cBmKm1hB6nqoYWXESVdtDdK//NExMkSeYpQANmGleq+5T0fuTZnN+/U/RVrBvPFeKYLlTVqTWt0lVRulgpSC2uC5wt6989c5WpxwVU1cnS7TI/oxlhEKw6gRKQn52eUbTrlmvcV0KN2OtEwtujgs+mh//NExNIQ+HY8AOJGSOLWOcKnXcqqIwGGAO1ANLGb1aNS29vudFEPA6kMYIKrM2R08zPCiVjrUxmJfl27kMszqzQrw8+1t9Yo72LqSO78RX2osDdFIy7wLoKDDOX/5CXl//NExOER2GowANsQKCX/o/XRSn+y7W2l6grRPTXvVWnoIIJxLMrBV4roR1zA4OLBCMQbO+86hDlitV4CjKUYzinyLGc9s5TNabS5PCJYhK5F1TLTWrLlQQQx1JJ7/P3e//NExOwTSP4oAMmGcPX6ebJ1/K+a3m4V/LWvqgZpBls9lI2ZkSQlVTXFMTKOagxaMHotqIuxJc7kIJ3OCMrSRBiXCC0Z1uRQPs/0zhhM+ttzWfub5/lx3PbRcO85hI/o//NExPEVkNYUAMDGcR9Ymx//dT9oGpefvxcRP160z5YK1brU9S00mzQQSjaHOAhyJbAdEASxPM6b61yMNRDmDGc+sGHKBV2XoBjdeHE8QEl4LiB2Tpc49H7SfN8Od3s5//NExO0VYgoMAJjGmRJVOm5HNw4/fwbjPtaE3rWu1QZpadNmspb1uQNNjNXVA3ciN1GWE7PubI5o24gLQbRiGspnpk8r0nOLSKGGeXOOzbFn6MUsGYcxoX0kE3PS8d13//NExOoVsgoMAJjGmT5Souh06fShDwKBhdjhc0TVA1SGHEnWxzcXzbeZ8FEClhgwGOTLHAnE6xto2wE3DpVV/hRj5lFJjCoywgxjAaJFjx0KlZYkIlHlHioiiVZ5Z0s///NExOYUSSoMAJhGcZ3h3UeLOfBVk8WKiLHu6tZZAFwMkMwXMsB5n0tOOrQYUsIhGhkZKF1E1io0MjIwjYbzcu6//9Xf///3YxQwUECBkORUUECVFqiggQkf/wKFRYWU//NExOcUUb4MAJjGlCwuK///4sK4qKC1QsKqTEFNRTMuMTAwqqqqqqqqqqqqqqqqqqqqqqqqqqqqqqqqqqqqqqqqqqqqqqqqqqqqqqqqqqqqqqqqqqqqqqqqqqqqqqqq//NExOgUsS4EAHjGcKqqqqqqqqqqqqqqqqqqqqqqqqqqqqqqqqqqqqqqqqqqqqqqqqqqqqqqqqqqqqqqqqqqqqqqqqqqqqqqqqqqqqqqqqqqqqqqqqqqqqqqqqqqqqqq//NExOgT2W10AHpElKqqqqqqqqqqqqqqqqqqqqqqqqqqqqqqqqqqqqqqqqqqqqqqqqqqqqqqqqqqqqqqqqqqqqqqqqqqqqqqqqqqqqqqqqqqqqqqqqqqqqqqqqqqqqqq//NExAAQ8Ho8AHjGSToKsDOWOPAeRKO7gYGBgYGBgAAAAAAAAAAIFi3Dw8PAAAAAAMPH5h4AAAAABh4eHh4BwAAFY4eHh4AAAH//+PAAAzBVME8B7hDgXSRyT6daGn2H//NExA8RILI4ANJGTEDIBQqCJKIRSQnBUs0GBChxxKqMQnW4ImaAsVEKAVJB0GiLzQwNOaosRY4aAUb7uh32I/HepTOfj2vwcDYe4EDSitBN2hytVbOd36mWN3WH74Qz//NExB0RyIo8AVoYAFMNiwuIDQ54utBRKxRdoFFASKmIuZoY4l3bkk03Vp776fUKbLH2e5n7DCoyoyLNMOU4/1WTh0tfnQ4J06eMIJYMAEjGGE08AXwBfDfEwFqABICt//NExCga2m6EAY9oAAefiWDADDj3Nw5Qm4kpeNP0GoIIIDzQNE1/zdN2TlwmlMoGZUX3/6DJl9OhmqjpqUzLb////UmggZudJd2f/9Y80Jl1096swLER+i6zFN3VfEEF//NExA8V2VqoAdl4ABeGRFUA0iodfGSOBLWRr309adcuzCoNqMfAdF2oYCV03qPGH+/fW/mfWX9sMESzAhkWjyfN4/99/H/+/e+sUicEHC53///2csr95jW/wVQebswu//NExAoTeWq8AMPMlNqXYuXpikgAFKlXQYFqjnV06QFU9XAGpB0xj/idTxvAcfl/vw0thCtjZPCkYBEWhWvf8UzZu2zH1MEHk9M2Lf///vXV/KOg5FXS0r1tsDzZQQjj//NExA8UyXK8AMYMlDvCwpiUYEBnBwjiTNWhT2+WBYkr63NqkWrvxPfMUvM7HcLPeQ1mU3FoqABNGU8jGaP/vZ8hW8tLmOzEIOBMAO///xy0KsSjIAIXmwxXC4nEKMGw//NExA4UEXK4AH4QlO9rQL4zk2JKlF2RN7qJoGy5/Eu6WYRBhOpLLe1KXmpTzVbLxnwTUlNiEdZQAUfB/usu2jX36NkNBEqWLPAt3//+6irVgcML6uRhMaedtndlrAZU//NExBAQ6QqsAMPQceuAvji0T0yYi7IS4xhun09ArCWem8ZR4oCqmXhm2Xmtvhask2BoqQQDYfCW+3wvOfkcVK14CAcdPMB3wCDJ1IrKFAwSAQCpUQkFoi+yeVS1Kmma//NExB8SOWpwANPKlQ5a2hCi4jlFhVB6oScO9Nu6wa/OrbzrehuaaWIwCAI83/6IpY0cUVym4ioNDQKYASmL4iE9Sou1bWNBC5n6HcKVhdH852VyOteLa77xVM/lJEAk//NExCkRsQ5IANvUcERc9nv1v2pm5qETiJUgEUcAjz45jVFlnqn///9vriUaM2FAIKnESq/VJL9e7sCJo2EHP9XAYWikSGoUKEMMBDoGIrhlZgzUVUXnalkhqVlV18v0//NExDUSWJI8ANmGTPx4uJL3G3sTrKF4vc0ehf72pXoilUKIQb7MW8uQmC7fKNjIOecRjfHMt0OBIJlf2951fZZy9e/y8uAQEQGg6NmZhFAo8mnYOEOAwtsPAYXj3uH7//NExD4XcW54AHsMlBDIXvvf+7EEIiELfB/rD5LLwf/VPggGAQDJMvc3qOCdbgH7TzMFihqD8acOLvtNTsWZXBCJb0KVyZfTUVEVweRKOaKVsSC4QlKrmw/3SFI0fqQS//NExDMZQWqIAMPSlGvyT6ooXpsKmwEIww6yRiflLdqMr9XlV5dJE6yimMPe5q7jrP/FDYneLvVSkb1/9LmqmIu7geYpTFoqXPadKFEwcdaZwZRaXDeSr5Jh9+98EH2E//NExCEReP6wAMJScHaEAIawMEklSd9+cOXFc9IDHpEDiUQKD5S0nf////xP///Lhhb7klIYXF1YQctVn1CCKv3Av7TP1Pzf5Pegd4Hi3ksB+Wqj2CTTxDMmDBGyAqJ5//NExC4ReWK8AMrQlHCMdDnfC+97j6hDfY36Omf////qq//8M9cpzIEifOXwUv+qzBLcM44F+RZcwTfk9zNySw9vNwSCnNw0DskkDsbQavJQJvgJRdCEP+PhfW+TL827//NExDsR6V60AMLQlFHRjLu///////9YSLKAmCN2C2xDKLkoFYKVwCVRTlP8CQ7WYHatUwun0OmrR6XnK1JpEcDWwLCa6+bQqapYVdNDm+VVX/+/1/UtqSI4FoIa4WAG//NExEYQMT6kANMScWr6CEAFpwAF5nACPbDKCcoCNqbt3kCkHnR6JEqoLclq3E5SuKoz5bd5q/xnSz9NXzlbtWE5VYQnIcMAs1T3T1RVb/9v/pVv///ZTZeVGhv/Ra11//NExFgVaiKEAOPUmFWPCnB4Guu4UUrUGRhUjUvgl3HnQ3wAW9UhfyGxKt28Q7Vur5rTP/FP6j6nnXSvo3UUQqkgCLpXDy6pRoIAff/////6Fcoi0o/b9sE6IxAlNdwC//NExFURkP6MANvScJ8wY5kxMAEA9F8E8CUeAcATS6opmswJ6551K2mVP0+KROtNjFxkAHGHIU9IJBhzP////YhP//oKKrr6BfM6bF3rYAH6UKjZtcyuZUZQhm0ywcqG//NExGERiQaYANQGcKYEr5SuNdrxulzt2f5lMvL/lXskW22zJRTkd+f/krVwATjP////JF73f8w3OvrqqzRDVHzDOXXPCGc5S0+ZBmziiR1/UjwuGIOH4Ad0HvDmCimq//NExG0SEUaYAM4GcCRQ/PLWZJVt/U+lq3tYzmEp1/9DoosCEkDam////4TcP/5VyCWwreDK82IhQFgAwAS0QihghyDi5UxggaNAL0gQDARIKAAlgDSJsFCIg3EtKKKS//NExHcSOVaUANSElJdFT///M/piLX//o+InGgUJP/////y3+IUuoIWowSMVNOpROxJNUXBgkwqwyAkYAIAneWkpcHUC9Jg0BOi6PUuEsZGy0knun6KLft+XVf0Nvo2p//NExIERsVKAANtKlFUMYoCipSzzv////5URDwzCFzEdAMygAxOKwSNgMDwcAQcDRdRSYbi6ZokeI1tuMhMmaxTZVNn193pMOiU0P3mFmXPeSUbFCh9JB6bXHhWfard///NExI0RwVZUANNKlOv/jFIQRDURz4DlKAYpMgFENLirln6hxdIyKlyQcIEnCwXIAm9gbDQwVUBUh2Ytkow4wgvX9X9ftUypvR67tC7qPX/VIahOk6jWaMllNM/dUEIQ//NExJkSaKY8AOPMTFYTTJHggMMA4BTHIQAQsSgsGhQghjVQgWzEAPcr66qqyn+zfHoovQ762Mq/pSmVDTafVJrX5pw+t+wZBIAIvJy8RR/Mzg4QyOAIRF7SNxfBX3G///NExKIP+F44ANPSKAsAxCfusa8mtRQ+H3Ew/zjPJhiB4JvOAgIBZ39/dZ1agAcgQTBAE59CyXBksoD/blYsgJABwVjnBT6jfKB8dCHrtVNEa4thbBXy5FtHcaA5Qywj//NExLUPQIY8AMmMSIdSLsYAxGNngKx2wVeR3l5KeHd/JWHvMTdbv7J0hcXeuuI7Yfv5SDQ7cxCLbNi4w8qiEOen7uHvTI8Qnr3vjP/f/z39/xoZ4z//t+6btPF7rswR//NExMsTaLZUAMGYTNiCB61d6nhxuSiK6BBcGIlxdhpnWqJGyOxQYClrl4kE7FYVTGZSAA2jaG6dY51yX0pDROESxYTLVdVPLlXxWyV5WfUO+9UnrbGEOuP1LohjQxkK//NExNAgstp8AHvMuQJVbFJ5SAdmROK40KJtKB05Mnn1+VE72L3Pb9uqmQm6TjMz9/6d5n7sfbvKr6epmqpcSN53iqiT5O2VJoGgCnpfTxSkhiL01h5HUjp+vTUM4cKx//NExKAhqs6IAHvMufHDrLBicCgfk5wZErBLPE6E99sS92nEiX8OSg4mKhvJH3nt++m18Z3KpjrRr7n5Wy1I7tFONKlhFbI5N+6FV00oa/QnQuCo4ysNAKDTI0uVvHg8//NExGwXaaaQAMMMlNwwl1DJiRcyFxK3kZ0Wi5BBE8QhpTIha5DjRpIDFSCEPnkZuPxxUjjJNbW8atE/vmPhsrIywmDECPi3wMhJ2UkJIVXASsgRwQtRanYPOJobY6f///NExGEbelqQANPEuP///dbHRmHLh4Z9DCPBeZ7YtY5CVMmXXgov0yZSgtcjuXGTSLMOwGY3D1k2OYXA7iVzl9LEtksIMhqFCZtKJc8MmGPbdNtwo/zCgVn2/uvU0j7x//NExEYZ6lKcAMPEuLD/P5RcioynciKQScGCIJOHtPQs7///////VmpFBQiz/1rrsjULBaJ5V92bjebaVZYXOuQGNDAbbYaBXF0LjARD9WIUaBNU+LkvmzCU+Lv9VxTO//NExDEUYXKsAMPMlO9PUdsx2MuCgsHTxHa7w2bWOzb6yW5fbWTQOd///+l5OsmAS1SAMKoPGRWPU+XldrJ7kaMsky4BMHMSByTClYENjoJlIOVpYT2XD5jix93te1/b//NExDIRQW60AHvKlZmRrXvWNwxkmvv9ZrsrHQ46ByqopxDxpCjPZBty3c8Zj6YBiqAXqGgQylQtxJ/sv7if74uiiHIeQwmFTQa4z7/Pv6dDzzyyyyI64C61a0knI2uu//NExEASAYKwAHvGlbqbEYyiBW97xZ8i3DxWe261O72ETxduSsWTo6yEh0GU8OaIYyLMZdniXQyUMOlZVs0G2LfH/+P3vf/0WpnMeS3v7KqlOYgYEhjl////VVXJYAWM//NExEsRmXawAMPElLEQHQL72SyAo3NHmXljFxIOHSSggxYCDPyZTGcwn+njnXUN8DBIecc9OjPf/9WvHoPShjGHHvCoHFCg4KAYNqq///0af/pVmhiykiWznNPtwu46//NExFcSkRaoAMPKcLeahHWStFNUMUviKcELhK6Aq40OCrnJLPI0KM2Vz8////ff/6uVSuCpy9r7IlJUKzFGdSi37f////1KmArELmDR9hqMjBZFIIajd2GXdhlCSYkQ//NExF8RmYqgAMPElF9MklKNi6hWfVYVDFYmJVM0atf//b/9Kf/2Z0czlNFX8yGR0UKJCixp3Ev6///2f8tVUBEtYPYByYxC01xdAk/TpSiFbUXgFg0GiUQsszTPUTIW//NExGsSSWqMANPElFa9GhMRFBVzLLQyPq23b6tKikEg8IAY0JV2FiwFeKho1ahBX///oQQYnNfJwBSWnMaGR4JhyfmIrdlrucYjiPj4SiCHqo+k6VW9MTm1pQESGOJQ//NExHQR8SpsANJKcMnuVvbVFvT2QxgIaYALgmMeDU6HQ0RcBZUrVV/2/pWTHcYfISdUnrRKmtMulM6zqFqJUSrVQoM2ciND/vU08VkANveLAqBGsUbZAk0g1ecfbRUr//NExH8SoSJAANsEcNjaf9zdqK7JJno+3rUSIM+A2woU/1fGrZ3yaRxqLLBUZkJzTanHwwkdWTS9CZZoGeVlVIiyXxK6SY0U5ih2lF9W8qjJFjzbupLDDHutJPOlaB7t//NExIcQIL4wAMpGTJUbBmMmuj+5kQbkRDMREMwHnM4WgKJDsJd03sPcVh1ooxoKFXseXWNCDRVgaCDzH3NYnVbcy0o69tSC3bJ7BZNB0ooGUv3r+UxexlS53OmEkI+g//NExJkSAKYcAMmMTMuKmV7ghW1nxKKGrMWVJxLBo0aUTcueKFXsABpIfHGEJWrONVxyz0rcVSJ1XoOLApcIF670h56wagZirPW9bKE5GSJkE1FHGbNflhrmd1sVcy5C//NExKQQGP4UAJBGcJ8NSyI+FMxBlgFOGyJ0PlCpUDEZAgo6ObdlpVKu0ii+9RZj9LY8psUpzi9VBmMmgmptavEcrM276+DpkvQdIxlD9Zu+Y3vcMACVrThA2kJE3E2L//NExLYSMSYQAJjGcHBdw8SD2vOshSZth+kUs+livii78Hsha4ARatUkJip5+4vocWFB1hrGtKZNxtVhqX/0jpBjuRiKFQEMU8RQVnQ6DTxKWqrGFkFXN/Ku4NeInytR//NExMARaTYUAJBGcNJM63Q1oh0kR9QBuCEiyD1lgONGLayrW5+6jV/2I0IJGRmQ0//+wiMjIjA8jS9llsss/s/+f/k1n+RrLZSMmWSzI1lv///+ay/5kyyOhkyhgYNH//NExM0QkO4UAJDGcEMmVgwsHn+KijUAUVpMQU1FMy4xMDCqqqqqqqqqqqqqqqqqqqqqqqqqqqqqqqqqqqqqqqqqqqqqqqqqqqqqqqqqqqqqqqqqqqqqqqqqqqqqqqqq//NExN0QOLYMAHjGTKqqqqqqqqqqqqqqqqqqqqqqqqqqqqqqqqqqqqqqqqqqqqqqqqqqqqqqqqqqqqqqqqqqqqqqqqqqqqqqqqqqqqqqqqqqqqqqqqqqqqqqqqqqqqqq//NExO8VYrFgAHhGuKqqqqqqqqqqqqqqqqqqqqqqqqqqqqqqqqqqqqqqqqqqqqqqqqqqqqqqqqqqqqqqqqqqqqqqqqqqqqqqqqqqqqqqqqqqqqqqqqqqqqqqqqqqqqqq//NExAAQuKokAHpETCMADwnomZls79+xggGBQSIECBAgFaNGjAwMDAwMAAAAQAAAAACAMDAwMDAwfBwEAQBAMI4JnwfeHxjv+JwfBwEAQDA4njT9C47D4hSy2UwzRz2W//NExBARKK4wAVkYALKtfyrXd4/esYcwM6UKSlEzMUKEhcSi4LAwx4UD7bR6+KGTLJKNa9gn31W9tTkojaWdHvy9FlZC6KIyjtb/93se8z7hvc25h/0TKHu/2q6IjKb+//NExB4XwypsAZhQAP/p/3mdmSbPf/9Pc008fj8sNxEGf/3P1Pc8889HKiuTGCELheBeExB//58no6WaenPFIHxgSBuKgiwAAhXDokCEE4JHf///////////////7/76//NExBIVyxacAcc4AUxT1stbpMV5ijhdnHR5hQw+OKQLKgkHjQIC0w4fMWVJmkxLFAPBSNyITmBADwRBIKAABsmJBYlEQsC8gFBoA8PHAGCx8ioLf//////////////5//NExA0TIxqoACgWvbq3X/dRvfxW5zTr0T96cNNmERr2vGwsetcJolRoXFw7z5JOsIDJY/nBBY7QIlTEtBOFhuHmhoBoUx2Ln3mhsKoKn+f/+b//5slkr+XX///////M//NExBMVWxqsABBQvVcI79xH1X///FTapbWyUo+KUYP8VLPyi2a6hlpCBWToceqOGHFHUecA8GpBwSgpHDRFBsAsI6jRKIqWOD2iRDHkXNWGj53z5eg7GPEUYieDkyep//NExBAWMtKsADGGucxjkz7/7v/dPn9vd1sNmv2fw3z3K2fHy/v3OpOFQIBhg5SY8s7z5L/W/sX/jZLJSbpMdXPX8MGNvmcZgwYwrOv/BUvqUuBWHjW51Bg3QDEQXGlM//NExAoTsQKsAMPScBlntjRXFLdm+LeZZOy4L6wciGo9qdIerIKsaGh4ICA4RvnFvbudVUI5kMu6mn93sAYrW4SPYwsw2Jx4YDRJ9X///QMQRdW44RqU9D0qRT5xO9pV//NExA4UsXq0AMYMlLqqqo1X4BAsYFjMAIQ/EUb3UubYlAurjry3jxw9lcnMv/DmFR8ep8I1dxvLI+wHjGIs2b/He5Z6n89vK5KN////ejNPpdfKwA2L4PGvbOuqndxg//NExA4QqW68AMQKlDSqJJNwGY+sgZLJLD3S6mM+HumqYuitMDJ5YfMWq41q9S4wyiYSHqYtDaFZC6CrEFAagk9a12iMjWUsY+IhJa9/FyuVAUNoYoopp+H6cUVtLi49//NExB4QwU6kANPGlfftoalCbQVT+pnvxX1hRt4/wjdG9PxK4yrVEkZeq8ZsKJ/JoZ3GDCUAmAI238FDorBxqjbxgQK3bQXD3TqV01OOMpObtw8s1ygHNI5QssT1KPYv//NExC4Q+QaMAOPOcFYWvFWxVoguCS5aVsUfW5NH///t/yGtBKdxkqcJhPaQkFARK40FA1UzDlvxdHsZcIfTStvmG6+V2jdwc3OV+ZvKS/I/ma3T8YOtgakOO013ZQeA//NExD0R8RaIAOPMcFDbd6D7Gf/Nf+2txlyBE0XGSIIv+VRqTFyGJWYDBLVup1rEM8nLEhNt0XW/mLrbbFysxi0EWo+HsZxVSFNcBRUmPr+oclVZHXRd/6AM//oWzZQY//NExEgROQaIAOPKcDr5kkcDk8vGdBhQqXiARIZ54rfrNgFB8GwICVoF4gskJBd5AWIvU5jkYNPKy1r/Ttap5oVTSKxf/1ke5SDinz4looifBMgLrwgrRmSLa2/i26////NExFYRMGaEAN4SKP///7uceImcLP/cz0L+voddKafCeFXPoc0r0Wju7u77gFd33Mt33CCPLlFvAMH/g6B0M3VDFEDI93//+//5f8z/88x3maXnKT+T30YrsP5NjikV//NExGQRGsaUAHgGuVevQ31qCYfVIYGDiNxIXzcQDAkckUIgJktBsTF5wQY43GffOy62VjAqkoxXEssOyIBZBMeB8NSYAQmmSI/cVrz0qGGBOHxVbHMPCmP8Sxe0SxzF//NExHIgaxagADhYuYXjRWnfvQkE4sUcKi9O+ALQlLJ44t3nT4vHZRkSf4x7LzH//Mzf/5mZmcy0FvXsOdAwsbaJi1fTAeNEMhFlP4kEozZaXRJCcfjqYrxWclheniuP//NExEMfgxawABhYuT6dZZIfvsxL4VjKEX+aipVdbHkI7dVWq5X1qWjJ6UeUlR9BE5QSl645jKonF0tHrzbz+HMG5ZzKuPVbxQamguNAwIZBfJMr2NdWVbI7ERFQMb9L//NExBgWir64ACiQub/+sgNamP+e/pUHpYckALB8MD4kVNYkmpFUyix0//rHLcar/cM0qsfDFHT//tfNcz99cWvDTQtBxQslVOlQu4CohtWguhZEcqMJQFYy8gGAPLDp//NExBAWKXKcANPMlH/LttDlEwvqswBN5JS3oXcn5C0+fisZGLsMG3eWhYxt9jXvfPv799b/Ix7pdnVZgXzT1+92IZm9USVTPLP/+rwdXxBemjT/aLr7TxHBUwfTEoQe//NExAoVIWqsANYMlAurQEJMun3rIgc9QjhmT7oVqaplUVvy59l81eW52rcjP51L+vra3vD9l++byv8T8mrOLKqwReJDPRe7oW7lIZz3KPT////ix0IBuv+SHctawJAF//NExAgR4Wa0AMvGlGjkfFi6manbbfIMNawujF+SeJbDWKVay/X0cvmTf3F+Zdcm5f/0PjMEBiUECmBtm5LR/Ca0AYCHmf///0MDoTrKldo6bGjdtC5Ut8VEpeS+VsIh//NExBMR+WaoANPKlFMkydeg7TxzpQ5gIhpq2E2xlPT9vi/D3Xa7fi1RI05aFaJliAGe/Tbmxoqhw6KzH///9tEjhlhRCgmXYxMBwoALaG6gpISsVcaGYc0JEv4K5IqD//NExB4SMQqMANvScIY/tepO2lycoQcvFZoUo11JWgalSFlNaOKSgXrSyy3a2mDwE9P///CX/62QsnMGDQ5MbygUMuMIFxEuKlgPsHaCpx5bRY4nJgE0R0iscsME+oas//NExCgSoQKIAOPMcNtaHfdS8JeD8g7bbMORnFvAORBBoMWfN1Ogc8j6f//7//6VlTCQpRGjiKgwgGjHiVThmRKKPNeIEtF8Gq/bC1caL1mA5HJgR50r62hLioywRybR//NExDASgP6IANvScKT21JObVjqqckKyayIuBxaJocdZZGA4xtHrqvgBI4Ian+MKSB4uUeMKHAcIqrmDhZSm+JZUl/HE+NA3WQ0D/OguC0/nUMtnokIDYOW4mmsslLya//NExDkR0QKQANvGcLBqKFQcrvFBZX////1EFb78Gd5F6AqROuMaerIPY00wClEixbAXrxWCVU5KEOE/BGjiMBVsicizQ5omVSwofmrZ2HydWDDAVg9/uJkk+7///9iV//NExEQQ4O6QANPGcPkgMvWqBeesNFUEUgbGcJRgincLWy+a/X4XpAa1y4qyxEBStccYjEnr2s7nGKRPW+s7vkM9CFAgoMF70o1EjmOYKuNzCTO8NkdcVGrChMUCY0P4//NExFMQSTKcAM4KcSKwja0JfCfMUsS5YNTGMlBC+irYDkM/N3sN1oZFvJcjMpbNiJ6kGOa+kdwosOEGhxDEqU5////+qqy+Q5kfJ1dUxh4sAnk/h5VwgMpuXPZQgxla//NExGQSYS6oAMYGcFJTifMnJjq8ZhL60upKXMxznfQnJ1pvaaFhhwzKiHVpR2Gd5JrChfQ7///9wXJpyXgRpSlFiQWiM9T/wGl8sMIORAtJcxNkNOApkEfqjFhEJDGD//NExG0SQTqsAMYEcGBTk5AWG2GUWGldKNZGsr3peuqQiB6pShUqBT5YMRos/d///8xV0SOKYjNRrrqNsm5L2u0gwRvnPuA+S4mQ4H63uENTMyeH0bg4jnRiplgTxs03//NExHcSSQqsAMPEcGxvHzvGat0O5cz6bp7f8/q8pbR6JKixsVb///8ctUqBVAEnRTaJGB1tPkwJXANASIvqK8rmAbzGyrxKk6X2K463Ci7YaHNxIvEjezdUyvsGZ2DM//NExIASoWakAMPGlGhE9UWAjY63yyhKAgmKA6CRN3//+Sz1Ck/BK+GzTfTSgmbOKsOPGFIDTBaLXoHU9Cm5GH6QUcJNjKcYP+d1rFnW9MES/3j51WsWvJHiCsUWEQDd//NExIgTGRKMANPGcAgkYcDV0v/Snr7XYS59v///9VQyaSDfYRIIOwciAWgSJs7bmKAW4yFaDEhmgLJS8cHjye9pnfnMuDuePH9RcpFRzxr1j4M7lCRgWNUvd/mQ+ae4//NExI4TsYZ8ANPElH////VRbuZruCkZt1IgLHTPgoEUDyQiySK5rFlNIPIaFTCk8XlLjWu/4lhWWxfDuvbTrWc4pblMdlFBRIWvt///ocpwoMyw7apE43noprHePmDH//NExJIQ+Q6AANMQcJg5RgwpdYdEwO8WTPpdJSQDJgsu2hiz8Yl89JaiXFPv793+GtZ3mdVXOKoDiUjr//9KXmR0HoKNlioEDCswBgqM1l5RE08PTAgPp0+WOt/KXLLC//NExKEQyZJ4ANLElSRBuwaWlJKbNylnucjYIzF52x3at7a77utu03TdIKQQlD+Uv/fnkOLjIoDLws6+6hYAOdRT3hMxs7HRhCsFBVVjTsMGisdmMziY0kRBrolT1+3q//NExLAQwZZsANJKlMjUnanKKKNf0lVVjhHVzI0VB1I1NWcq5VinpzYNNmYxIwwKp49r9QoETO03NyA0wIBDBwXRJS9byBk1AaIwR/U1XUXiQWoUjzSBJiyJYMrCwq4Y//NExMASURZgAOJMceQYYaYVeZKxYtAKWT7lDTKE/pr3/0L60FEjJs8yorJARfS7giSLoXEPb1GMFUUVs53LcFRKUIlgEOAq1HlCRolE4cBmKm1hB6nqoYWXESVdtDdK//NExMkSeYpQANmGleq+5T0fuTZnN+/U/RVrBvPFeKYLlTVqTWt0lVRulgpSC2uC5wt6989c5WpxwVU1cnS7TI/oxlhEKw6gRKQn52eUbTrlmvcV0KN2OtEwtujgs+mh//NExNIQ+HY8AOJGSOLWOcKnXcqqIwGGAO1ANLGb1aNS29vudFEPA6kMYIKrM2R08zPCiVjrUxmJfl27kMszqzQrw8+1t9Yo72LqSO78RX2osDdFIy7wLoKDDOX/5CXl//NExOER2GowANsQKCX/o/XRSn+y7W2l6grRPTXvVWnoIIJxLMrBV4roR1zA4OLBCMQbO+86hDlitV4CjKUYzinyLGc9s5TNabS5PCJYhK5F1TLTWrLlQQQx1JJ7/P3e//NExOwTSP4oAMmGcPX6ebJ1/K+a3m4V/LWvqgZpBls9lI2ZkSQlVTXFMTKOagxaMHotqIuxJc7kIJ3OCMrSRBiXCC0Z1uRQPs/0zhhM+ttzWfub5/lx3PbRcO85hI/o//NExPEVkNYUAMDGcR9Ymx//dT9oGpefvxcRP160z5YK1brU9S00mzQQSjaHOAhyJbAdEASxPM6b61yMNRDmDGc+sGHKBV2XoBjdeHE8QEl4LiB2Tpc49H7SfN8Od3s5//NExO0VYgoMAJjGmRJVOm5HNw4/fwbjPtaE3rWu1QZpadNmspb1uQNNjNXVA3ciN1GWE7PubI5o24gLQbRiGspnpk8r0nOLSKGGeXOOzbFn6MUsGYcxoX0kE3PS8d13//NExOoVsgoMAJjGmT5Souh06fShDwKBhdjhc0TVA1SGHEnWxzcXzbeZ8FEClhgwGOTLHAnE6xto2wE3DpVV/hRj5lFJjCoywgxjAaJFjx0KlZYkIlHlHioiiVZ5Z0s///NExOYUSSoMAJhGcZ3h3UeLOfBVk8WKiLHu6tZZAFwMkMwXMsB5n0tOOrQYUsIhGhkZKF1E1io0MjIwjYbzcu6//9Xf///3YxQwUECBkORUUECVFqiggQkf/wKFRYWU//NExOcUUb4MAJjGlCwuK///4sK4qKC1QsKqTEFNRTMuMTAwqqqqqqqqqqqqqqqqqqqqqqqqqqqqqqqqqqqqqqqqqqqqqqqqqqqqqqqqqqqqqqqqqqqqqqqqqqqqqqqq//NExOgUsS4EAHjGcKqqqqqqqqqqqqqqqqqqqqqqqqqqqqqqqqqqqqqqqqqqqqqqqqqqqqqqqqqqqqqqqqqqqqqqqqqqqqqqqqqqqqqqqqqqqqqqqqqqqqqqqqqqqqqq//NExOgT2W10AHpElKqqqqqqqqqqqqqqqqqqqqqqqqqqqqqqqqqqqqqqqqqqqqqqqqqqqqqqqqqqqqqqqqqqqqqqqqqqqqqqqqqqqqqqqqqqqqqqqqqqqqqqqqqqqqqq//NExAAPGFocAHpMJB6DdBznnATgYcjFDF3emSnoIhwifKLfUfCL8EAA44vaAw+0TvWHzn5RxCXPw/++Q/w/KAgcUcW+TBDKAmoQCDuL8XtAKOeE3eBAlYxRAkKTgDHA//NExBYScII4AMJMSKF0jURqDmZSFkLSl7moa+ofMyA0yBRVjtux19X1pYX6MwgmaYlxYYSCOZOBa17FOilefmZehik7m04abXHphQPmhUyZfAY6MTKo1DgKW4T1MDgk//NExB8XmXJcAOPElAwTTsA0BgADwBzHGh6rTjJApV5reffFM///6p//nOd5zzvV6EJ1P+Rv1dGUDB4N+Q//6S4WOLLiAMWf4f/uoTWGjEBE17qURMPnTVAARgBnlmTH//NExBMWmPp0AN4EcGoqamCtGIsM8CzhOqjZrLNrvlt6NzlLPfG+VNfx7WZ7X9/JocYig32xg44tsTvGEBAD7gdFNf//oB6suD4hvhHXE64XHE1CqtM8MFd6UVfwMSt3//NExAsUkSaEAN4EcDS2xFaFnGkahar12GOqsI60S0W8AzHgaypO3f3lR6y3/E+T9t973U4ypZXc7kkFg+fFmLQKILMccR//+9O6YFv+LFS7zSf66vyEbh+BRnBDYzBL//NExAsTiSqYANZKcNlYwNPCOXOFvgyAEBmgEvQwIQWQjoaJ4KHlz/0sOSyaz3hhtP/39v0jhMTLMqmIGB8IKEBO9bdzlLe7///9TNP+KuXVygkKs4HEQE1QKHXhHiaH//NExA8VUTagANZQcHOcFfsQ2HCvGioq968zHDbiKLiCQWEISAEhFI/ROlOVJXm6Vp/+z8cf/eyUovg0NMFzj2HmASBvAiwCAfdNo7U///8nn4kV5fLMMejAoXPTxMnH//NExAwUSUawAM5QcIG0OY0ow5luMxRQkDIW2bqFiRIGVCqagkaVwxCa5e5etSnFdc9abV/McpRwbFjROw0bTjmHCogGKQiR7aP///9qnOr/9SrGPEsivKw6xLI2jJGy//NExA0VGUawAM4QcFMW3deMbBZfdfm5DPRFZlxEEWrSKrICXPfaQVAVCIgqfa21bXy9y7LSxRNsKi4kEcoo9inslEJgolxoMCOf0////WeJRn/9dd1BVYe4iYJJV7Gi//NExAsRyU6sAMvGlQNi6LhxgRV2UvWRWhqZlM0zIpRspdkLSAfwIqAxMO4zjiFH3C9o2s63Z8mtVFGH1EqRrnaWtUnULiop0irCbAioGwqgJhCWFA5IousZgHJ1LZTK//NExBYSCQqQANvMcHl2fS8QoUCqhzQHKLAVxgnMxlgiPqkGRrI5xyO9bNrNNauqLJOEibNow6vkyX///6al1a0FjM4NKtgEQsFZFwPAFUoON119pr3Qh5rLJ7GRMoDo//NExCATaVacANPMlZmwuCooQdNpiKpEIzIq3OHPHvvMOlqQzQ0J+ydHhaTkK2O0Z31nTb+Ls+w/r9LKqOyN441gAhzdxIli8ZYCVpozdA9quAPl3IO9/OizIbmodbPC//NExCUUMWKwAMPMlBnssdBx+yqu8GNmVrj2J7SZBptzTkDRwRpFOy9x4vbbrIRqdun+nOf///+m/CNhPpf6mkjqtiVfqhVs4/AbSLukjH65LhXJAWS5upbZuhKPBLsh//NExCcRUVK4AMPQlR+57qya7VjJuZHcmnqEqEqdyj6pUkVq+5jqMZR4/urmUpA+JDcIRQjGNkQ+3UO9HCA7CjlhGlNlTrG2tQxpU07wXZWxtiztNe50hQdQp2LIWskx//NExDQSeVq4AMPSlbQ05MUih0ULdLT2451arvzpZGLFC2XVWVGs9NVbZzaRLdwrpfxXndCNHlro3WFLNlvVW7q7fKSrF5QlYTAyWOFHmDl2U7u3j+66cgW0vB80tOvD//NExD0SESK8AMPYcANFzpaKqar///DyFfqLAmMEWbixGBYlFaWGXdluH5dNI5Va+T/v84cciVZEUAgokSI5tU8vL93mc1jTcz/D//J6SUjc9CKn52C+u7hxemloGYIY//NExEcaSmK0AMGGuURAibvvv7yuMaV5XHpAlwMDF9b6c27WEiaqp3C1zwjjvP0qQ4FY4SP2/////yX//4DP//7729fM/sufb+0HbLXjZsLNPJE0QgMbcsieeGGDz00y//NExDAXAuq4AFBMuSMOpasCEEUtggXBgJkMxB0EdibIps59Y0iAM3AYnfcqPk7UYdBWuZKeLcjajF//////////l//5aU36X6ubVODsFNRQiuGi0QMxU0D02YszkQF2//NExCcR0nbMAAhGuQuBAgYMVQEAmw7mbhApUd6FWTI4JOoSFy4IJpPtfTO2Kph//////////sjB//+/f/c7fWaYMeNRzXt2mSzXO0WtF8dmL+RcLny2+szYOrarlmJX//NExDISSsbMAAhMuJUvmz7bayoZ/83bZbw3b2xYEOmWrfpNVaGRtOi7////8Qo6/87NAMKqt7f/X7Pzm07TgE4mO8kcx62u6iMWl5mNOJXX+u23Od8bfmfXNR3/XDbe//NExDsSqjK4AAhMuW1bvKiam8FcCiYpzvQu/9r8l0m8LQCy6fcMll04MmsDTya0Sf96Xbdtf52pajEGQEFDPb9GYgoOHBMJK1cKhlA4Onu9egSgrDTjf/FOz7/+mJSd//NExEMQqPqoAMGKcKVlQAlCR5/DOGGLPCDlC9GeKdh4SEWA+3BxsPMg2i63Xa81cUVXGEbJapL535cl6sqisFlEs9UHQSD//4a///p//ERY9qeRJpKloZTWA5oTfOHP//NExFMR+PKgANIScNB0LBRiwO7ZCCFAmqML1DzWQnPSAEOvIpOa4s6FmysFVtVT8E3zalGSRAiKASUI2TyhrfWLCH///9Cwr/+itOYZ2mTrC4Z2ABQLGARqQRMDKgAv//NExF4SMO6IANsScFBw2CYbFR42RAbPk6BiOpLChAVIxGWFAbQEh5vfsmF+9RJV4yq2VlimpNe9SrNH///9f+xNsVwRVPQMfQAkjplWPsQNKITla8BiKUcAgVCWJwvB//NExGgSaPaMANJScJcqSVDAp05MnljDCpFhGGvCWBciEFsGCAZiTkKH4r26qcjiAYFk/sJ5CBgCg6h+d2jsoXtv9RfC2f81V6IwVrDCKV73f//kBUe9sSINjAGFq3uy//NExHEe+V6UANPYlI5x8MBEHxsHxAsouULiAsy7EbAgxxn0EA9AZQuEn1Jny0cEJTHXPCV/zLDjPlO/7CzwXyN0wi2OlYeSEN8BbpERnNGWR54MF2SKPQ66D4VsLpel//NExEgXqVqoANPSlKa2MoEaqUWhn///+z/euyNWAGwog2xF18eKSor46EwfkRAAb3YwC8lxB1jpv9odun+4b4qasFgYSAMB7dMm5mgCZBUyjguiRJXrL8x+/zGx8vza//NExDwRyU60AMpMlMOhAe///////k7VKtYQGdD6r7DKha+RRIcgfrG4zlSyKL2RtMt0XuR8zLUYTM2USwi6iQePDdFAiLY1BAuhQ2hRtqq1jeXxEPoRq////2A4L6K1//NExEcUUWKsAMtOlFKUHxSKmwXW5Qmq/8DJotYrBiRWMyXqbM+wa0B8LXvIbht6bvV6UKvo6CU5IDU4P/UanOEdUNTXRKEI1mpihQUCIdIHv////Z/0BpjOqmrG+KAH//NExEgQ0Pa0AMrScKNtBU6ByC4nIBoIYy/rtu1RlwWNMFSKSZE1OSUIlpWWhhkDQ8kMimCdeUSoXYoqccAwuPLZN//tujlliyjP///2f/6n9p1BElXbwGDQQkdJPGDL//NExFcTGW6sAMpKlEGDq9wCFPugYXwBksSjqMEMyH6I2LcRsqrSqaDCU1RFOQhZSQs0hanKU9WbWO0dGZdl4is/tpkFyVnOuCXwYqIZJuniATIOEtLFi7st9GZsLIoM//NExF0QYPqUANsScCAU62SFk22W04RQ2m5aVV63KlsDjx5xoSHAlOBeccUdv///ap8dt/////0qaMgBJ5iYpwbS0GnhzJaBhRTnpezEguM4qbHbYKA/bDUWpL5CUmUp//NExG4RmXKQANJOlLKmyVVrGGjCImIB4HBw0cKgMHQKPMn///2IcYfs/////RWJDh42QcGADqJ1CQCaa8DQVYuZDT4Wa3HAe5G0niMeMI22UN671n8z7f9b12aMsRca//NExHoSGW6MANJKlAvGwmGBKCITkTR+1v///WcxV7z73////HLEZkKalR8TM2nB3WUhhUqAmWtghv6gwF0BM2JnipELqPpA3W0/ZR2MI/KyM7OUaKiYgYacCnFTpWv///NExIQSaXaMANMOlP/7swjExMOtb///0I+K1ZkdyI4FiYGNoJGwjkhhQQlJc3L5e+Q9EY2D9s/4S2m13w0W7W1YXaT00mnZ82UfDwgPAdBMWUWQyMtf///dZXvcSUJu//NExI0SCXaEANJKlP//+t9sin1GbCW4jUAs+DCAR5QYBw1lQ0rgIM3G7DVCCCZbYwPknlSt6t9KnjNb5/eN40yhCZJIgtP//hORNnRn///QVG1yQroPyZAII6aAlcFR//NExJcSaZJ8ANMKlElzi18DGBFTwhdSMTVIEkBe0OSDbmjxt1mKppJvaRUbek1I2Q9CXHHZD9vy9M0eYHXOiz//+qgrMTZrABNjxUYOCzHBcwUQMvLkSqSZXK/OOOId//NExKAP6OZ8ANMMcIoAoo6jDxIWmR5UNKjb0rVjJMYylL7f//3/RtnZDakOFiEO//7tEXNNEzzBKiohGgIwnPUiK5jqsBg8b4tr8SYxmeLW1CrqEYMOSBcqaLBxp4VS//NExLMRuOpwANMQcPQ01HkRUN+uGpJK0NVVy1Z13/pAQag1iVigKxYiErX0ZXfZ6RkOGATkcKEokHGikwcVIwSCwp+KIFA7BA4DHiccIw6Iiq9Y1NJo6IViV9VqyKVM//NExL8RkaZkANlElHLFJm11ntu6Gl26HepndZ/pd6ZEAzMo0p9fTLmkMMgx9I3Y+NtfgegdiWDZoAgYGwBmhQKANtKIBGJ4WUA2bmTvjOc4znOa7f//hmThkMrPkseQ//NExMsSQGZIANvGKI7tVG1IzvnGAQowCIrzqv6f7+tvr/Sr1PaxNTpVWpee56oQhCEF7kVw0gmRAVKNbAGmXnDTogmeVIzVB9lTyNLEEDY/Hg8hWPAijQOwEERLK66p//NExNUQcFJAAOPGJNm6xjHG2yoeVcpRZSK/znUpzb/9rdqy+/KVsZ2iPviEIIYEHp8w9DdpBu/7+/2/77d+9bL8RGXsR33s56e/LJ7Dn3bIXZkRJNTQDpg5TiATmwQA//NExOYZ6tpIANJKuGQn+hVRMGuBTl1SbOCqajX0qZJ1Jd8q8ohiFT8YnILX+04VEW9WvP0j5W4BlVijyr5Xua+zvDXcu7x5zfe03bWfdZZ8p7v3rZGttr6emIFKKGBc//NExNEgUqp0AMMMuBPCpMge7xdxuV//+0ZDtkebfYc9jEYITUE66GGINKG0dnyjv/7zzmT6NrTk66g0Daw5OQYF+jWWuqvs43BY5U8CYkRQUYgxtY801wLQRgn4wBWB//NExKIhYrKEAMYMuZ5IA6COE/Pmg1nDYxMnMXd31VMmtlqpf/Yl1CVW9UbvQ2UytdHQ////0+jNK0KJMgUgo8h02jinc761uPMIBprm4bWRySmDi5tATXGgmFzg9Oy6//NExG8VohqYAMNEmAgxYsiG1h2gJggaEEN8YwDHwwonKxkPAqZqgRc8yJGG2UD2dP5ofym+Uz+bHrit00i0LLYwdChPJFrg8awQBhR4AAWKaXbM//dFJvmNV+Z00a8h//NExGshIpaYANUOuVQ3k3qecNRueiDUm7H9SaOk4f5lTvMqvd3FzjOlgCvDdjIjSj3l6pEYp6Lxp+6KIU4dFMCjECQ8aIoMARqFDZWcRITNax8tnD+kezh/KT5i+z5K//NExDkbGqacANUOuJ5bDKj3TFyi9oRl8TlqCM2C8siAHjCKb3/+V1MfXUj15t70rod249qRfHtSJ2YtSKRWdUrWLRjDQjZkmirBGYXmkAytvTNvgedGYeL2pqw+u8oI//NExB8TSUKYANZQcGLxlfIhAT6q2nCfq7ulx4G3617Xx/TXw16r0NDo5zAFh/Kt+sSKpEobEp3///VVAgAFwcRlh8IEZiHKBCoujSCANqIqDhxCiNJXtYcg8yEQFRwE//NExCQR+UZkAN4KcYyRLSVNWwRaKTNiNWsuh0Y7qyaemb/e7mGgKUrK3ajocOtuFASnAbQNTKj2NU3lBMtCgguaI8yNz/ISoVEYlKcLlWZVtWKsKoKoKxF3QGDweetq//NExC8R2Q5EAVsoAFn7mKV0qjo7+zsjx07QPDqwxOtlrlxLZTURkBOEIwRnwhjlhWkc/OP0RpxpdG9yN6S8Uz6DqIo4D3VWbnyWHaHIBVfZNk4npDFkDlAMP9V01QKG//NExDof4ypgAZpoACbANwCiBPyZ/qZlIMPQqLohRFjvGL/6DPQXUSQ4yiPQnhz0R7j0///p9MgjzSHg5DMXUdPv////9svpHDRCX0EDc0NTY0UgArqp1GZn1r0vDxqH//NExA0TcW6kAc9gAI+a5t9b/8zPfs7Zy9WH5pkoT6y8ULsZOLQtCI5RxBICYkFoiVP9FB6xuvwUhfzZr9iYYbnXYGh+lMPnx2vs//+pKIik+JOdwhiaHrZ0LgQb5xVK//NExBIP6WKoAHlQlDnS/7bunVYfcA4u+1ykwcpJrWhpYC0B6JjGvpKRZmYFRUkYdI3RTsU7/qppf0qtQxkUVKeH56z8o+iOMyHsRDz0DNU0L2/+f8PbZgDctajB8eB///NExCURMUasAMlecOtt+m7XXaijRFIy/NHOuoD3GYZ1Dv///3Ifx7P9Dihm/VCOlF+609g8aZxod/5xXN1b9Or6CznAZTuLCdW0eqZBAFQWJ1M9KVEuOaj6C//+F6HR//NExDMRKUq0AMFElFB9yAi02GBXiAYYc9rnQfWfVV1AAUTicI4SkWzMoE8kp////+akz//Kyf///52dNj7EJuVmXuc409fcizY2iZnel5/1eqM1jKqCnUECxdXNyeNN//NExEESkmawAIhGuRW++1dEOaps6RWsdwSJ0Etf/8/+RGdlc8+yiEVEJ/c76Wnnxmj/Yz/P2e/++/3vhox/7u/z6jGx7298dsjP9iu9IEJtNV2zng4WnhmfDyenwxr6//NExEkSAvqwAGgMuV4NQSSrUWxQR7wHmf/zHzzB8gAr/f/KW+XbVal23X/m1v9s2n/0ebm/9Jupashqt1qGdUMZyshncpZSFKAogp+quskl1SugPaH6Q9Gjjtgt+AxM//NExFQRIt7AAHhEucLbPgbi4pgY3kr8JLHN2AuhGxIWGUKJ4mlKR/9dT8Pms4ofsr9eP+v/UbyiETxgoS0KqzSnZgcKAGapDTBJffcUooMvKsvW4AVZeaG4LQ+gpodW//NExGIQGTaoAMMScCEzz1wYS1kf7bfhuc/XwQtNxCyiH+5W61V9JJSHCQ+db////9SrsxW1SuMHlCJk/pVEBUXKJxQIOWyYNBaydgvM6P4Ys1Gqf0cN7gV7fC+jeQ2Q//NExHQSGTakANPMcCq7g1NUDD909/4v2uclW/////irhLIqwh9Ew3niDBR/2PiXE87dTBSsWKX1B175hBc0axX0D+7+l049vQdcHeV65Loba2VjV2OwmzYLj7dj601K//NExH4QWT6cANPQcJ3B0UO//X//qsmvroeiuzCM5jHyoO6AjKxJ6i8DmHE79xEmXq8AXRxtUmld6c9tSd9zvdxJV6tecdwQrXD6um4TdCgP3BJCbL7sjt7bP//kHf/F//NExI8ScP6MANvWcAHKx06IU6k4qIlQRoukyi5i4k0Lnb8YIulI544U5xRrGAzWU6s3yOP1n5L6uziY0TNHQNEyF8f0Utt+JgoZ/Kof//4fV/5eRkxy4YqCjJUDqiEA//NExJgRoPaQANvWcIwGxY1r8UdIi4q1XrUky7bKRSz1Q+VjW1PTrlNacUfxEmAgWQacCoQVkOqpXCd9cV/PCIOxjxZv0/////NVQ9BoAFwk++gR/ZCYsqBx9TIhGAiL//NExKQRcPaQANvScPUcFAqNEbNSkQwKSGe91iB8NdfP2kzrcUVlDBmpo/WraC95PrCPFbtrqckcxmObQseXQNo6rOKO2/2q/9u/lz6knKd4qnKfy6ppN9QQ/w1QJMKE//NExLESGTaMAOPQcE/BAhdEYiJPz3Ylw53rYWo40K/TDDP7uv2vesuVWAyMVCgLHay2PNHvPlJm28YEIgwzek3ZZr3OvXZGPhYw4HoFmEw1x7lsz///////M/Q+TMce//NExLsXSUKMANvYcCxrllZ6f7v//HQyxmfJ1q61LVdHciqkmaGGkQc0P6ODZggROdV5a7albNZKvpdYtpnkiJDB+CGNLeujh7WO1opzVpz0YfHgarJQgaylbpvVerW0//NExLAbMl6QANvOubdQXH5Kn+d1uR////nQ3Kd/842BJRWlgIQDT5XGGvGYGSNVZlM0BnITkva9BMOLhxF7GUhbIpdw5zjOw+SJnbEOtlunxiJ8eL8tpjAYDJhofshn//NExJYWOU6YANvWlBH9+txH2egwQB/j9Fn//+/9q3J7yX/6VaB6xg4arCqRW8xGdddKFGgadnXwKE2M03ZFKhQSnFshATBqzri1eRKdy0JOPPKaKyDhJBQLqAeMlAIB//NExJAVEU6YANPQlCkhoLKPnZlD6xUbKl6v///+SybKcTXOlEEW3AMOQhYKXuI0wrUoFaUXDv1CVE5JAuYihG1DkYX4p2P2NwH36BPNrvxl8Lwd4hD+SWtw9YJAjhBE//NExI4TeTaYANYOcKy7yXxomqSe8Tn3KsZocFPZxtaABHKwMeHYFMY5Tiqi4VAPkXGajoBEDHwNWDSCfFyh6hRKbvIOfpIVoZvmSHtjKf+l8VJMWBBjJse331oZOH7c//NExJMS8UaYAN4QcDGswqfnr+3V1uCBBmtMlhL2xZQ4anfjJCtbsuTdUcmIwtOjpRgaFmcWBTXP5EYv2rPf9Xv7w/eH/+f5/Wen/L1iQzHVsyhnzvKb0rvKbohajTMU//NExJoTiXKkAMySld/XNGCrskNl/K46BLackNv7vAcGIzTSGPYRkolstHC9D8bzd7e4Bv/+X7oe/rX+X+2/3/SfczsKN2iStYZ6XndP0n2YnsiVsEXUBqufhMIqaUMC//NExJ4SuXqwAMYMlKCgiEhXL4A7iaPh5BtzYFhmhLhFAzKcZlnKZWXRzN9HV82vTEHnBpTjqi+JtiGE0Rw9LHz//93/X2qdpf5QnO1+6i61K9NphdzTdfM4TIF2uaBh//NExKYSKXasAM5MlYrON0T4xWCEgyTjrDa6iCOtRbqNHmb5M7bVO2fCNiCpZHxXO0aRYWxEAyAB7f///p9S/N0AObB1MwRoU69KcNmuo1J282yayNSrgbM9U0Y1DSEd//NExLARcXK0AJzKlDqAShjsf6W3l3rL+L6ZKUurxckFMHAhWa7lJST8lWkKMRnTQ3////Ui7NpLA+e06YFE7mKiq0+LOMWZrCQusrpy+Fdu7VFy+3tcDqKjhCjIlGRO//NExL0SKXK0AMTKlGKsew96V+75qtvMOtJyjZXysNLYn//8y39NBMY///1VjrUQDMbpQUHVaraulE0G83C3GVWExIdGbZrPnpttbezV3IVoTJCuB2LYHixERLO1nQaA//NExMcScV60AMvGlMdK/+oOFn///9yg6Lf///SqiWk0N8xHqXUUC7f////L///////bzMzM3pPzO+xVZt8pM523ylGHDs/5hxDEMS3jASCeveMK2lhQOAEBIEAdCuVg//NExNASWRKsAMvWcKIXOs4V3nE6u8pDCF5zbrHOpf2zN4Sz/6XSKE4lkxRf2FiyFe5Tm35lu8/HGDGX0QEAFim/vIRnUR/6NQAIRyNk//oQAIdldvvT//HprF7v97o8//NExNkQyK6MAMvYTMRX8XMfETXpOwXtEYIcRWIYqTrWU60kgYS9pJdqJ2ZD+rcrT+XZyYTpmizDthMTCnmHDE3xWZuyum9lZnTCzs7fEu6ck7tdRkekkXI1KXdo0Ws+//NExOgbOxqMAGhYvS0Wrxxj5rGrWHIq6CU7PeymHJ6tjMMXxE1xATcW9iTtICBhRn1rJ9uZ/ZmzmRLc1/2b/9taXyZFEE5kJYkSAT9nyZhy5fHi1A0XjvjUSbvLEks3//NExM4hexqkABievb4cS2avfvra3v/Xn7Ldt/7y0o8kVFgppuVt1azwmeoG3Eqsvydhx6zWHIlthQIk4xaCwmi88Z/JEjRIsVzpFa0/NBo8zqA+9M7c0lWjuHFZwj68//NExJsYir6sADDMucjPzaH7XrcpIJqbMJDR+eKigSpZZV/7lMUqqWwE0TE/4JPm3dOKnhxlboqLquH+AF8GwCIOIbh82OlD6oiROMquXRC8LkZmT4dSMmIkO8B0xDMN//NExIsUSYakAMPGlKAosEUxC4OU7ahNQz7/jQ71jkM8fdf/cwrS63//XXyD2KCziKb7g6iaaqwa3AMvoXCyglb1GHQrjPN2YwolUU+gs2n01WaNBQpyLfBki1bqZjVx//NExIwXcZKoAMPMlBFFZDmZEO8agqwxGRPTInsOyy1iGHh4ItMf///yVcpkGxjNKLcvXXzwVLhMttoV6ZtOa7VBy2usuq6ceucbXFDPTmz+zSWrbPq4miZWoXsYM6gj//NExIES2WK8AMPGlI60sqpd+dJmOOoWhNjF///+lb08GolDYiKEDLpDhEDNaIkpc7aXsBKxkzNHIdCYYPjaknw22cE01DkdWXnWrXhXbDWXt/s63VcTff/tHLf+VPf///NExIgRoW60AMPGlP9quJdDP//QqtUMPqTEZUa8ZGyEAmPXc1877tFuLQ3uk+6z4flr9gEgCeKnUdst9/WZDD0OIvPeu39lPT9ev5wpDA2GCA06425/jOlp/0WzaAXh//NExJQSORKcAMvYcOU+EpmNwY1Uk5f5xvRMT+/4pf/////////+qv8ivkncgmLo04pQUVyVJdKEUec5CSQHF2DjSEIrnq5CFPfOdGQ5CuICivUk5xcXdKqJYIIsj0kI//NExJ4RqP6YANMKcKhv////7n8/8P9+5c/dzhCcPLXzhqdbDJzg5rHYj+Hnm1ZrTMTQSrdTQsSQtZSkcSqKNg2SdiB6ZhRuJthd21GiO1AwJD7KGaltmpt1qIqv//////NExKoTyxKsAHhKuP///2+ZUAcgoGoQAIMDqUhktORrWXyKOkqmlcqqkSsnowUWUzfaMdUyBqRYNT0NSm5PDITTBAPSHIGgnSjOzN9n/LnvkqGmzf+v8v/6IqwlhnIy//NExK0U2xq0AFASvdqwWiYYlhTCgv/n1RLTL/sVf1Cl3yHXY/9su5a/Vp9Pak0OExsx2Kqo6kQMbmeGVeTQgAZAK4dyIuW/7EIZn79P3r6f5uaaUzBrFeMx7QuGdS01//NExKwP8v7AABAGua+//1zIU6PLTmMZSocTkosqjLbfQo6/R9fkpaWCpFxFrTAFkGN5+mGYyYp0WphnnKHJjLCt42jMZWZ8tp4WkH5WUACKRLGjKIjRENlSjGhQicJh//NExL8SIx64ABBGvC2Unu2+/aropOf0/////3/QhaaBGhnNpAkLoFiowGEzogURMmFWGAoPqfAeH5l49ygjLiuPA+1BkOPlxEiiApKy9mahpZEVFMNFMdVeSFwVwmAw//NExMkQsY6wAMDElAgsYcNa////7PXqOqFms1oSpV/DAU5j4oGqygmCCkdkqj1OXXUxAzzgMaPma3D3W3/UqMdKVdLDsoxY1Wn4Xsxq9nVkCHRjT604PHDhEQMYcaaE//NExNkRITqkAMvOcCeNs23f///6jj5APjR13RWfvKdASXURiow1jTM7TRTPglvmsqRtwtG5FqiSSbeozc68jYMokL7aRC6PtciylfHPcitNxypbpMPbx4o0IhaVePab//NExOcUeNqYANsScOJ5KQpuhRA+dW7///xQSDTxR5VonaLEjhdZ9zv/SqCH4gM1LVUYcoAqeUGHJK02Kx1PkEOqaEL0q1E3QSDOLKTSTZdH+oJwZqiI01Ckl0i2j0UG//NExOgUWNqYANPecP5iWu63qAqP42vAidP///+oTPXR+Rq5LqEK14foBheryWx8RLYykKIk5IxbqCBjRrcQ0wPTPhTxcC7OdrGDPdFQ8QjTiXN04LaY8by4fKmebsw7//NExOkYKRaYANvecMqX62wx11////7tNa11nxl0ZD00FCsIeJA8RhA4UA00EdOuZzrdi9V8utdW78j/G2BK8/gayUhOZX9uJU43P05MtpQueqnhG8kT4T+MPmmkr1x8//NExNsSoTKoANLecIpnt5ThSQs/LU/+6N1nSyqzTOCefSREXmVYEvYRKDFmJZfuRb4NiLvnDn5m/bt6uqvhMOO9BqXkYkYZU2zNcf4DtNGl6vFuu472GHy3acSO5Q5i//NExOMSGTKoANLecLnbv3eHBlb//3le2+dy1gym5TLIOOGlfyYLgwOVaNhgGEXNy3zU4fOMprYw70/Wb9e9r0caskQyhABATlzqSMrnmGnEstFi8QdArKaMXdWWwLSn//NExO0ViT6cANvecIrptOpDBRKjnFf/9Ybomf/marj7giIY8S7QWLGiRosMKHj8NNbe/lIeWUNilVq00o3PN2O1Hq1c6euZFwcE4wDhiVGi9LCEoPKe7JFx40UmKely//NExOkU8U6YANPYlAcjzRZ8WeWSDVt+7d1krfL6l6BmpMUDm5nk3prrgEEAOBCoUx6xOJ9gqBV+oPCM+4ydTE3cjaXf5/6+/tTbOC4mIEWa+8Z8/+Qz6wvTgzyk0pUi//NExOgU0V6UANsMlHGrUG00YfYbZ//2pZ2S9MLsA95bQo6Tc39qqsXiBqMpMX8FKjJIO+Zulzfs2q+Rg4HgHQ5DEN276X6UKVEJZeee3/7983Pn6yjKaum6Z5A5BciU//NExOcXIV6UANJQlHQ47//6/3UEmP/YWh7+tVWohzO8xvwPIheOVjWzSRJOG2xbiM+UDjgCHFMcIXQ+m9d5lUEwOAHi04Ww3pTqVvekG683SEpMtLnl1bRQI9TQqFBl//NExN0UUWqcANIMlK0fUOhx3//6vyzZ0kn/VO/kVZcmKc4OBAAai3Bx4AAMBRanggqZGW5k81LihHMTrWbLEaIkoBR8tO861VtoVgsXDKhCGRSEQBecY1sY1pUmwwda//NExN4RyWagAMlMlBUzUTAIixX/V/9QqBSLGGl9RUSNtn0HwLmgoRJg8HaS4jCAlb62BYLvugeA9QTREcKU0HdcbK1IGy0rk6PKQcmPMo0tXtLGjleYnfxu/KO9Gbq///NExOkVEWKYAMnYlOn//b/1HU+6+nv/RwiB9NSv7amIuEZFfBBQYVFgUSQ9MgBQcRpjAI/k4mB+dCCPxKD98klsydZKR6IQ5mY5KTk4QFSEPnECFI5F5KslFYiVnte///NExOcUMUqIANpGlLnnjd/b0f9Y87/0C6qFKEG42YtKlgvBeCgUFxI2EPKAxoIkHowSMzIAIDBymWMDufE5wSiAvMjchE5CfGUZonGKJSMqjNl0mWU8rMYu7glklGHs//NExOkVcg6AANsEmNqgIfAwPKn33kNuT6Uu1NFv69fKATDvNHFDIyuWMiAGmmEAYskOpERfGOQN3wVBufrThayT1xkjTE5S27WeFFWs0oIMZCLSfy3ffjd9w9Iy0XFS//NExOYTCQaIANsScOIBUc77XT3/8s+z9U6SAyqHWXGFLJziUNBIVCDQzNTaEOMHAnVkr3tLoQ9+nkEqLL7PnG61tiFfPzE+YEWIxrT9D7Vo3uNx9ZZjJ+vYHsYDgKwN//NExOwWOQqEANsScK9hPaMSzNctQU5eA4TIOc1hZEFzP//1ehgP3hEH5JffkE/5RFWpHxgAcB26ETMEbElcsmQVIfKVqkkG4Yo24Q8pCcd2uTMVO2OiEWJKgDFhBHBE//NExOYTyQqMANsMcHaXNbSOakP/Kf+J72HAGV79C2XGwbmiQJZIIgHjcRgqJA8LiDMZZ////////6aPYup/+0tQrLsbc4JinrNEGlVSdApGdsLaU9IxkPj6Q+LbLPqy//NExOkZyWKUANvYlH9WUmqnOhTXhXoxVYXc3gPrzDaLLDHcEPCQNYKigxxmzZVolSdY/Djq8I8H1f///0/qqSadB8FivjhAeHV2eiER9CW7UQ5ATkjQSCrflPOkUIw4//NExNQYulKkANMOuGgWR4aP1CK8/a/Dl8P96hHtIKZUQQQVAAyMSmztKzRQ6aDq2zXgQ4lT6Ysy7///q71lQyEApZqqQBFPziMLApSWbjiEMFMvYw9K2HYBnj9jRSfJ//NExMQUAVasANPMlG3FjIggZc1SvCauNIbLXNv81167+DPMZQoCzgIm3/+9DPKJKUKCgvVui7DOwhdsYICQCEwgwUACYEPkQwIBIdUkbEYvpw5itztlqyk+T6jAbQkL//NExMcVqW6kANPQlHLSHR4Gc0tvedf/83raFE1///0KaRylKBGPVf////yxFSAkARJU0mdRIyoJwUBSfSpMOIVil0ffmzzeGWWuY63rpgsjJgHZErEAOpGjywd77PFT//NExMMRMV6kAMvElc5o/rfR///0XMpvr/+hZ+0xssPNQAI7+MOX1A1av47FCI0L1bD4A2wZcNcHvEAMTY3QAxgQGxhABQGBlwA9gHQgBg3yHDsQQQDbhZI7RWpj+b6b//NExNES4XJsANPElLHxqlBi4b/1a3QOMUFEXdMq6vycOhtg7GJ9WVhmRhifRtkSTN//6d3+m6Bs1bmCKnRcw/t/oIGBotR0n1pv8tIIGZBCUGXGWGal2jgrpgpQ1HZq//NExNgP8JJMAVpIADLidq9vy3xOS7W11qUnh9PDpVG0EgUw9LEOfWYjFse9jNWObq4NKn988b5r/+P46317oiYc5rYXaAoFNXNZ/z8o+QGcktCVSrDsqHaCIWCMgnRG//NExOsj6xZ8AZigAaU0cB+Z94X+YAihMq2AENVbJPDgdPHARIikbn8KN86RF1QBs/gZu5B9H73u96fSgvZJhydX3Te73+P/n/z9oZjJIY3UxbQn//y44FxU2UMkaq2Q//NExK4U8aKcAcxYAOyD5FZh5MxwdBbaaFDGK5MWUYrjILM+IE42OZZfnWtQDkdxA/J1ePMxlYMCZ+nqsaPjUVm+wbfvsMCpvMhEdTqrcRwvkhxNGIWhbjiCByCClhgc//NExK0V0YKcAMsMlAEWhTnan//1Ruz11yvOxhqOwMPFxBxMDEaLluwNr25VyvLBFDZWmW0G4vGvbWuaMAArV5YcYOeuY82p2D9aPeL4er2h1PC/XGf6/ZDXK1pHOLXb//NExKgdCmqkAMvKubs2d4Sr8l1nTQhF3f//TuVqPHrCKsKQEZFpVKlcD+NKQvyOe0fZezKzqutWlYwqXcU5Wc1m/T5W+3///uqdv//+xzukjOotCMRlIx8hCbHepz+H//NExIYR2Qq4AMMYcHJDupyEACEIQ5zEABDHcWgQgi7OLcIxZHWAwsqe3/////O//X/PxXXt3ceqRNusxW8jZGlO1SNU25Y+xHGuq2DcpXEI0UEIPweGkB2IQQOHhQiB//NExJEVmwa0AHiEucBy5JgcOYUHViEE4oCixKuPkqEK///83//////////n7/////+P6eVm6upImdTKLuks7JdktR4clMOm0dCs0ogOyw9KVxYUJMQhRcoJxCDscQKi//NExI0TWxq4ACgQvAlW5pzDYLP0JWX/kgKfj///////A////0Y+jLv//9HdWMVSxpKzuaynVoheiHG0VFQ53Nmm5qFBs55g2PGo4gjDYXjURQGjBceHhsFgW7itsBPY//NExJISQxq8AABQveQA4HRKc6FqtsQtPqRkgUGQHIyOdz889kZnSzDSCZnOeVJLSEujHf///vszEmNf//5nqVpQoCXK8t6HrR7DvCoK4NIVxW0CWooiErWmVrmkb0ph//NExJwR+t68AAhOuS6KGrbSn8Tt6321bc3+wSxRjV8Fy46OA2IAUMn/CxDCgwEjxQaRTIjq9//JRFRkIgoXX///+lC64Y2ZOdNSmWa7DPVJITE4mcSi+sP2/yNuku03//NExKcREe6kAHlEmDuuzPOJt1AYJo9B2aiHjvBYdFlCBgcOjwUMKOZeX/+6FY4iLjTCcBp8j///udXVqjgRpzwjXXYZLMqSZwg69sF1Ys0eWpBFr9czu619v1GqcpXL//NExLUReWawAMMKlMyA1oNr/IzFXEOhUXB1ZpOOPv/6/vSGZCqxoTPG////yy3yRZWN4yci2oOetTkZIgeyIN9J0waklJNZj11j/Vp877C0FoLCsBScQue2qwtckZDN//NExMISiWawAMMKlBE5MSMKPo0lEAoUCodOh310M///ofLDyIzskcU/KdR9SS8hZSVY+KCXtfRtc52YrzdNy9rPC7na3YUXbJUidceD4ksliYpXmooIk1ip1rHsxZg1//NExMoRcWKwAMMQlKeaxZ23///9DULV0QXHlpLj8BkjNFbUu2jK7BkRdZAN9CuC4RBeDuZFShanqpnjSyLh4cplmWky9Ich6ufRWjMONF3H1pIc8aZOsWns32mGfP9c//NExNcRcOaoAMPScMqdst90tgCOjBtj2Rf///Uq0WDSZZySc1VB/3xV1LUcm5lyIkClZSShe9LWNq7kaaFI3GVq7mFb2ilY3JS2d6pJ5JLojjWs4X6/avdUUu6ZLRFE//NExOQSEOKkAMYScGgfUbvt879+2Ry9nS3uW56rdn///MvdprhINizdgwsNKFR1blV1J8UGt8t8BgA3CbjcJGozeL4WES4B2DlEQA0h5RGBrgsUKNbX3r7zvP7trr5R//NExO4WCVacAMPMlOkw5BCVzIylsgOiBw8Eb3V+det1A4DKDFeFhEtWuLyRIZEAThJQxCS9R2AoRRiEl0JITtCwJQAaAxjNNJEqV9Z/FmjXt769vn51979v/37blSAW//NExOgWcVKcAM4MlCjU6z3s23vN9pGuSMR09AEO3+ntIc5vSwobrLBEOFqPBm7KQQLgBggeIdenSJgNATHQscdcVRJFQ7DsMW+z2Fz+4b/vNf/d7+m6f92is4k4UYTm//NExOETGVakAMPGlQ4ij4W5wggwHi4+Pcw4BLfrStR8wIRKNugZEzRnoYI44iDMgJfixgihnwNUoPMCMRfgLFNwmaULawulnNVq+dXWsc+95/7//////6/z/9vjt9LN//NExOcU8XKgAMvMlScmrT1TmezpcgxQmkgyjNEJqurG0wwnSqkjbi1ExlvRkRpu7HCYsbxNAEkSY1gCnIeKYArY56A7mOETdb1nnX2q0tMu2u/3qjIOOJHhRBCi4MpB//NExOYUWYKgAMYKlcQwVUD0FIVT///9eirlMOIicdsYRjweoSh04qcGEx4PKxAlGfKgQ3HUQMLMhxw9ApAQOZiyS0omHWXcpqnte+vfej7/eurOImQI2EQRxEfAVSBY//NExOcU0YKgAM4MlKHDo84Ci8IvGOav///vLqiBUpXGNBTAPSthYFFqhKo7rPQBBkuoAQgcZfBEWWszAombL7Awm+ib/WMLWuWst5bw/+f++d537P//XWxZRKMVaHKJ//NExOYTEYqgAMyElHKJLFHQZBQUb///9Vq4PMmkGH3JzBUSZs0uJ9Q4EvtGpvWQMPX4I4JuhpiuRiC2nkTssBxMb+WSNuSFfFYGq4+bf1zttZ7f/8zI5EOxWiNQ65g2//NExOwWGZaUANTKlDHhJ3FVE3QD///iH9XpADBSPFgAAJYcWpIAIyk6AVXKGCl0POUW4NWKSSA9SaKGK4nchzt/Nf2iW+dxfrOvrddf/82P9fzW/D982qrmqqZGzHB2//NExOYTuXaYAM4ElKqoKXUEEFBIVd//6nukW2rdQmgmAREcfWBisGDQWbgYNBiESPTyspcRdzvO0ZSNLIhKEktYtqaMplcwur11nUb5r869bW9ev+f0v//vapT9VXp7//NExOoUOZqMANPKlDX1CsxxjqlhSVQoCFQAyHQCHxC5htmK6TCcJ+nZmY7TXeNhIg1ReR6aIlhnlpauoLLi16417Vp7etaYvvVVZisYy9DU5V9Xelnt0MZ/hncURSev//NExOwV6aZ8ANvGlP1d1HGWJUfe4FEUyFUvqfugdmJEspStFxJahMZ9rUWKiC4MgwPjxKWCUUyp0BC0BAyCg9gVE4mSPUJmJAZ0k4adtSVeRavouaJxhhbnanYlFqq5//NExOcTgbJgAOPGlCErgDOkGJ79tGJVI1I1VNdnypb2ccvWKSzS2bm5kLROoXLtbI3UTkVJEOuxC1zcpFjrlHYm2M1aHcVqs2mKuVt7tHb6xTn2/qvGlKzjnH6VZ7d///NExOwUuao4AMvElDTskz4vNnWns/1tf21+PkOfz+0HZMA0NXJh2lluqZSFNROEoEZhnAQajBjLJ9/LZrSQKoQHhcdFBxpZJyXHhGPOzN9UUXJGHKATPuYnW8wllJtD//NExOwUqGooAMvSKCwdVUK10aWhx2sXBmnqr3a6DqZJ59yY6CdA5JbWpDEBA0GBE307OnaHGISQMzY0V81eyKshFAeNlDJgjEzm124ZpTepkZ/csis6kvKexiP8+5ec//NExOwWKRYgAMJGcdf31zd/2fiJoRpynOGesgZpk1pM6qq0aFXRoR3LBU0hm6IGFVkWYsiNxctNMxQlKDPcFd7avfIqQQJ+7kPJFJASWiYpuccZtm7Qb7ug1YbX5J9k//NExOYSwLoYAMDGTD++favFvgyx91uPYnxunjuX7QZp7VOt0VLdiq5W5vFM0gkeEEaDDDwWpDqRikczjlHV1NsHEXkwozR2hU1IRF7H/R9VamTzHb5vtHwcql6mPvgG//NExO4VqjoMAJjGuX9dr9bf/ffTLp2Gv/i9uOrVBkrd6klpO5lrckQwaUiYuDi5pS2O9U4qbFlS2Bx1zjaj4NWjG/SmhQjumyZnSyBWl/chK6S7dhQcfolEjWRdBW6s//NExOoVab4MAJjGla0hbOCOgMvGCpNaBmtTuhU6N0UWBL3QpXmERm+xjOOGUERf7lD0GOjmH6DjkaWvk679Tsk5DYItY1BUODBq6YMFcfK8wVzP9b7l+P1QHSP+u2DY//NExOcUUS4MAJjGcbA6GMNffpjagZfWqgMVocMUUrysXc879I44jObIel8cQ5lA4xSGC9iUEPlQTq3mMaGyrUqhmHcZCQLBvedChWNdkhYwOqJEs68iKseaDUc+igiI//NExOgTKcIQAJjGlJOSUSetj2HmIpHNh6oGoRzQpZVI39lEWiNuM1AoSolaLonLItTomwkbBKiQyAVEsaoBAhwEMYSHwESBkUDwVARJw8Egk+wBa0kgpwWIu+MApKgK//NExO4U0ZoMAJiGlbrX+gUf2ehkCkmUhMzVTEFNRTMuMTAwVVVVVVVVVVVVVVVVVVVVVVVVVVVVVVVVVVVVVVVVVVVVVVVVVVVVVVVVVVVVVVVVVVVVVVVVVVVVVVVV//NExO0U0R4MAMDGcFVVVVVVVVVVVVVVVVVVVVVVVVVVVVVVVVVVVVVVVVVVVVVVVVVVVVVVVVVVVVVVVVVVVVVVVVVVVVVVVVVVVVVVVVVVVVVVVVVVVVVVVVVVVVVV//NExOwUyMncAMGGcFVVVVVVVVVVVVVVVVVVVVVVVVVVVVVVVVVVVVVVVVVVVVVVVVVVVVVVVVVVVVVVVVVVVVVVVVVVVVVVVVVVVVVVVVVVVVVVVVVVVVVVVVVVVVVV\" type=\"audio/x-wav\" />\n",
              "                    Your browser does not support the audio element.\n",
              "                </audio>\n",
              "              "
            ]
          },
          "metadata": {}
        }
      ]
    },
    {
      "cell_type": "code",
      "source": [
        "# gTTS사용하여 소리 나오게 하기\n",
        "from gtts import gTTS\n",
        "from IPython.display import Audio\n",
        "\n",
        "#사용자 정의함수 이용\n",
        "def speaker(stmt):\n",
        "    kor_wav = gTTS(stmt, lang = 'ko')\n",
        "    kor_wav.save('kor.wav')\n",
        "    display(Audio('kor.wav', autoplay=True))\n",
        "\n",
        "menu = '''[커피 주문 머신 메뉴]\n",
        "-----------------------------\n",
        "- 아메리카노: 2500원\n",
        "- 카페라테:   3000원\n",
        "- 카페모카:   3000원\n",
        "-----------------------------\n",
        "원하시는 커피종류와 잔수를 입력하세요.'''\n",
        "print(menu)\n",
        "speaker(menu)\n",
        "\n",
        "speaker('아메리카노 몇잔')\n",
        "coffee1 = int(input('아메리카노 몇잔: '))\n",
        "speaker('카페라테   몇잔')\n",
        "coffee2 = int(input('카페라테   몇잔: '))\n",
        "speaker('카페모카   몇잔')\n",
        "coffee3 = int(input('카페모카   몇잔: '))\n",
        "\n",
        "total = 2500*coffee1 + 3000*coffee2 + 3000*coffee3\n",
        "print(f\"지불하실 총 금액은 {total:,}원 입니다.\")\n",
        "speaker(f\"지불하실 총 금액은 {total:,}원 입니다.\")\n",
        "money = int(input('돈을 넣어 주세요: '))\n",
        "\n",
        "change = total-money   # 거스름돈\n",
        "if total > money:\n",
        "    print(f\"돈이 부족합니다. {change:,}원을 더 넣어주세요.\")\n",
        "else:\n",
        "    print(f\"거스름돈은 {abs(change):,}입니다. 커피 맛있게 드세요~\")"
      ],
      "metadata": {
        "id": "6sWqWZJgFif_"
      },
      "execution_count": null,
      "outputs": []
    },
    {
      "cell_type": "markdown",
      "source": [
        "### [추가]"
      ],
      "metadata": {
        "id": "fMXr6OaWFxkL"
      }
    },
    {
      "cell_type": "code",
      "source": [],
      "metadata": {
        "id": "Bk61qs4rHReY"
      },
      "execution_count": null,
      "outputs": []
    },
    {
      "cell_type": "code",
      "source": [
        "# 윈도우 pc에서 사용해야 함\n",
        "import win32com.client\n",
        "out=win32com.client.Dispatch('SAPI.SpVoice')\n",
        "out.Speak('오늘 날씨가 너무 좋아요!')"
      ],
      "metadata": {
        "id": "LdVMUR8hF0kr"
      },
      "execution_count": null,
      "outputs": []
    }
  ]
}