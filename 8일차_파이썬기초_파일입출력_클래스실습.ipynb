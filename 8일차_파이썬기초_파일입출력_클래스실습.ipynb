{
  "nbformat": 4,
  "nbformat_minor": 0,
  "metadata": {
    "colab": {
      "provenance": [],
      "authorship_tag": "ABX9TyMAN0DuJLV91puZSG+K4m1Q",
      "include_colab_link": true
    },
    "kernelspec": {
      "name": "python3",
      "display_name": "Python 3"
    },
    "language_info": {
      "name": "python"
    }
  },
  "cells": [
    {
      "cell_type": "markdown",
      "metadata": {
        "id": "view-in-github",
        "colab_type": "text"
      },
      "source": [
        "<a href=\"https://colab.research.google.com/github/ParkGeunHae/dataAnalysis/blob/main/8%EC%9D%BC%EC%B0%A8_%ED%8C%8C%EC%9D%B4%EC%8D%AC%EA%B8%B0%EC%B4%88_%ED%8C%8C%EC%9D%BC%EC%9E%85%EC%B6%9C%EB%A0%A5_%ED%81%B4%EB%9E%98%EC%8A%A4%EC%8B%A4%EC%8A%B5.ipynb\" target=\"_parent\"><img src=\"https://colab.research.google.com/assets/colab-badge.svg\" alt=\"Open In Colab\"/></a>"
      ]
    },
    {
      "cell_type": "markdown",
      "source": [
        "# 파일입출력&클래스 실습"
      ],
      "metadata": {
        "id": "F2ClBVq3miG_"
      }
    },
    {
      "cell_type": "markdown",
      "source": [
        "## 파일 입출력 문제"
      ],
      "metadata": {
        "id": "iTLwK20qmnFl"
      }
    },
    {
      "cell_type": "markdown",
      "source": [
        "### [실습문제] 회원 목록 읽어와서 팀으로 배정하기"
      ],
      "metadata": {
        "id": "NxTfjpg4mqql"
      }
    },
    {
      "cell_type": "code",
      "execution_count": 14,
      "metadata": {
        "colab": {
          "base_uri": "https://localhost:8080/"
        },
        "id": "3CJQeAH3mTze",
        "outputId": "7da71064-05a2-406b-b00c-06d2550783d5"
      },
      "outputs": [
        {
          "output_type": "stream",
          "name": "stdout",
          "text": [
            "전체 인원 : 39\n",
            "섞기 전 : ['1,고정미', '2,권지선', '3,김미영', '4,김선형', '5,김현아', '6,김혜정', '7,박성미', '8,박윤경', '9,박지연', '10,박지영', '11,박효미', '12,서남미', '13,송인경', '14,안지영', '15,오현주', '16,유지연', '17,유지은', '18,윤노숙', '19,윤영순', '20,이미경', '21,이수진', '22,이숙미', '23,이정', '24,이주현', '25,인선미', '26,임미숙', '27,임은희', '28,전유진', '29,전현주', '30,전혜진', '31,조현정', '32,천윤희', '33,최민지', '34,최원희', '35,최준희', '36,한진희', '37,황수산나', '38,정재순', '39,권명숙'] \n",
            "리스트를 1번 섞었습니다.\n",
            "리스트를 2번 섞었습니다.\n",
            "리스트를 3번 섞었습니다.\n",
            "리스트를 4번 섞었습니다.\n",
            "리스트를 5번 섞었습니다.\n",
            "섞은 후 : ['31,조현정', '39,권명숙', '38,정재순', '36,한진희', '10,박지영', '26,임미숙', '2,권지선', '18,윤노숙', '22,이숙미', '34,최원희', '25,인선미', '20,이미경', '4,김선형', '5,김현아', '37,황수산나', '33,최민지', '8,박윤경', '16,유지연', '14,안지영', '1,고정미', '23,이정', '7,박성미', '24,이주현', '28,전유진', '17,유지은', '21,이수진', '3,김미영', '12,서남미', '15,오현주', '29,전현주', '27,임은희', '30,전혜진', '6,김혜정', '19,윤영순', '9,박지연', '11,박효미', '35,최준희', '13,송인경', '32,천윤희']\n",
            "1팀 : ['31,조현정', '39,권명숙', '38,정재순', '36,한진희']\n",
            "2팀 : ['10,박지영', '26,임미숙', '2,권지선', '18,윤노숙']\n",
            "3팀 : ['22,이숙미', '34,최원희', '25,인선미', '20,이미경']\n",
            "4팀 : ['4,김선형', '5,김현아', '37,황수산나', '33,최민지']\n",
            "5팀 : ['8,박윤경', '16,유지연', '14,안지영', '1,고정미']\n",
            "6팀 : ['23,이정', '7,박성미', '24,이주현', '28,전유진']\n",
            "7팀 : ['17,유지은', '21,이수진', '3,김미영', '12,서남미']\n",
            "8팀 : ['15,오현주', '29,전현주', '27,임은희', '30,전혜진']\n",
            "9팀 : ['6,김혜정', '19,윤영순', '9,박지연', '11,박효미']\n",
            "10팀 : ['35,최준희', '13,송인경', '32,천윤희']\n"
          ]
        }
      ],
      "source": [
        "# 1.파일 열고 회원 목록 읽기\n",
        "f=open('./members.txt','r')\n",
        "fw=open('./teams.txt','w')\n",
        "members=[member.strip() for member in f.readlines()]  #리스트를 만들면서 데이터 불러오기\n",
        "print(f'전체 인원 : {len(members)}')\n",
        "print(f'섞기 전 : {members} ')\n",
        "\n",
        "\n",
        "# 2.리스트 섞기\n",
        "import random\n",
        "for i in range(5):\n",
        "    random.shuffle(members)\n",
        "    print(f'리스트를 {i+1}번 섞었습니다.')\n",
        "print(f'섞은 후 : {members}')\n",
        "\n",
        "# 3. 팀별로 배정하기\n",
        "member_cnt=4\n",
        "teams_dic,team=dict(),list()   #팀:회원 저장 딕셔너리, 임시 저장 리스트(team을 tmp로 바꿔도 됨)\n",
        "i=0\n",
        "for idx,member in enumerate(members):\n",
        "    if idx>0 and idx%member_cnt==0:\n",
        "        teams_dic[f'{i+1}팀']=team\n",
        "        print(f'{i+1}팀 : {team}')    #화면 출력\n",
        "        fw.write(f'{i+1}팀 : {team}\\n') #파일 출력\n",
        "        i+=1\n",
        "        team=[]\n",
        "    team.append(member)\n",
        "\n",
        "if team:\n",
        "        teams_dic[f'{i+1}팀']=team\n",
        "        print(f'{i+1}팀 : {team}')\n",
        "        fw.write(f'{i+1}팀 : {team}')\n",
        "f.close() #파일 객체 닫기\n",
        "fw.close() #파일 객체 닫기\n",
        "\n"
      ]
    },
    {
      "cell_type": "code",
      "source": [
        "import pandas as pd\n",
        "df=pd.read_csv('./members.txt')\n",
        "df"
      ],
      "metadata": {
        "id": "IjDB6rLRn7Y_"
      },
      "execution_count": null,
      "outputs": []
    }
  ]
}