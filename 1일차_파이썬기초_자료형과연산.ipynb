{
  "nbformat": 4,
  "nbformat_minor": 0,
  "metadata": {
    "colab": {
      "provenance": [],
      "authorship_tag": "ABX9TyOoLFQXysLA4WRsXsgSjkdw",
      "include_colab_link": true
    },
    "kernelspec": {
      "name": "python3",
      "display_name": "Python 3"
    },
    "language_info": {
      "name": "python"
    }
  },
  "cells": [
    {
      "cell_type": "markdown",
      "metadata": {
        "id": "view-in-github",
        "colab_type": "text"
      },
      "source": [
        "<a href=\"https://colab.research.google.com/github/ParkGeunHae/dataAnalysis/blob/main/1%EC%9D%BC%EC%B0%A8_%ED%8C%8C%EC%9D%B4%EC%8D%AC%EA%B8%B0%EC%B4%88_%EC%9E%90%EB%A3%8C%ED%98%95%EA%B3%BC%EC%97%B0%EC%82%B0.ipynb\" target=\"_parent\"><img src=\"https://colab.research.google.com/assets/colab-badge.svg\" alt=\"Open In Colab\"/></a>"
      ]
    },
    {
      "cell_type": "markdown",
      "source": [
        "**1. 파이썬 자료형과 연산**"
      ],
      "metadata": {
        "id": "7T2YFUsFp_9e"
      }
    },
    {
      "cell_type": "markdown",
      "source": [],
      "metadata": {
        "id": "535WGVTLp_cm"
      }
    },
    {
      "cell_type": "markdown",
      "source": [
        "#오류"
      ],
      "metadata": {
        "id": "BtBG7gINzBQW"
      }
    },
    {
      "cell_type": "code",
      "source": [
        "a=10      # number\n",
        "b='파이썬' # string\n",
        "print(a+b)"
      ],
      "metadata": {
        "colab": {
          "base_uri": "https://localhost:8080/",
          "height": 184
        },
        "id": "N2ssyGF4qV8m",
        "outputId": "fe43a41f-99fa-48d9-a0e1-a81a5145e96d"
      },
      "execution_count": 4,
      "outputs": [
        {
          "output_type": "error",
          "ename": "TypeError",
          "evalue": "unsupported operand type(s) for +: 'int' and 'str'",
          "traceback": [
            "\u001b[0;31m---------------------------------------------------------------------------\u001b[0m",
            "\u001b[0;31mTypeError\u001b[0m                                 Traceback (most recent call last)",
            "\u001b[0;32m<ipython-input-4-24eb32ef4507>\u001b[0m in \u001b[0;36m<cell line: 3>\u001b[0;34m()\u001b[0m\n\u001b[1;32m      1\u001b[0m \u001b[0ma\u001b[0m\u001b[0;34m=\u001b[0m\u001b[0;36m10\u001b[0m      \u001b[0;31m# number\u001b[0m\u001b[0;34m\u001b[0m\u001b[0;34m\u001b[0m\u001b[0m\n\u001b[1;32m      2\u001b[0m \u001b[0mb\u001b[0m\u001b[0;34m=\u001b[0m\u001b[0;34m'파이썬'\u001b[0m \u001b[0;31m# string\u001b[0m\u001b[0;34m\u001b[0m\u001b[0;34m\u001b[0m\u001b[0m\n\u001b[0;32m----> 3\u001b[0;31m \u001b[0mprint\u001b[0m\u001b[0;34m(\u001b[0m\u001b[0ma\u001b[0m\u001b[0;34m+\u001b[0m\u001b[0mb\u001b[0m\u001b[0;34m)\u001b[0m\u001b[0;34m\u001b[0m\u001b[0;34m\u001b[0m\u001b[0m\n\u001b[0m",
            "\u001b[0;31mTypeError\u001b[0m: unsupported operand type(s) for +: 'int' and 'str'"
          ]
        }
      ]
    },
    {
      "cell_type": "markdown",
      "source": [
        "1. 파이썬 버전 출력"
      ],
      "metadata": {
        "id": "Nea6NvpOzbfN"
      }
    },
    {
      "cell_type": "code",
      "source": [
        "!python -V"
      ],
      "metadata": {
        "colab": {
          "base_uri": "https://localhost:8080/"
        },
        "id": "GZ00D9Snzlru",
        "outputId": "d61587b7-33ed-41f1-89e0-7782762e583f"
      },
      "execution_count": 5,
      "outputs": [
        {
          "output_type": "stream",
          "name": "stdout",
          "text": [
            "Python 3.10.12\n"
          ]
        }
      ]
    },
    {
      "cell_type": "code",
      "source": [
        "import sys\n",
        "print('---',sys.version)\n",
        "100+400\n"
      ],
      "metadata": {
        "colab": {
          "base_uri": "https://localhost:8080/"
        },
        "id": "m8aTls0XzrCj",
        "outputId": "58aa1dc2-2915-4a73-b5e5-cfd98565a31f"
      },
      "execution_count": 9,
      "outputs": [
        {
          "output_type": "stream",
          "name": "stdout",
          "text": [
            "--- 3.10.12 (main, Nov 20 2023, 15:14:05) [GCC 11.4.0]\n"
          ]
        },
        {
          "output_type": "execute_result",
          "data": {
            "text/plain": [
              "500"
            ]
          },
          "metadata": {},
          "execution_count": 9
        }
      ]
    },
    {
      "cell_type": "code",
      "source": [
        "# 2. 파이썬 설치 위치\n",
        "print(sys.executable)"
      ],
      "metadata": {
        "colab": {
          "base_uri": "https://localhost:8080/"
        },
        "id": "Vwz6B01OzwIR",
        "outputId": "ac64882a-3e22-4f33-d94e-7d0e8eb22cb7"
      },
      "execution_count": 11,
      "outputs": [
        {
          "output_type": "stream",
          "name": "stdout",
          "text": [
            "/usr/bin/python3\n"
          ]
        }
      ]
    },
    {
      "cell_type": "code",
      "source": [
        "# 물리적 폴더 위치\n",
        "import os\n",
        "os.getcwd()"
      ],
      "metadata": {
        "colab": {
          "base_uri": "https://localhost:8080/",
          "height": 35
        },
        "id": "tY8cS4R70sMQ",
        "outputId": "7a8ff118-f4f8-450e-887d-bd338bc96ae3"
      },
      "execution_count": 12,
      "outputs": [
        {
          "output_type": "execute_result",
          "data": {
            "text/plain": [
              "'/content'"
            ],
            "application/vnd.google.colaboratory.intrinsic+json": {
              "type": "string"
            }
          },
          "metadata": {},
          "execution_count": 12
        }
      ]
    },
    {
      "cell_type": "code",
      "source": [
        "10+3*4"
      ],
      "metadata": {
        "colab": {
          "base_uri": "https://localhost:8080/"
        },
        "id": "ObnpSVpa2HXH",
        "outputId": "e4d32694-5791-4685-c9db-aa8f800b280e"
      },
      "execution_count": 13,
      "outputs": [
        {
          "output_type": "execute_result",
          "data": {
            "text/plain": [
              "22"
            ]
          },
          "metadata": {},
          "execution_count": 13
        }
      ]
    },
    {
      "cell_type": "code",
      "source": [
        "#문제1: 10 + 3 x 4 결과 출력\n",
        "print(10+3*4)\n",
        "#문제2: 아이폰 15대를 가지고 있다. 아이폰의 가격이 130만원 일 때 총 금액은?\n",
        "print(15*1300000)\n",
        "#문제3: 주어진 임의의 자연수가 홀수인지 짝수인지 판별하는 방법은?\n",
        "a=int(input('숫자를 입력하시오'))\n",
        "if a%2==0:\n",
        "  print('짝수')\n",
        "else:\n",
        "  print('홀수')\n",
        "#문제4: 2x2x2x5x5x5x5x3x3x3x3을 제곱형태로 나타낸 후 그 결과 출력하기\n",
        "print(2**3*5**4*3**4)"
      ],
      "metadata": {
        "colab": {
          "base_uri": "https://localhost:8080/"
        },
        "id": "6tr_iTde3TYh",
        "outputId": "ac337fc4-00e3-4ddb-f199-9a4544685db6"
      },
      "execution_count": 22,
      "outputs": [
        {
          "output_type": "stream",
          "name": "stdout",
          "text": [
            "22\n",
            "19500000\n",
            "숫자를 입력하시오2\n",
            "짝수\n",
            "405000\n"
          ]
        }
      ]
    },
    {
      "cell_type": "code",
      "source": [
        "#파이썬 자료형(Data Type)확인 함수 : type()\n",
        "print(type(123))\n",
        "print(type(3.14))\n",
        "print(type('123'))\n",
        "print(type([123]))\n",
        "print(type((123,)))\n",
        "print(type({'123':123}))\n",
        "print(type({123}))\n",
        "print(type(True))\n"
      ],
      "metadata": {
        "colab": {
          "base_uri": "https://localhost:8080/"
        },
        "id": "ltn6T3kr4td2",
        "outputId": "138fba5f-f11d-4777-d78a-2acd2bb48e0d"
      },
      "execution_count": 24,
      "outputs": [
        {
          "output_type": "stream",
          "name": "stdout",
          "text": [
            "<class 'int'>\n",
            "<class 'float'>\n",
            "<class 'str'>\n",
            "<class 'list'>\n",
            "<class 'tuple'>\n",
            "<class 'dict'>\n",
            "<class 'set'>\n",
            "<class 'bool'>\n"
          ]
        }
      ]
    },
    {
      "cell_type": "markdown",
      "source": [
        "\n",
        "---\n",
        "\n"
      ],
      "metadata": {
        "id": "-Nb66YDREXDI"
      }
    },
    {
      "cell_type": "markdown",
      "source": [
        "###2.표준 입출력"
      ],
      "metadata": {
        "id": "063suqAlEfCu"
      }
    },
    {
      "cell_type": "code",
      "source": [
        "#문자열 포맷팅\n",
        "a=input('키보드로 입력해 주세요')\n",
        "print('변수 a의 값은',a,'입니다.')\n",
        "print('변수 a의 값은 %s 입니다.' %a)\n",
        "print(f'변수 a의 값은 {a}입니다.')"
      ],
      "metadata": {
        "colab": {
          "base_uri": "https://localhost:8080/"
        },
        "id": "y7BVJZV--1mD",
        "outputId": "37d97a51-45a0-42db-e71d-3b1439456f3a"
      },
      "execution_count": 28,
      "outputs": [
        {
          "output_type": "stream",
          "name": "stdout",
          "text": [
            "키보드로 입력해 주세요사과\n",
            "변수 a의 값은 사과 입니다.\n",
            "변수 a의 값은 사과 입니다.\n",
            "변수 a의 값은 사과입니다.\n"
          ]
        }
      ]
    },
    {
      "cell_type": "code",
      "source": [
        "#키보드로 두 수를 입력 받아 간단한 계산기 프로그램 만들기\n",
        "#덧셈, 뺄셈, 곱셈, 몫, 나머지를 출력하는 프로그램을 만들어 보세요.\n",
        "\n",
        "a=int(input('첫번째 숫자 : '))\n",
        "b=int(input('두번째 숫자 : '))\n",
        "\n",
        "print('---------------------')\n",
        "\n",
        "print(f'덧셈: {a}+{b}=',a+b)\n",
        "print(f'뺄셈: {a}-{b}=',a-b)\n",
        "print(f'곱셈: {a}*{b}=',a*b)\n",
        "print(f'몫: {a}//{b}=',a//b)\n",
        "print(f'나머지: {a}%{b}=',a%b)\n"
      ],
      "metadata": {
        "colab": {
          "base_uri": "https://localhost:8080/"
        },
        "id": "S4ZiU94HGLLV",
        "outputId": "c2561ba2-54e6-4d4f-98f1-39c2c41d8587"
      },
      "execution_count": 33,
      "outputs": [
        {
          "output_type": "stream",
          "name": "stdout",
          "text": [
            "첫번째 숫자 : 50\n",
            "두번째 숫자 : 3\n",
            "---------------------\n",
            "덧셈: 50+3= 53\n",
            "뺄셈: 50-3= 47\n",
            "곱셈: 50*3= 150\n",
            "몫: 50//3= 16\n",
            "나머지: 50%3= 2\n"
          ]
        }
      ]
    },
    {
      "cell_type": "code",
      "source": [
        "val=input('첫번째 숫자 :')\n",
        "print(f'a의 값은: {val:>10}')   #val값을 오른쪽 정렬, 10자리 차지\n",
        "print(f'a의 값은: {val:<10}')   #val값을 ㅍㄷ왼쪽 정렬, 10자리 차지\n",
        "print(f'a의 값은: {val:^10}')   #val값을 가운데 정렬, 10자리 차지"
      ],
      "metadata": {
        "colab": {
          "base_uri": "https://localhost:8080/"
        },
        "id": "kE_j1mOZH7Xk",
        "outputId": "bdeadeb4-ebda-402c-bb26-0bdf4f958e9b"
      },
      "execution_count": 36,
      "outputs": [
        {
          "output_type": "stream",
          "name": "stdout",
          "text": [
            "첫번째 숫자 :12345\n",
            "a의 값은:      12345\n",
            "a의 값은: 12345     \n",
            "a의 값은:   12345   \n"
          ]
        }
      ]
    },
    {
      "cell_type": "code",
      "source": [
        "#키보드로 두 수를 입력 받아 계산하는 프로그램 만들기\n",
        "#속력과 거리를 입력 받아 시간을 계산하는 프로그램을 만들어 보세요.\n",
        "\n",
        "\n",
        "velocity=float(input('속력를 입력해 주세요(km/h) : '))\n",
        "distance=float(input('거리를 입력해 주세요(km/h) : '))\n",
        "print('-'*30)\n",
        "print(f'속력 : {velocity} km/h ')\n",
        "print(f'거리 : {distance} km ')\n",
        "print(f'시간 : {distance/velocity} h')"
      ],
      "metadata": {
        "colab": {
          "base_uri": "https://localhost:8080/"
        },
        "id": "Kgg_nWUVK-SO",
        "outputId": "77384c00-5fc7-40b1-e12f-61d511cb54f1"
      },
      "execution_count": 39,
      "outputs": [
        {
          "output_type": "stream",
          "name": "stdout",
          "text": [
            "속력를 입력해 주세요(km/h) : 100\n",
            "거리를 입력해 주세요(km/h) : 340\n",
            "------------------------------\n",
            "속력 : 100.0 km/h \n",
            "거리 : 340.0 km \n",
            "시간 : 3.4 h\n"
          ]
        }
      ]
    },
    {
      "cell_type": "markdown",
      "source": [
        "###내장된 수학함수"
      ],
      "metadata": {
        "id": "SFpOsTgSO-SO"
      }
    },
    {
      "cell_type": "code",
      "source": [
        "import math\n",
        "print(math.pi)"
      ],
      "metadata": {
        "colab": {
          "base_uri": "https://localhost:8080/"
        },
        "id": "qgXRC-Y5M2-a",
        "outputId": "90c26f7d-58cb-4707-e199-851361042361"
      },
      "execution_count": 40,
      "outputs": [
        {
          "output_type": "stream",
          "name": "stdout",
          "text": [
            "3.141592653589793\n"
          ]
        }
      ]
    },
    {
      "cell_type": "code",
      "source": [
        "#문제1: 반지름이 4인 원의 넓이 출력\n",
        "r=4\n",
        "print(f'원의 넓이: {round(math.pi*math.pow(r,2),4)}')\n",
        "#문제2: 3.14 곱하기 2 나누기 7의 값을 반올림하여 계산 결과 출력\n",
        "print(f'계산결과:{round(3.14*2/7)}')\n",
        "# 문제3: 원주율을 3.14로 만들어서 반지름이 4인 원의 둘레의 길이 출력\n",
        "print(f'원의 둘레:{2*3.14*r}')"
      ],
      "metadata": {
        "colab": {
          "base_uri": "https://localhost:8080/"
        },
        "id": "G9cj1wW5PLD1",
        "outputId": "8be8a9e6-6207-463e-c303-3b089b2e8e22"
      },
      "execution_count": 48,
      "outputs": [
        {
          "output_type": "stream",
          "name": "stdout",
          "text": [
            "원의 넓이: 50.2655\n",
            "계산결과:1\n",
            "원의 둘레:25.12\n"
          ]
        }
      ]
    },
    {
      "cell_type": "code",
      "source": [],
      "metadata": {
        "id": "yCXOiAcTQcuW"
      },
      "execution_count": null,
      "outputs": []
    }
  ]
}