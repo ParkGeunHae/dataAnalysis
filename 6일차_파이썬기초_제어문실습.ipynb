{
  "nbformat": 4,
  "nbformat_minor": 0,
  "metadata": {
    "colab": {
      "provenance": [],
      "authorship_tag": "ABX9TyMDaRfikGyrE8cz6gf5F86D",
      "include_colab_link": true
    },
    "kernelspec": {
      "name": "python3",
      "display_name": "Python 3"
    },
    "language_info": {
      "name": "python"
    }
  },
  "cells": [
    {
      "cell_type": "markdown",
      "metadata": {
        "id": "view-in-github",
        "colab_type": "text"
      },
      "source": [
        "<a href=\"https://colab.research.google.com/github/ParkGeunHae/dataAnalysis/blob/main/6%EC%9D%BC%EC%B0%A8_%ED%8C%8C%EC%9D%B4%EC%8D%AC%EA%B8%B0%EC%B4%88_%EC%A0%9C%EC%96%B4%EB%AC%B8%EC%8B%A4%EC%8A%B5.ipynb\" target=\"_parent\"><img src=\"https://colab.research.google.com/assets/colab-badge.svg\" alt=\"Open In Colab\"/></a>"
      ]
    },
    {
      "cell_type": "markdown",
      "source": [
        "# 제어문(조건문,반복문) 실습문제 풀이"
      ],
      "metadata": {
        "id": "oDrtROLoJe1y"
      }
    },
    {
      "cell_type": "markdown",
      "source": [
        "### [실습문제]while 반복문(퀴즈 맞히기)"
      ],
      "metadata": {
        "id": "a7619cC7KRY6"
      }
    },
    {
      "cell_type": "code",
      "source": [
        "print('프로그램을 작성할 때 일정한 구간의 명령을 \\n반복해서 실행하도록 구성한 문장을 무엇이라 부르는가')\n",
        "while True:\n",
        "    answer=input('정답:')\n",
        "    if answer=='반복문':\n",
        "        print('정답!')\n",
        "        break\n",
        "    elif answer=='반복':\n",
        "        print('좀 더 고민해보세요~')\n",
        "        continue\n",
        "    print('오답')\n",
        "print('프로그램 종료!')"
      ],
      "metadata": {
        "colab": {
          "base_uri": "https://localhost:8080/"
        },
        "id": "BZIsnoTmKbLS",
        "outputId": "78a80884-27d9-4a40-bf6e-58963c8bb9d1"
      },
      "execution_count": 4,
      "outputs": [
        {
          "output_type": "stream",
          "name": "stdout",
          "text": [
            "프로그램을 작성할 때 일정한 구간의 명령을 \n",
            "반복해서 실행하도록 구성한 문장을 무엇이라 부르는가\n",
            "정답:반복\n",
            "좀 더 고민해보세요~\n",
            "정답:제어\n",
            "오답\n",
            "정답:반복문\n",
            "정답!\n",
            "프로그램 종료!\n"
          ]
        }
      ]
    },
    {
      "cell_type": "markdown",
      "source": [
        "## [실습문제]금리 계산하기"
      ],
      "metadata": {
        "id": "ynJVG58WNk0n"
      }
    },
    {
      "cell_type": "code",
      "source": [
        "seed,target=1000,2000        #seed는 출력 때문에 작성함\n",
        "balance,interest=1000,0.07\n",
        "year=0\n",
        "while balance<=target:\n",
        "    balance=balance+balance*interest\n",
        "    year+=1  # year=year+1\n",
        "    print(f'year:{year}, balance:{round(balance)}')\n",
        "print(f'{seed}원이 {target}이 되는데 {year}년이 걸립니다')"
      ],
      "metadata": {
        "colab": {
          "base_uri": "https://localhost:8080/"
        },
        "id": "ZwfABZceNsTH",
        "outputId": "f0fc7eb9-4f71-42b0-b34e-78c5373168de"
      },
      "execution_count": 8,
      "outputs": [
        {
          "output_type": "stream",
          "name": "stdout",
          "text": [
            "year:1, balance:1070\n",
            "year:2, balance:1145\n",
            "year:3, balance:1225\n",
            "year:4, balance:1311\n",
            "year:5, balance:1403\n",
            "year:6, balance:1501\n",
            "year:7, balance:1606\n",
            "year:8, balance:1718\n",
            "year:9, balance:1838\n",
            "year:10, balance:1967\n",
            "year:11, balance:2105\n",
            "1000원이 2000이 되는데 11년이 걸립니다\n"
          ]
        }
      ]
    },
    {
      "cell_type": "markdown",
      "source": [
        "### [실습문제]1~N까지 3의 배수 합계 구하기"
      ],
      "metadata": {
        "id": "dlI-wyBpJrRK"
      }
    },
    {
      "cell_type": "code",
      "execution_count": null,
      "metadata": {
        "id": "tnvDEUyrH46Y"
      },
      "outputs": [],
      "source": [
        "result=sum([i for i in range(1,1001) if i%3==0])\n",
        "print(f'')\n",
        "\n"
      ]
    },
    {
      "cell_type": "markdown",
      "source": [
        "### [실습문제]숫자 입력 받아 별 출력하기"
      ],
      "metadata": {
        "id": "yxYBThfAR6I0"
      }
    },
    {
      "cell_type": "code",
      "source": [
        "star='⭐'\n",
        "numbers=input('숫자 입력 여러 개 입력(0~9): ')\n",
        "for number in numbers:\n",
        "    for _ in range(int(number)*2):\n",
        "        print(star,end='')\n",
        "    print()"
      ],
      "metadata": {
        "colab": {
          "base_uri": "https://localhost:8080/"
        },
        "id": "iZQkQ2M1SBZO",
        "outputId": "d5f441d2-fadd-4733-d9b3-f79c475bc093"
      },
      "execution_count": 12,
      "outputs": [
        {
          "output_type": "stream",
          "name": "stdout",
          "text": [
            "숫자 입력 여러 개 입력(0~9): 123\n",
            "⭐⭐\n",
            "⭐⭐⭐⭐\n",
            "⭐⭐⭐⭐⭐⭐\n"
          ]
        }
      ]
    },
    {
      "cell_type": "code",
      "source": [
        "num=list((input('숫자를 여러개 입력하세요 : ')))\n",
        "# print(num)\n",
        "\n",
        "for i in num:\n",
        "    print('\\u2605'*int(i)*2)"
      ],
      "metadata": {
        "colab": {
          "base_uri": "https://localhost:8080/"
        },
        "id": "j1SYdBwLTMVF",
        "outputId": "400cd1ae-bc3b-4e55-b1ee-ca46dc3c7479"
      },
      "execution_count": 13,
      "outputs": [
        {
          "output_type": "stream",
          "name": "stdout",
          "text": [
            "숫자를 여러개 입력하세요 : 567\n",
            "★★★★★★★★★★\n",
            "★★★★★★★★★★★★\n",
            "★★★★★★★★★★★★★★\n"
          ]
        }
      ]
    },
    {
      "cell_type": "markdown",
      "source": [
        "\n",
        "\n",
        "\n",
        "\n",
        "\n",
        "\n",
        "\n",
        "\n",
        "\n",
        "ㄷ;ㅣ라;이ㅏㄹ;일;ㅣ\n",
        "\n",
        "\n",
        "\n",
        "\n",
        "3\n",
        "### [실습문제]커피 자판기\n",
        "646464642111416546546542165465421ㅇ321ㄹ3ㅇ21ㄹ32121ㅇ21ㅇ;리ㅏㅇ;ㅏㄹ;알;ㅣㅏㅇ리ㅏㅏㅣㅣㅏㅏㅏㅇ리어리ㅏㅓㅇ;ㅣㅏㄴㅁㅇㄹ;ㅣㅁ dmfdl;df.lkd.fd.m,f;ttk;fkg;lfkg;fkg;kfgfgfgfg125254245ffdfdfffffdfdfdfdfdfdffgfgfgfgfgfgfgfgffgfgfgfgfgddddddddddddddfgfgfgffgfgfg\n"
      ],
      "metadata": {
        "id": "q2hr7ThNWMU0"
      }
    },
    {
      "cell_type": "code",
      "source": [
        "menu = '''[커피 주문 머신 메뉴]\n",
        "-----------------------------\n",
        "- 아메리카노: 2500원\n",
        "- 카페라테:   3000원\n",
        "- 카페모카:   3000원\n",
        "-----------------------------\n",
        "원하시는 커피종류와 잔수를 입력하세요.'''\n",
        "print(menu)\n",
        "coffee1 = int(input('아메리카노 몇잔?: '))\n",
        "coffee2 = int(input('카페라테   몇잔?: '))\n",
        "coffee3 = int(input('카페모카   몇잔?: '))\n",
        "\n",
        "total = 2500*coffee1 + 3000*coffee2 + 3000*coffee3\n",
        "print(f\"지불하실 총 금액은 {total:,}원 입니다.\")\n",
        "\n",
        "print('*'*30)\n",
        "\n",
        "print(f'[지불할 금액:{total:,}] :',end=' ')\n",
        "money = int(input('돈을 넣어 주세요: '))\n",
        "\n",
        "\n",
        "change = total-money   # 거스름돈\n",
        "\n",
        "\n",
        "while True:\n",
        "\n",
        "    if total > money:\n",
        "        print(f'[지불할 금액:{change:,}] :', end=' ')\n",
        "        money += int(input('돈을 넣어 주세요: '))\n",
        "\n",
        "        if total < money:\n",
        "             change = total-money\n",
        "             print(f\"거스름돈은 {abs(change):,}입니다.\")\n",
        "             break\n",
        "\n",
        "        if total==money:\n",
        "             break\n",
        "\n",
        "        change = total-money\n",
        "        print(f\"입력한 금액이 부족합니다. {abs(change):,} 원을 더 넣어주세요.\")\n",
        "\n",
        "\n",
        "    else:\n",
        "        print(f\"거스름돈은 {abs(change):,}입니다.\")\n",
        "        break\n",
        "\n",
        "print('*'*30)\n",
        "print(' 커피 맛있게 드세요~~~')"
      ],
      "metadata": {
        "colab": {
          "base_uri": "https://localhost:8080/"
        },
        "id": "CxduTzalWWqP",
        "outputId": "ff1de32c-8794-4841-e527-0ccd18481d8e"
      },
      "execution_count": 14,
      "outputs": [
        {
          "output_type": "stream",
          "name": "stdout",
          "text": [
            "[커피 주문 머신 메뉴]\n",
            "-----------------------------\n",
            "- 아메리카노: 2500원\n",
            "- 카페라테:   3000원\n",
            "- 카페모카:   3000원\n",
            "-----------------------------\n",
            "원하시는 커피종류와 잔수를 입력하세요.\n",
            "아메리카노 몇잔?: 2\n",
            "카페라테   몇잔?: 1\n",
            "카페모카   몇잔?: 1\n",
            "지불하실 총 금액은 11,000원 입니다.\n",
            "******************************\n",
            "[지불할 금액:11,000] : 돈을 넣어 주세요: 10000\n",
            "[지불할 금액:1,000] : 돈을 넣어 주세요: 500\n",
            "입력한 금액이 부족합니다. 500 원을 더 넣어주세요.\n",
            "[지불할 금액:500] : 돈을 넣어 주세요: 1000\n",
            "거스름돈은 500입니다.\n",
            "******************************\n",
            " 커피 맛있게 드세요~~~\n"
          ]
        }
      ]
    },
    {
      "cell_type": "markdown",
      "source": [
        "### [실습문제] 호텔 관리 시스템\n",
        "< 무인 호텔 관리 프로그램 >\n",
        "1) 방 개수를 입력 받는다.\n",
        "2) 방 개수와 같은 길이의 리스트를 생성한다.\n",
        "5 개 → [0,0,0,0,0]\n",
        "3 개 → [0,0,0]\n",
        "3) 사용자 메뉴를 메시지로 보여주고 메뉴를 선택 받는다.\n",
        "< 메뉴 >\n",
        "1. 체크인\n",
        "2. 체크아웃\n",
        "3. 현황 보기\n",
        "0. 종료하기\n",
        "4) 사용자가 메뉴에서 0을 입력할 때까지 (1~3) 과정을 진행한다.\n",
        "실습문제 ...\n",
        "<< 메뉴 설명 >>\n",
        "1. 체크인\n",
        "방 호수(1번부터 시작)를 입력 받습니다.\n",
        "방이 이미 입실 중이면 \"입실 중인 방은 체크인 하실 수 없습니다.\"를 출력하세요.\n",
        "빈 방인 경우 \"입실 완료!\"를 출력하고 메뉴로 돌아갑니다.\n",
        "2. 체크아웃\n",
        "방 호수(1번부터 시작)를 입력 받습니다.\n",
        "방이 빈 방이면 \"빈 방은 체크아웃 하실 수 없습니다.\"를 출력하세요.\n",
        "체크인 상태인 경우 \"퇴실 완료!\"를 출력하고 메뉴로 돌아갑니다.\n",
        "3. '방호수 - 상태'를 출력합니다.\n",
        "출력 예)\n",
        "1호 : 빈 방\n",
        "2호 : 입실 중\n",
        "3호 : 입실 중\n",
        "4호 : 빈 방\n",
        "5호 : 빈 방\n",
        "0. 종료\n",
        "반복을 종료하고 '영업 종료' 를 출력합니다"
      ],
      "metadata": {
        "id": "VATbKvsjd-rZ"
      }
    },
    {
      "cell_type": "code",
      "source": [
        "print('호텔관리 시스템입니다.')\n",
        "menu='''1. 체크인\n",
        "2. 체크아웃\n",
        "3. 입실현황\n",
        "0. 종료'''\n",
        "print(menu)\n",
        "\n",
        "number=int(input('호텔 방의 개수는(입력): '))\n",
        "hotel=[0 for _ in range(number)]\n",
        "print(f'방 현황: {hotel}(0:빈방, 1:입실중)')\n",
        "\n",
        "while True:\n",
        "    print(f'------------------------------')\n",
        "    print(menu)\n",
        "    select=input('-->메뉴 선택')\n",
        "    if select=='0':\n",
        "        break\n",
        "    if select=='1': # 체크인\n",
        "\n",
        "    if select=='2': # 체크아웃\n",
        " if select=='2': # 체크아웃\n",
        "\n",
        "print('프로그램 종료')"
      ],
      "metadata": {
        "colab": {
          "base_uri": "https://localhost:8080/",
          "height": 110
        },
        "id": "5mvVYCj1inxu",
        "outputId": "4f5a9460-a8f5-4c54-b48a-57639084f1a8"
      },
      "execution_count": 26,
      "outputs": [
        {
          "output_type": "error",
          "ename": "IndentationError",
          "evalue": "unindent does not match any outer indentation level (<tokenize>, line 21)",
          "traceback": [
            "\u001b[0;36m  File \u001b[0;32m\"<tokenize>\"\u001b[0;36m, line \u001b[0;32m21\u001b[0m\n\u001b[0;31m    if select=='2': # 체크아웃\u001b[0m\n\u001b[0m    ^\u001b[0m\n\u001b[0;31mIndentationError\u001b[0m\u001b[0;31m:\u001b[0m unindent does not match any outer indentation level\n"
          ]
        }
      ]
    }
  ]
}