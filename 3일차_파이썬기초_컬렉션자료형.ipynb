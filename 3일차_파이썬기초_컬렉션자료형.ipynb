{
  "nbformat": 4,
  "nbformat_minor": 0,
  "metadata": {
    "colab": {
      "provenance": [],
      "toc_visible": true,
      "authorship_tag": "ABX9TyPbW+DxP9emByiXVlFKNWBO",
      "include_colab_link": true
    },
    "kernelspec": {
      "name": "python3",
      "display_name": "Python 3"
    },
    "language_info": {
      "name": "python"
    }
  },
  "cells": [
    {
      "cell_type": "markdown",
      "metadata": {
        "id": "view-in-github",
        "colab_type": "text"
      },
      "source": [
        "<a href=\"https://colab.research.google.com/github/ParkGeunHae/dataAnalysis/blob/main/3%EC%9D%BC%EC%B0%A8_%ED%8C%8C%EC%9D%B4%EC%8D%AC%EA%B8%B0%EC%B4%88_%EC%BB%AC%EB%A0%89%EC%85%98%EC%9E%90%EB%A3%8C%ED%98%95.ipynb\" target=\"_parent\"><img src=\"https://colab.research.google.com/assets/colab-badge.svg\" alt=\"Open In Colab\"/></a>"
      ]
    },
    {
      "cell_type": "markdown",
      "source": [
        "# 3. 컬렉션 자료형"
      ],
      "metadata": {
        "id": "RYFK9UnuToJy"
      }
    },
    {
      "cell_type": "markdown",
      "source": [
        "## 3-1 리스트(list)"
      ],
      "metadata": {
        "id": "oDZIVEQ9WNxa"
      }
    },
    {
      "cell_type": "markdown",
      "source": [
        "### 리스트 생성"
      ],
      "metadata": {
        "id": "85dR8Ma4TzR6"
      }
    },
    {
      "cell_type": "code",
      "execution_count": 3,
      "metadata": {
        "colab": {
          "base_uri": "https://localhost:8080/"
        },
        "id": "OVEUMkryTd_M",
        "outputId": "fd0a9eb1-afd8-4cba-a3f9-ee8e253a50c1"
      },
      "outputs": [
        {
          "output_type": "stream",
          "name": "stdout",
          "text": [
            "<class 'list'>\n",
            "[]\n"
          ]
        }
      ],
      "source": [
        "#빈 리스트 생성\n",
        "a=[]\n",
        "a=list()\n",
        "print(type(a))\n",
        "print(a)"
      ]
    },
    {
      "cell_type": "code",
      "source": [
        "# 초기 데이터 넣고 리스트 생성\n",
        "import math\n",
        "a=[1,2,3,4,5]\n",
        "a=[1,'apple','딸기',3.14,math.pi,max([10,20,30])]\n",
        "b=[1,2,a,['사과','딸기',{'k':'kiwi'}]]\n",
        "print(a)\n",
        "print(b)"
      ],
      "metadata": {
        "colab": {
          "base_uri": "https://localhost:8080/"
        },
        "id": "SRo7Li-8UT9p",
        "outputId": "9c4c3d10-a547-4be7-f902-191d91508ced"
      },
      "execution_count": 6,
      "outputs": [
        {
          "output_type": "stream",
          "name": "stdout",
          "text": [
            "[1, 'apple', '딸기', 3.14, 3.141592653589793, 30]\n",
            "[1, 2, [1, 'apple', '딸기', 3.14, 3.141592653589793, 30], ['사과', '딸기', {'k': 'kiwi'}]]\n"
          ]
        }
      ]
    },
    {
      "cell_type": "code",
      "source": [
        "numlist=[]\n",
        "for num in range(1,21,2): #for 반복문, range() : 정수를 순차로 발생\n",
        "  numlist.append(num)   #리스트에 데이터 추가\n",
        "print(numlist)"
      ],
      "metadata": {
        "colab": {
          "base_uri": "https://localhost:8080/"
        },
        "id": "Do3l5eENVMXz",
        "outputId": "8b5c1cf4-d9e3-4d44-dd11-a87e2857af8a"
      },
      "execution_count": 9,
      "outputs": [
        {
          "output_type": "stream",
          "name": "stdout",
          "text": [
            "[1, 3, 5, 7, 9, 11, 13, 15, 17, 19]\n"
          ]
        }
      ]
    },
    {
      "cell_type": "code",
      "source": [
        "print(b)\n",
        "for i in b: # for 반복문, b란 이름의 리스트 안에 있는 요소를 하나씩 출력하는 코드\n",
        "  print(i)"
      ],
      "metadata": {
        "colab": {
          "base_uri": "https://localhost:8080/"
        },
        "id": "kSdZMKWVVips",
        "outputId": "6c4c3bc0-81a4-4bd0-faaf-f8a17b558cf1"
      },
      "execution_count": 11,
      "outputs": [
        {
          "output_type": "stream",
          "name": "stdout",
          "text": [
            "[1, 2, [1, 'apple', '딸기', 3.14, 3.141592653589793, 30], ['사과', '딸기', {'k': 'kiwi'}]]\n",
            "1\n",
            "2\n",
            "[1, 'apple', '딸기', 3.14, 3.141592653589793, 30]\n",
            "['사과', '딸기', {'k': 'kiwi'}]\n"
          ]
        }
      ]
    },
    {
      "cell_type": "markdown",
      "source": [
        "### 리스트 요소에 접근"
      ],
      "metadata": {
        "id": "Pf8z6bNXXaNp"
      }
    },
    {
      "cell_type": "code",
      "source": [
        "colors=['빨강','초록','파랑','노랑','검정']\n",
        "print(colors[0])\n",
        "print(colors[2:4])\n",
        "print(colors[::-1]) # 거꾸로 정렬\n",
        "\n",
        "for color in colors:\n",
        "  print(f'나는 \"{color}\" 색상을 좋아합니다.')"
      ],
      "metadata": {
        "colab": {
          "base_uri": "https://localhost:8080/"
        },
        "id": "g13VSjT7VoyY",
        "outputId": "6496cd79-97be-4e3f-c7f5-4ca3ba31814c"
      },
      "execution_count": 17,
      "outputs": [
        {
          "output_type": "stream",
          "name": "stdout",
          "text": [
            "빨강\n",
            "['파랑', '노랑']\n",
            "['검정', '노랑', '파랑', '초록', '빨강']\n",
            "나는 \"빨강\" 색상을 좋아합니다.\n",
            "나는 \"초록\" 색상을 좋아합니다.\n",
            "나는 \"파랑\" 색상을 좋아합니다.\n",
            "나는 \"노랑\" 색상을 좋아합니다.\n",
            "나는 \"검정\" 색상을 좋아합니다.\n"
          ]
        }
      ]
    },
    {
      "cell_type": "markdown",
      "source": [
        "### 리스트에 요소 추가하기"
      ],
      "metadata": {
        "id": "fy0QH3qiYol7"
      }
    },
    {
      "cell_type": "code",
      "source": [
        "print(colors)\n",
        "# 인덱스 2위치에 '분홍'넣기\n",
        "colors.insert(2,'분홍')\n",
        "print(colors)\n",
        "\n",
        "# 맨 뒤에 추가하기\n",
        "colors.append('보라')\n",
        "print(colors)"
      ],
      "metadata": {
        "colab": {
          "base_uri": "https://localhost:8080/"
        },
        "id": "YpIbEZ4CYrDo",
        "outputId": "e1b5e5d5-9b88-45b8-dcad-ef1f2dacdcb3"
      },
      "execution_count": 22,
      "outputs": [
        {
          "output_type": "stream",
          "name": "stdout",
          "text": [
            "['빨강', '초록', '분홍', '분홍', '분홍', '파랑', '노랑', '검정', '보라']\n",
            "['빨강', '초록', '분홍', '분홍', '분홍', '분홍', '파랑', '노랑', '검정', '보라']\n",
            "['빨강', '초록', '분홍', '분홍', '분홍', '분홍', '파랑', '노랑', '검정', '보라', '보라']\n"
          ]
        }
      ]
    },
    {
      "cell_type": "markdown",
      "source": [
        "### 리스트 특정 위치의 요소값 변경"
      ],
      "metadata": {
        "id": "DjVfCELcZf5Z"
      }
    },
    {
      "cell_type": "code",
      "source": [
        "colors[3]='주황'\n",
        "print(colors)\n",
        "colors[1:3]='갈색'\n",
        "print(colors)\n",
        "colors[1:3]=['갈색','고동']  #맞는 개수만큼 넣어줌\n",
        "print(colors)\n",
        "colors[1:4]='갈색'  #주의!! 범위를 넘어가면 삭제됨(인덱스 개수가 다르면 대체가 안되고 없어짐.)\n",
        "print(colors)"
      ],
      "metadata": {
        "colab": {
          "base_uri": "https://localhost:8080/"
        },
        "id": "83mvkxlaZmiU",
        "outputId": "b1e73411-a3af-4848-de9b-37435d57c1f2"
      },
      "execution_count": 28,
      "outputs": [
        {
          "output_type": "stream",
          "name": "stdout",
          "text": [
            "['빨강', '갈', '색', '주황', '분홍', '파랑', '노랑', '검정', '보라', '보라']\n",
            "['빨강', '갈', '색', '주황', '분홍', '파랑', '노랑', '검정', '보라', '보라']\n",
            "['빨강', '갈색', '고동', '주황', '분홍', '파랑', '노랑', '검정', '보라', '보라']\n",
            "['빨강', '갈', '색', '분홍', '파랑', '노랑', '검정', '보라', '보라']\n"
          ]
        }
      ]
    },
    {
      "cell_type": "markdown",
      "source": [
        "### 리스트의 요소 삭제"
      ],
      "metadata": {
        "id": "WykuFJmGbZ9P"
      }
    },
    {
      "cell_type": "code",
      "source": [
        "colors=['빨강','초록','파랑','노랑','노랑','검정']\n",
        "\n",
        "print(colors)\n",
        "\n",
        "# 맨 뒤에 있는 것 삭제(꺼내기)\n",
        "colors.pop()\n",
        "print(colors)\n",
        "\n",
        "# 요소값과 일치하는 것 삭제\n",
        "colors.remove('노랑')\n",
        "print(colors)\n",
        "\n",
        "#전체 요소 삭제\n",
        "colors.clear()\n",
        "print(colors)\n",
        "\n"
      ],
      "metadata": {
        "colab": {
          "base_uri": "https://localhost:8080/"
        },
        "id": "5BVLuz-ObcuQ",
        "outputId": "9fabd559-aa4b-4449-e351-2e003f594878"
      },
      "execution_count": 35,
      "outputs": [
        {
          "output_type": "stream",
          "name": "stdout",
          "text": [
            "['빨강', '초록', '파랑', '노랑', '노랑', '검정']\n",
            "['빨강', '초록', '파랑', '노랑', '노랑']\n",
            "['빨강', '초록', '파랑', '노랑']\n",
            "[]\n"
          ]
        }
      ]
    },
    {
      "cell_type": "markdown",
      "source": [
        "### 리스트 자체-삭제"
      ],
      "metadata": {
        "id": "qzh-IbSKcx32"
      }
    },
    {
      "cell_type": "code",
      "source": [
        "del(colors)\n",
        "print(colors)"
      ],
      "metadata": {
        "colab": {
          "base_uri": "https://localhost:8080/",
          "height": 166
        },
        "id": "N2Qq0LG7cp3N",
        "outputId": "55854899-a213-427c-daa5-1e0174c6af2d"
      },
      "execution_count": 37,
      "outputs": [
        {
          "output_type": "error",
          "ename": "NameError",
          "evalue": "name 'colors' is not defined",
          "traceback": [
            "\u001b[0;31m---------------------------------------------------------------------------\u001b[0m",
            "\u001b[0;31mNameError\u001b[0m                                 Traceback (most recent call last)",
            "\u001b[0;32m<ipython-input-37-90ee9471d91d>\u001b[0m in \u001b[0;36m<cell line: 1>\u001b[0;34m()\u001b[0m\n\u001b[0;32m----> 1\u001b[0;31m \u001b[0;32mdel\u001b[0m\u001b[0;34m(\u001b[0m\u001b[0mcolors\u001b[0m\u001b[0;34m)\u001b[0m\u001b[0;34m\u001b[0m\u001b[0;34m\u001b[0m\u001b[0m\n\u001b[0m\u001b[1;32m      2\u001b[0m \u001b[0mprint\u001b[0m\u001b[0;34m(\u001b[0m\u001b[0mcolors\u001b[0m\u001b[0;34m)\u001b[0m\u001b[0;34m\u001b[0m\u001b[0;34m\u001b[0m\u001b[0m\n",
            "\u001b[0;31mNameError\u001b[0m: name 'colors' is not defined"
          ]
        }
      ]
    },
    {
      "cell_type": "markdown",
      "source": [
        "### 2차원/3차원... 리스트 요소 접근"
      ],
      "metadata": {
        "id": "RHxe1zAHc8IP"
      }
    },
    {
      "cell_type": "code",
      "source": [
        "animals=['사자','호랑이','곰',\n",
        " ['고양이','강아지',['돌고래','범고래'],'햄스터']\n",
        "         ]\n",
        "print(animals)\n",
        "print(animals[1])\n",
        "print(animals[3])\n",
        "print(animals[3][1])\n",
        "print(animals[3][2][1])\n",
        "\n"
      ],
      "metadata": {
        "colab": {
          "base_uri": "https://localhost:8080/"
        },
        "id": "P7XsOEI7dA-u",
        "outputId": "9ba1f73e-faa0-44da-dd52-7e3049393c7e"
      },
      "execution_count": 45,
      "outputs": [
        {
          "output_type": "stream",
          "name": "stdout",
          "text": [
            "['사자', '호랑이', '곰', ['고양이', '강아지', ['돌고래', '범고래'], '햄스터']]\n",
            "호랑이\n",
            "['고양이', '강아지', ['돌고래', '범고래'], '햄스터']\n",
            "강아지\n",
            "범고래\n"
          ]
        }
      ]
    },
    {
      "cell_type": "markdown",
      "source": [
        "### 리스트 길이(요소의 개수)"
      ],
      "metadata": {
        "id": "jZdS0CsMfYZu"
      }
    },
    {
      "cell_type": "code",
      "source": [
        "print(animals)\n",
        "print(len(animals))  #쉼표로 구분\n",
        "print(len(animals[3]))\n",
        "print(len(animals[3][2]))\n"
      ],
      "metadata": {
        "colab": {
          "base_uri": "https://localhost:8080/"
        },
        "id": "UDOQa3nkfb8m",
        "outputId": "2a39d3f8-3757-4811-fc45-a969d98fd9f4"
      },
      "execution_count": 48,
      "outputs": [
        {
          "output_type": "stream",
          "name": "stdout",
          "text": [
            "['사자', '호랑이', '곰', ['고양이', '강아지', ['돌고래', '범고래'], '햄스터']]\n",
            "4\n",
            "4\n",
            "2\n"
          ]
        }
      ]
    },
    {
      "cell_type": "markdown",
      "source": [
        "### 리스트 함수"
      ],
      "metadata": {
        "id": "pJmuE5T1gFzG"
      }
    },
    {
      "cell_type": "code",
      "source": [
        "colors=['빨강','초록','파랑','노랑','검정','노랑']\n",
        "\n",
        "#리스트 요소 정렬\n",
        "print(colors)\n",
        "colors.sort()  #순차 정렬(가나다순)\n",
        "print(colors)\n",
        "\n",
        "colors.reverse() #역순 정렬\n",
        "print(colors)\n",
        "\n",
        "# 리스트의 특정 요소 위치 찾기\n",
        "print(colors.index('빨강'))\n",
        "print(colors.index('노랑')) #여러 개 있을 경우 맨 앞의 인덱스 나타내기\n",
        "\n",
        "#요소 값 개수세기\n",
        "print(colors.count('노랑'))\n",
        "\n",
        "#리스트 정렬해서 새로운 이름으로 저장해서 사용\n",
        "new=sorted(colors)\n",
        "print(new)"
      ],
      "metadata": {
        "colab": {
          "base_uri": "https://localhost:8080/"
        },
        "id": "gyDqPcpmgISD",
        "outputId": "b7ca320c-af86-4194-c9de-afc855e17112"
      },
      "execution_count": 54,
      "outputs": [
        {
          "output_type": "stream",
          "name": "stdout",
          "text": [
            "['빨강', '초록', '파랑', '노랑', '검정', '노랑']\n",
            "['검정', '노랑', '노랑', '빨강', '초록', '파랑']\n",
            "['파랑', '초록', '빨강', '노랑', '노랑', '검정']\n",
            "2\n",
            "3\n",
            "2\n",
            "['검정', '노랑', '노랑', '빨강', '초록', '파랑']\n"
          ]
        }
      ]
    },
    {
      "cell_type": "code",
      "source": [
        "colors=['빨강','초록','파랑','노랑','검정','노랑']\n",
        "newColors=['red','green','blue']\n",
        "print(colors)\n",
        "print(newColors)\n",
        "colors.extend(newColors)\n",
        "print(colors)\n",
        "\n",
        "colors=['빨강','초록','파랑','노랑','검정','노랑']\n",
        "newColors=['red','green','blue']\n",
        "colors+=colors+newColors\n",
        "print(colors)"
      ],
      "metadata": {
        "colab": {
          "base_uri": "https://localhost:8080/"
        },
        "id": "nGM8u2PbiCeG",
        "outputId": "0f559c5b-5a50-4e8d-aa87-f1030e241a42"
      },
      "execution_count": 58,
      "outputs": [
        {
          "output_type": "stream",
          "name": "stdout",
          "text": [
            "['빨강', '초록', '파랑', '노랑', '검정', '노랑']\n",
            "['red', 'green', 'blue']\n",
            "['빨강', '초록', '파랑', '노랑', '검정', '노랑', 'red', 'green', 'blue']\n",
            "['빨강', '초록', '파랑', '노랑', '검정', '노랑', '빨강', '초록', '파랑', '노랑', '검정', '노랑', 'red', 'green', 'blue']\n"
          ]
        }
      ]
    },
    {
      "cell_type": "markdown",
      "source": [
        "## 3-2. 딕셔너리(Dictionary)"
      ],
      "metadata": {
        "id": "RCqBVZJRnknS"
      }
    },
    {
      "cell_type": "markdown",
      "source": [
        "### 딕셔너리 자료 생성"
      ],
      "metadata": {
        "id": "yhKsX2YntTvy"
      }
    },
    {
      "cell_type": "code",
      "source": [
        "dic=dict() # 빈 딕셔너리 생성\n",
        "dic={}  # 빈 딕셔너리 생성\n",
        "print(type(dic))"
      ],
      "metadata": {
        "colab": {
          "base_uri": "https://localhost:8080/"
        },
        "id": "aEaUxpu2npq9",
        "outputId": "5944719a-7492-4488-d1e4-cb4d0277db6f"
      },
      "execution_count": 62,
      "outputs": [
        {
          "output_type": "stream",
          "name": "stdout",
          "text": [
            "<class 'dict'>\n"
          ]
        }
      ]
    },
    {
      "cell_type": "code",
      "source": [
        "# 딕셔너리는 Key:Value 구조\n",
        "members={1:'이승철',2:'박정현', 'bts':['진','RM','뷔','지민']}\n",
        "print(members)\n",
        "print(members[2])  #2는 키값이다.\n",
        "print(members['bts'])\n",
        "print(members['bts'][1])\n",
        "print(len(members)) #쉼표로 구분해서\n"
      ],
      "metadata": {
        "colab": {
          "base_uri": "https://localhost:8080/"
        },
        "id": "MpU_ZHw-trFu",
        "outputId": "8185a812-8937-438f-c892-7d48aad76578"
      },
      "execution_count": 69,
      "outputs": [
        {
          "output_type": "stream",
          "name": "stdout",
          "text": [
            "{1: '이승철', 2: '박정현', 'bts': ['진', 'RM', '뷔', '지민']}\n",
            "박정현\n",
            "['진', 'RM', '뷔', '지민']\n",
            "RM\n",
            "3\n"
          ]
        }
      ]
    },
    {
      "cell_type": "markdown",
      "source": [
        "### 딕셔너리에서 Value에 접근하기\n",
        "-Key를 통해서 Value에 접근할 수 있다."
      ],
      "metadata": {
        "id": "sA8jxfiRv3gB"
      }
    },
    {
      "cell_type": "code",
      "source": [
        "members={1:'이승철',2:'박정현', 'bts':['진','RM','뷔','지민']}\n",
        "for key in members:\n",
        "  print(f 'Key->{key},Value->{members[key]}')"
      ],
      "metadata": {
        "colab": {
          "base_uri": "https://localhost:8080/"
        },
        "id": "lxnMJWAVvMGf",
        "outputId": "5f29bb77-7a64-447a-febe-33f292263a3c"
      },
      "execution_count": 71,
      "outputs": [
        {
          "output_type": "stream",
          "name": "stdout",
          "text": [
            "1 이승철\n",
            "2 박정현\n",
            "bts ['진', 'RM', '뷔', '지민']\n"
          ]
        }
      ]
    },
    {
      "cell_type": "markdown",
      "source": [
        "### 딕셔너리에서 자주 사용하는 함수"
      ],
      "metadata": {
        "id": "tTPsYAyNwOPx"
      }
    },
    {
      "cell_type": "code",
      "source": [
        "members={1:'이승철',2:'박정현', 'bts':['진','RM','뷔','지민']}\n",
        "print(members.keys()) #key만 모아둔 것\n",
        "print(members.values()) #value만 모아둔 것\n",
        "print(members.items())  #(key,value) 쌍으로 모아둔 것"
      ],
      "metadata": {
        "colab": {
          "base_uri": "https://localhost:8080/"
        },
        "id": "feV5BlxWwSzb",
        "outputId": "453eb573-4e3e-44d5-b97f-8377fbcfd9c4"
      },
      "execution_count": 73,
      "outputs": [
        {
          "output_type": "stream",
          "name": "stdout",
          "text": [
            "dict_keys([1, 2, 'bts'])\n",
            "dict_values(['이승철', '박정현', ['진', 'RM', '뷔', '지민']])\n",
            "dict_items([(1, '이승철'), (2, '박정현'), ('bts', ['진', 'RM', '뷔', '지민'])])\n"
          ]
        }
      ]
    },
    {
      "cell_type": "code",
      "source": [
        "# for (key,value) in members.items():\n",
        "for key,value in members.items():\n",
        "  print(key,value)\n",
        "\n",
        "for key in members.keys():\n",
        "  print(key,members[key])\n",
        "\n",
        "for key in members():\n",
        "    print(key,members[key])"
      ],
      "metadata": {
        "colab": {
          "base_uri": "https://localhost:8080/",
          "height": 312
        },
        "id": "JgxK9_sgwyXg",
        "outputId": "469b6643-bf45-431c-9a2c-bfbc78b01d29"
      },
      "execution_count": 76,
      "outputs": [
        {
          "output_type": "stream",
          "name": "stdout",
          "text": [
            "1 이승철\n",
            "2 박정현\n",
            "bts ['진', 'RM', '뷔', '지민']\n",
            "1 이승철\n",
            "2 박정현\n",
            "bts ['진', 'RM', '뷔', '지민']\n"
          ]
        },
        {
          "output_type": "error",
          "ename": "TypeError",
          "evalue": "'dict' object is not callable",
          "traceback": [
            "\u001b[0;31m---------------------------------------------------------------------------\u001b[0m",
            "\u001b[0;31mTypeError\u001b[0m                                 Traceback (most recent call last)",
            "\u001b[0;32m<ipython-input-76-c290b09785f2>\u001b[0m in \u001b[0;36m<cell line: 8>\u001b[0;34m()\u001b[0m\n\u001b[1;32m      6\u001b[0m   \u001b[0mprint\u001b[0m\u001b[0;34m(\u001b[0m\u001b[0mkey\u001b[0m\u001b[0;34m,\u001b[0m\u001b[0mmembers\u001b[0m\u001b[0;34m[\u001b[0m\u001b[0mkey\u001b[0m\u001b[0;34m]\u001b[0m\u001b[0;34m)\u001b[0m\u001b[0;34m\u001b[0m\u001b[0;34m\u001b[0m\u001b[0m\n\u001b[1;32m      7\u001b[0m \u001b[0;34m\u001b[0m\u001b[0m\n\u001b[0;32m----> 8\u001b[0;31m \u001b[0;32mfor\u001b[0m \u001b[0mkey\u001b[0m \u001b[0;32min\u001b[0m \u001b[0mmembers\u001b[0m\u001b[0;34m(\u001b[0m\u001b[0;34m)\u001b[0m\u001b[0;34m:\u001b[0m\u001b[0;34m\u001b[0m\u001b[0;34m\u001b[0m\u001b[0m\n\u001b[0m\u001b[1;32m      9\u001b[0m     \u001b[0mprint\u001b[0m\u001b[0;34m(\u001b[0m\u001b[0mkey\u001b[0m\u001b[0;34m,\u001b[0m\u001b[0mmembers\u001b[0m\u001b[0;34m[\u001b[0m\u001b[0mkey\u001b[0m\u001b[0;34m]\u001b[0m\u001b[0;34m)\u001b[0m\u001b[0;34m\u001b[0m\u001b[0;34m\u001b[0m\u001b[0m\n",
            "\u001b[0;31mTypeError\u001b[0m: 'dict' object is not callable"
          ]
        }
      ]
    },
    {
      "cell_type": "markdown",
      "source": [
        "### 딕셔너리에 요소 추가/수정/삭제"
      ],
      "metadata": {
        "id": "iOgmVEm7x5rQ"
      }
    },
    {
      "cell_type": "code",
      "source": [
        "members={1:'이승철',2:'박정현', 'bts':['진','RM','뷔','지민']}\n",
        "print(members)\n",
        "\n",
        "#요소 추가\n",
        "members[3]='NCT Dream'\n",
        "members['소속사']=['하이브','SM기획']\n",
        "\n",
        "\n",
        "#요소 수정\n",
        "members[1]='세븐틴'\n",
        "print(members)\n",
        "\n",
        "#요소 삭제\n",
        "del(members['소속사'])\n",
        "print(members)\n",
        "\n",
        "#딕셔너리 삭제\n",
        "del(members)\n",
        "print(members)"
      ],
      "metadata": {
        "colab": {
          "base_uri": "https://localhost:8080/",
          "height": 239
        },
        "id": "YWcg05jOx91P",
        "outputId": "e1ab21a1-5506-4a2b-b708-06b4c47d4a8d"
      },
      "execution_count": 86,
      "outputs": [
        {
          "output_type": "stream",
          "name": "stdout",
          "text": [
            "{1: '이승철', 2: '박정현', 'bts': ['진', 'RM', '뷔', '지민']}\n",
            "{1: '세븐틴', 2: '박정현', 'bts': ['진', 'RM', '뷔', '지민'], 3: 'NCT Dream', '소속사': ['하이브', 'SM기획']}\n",
            "{1: '세븐틴', 2: '박정현', 'bts': ['진', 'RM', '뷔', '지민'], 3: 'NCT Dream'}\n"
          ]
        },
        {
          "output_type": "error",
          "ename": "NameError",
          "evalue": "name 'members' is not defined",
          "traceback": [
            "\u001b[0;31m---------------------------------------------------------------------------\u001b[0m",
            "\u001b[0;31mNameError\u001b[0m                                 Traceback (most recent call last)",
            "\u001b[0;32m<ipython-input-86-cd69b89144cc>\u001b[0m in \u001b[0;36m<cell line: 19>\u001b[0;34m()\u001b[0m\n\u001b[1;32m     17\u001b[0m \u001b[0;31m#딕셔너리 삭제\u001b[0m\u001b[0;34m\u001b[0m\u001b[0;34m\u001b[0m\u001b[0m\n\u001b[1;32m     18\u001b[0m \u001b[0;32mdel\u001b[0m\u001b[0;34m(\u001b[0m\u001b[0mmembers\u001b[0m\u001b[0;34m)\u001b[0m\u001b[0;34m\u001b[0m\u001b[0;34m\u001b[0m\u001b[0m\n\u001b[0;32m---> 19\u001b[0;31m \u001b[0mprint\u001b[0m\u001b[0;34m(\u001b[0m\u001b[0mmembers\u001b[0m\u001b[0;34m)\u001b[0m\u001b[0;34m\u001b[0m\u001b[0;34m\u001b[0m\u001b[0m\n\u001b[0m",
            "\u001b[0;31mNameError\u001b[0m: name 'members' is not defined"
          ]
        }
      ]
    },
    {
      "cell_type": "markdown",
      "source": [
        "## 3-3. 튜플(Tuple)"
      ],
      "metadata": {
        "id": "KMvZJjcWza6H"
      }
    },
    {
      "cell_type": "markdown",
      "source": [
        "### 튜플생성"
      ],
      "metadata": {
        "id": "A9jRfQyDz27m"
      }
    },
    {
      "cell_type": "code",
      "source": [
        "tup=tuple() #빈 튜플 생성\n",
        "tup=()      #빈 튜플 생성\n",
        "print(type(tup))\n",
        "\n",
        "a=[1,2,3,4]\n",
        "print(a)\n",
        "print(tuple(a))  #리스트를 튜플로 반환"
      ],
      "metadata": {
        "colab": {
          "base_uri": "https://localhost:8080/"
        },
        "id": "SVqSerClzif7",
        "outputId": "2a532d34-cd97-46a0-ab70-fb646172c991"
      },
      "execution_count": 89,
      "outputs": [
        {
          "output_type": "stream",
          "name": "stdout",
          "text": [
            "<class 'tuple'>\n",
            "[1, 2, 3, 4]\n",
            "(1, 2, 3, 4)\n"
          ]
        }
      ]
    },
    {
      "cell_type": "code",
      "source": [
        "tup=('사과')   # 괄호는 묶음의 의미로 해석\n",
        "print(type(tup))\n",
        "\n",
        "tup=('사과',) # 튜플에서 요소가 하나일 때는 반드시 맨 뒤에 ,(쉼표) 추가\n",
        "print(type(tup))"
      ],
      "metadata": {
        "colab": {
          "base_uri": "https://localhost:8080/"
        },
        "id": "n7MrMvRe0kaH",
        "outputId": "7deda6fc-d23c-4b05-a33d-41e96dcaf26a"
      },
      "execution_count": 92,
      "outputs": [
        {
          "output_type": "stream",
          "name": "stdout",
          "text": [
            "<class 'str'>\n",
            "<class 'tuple'>\n"
          ]
        }
      ]
    },
    {
      "cell_type": "code",
      "source": [
        "help(list) #help() ()안에 자료형 도움말"
      ],
      "metadata": {
        "colab": {
          "base_uri": "https://localhost:8080/"
        },
        "id": "HBw4JbWl1Dp_",
        "outputId": "d4631434-e589-4ed8-e343-d006a33bba22"
      },
      "execution_count": 95,
      "outputs": [
        {
          "output_type": "stream",
          "name": "stdout",
          "text": [
            "Help on class list in module builtins:\n",
            "\n",
            "class list(object)\n",
            " |  list(iterable=(), /)\n",
            " |  \n",
            " |  Built-in mutable sequence.\n",
            " |  \n",
            " |  If no argument is given, the constructor creates a new empty list.\n",
            " |  The argument must be an iterable if specified.\n",
            " |  \n",
            " |  Methods defined here:\n",
            " |  \n",
            " |  __add__(self, value, /)\n",
            " |      Return self+value.\n",
            " |  \n",
            " |  __contains__(self, key, /)\n",
            " |      Return key in self.\n",
            " |  \n",
            " |  __delitem__(self, key, /)\n",
            " |      Delete self[key].\n",
            " |  \n",
            " |  __eq__(self, value, /)\n",
            " |      Return self==value.\n",
            " |  \n",
            " |  __ge__(self, value, /)\n",
            " |      Return self>=value.\n",
            " |  \n",
            " |  __getattribute__(self, name, /)\n",
            " |      Return getattr(self, name).\n",
            " |  \n",
            " |  __getitem__(...)\n",
            " |      x.__getitem__(y) <==> x[y]\n",
            " |  \n",
            " |  __gt__(self, value, /)\n",
            " |      Return self>value.\n",
            " |  \n",
            " |  __iadd__(self, value, /)\n",
            " |      Implement self+=value.\n",
            " |  \n",
            " |  __imul__(self, value, /)\n",
            " |      Implement self*=value.\n",
            " |  \n",
            " |  __init__(self, /, *args, **kwargs)\n",
            " |      Initialize self.  See help(type(self)) for accurate signature.\n",
            " |  \n",
            " |  __iter__(self, /)\n",
            " |      Implement iter(self).\n",
            " |  \n",
            " |  __le__(self, value, /)\n",
            " |      Return self<=value.\n",
            " |  \n",
            " |  __len__(self, /)\n",
            " |      Return len(self).\n",
            " |  \n",
            " |  __lt__(self, value, /)\n",
            " |      Return self<value.\n",
            " |  \n",
            " |  __mul__(self, value, /)\n",
            " |      Return self*value.\n",
            " |  \n",
            " |  __ne__(self, value, /)\n",
            " |      Return self!=value.\n",
            " |  \n",
            " |  __repr__(self, /)\n",
            " |      Return repr(self).\n",
            " |  \n",
            " |  __reversed__(self, /)\n",
            " |      Return a reverse iterator over the list.\n",
            " |  \n",
            " |  __rmul__(self, value, /)\n",
            " |      Return value*self.\n",
            " |  \n",
            " |  __setitem__(self, key, value, /)\n",
            " |      Set self[key] to value.\n",
            " |  \n",
            " |  __sizeof__(self, /)\n",
            " |      Return the size of the list in memory, in bytes.\n",
            " |  \n",
            " |  append(self, object, /)\n",
            " |      Append object to the end of the list.\n",
            " |  \n",
            " |  clear(self, /)\n",
            " |      Remove all items from list.\n",
            " |  \n",
            " |  copy(self, /)\n",
            " |      Return a shallow copy of the list.\n",
            " |  \n",
            " |  count(self, value, /)\n",
            " |      Return number of occurrences of value.\n",
            " |  \n",
            " |  extend(self, iterable, /)\n",
            " |      Extend list by appending elements from the iterable.\n",
            " |  \n",
            " |  index(self, value, start=0, stop=9223372036854775807, /)\n",
            " |      Return first index of value.\n",
            " |      \n",
            " |      Raises ValueError if the value is not present.\n",
            " |  \n",
            " |  insert(self, index, object, /)\n",
            " |      Insert object before index.\n",
            " |  \n",
            " |  pop(self, index=-1, /)\n",
            " |      Remove and return item at index (default last).\n",
            " |      \n",
            " |      Raises IndexError if list is empty or index is out of range.\n",
            " |  \n",
            " |  remove(self, value, /)\n",
            " |      Remove first occurrence of value.\n",
            " |      \n",
            " |      Raises ValueError if the value is not present.\n",
            " |  \n",
            " |  reverse(self, /)\n",
            " |      Reverse *IN PLACE*.\n",
            " |  \n",
            " |  sort(self, /, *, key=None, reverse=False)\n",
            " |      Sort the list in ascending order and return None.\n",
            " |      \n",
            " |      The sort is in-place (i.e. the list itself is modified) and stable (i.e. the\n",
            " |      order of two equal elements is maintained).\n",
            " |      \n",
            " |      If a key function is given, apply it once to each list item and sort them,\n",
            " |      ascending or descending, according to their function values.\n",
            " |      \n",
            " |      The reverse flag can be set to sort in descending order.\n",
            " |  \n",
            " |  ----------------------------------------------------------------------\n",
            " |  Class methods defined here:\n",
            " |  \n",
            " |  __class_getitem__(...) from builtins.type\n",
            " |      See PEP 585\n",
            " |  \n",
            " |  ----------------------------------------------------------------------\n",
            " |  Static methods defined here:\n",
            " |  \n",
            " |  __new__(*args, **kwargs) from builtins.type\n",
            " |      Create and return a new object.  See help(type) for accurate signature.\n",
            " |  \n",
            " |  ----------------------------------------------------------------------\n",
            " |  Data and other attributes defined here:\n",
            " |  \n",
            " |  __hash__ = None\n",
            "\n"
          ]
        }
      ]
    },
    {
      "cell_type": "markdown",
      "source": [
        "### 튜플은 변수를 정의할 때/함수의 파라미터의 정의에 사용"
      ],
      "metadata": {
        "id": "Kvq3FtaO2Gd-"
      }
    },
    {
      "cell_type": "code",
      "source": [
        "a,b=100,200  # 항상 1:1매핑이 되어야 함\n",
        "a,b=100,[1,2,3]\n",
        "print(a)\n",
        "print(b)"
      ],
      "metadata": {
        "colab": {
          "base_uri": "https://localhost:8080/"
        },
        "id": "1iJLgViL2A4_",
        "outputId": "4eab4c9d-1d48-4805-a3d0-353746e63647"
      },
      "execution_count": 96,
      "outputs": [
        {
          "output_type": "stream",
          "name": "stdout",
          "text": [
            "100\n",
            "[1, 2, 3]\n"
          ]
        }
      ]
    },
    {
      "cell_type": "code",
      "source": [
        "def nSum(a,b): # parameter\n",
        "  return a+b\n",
        "\n",
        "nSum(100,200) # argument"
      ],
      "metadata": {
        "colab": {
          "base_uri": "https://localhost:8080/"
        },
        "id": "6D7VG6R02pQe",
        "outputId": "254b21eb-6560-4a59-bfd8-48dcf31b012a"
      },
      "execution_count": 97,
      "outputs": [
        {
          "output_type": "execute_result",
          "data": {
            "text/plain": [
              "300"
            ]
          },
          "metadata": {},
          "execution_count": 97
        }
      ]
    },
    {
      "cell_type": "markdown",
      "source": [
        "## 3-4.집합(Set)"
      ],
      "metadata": {
        "id": "lr5xOPNB6HaF"
      }
    },
    {
      "cell_type": "markdown",
      "source": [
        "### 집합 생성"
      ],
      "metadata": {
        "id": "DcnKubBg6XGU"
      }
    },
    {
      "cell_type": "code",
      "source": [
        "a=set() # 빈 집합 생성\n",
        "print(type(a))\n",
        "\n",
        "a={1,2,3,4,2,2,4} #unique한 데이터만 남는다.\n",
        "print(a)"
      ],
      "metadata": {
        "colab": {
          "base_uri": "https://localhost:8080/"
        },
        "id": "8XDBYNwC6Zfc",
        "outputId": "875c3eb3-d075-4eb7-c5ea-e571bfe582a7"
      },
      "execution_count": 100,
      "outputs": [
        {
          "output_type": "stream",
          "name": "stdout",
          "text": [
            "<class 'set'>\n",
            "{1, 2, 3, 4}\n"
          ]
        }
      ]
    },
    {
      "cell_type": "markdown",
      "source": [
        "### 집한은 중복된 데이터는 배제한다.\n",
        "  - unique한 데이터만 남는다.\n",
        "  - 순서가 없다\n",
        "\n"
      ],
      "metadata": {
        "id": "IhvSalxl6xA-"
      }
    },
    {
      "cell_type": "code",
      "source": [
        "a=[1,2,3,4,5,6,7,2,2,3,5,6,7,5,2]\n",
        "print(a)\n",
        "a=list(set(a))\n",
        "print(a)"
      ],
      "metadata": {
        "colab": {
          "base_uri": "https://localhost:8080/"
        },
        "id": "6DZQlnhJ6-_0",
        "outputId": "043705b6-2719-4501-d7af-bc9f647f364b"
      },
      "execution_count": 103,
      "outputs": [
        {
          "output_type": "stream",
          "name": "stdout",
          "text": [
            "[1, 2, 3, 4, 5, 6, 7, 2, 2, 3, 5, 6, 7, 5, 2]\n",
            "[1, 2, 3, 4, 5, 6, 7]\n"
          ]
        }
      ]
    },
    {
      "cell_type": "markdown",
      "source": [
        "### 집한에 요소 추가/삭제"
      ],
      "metadata": {
        "id": "5IWkNVna7XHj"
      }
    },
    {
      "cell_type": "code",
      "source": [
        "S={1,2,3,'a','b'}\n",
        "print(S)\n",
        "\n",
        "# 요소 추가\n",
        "S.add(4)\n",
        "print(S)\n",
        "\n",
        "# 요소 여러 개 추가\n",
        "S.update(['c','d',5])\n",
        "print(S)\n",
        "S.update('apple') # unique한 값만 추가됨\n",
        "print(S)\n",
        "\n",
        "# 요소 1개 삭제\n",
        "S.discard('a')\n",
        "print(S)\n",
        "S.discard('apple')  # 하나의 요소로 인식\n",
        "print(S)\n",
        "\n",
        "'''S.discard(['p','l'])  # 오류 발생\n",
        "print(S)'''\n",
        "\n",
        "#특정 요소 삭제\n",
        "S.remove(1)\n",
        "print(S)\n",
        "\n",
        "#임의의 요소 1개 삭제\n",
        "S.pop()\n",
        "print(S)"
      ],
      "metadata": {
        "colab": {
          "base_uri": "https://localhost:8080/"
        },
        "id": "s9cJLXdA7h_L",
        "outputId": "2b902d1c-221c-453c-dd0e-72646ce3c956"
      },
      "execution_count": 115,
      "outputs": [
        {
          "output_type": "stream",
          "name": "stdout",
          "text": [
            "{1, 2, 3, 'b', 'a'}\n",
            "{1, 2, 3, 4, 'b', 'a'}\n",
            "{1, 2, 3, 4, 'd', 5, 'a', 'b', 'c'}\n",
            "{1, 2, 3, 4, 'd', 5, 'e', 'a', 'p', 'b', 'l', 'c'}\n",
            "{1, 2, 3, 4, 'd', 5, 'e', 'p', 'b', 'l', 'c'}\n",
            "{1, 2, 3, 4, 'd', 5, 'e', 'p', 'b', 'l', 'c'}\n",
            "{2, 3, 4, 'd', 5, 'e', 'p', 'b', 'l', 'c'}\n",
            "{3, 4, 'd', 5, 'e', 'p', 'b', 'l', 'c'}\n"
          ]
        }
      ]
    },
    {
      "cell_type": "code",
      "source": [
        "# 집합 삭제\n",
        "del(S)\n",
        "print(S)"
      ],
      "metadata": {
        "colab": {
          "base_uri": "https://localhost:8080/",
          "height": 166
        },
        "id": "RBG_xlP1-Af7",
        "outputId": "fdb1d0f6-c4a6-4af3-d99e-3e8958fd0a42"
      },
      "execution_count": 116,
      "outputs": [
        {
          "output_type": "error",
          "ename": "NameError",
          "evalue": "name 'S' is not defined",
          "traceback": [
            "\u001b[0;31m---------------------------------------------------------------------------\u001b[0m",
            "\u001b[0;31mNameError\u001b[0m                                 Traceback (most recent call last)",
            "\u001b[0;32m<ipython-input-116-59287c1ae037>\u001b[0m in \u001b[0;36m<cell line: 2>\u001b[0;34m()\u001b[0m\n\u001b[1;32m      1\u001b[0m \u001b[0;32mdel\u001b[0m\u001b[0;34m(\u001b[0m\u001b[0mS\u001b[0m\u001b[0;34m)\u001b[0m\u001b[0;34m\u001b[0m\u001b[0;34m\u001b[0m\u001b[0m\n\u001b[0;32m----> 2\u001b[0;31m \u001b[0mprint\u001b[0m\u001b[0;34m(\u001b[0m\u001b[0mS\u001b[0m\u001b[0;34m)\u001b[0m\u001b[0;34m\u001b[0m\u001b[0;34m\u001b[0m\u001b[0m\n\u001b[0m",
            "\u001b[0;31mNameError\u001b[0m: name 'S' is not defined"
          ]
        }
      ]
    },
    {
      "cell_type": "code",
      "source": [
        "help(set)"
      ],
      "metadata": {
        "id": "bT9BUGi59bbt"
      },
      "execution_count": null,
      "outputs": []
    },
    {
      "cell_type": "markdown",
      "source": [
        "###교집합/합집합/차집합"
      ],
      "metadata": {
        "id": "K3eejO7I-pRD"
      }
    },
    {
      "cell_type": "code",
      "source": [
        "S1={1,2,3,4,5}\n",
        "S2={3,4,5,6,7}\n",
        "print(S1)\n",
        "print(S2)\n",
        "\n",
        "# 교집합\n",
        "print(S1&S2)\n",
        "print(S1.intersection(S2))\n",
        "\n",
        "# 합집합\n",
        "print(S1|S2)\n",
        "print(S1.union(S2))\n",
        "\n",
        "# 차집합\n",
        "print(S1-S2)\n",
        "print(S1.difference(S2))\n",
        "print(S2-S1)\n",
        "print(S2.difference(S1))\n",
        "\n",
        "# 세 개 이상 집합에서 사용\n",
        "# A.intersection_update(B,C)-->계산 결과를 A로 다시 변경\n",
        "S1={1,2,3,4,5}\n",
        "S2={3,4,5,6,7}\n",
        "S3={5,6,7}\n",
        "print(S1.intersection_update(S2,S3))\n",
        "print(S1)\n",
        "\n",
        "# 두 개에서도 사용가능 꼭 세 개가 아니어도 됨(update)\n",
        "S1={1,2,3,4,5}\n",
        "S2={3,4,5,6,7}\n",
        "print(S1.intersection_update(S2))\n",
        "print(S1)\n"
      ],
      "metadata": {
        "colab": {
          "base_uri": "https://localhost:8080/"
        },
        "id": "FGgeH2_c-tUx",
        "outputId": "162d415d-99e1-4475-aa14-d1c4d55898ef"
      },
      "execution_count": 121,
      "outputs": [
        {
          "output_type": "stream",
          "name": "stdout",
          "text": [
            "{1, 2, 3, 4, 5}\n",
            "{3, 4, 5, 6, 7}\n",
            "{3, 4, 5}\n",
            "{3, 4, 5}\n",
            "{1, 2, 3, 4, 5, 6, 7}\n",
            "{1, 2, 3, 4, 5, 6, 7}\n",
            "{1, 2}\n",
            "{1, 2}\n",
            "{6, 7}\n",
            "{6, 7}\n",
            "None\n",
            "{5}\n",
            "None\n",
            "{3, 4, 5}\n"
          ]
        }
      ]
    }
  ]
}