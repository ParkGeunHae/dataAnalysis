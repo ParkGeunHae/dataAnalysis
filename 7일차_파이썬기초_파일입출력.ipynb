{
  "nbformat": 4,
  "nbformat_minor": 0,
  "metadata": {
    "colab": {
      "provenance": [],
      "authorship_tag": "ABX9TyO5ybh20AW4t76yUElMaOm1",
      "include_colab_link": true
    },
    "kernelspec": {
      "name": "python3",
      "display_name": "Python 3"
    },
    "language_info": {
      "name": "python"
    }
  },
  "cells": [
    {
      "cell_type": "markdown",
      "metadata": {
        "id": "view-in-github",
        "colab_type": "text"
      },
      "source": [
        "<a href=\"https://colab.research.google.com/github/ParkGeunHae/dataAnalysis/blob/main/7%EC%9D%BC%EC%B0%A8_%ED%8C%8C%EC%9D%B4%EC%8D%AC%EA%B8%B0%EC%B4%88_%ED%8C%8C%EC%9D%BC%EC%9E%85%EC%B6%9C%EB%A0%A5.ipynb\" target=\"_parent\"><img src=\"https://colab.research.google.com/assets/colab-badge.svg\" alt=\"Open In Colab\"/></a>"
      ]
    },
    {
      "cell_type": "markdown",
      "source": [
        "# 6. 파일 입출력"
      ],
      "metadata": {
        "id": "-urXi3PMmMbs"
      }
    },
    {
      "cell_type": "markdown",
      "source": [
        "## 6-1. TXT"
      ],
      "metadata": {
        "id": "KhEhHUVvmTMw"
      }
    },
    {
      "cell_type": "markdown",
      "source": [
        "###  파일 입출력"
      ],
      "metadata": {
        "id": "Rt-PhFG6mmqC"
      }
    },
    {
      "cell_type": "code",
      "execution_count": 7,
      "metadata": {
        "id": "qizL0o4NkS35"
      },
      "outputs": [],
      "source": [
        "# 파일에 쓰기\n",
        "f=open('./새파일.txt','w')\n",
        "for i in range(1,11):\n",
        "    f.write(f'{i:2>}번째 줄입니다.\\n')\n",
        "f.close()"
      ]
    },
    {
      "cell_type": "markdown",
      "source": [
        "- reandline()\n",
        "- readlines()\n",
        "- read()"
      ],
      "metadata": {
        "id": "vnWzWecAoH-q"
      }
    },
    {
      "cell_type": "code",
      "source": [
        "# readline()\n",
        "f=open('./새파일.txt','r')\n",
        "line=f.readline()\n",
        "print(line)\n",
        "\n",
        "while True:\n",
        "    line=f.readline()\n",
        "    if not line:\n",
        "        break\n",
        "    print(line.strip())   #strip()은 공백제거 함수\n",
        "f.close()"
      ],
      "metadata": {
        "colab": {
          "base_uri": "https://localhost:8080/"
        },
        "id": "iXBOPXQQoI46",
        "outputId": "5043e9a5-719e-4d7f-93ce-1e6681194a29"
      },
      "execution_count": 12,
      "outputs": [
        {
          "output_type": "stream",
          "name": "stdout",
          "text": [
            "1번째 줄입니다.\n",
            "\n",
            "2번째 줄입니다.\n",
            "3번째 줄입니다.\n",
            "4번째 줄입니다.\n",
            "5번째 줄입니다.\n",
            "6번째 줄입니다.\n",
            "7번째 줄입니다.\n",
            "8번째 줄입니다.\n",
            "9번째 줄입니다.\n",
            "10번째 줄입니다.\n"
          ]
        }
      ]
    },
    {
      "cell_type": "code",
      "source": [
        "#readlines() : 결과가 리스트 표현됨\n",
        "f=open('./새파일.txt','r')       #./는 현재 위치\n",
        "for line in f.readlines():    #list는 이미 개수가 있어서 for문 이용\n",
        "    print(line.strip())\n",
        "f.close()\n"
      ],
      "metadata": {
        "colab": {
          "base_uri": "https://localhost:8080/"
        },
        "id": "vbl1Wg58pz2H",
        "outputId": "1cea6f22-9896-426f-93c5-6de73b21b97f"
      },
      "execution_count": 16,
      "outputs": [
        {
          "output_type": "stream",
          "name": "stdout",
          "text": [
            "1번째 줄입니다.\n",
            "2번째 줄입니다.\n",
            "3번째 줄입니다.\n",
            "4번째 줄입니다.\n",
            "5번째 줄입니다.\n",
            "6번째 줄입니다.\n",
            "7번째 줄입니다.\n",
            "8번째 줄입니다.\n",
            "9번째 줄입니다.\n",
            "10번째 줄입니다.\n"
          ]
        }
      ]
    },
    {
      "cell_type": "code",
      "source": [
        "#read()\n",
        "f=open('./새파일.txt','r')\n",
        "line=f.read()\n",
        "print(line)\n",
        "f.close()"
      ],
      "metadata": {
        "colab": {
          "base_uri": "https://localhost:8080/"
        },
        "id": "44t0JtVzqbI3",
        "outputId": "ffe7a1ad-1cba-46ff-8951-da60f203ec32"
      },
      "execution_count": 17,
      "outputs": [
        {
          "output_type": "stream",
          "name": "stdout",
          "text": [
            "1번째 줄입니다.\n",
            "2번째 줄입니다.\n",
            "3번째 줄입니다.\n",
            "4번째 줄입니다.\n",
            "5번째 줄입니다.\n",
            "6번째 줄입니다.\n",
            "7번째 줄입니다.\n",
            "8번째 줄입니다.\n",
            "9번째 줄입니다.\n",
            "10번째 줄입니다.\n",
            "\n"
          ]
        }
      ]
    },
    {
      "cell_type": "markdown",
      "source": [
        "### with문\n",
        "with문을 벗어나면 자동으로 파일 객체를 닫는다"
      ],
      "metadata": {
        "id": "00YG0F7jrm_S"
      }
    },
    {
      "cell_type": "code",
      "source": [
        "# read(): 결과는 문자열로 표현됨\n",
        "with open('./새파일.txt','r') as f:\n",
        "    data=f.read()\n",
        "    print(type(data))\n",
        "    data=data.replace('줄','사람')\n",
        "    print(data)\n"
      ],
      "metadata": {
        "colab": {
          "base_uri": "https://localhost:8080/"
        },
        "id": "RzIBqL3pryKZ",
        "outputId": "90cc642a-a6da-4067-b2a9-5d1a2243c629"
      },
      "execution_count": 21,
      "outputs": [
        {
          "output_type": "stream",
          "name": "stdout",
          "text": [
            "<class 'str'>\n",
            "1번째 사람입니다.\n",
            "2번째 사람입니다.\n",
            "3번째 사람입니다.\n",
            "4번째 사람입니다.\n",
            "5번째 사람입니다.\n",
            "6번째 사람입니다.\n",
            "7번째 사람입니다.\n",
            "8번째 사람입니다.\n",
            "9번째 사람입니다.\n",
            "10번째 사람입니다.\n",
            "\n"
          ]
        }
      ]
    },
    {
      "cell_type": "markdown",
      "source": [
        "### os 모듈 : 디렉토리 & 파일 관련 함수  "
      ],
      "metadata": {
        "id": "FUzjo1G3sw2p"
      }
    },
    {
      "cell_type": "code",
      "source": [
        "import os\n",
        "print(f'현재위치:{os.getcwd()}')\n",
        "print(f'현재위치 파일/폴더 목록:{os.listdir()}')\n",
        "#os.chdir('../')   #앞폴더\n",
        "#print(f'현재위치 파일/폴더 목록:{os.listdir()}')"
      ],
      "metadata": {
        "colab": {
          "base_uri": "https://localhost:8080/"
        },
        "id": "bqBVHBbYs8dj",
        "outputId": "fdd9198b-ea44-490d-83fd-6a42a4503405"
      },
      "execution_count": 28,
      "outputs": [
        {
          "output_type": "stream",
          "name": "stdout",
          "text": [
            "현재위치:/content\n",
            "현재위치 파일/폴더 목록:['.config', '새파일.txt', 'sample_data']\n",
            "현재위치 파일/폴더 목록:['srv', 'sys', 'mnt', 'dev', 'proc', 'lib32', 'lib64', 'home', 'libx32', 'var', 'root', 'run', 'sbin', 'tmp', 'usr', 'boot', 'bin', 'lib', 'media', 'etc', 'opt', 'content', 'kaggle', '.dockerenv', 'datalab', 'tools', 'NGC-DL-CONTAINER-LICENSE', 'cuda-keyring_1.0-1_all.deb']\n"
          ]
        }
      ]
    },
    {
      "cell_type": "code",
      "source": [
        "os.chdir('/content') #다시 홈으로 이동"
      ],
      "metadata": {
        "id": "zoeHuHAZuIkP"
      },
      "execution_count": 29,
      "outputs": []
    },
    {
      "cell_type": "markdown",
      "source": [
        "- os.remove() : 파일 삭제"
      ],
      "metadata": {
        "id": "fP6NRYixufQA"
      }
    },
    {
      "cell_type": "code",
      "source": [
        "import os\n",
        "file='새파일.txt'\n",
        "if os.path.isfile(file):    #파일 존재여부 확인\n",
        "    os.remove(file)\n",
        "    print(f'\"{file}\"파일이 삭제되었습니다.')\n",
        "else:\n",
        "    print(f'\"{file}\"파일이 존재하지 않습니다.')"
      ],
      "metadata": {
        "colab": {
          "base_uri": "https://localhost:8080/"
        },
        "id": "2_KJxitTuil5",
        "outputId": "420dd987-ce39-4dde-a460-a919bc624ce5"
      },
      "execution_count": 31,
      "outputs": [
        {
          "output_type": "stream",
          "name": "stdout",
          "text": [
            "\"새파일.txt\"파일이 존재하지 않습니다.\n"
          ]
        }
      ]
    },
    {
      "cell_type": "code",
      "source": [
        "import random\n",
        "\n",
        "f = open('./sample.txt', 'w')\n",
        "for _ in range(10):\n",
        "    n=str(random.randint(1,100))\n",
        "    f.write(n+'\\n')               #파일은 write할 때 문자열로 사용 가능\n",
        "f.close()\n",
        "\n",
        "f=open('./sample.txt', 'r')\n",
        "data=f.read()\n",
        "print(data)\n",
        "f.close()\n"
      ],
      "metadata": {
        "colab": {
          "base_uri": "https://localhost:8080/"
        },
        "id": "m5GRK2ijwBL2",
        "outputId": "9dd3265c-82e9-46ac-a75f-6a530eeee1b9"
      },
      "execution_count": 37,
      "outputs": [
        {
          "output_type": "stream",
          "name": "stdout",
          "text": [
            "37\n",
            "16\n",
            "66\n",
            "29\n",
            "83\n",
            "71\n",
            "83\n",
            "14\n",
            "82\n",
            "11\n",
            "\n"
          ]
        }
      ]
    },
    {
      "cell_type": "code",
      "source": [
        "f=open('./sample.txt', 'r')\n",
        "data=f.read()\n",
        "print(data)\n",
        "f.close()"
      ],
      "metadata": {
        "colab": {
          "base_uri": "https://localhost:8080/"
        },
        "id": "saZFJJVOzXW_",
        "outputId": "a92c92e5-80b0-4b26-b7d7-cd2b9073e544"
      },
      "execution_count": 40,
      "outputs": [
        {
          "output_type": "stream",
          "name": "stdout",
          "text": [
            "37\n",
            "16\n",
            "66\n",
            "29\n",
            "83\n",
            "71\n",
            "83\n",
            "14\n",
            "82\n",
            "11\n",
            "\n"
          ]
        }
      ]
    },
    {
      "cell_type": "code",
      "source": [
        "# 파일 읽어서 총합&평균 출력하기\n",
        "with open('./sample.txt','r') as f:\n",
        "    data=[int(line) for line in f.readlines()]\n",
        "    hap=sum(data)\n",
        "    avg=hap/len(data)\n",
        "    content=f'{data}\\n총합은 {hap} 입니다.\\n평균은 {avg} 입니다.'  #화면에 출력\n",
        "    print(content)\n",
        "\n",
        "with open('./result.txt','w') as f:   #파일에 출력\n",
        "    f.write(content)\n"
      ],
      "metadata": {
        "colab": {
          "base_uri": "https://localhost:8080/"
        },
        "id": "3CP5vMkk0BUG",
        "outputId": "3dd36318-114f-4827-d0ce-378cc6167da9"
      },
      "execution_count": 46,
      "outputs": [
        {
          "output_type": "stream",
          "name": "stdout",
          "text": [
            "[37, 16, 66, 29, 83, 71, 83, 14, 82, 11]\n",
            "총합은 492 입니다.\n",
            "평균은 49.2 입니다.\n"
          ]
        }
      ]
    }
  ]
}