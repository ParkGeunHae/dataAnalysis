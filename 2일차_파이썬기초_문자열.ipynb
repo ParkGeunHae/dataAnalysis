{
  "nbformat": 4,
  "nbformat_minor": 0,
  "metadata": {
    "colab": {
      "provenance": [],
      "authorship_tag": "ABX9TyNNdcbpuOfGoh5Etv+K2nCz",
      "include_colab_link": true
    },
    "kernelspec": {
      "name": "python3",
      "display_name": "Python 3"
    },
    "language_info": {
      "name": "python"
    }
  },
  "cells": [
    {
      "cell_type": "markdown",
      "metadata": {
        "id": "view-in-github",
        "colab_type": "text"
      },
      "source": [
        "<a href=\"https://colab.research.google.com/github/ParkGeunHae/dataAnalysis/blob/main/2%EC%9D%BC%EC%B0%A8_%ED%8C%8C%EC%9D%B4%EC%8D%AC%EA%B8%B0%EC%B4%88_%EB%AC%B8%EC%9E%90%EC%97%B4.ipynb\" target=\"_parent\"><img src=\"https://colab.research.google.com/assets/colab-badge.svg\" alt=\"Open In Colab\"/></a>"
      ]
    },
    {
      "cell_type": "markdown",
      "source": [
        "아래와 같이 정수 a을 입력 받아, a + aa + aaa의 결과 값을 구하는\n",
        "프로그램을 작성하세요."
      ],
      "metadata": {
        "id": "nDTffRbNHIhU"
      }
    },
    {
      "cell_type": "code",
      "execution_count": 6,
      "metadata": {
        "colab": {
          "base_uri": "https://localhost:8080/"
        },
        "id": "ZqMLrELIF4ub",
        "outputId": "c5faf3b6-5fd7-495d-a7bb-c8d4a126602f"
      },
      "outputs": [
        {
          "output_type": "stream",
          "name": "stdout",
          "text": [
            "1~9까지 정수 1개 입력 :7\n",
            "42\n"
          ]
        }
      ],
      "source": [
        "a=input('1~9까지 정수 1개 입력 :')\n",
        "a=int(a)\n",
        "aa=int(a+a)\n",
        "aaa=int(a+a+a)\n",
        "print(a+aa+aaa)"
      ]
    },
    {
      "cell_type": "markdown",
      "source": [
        "아래와 같이 정수 a을 입력 받아, a + aa + aaa의 결과 값을 구하는\n",
        "프로그램을 작성하세요."
      ],
      "metadata": {
        "id": "WyBxvamZLn6z"
      }
    },
    {
      "cell_type": "code",
      "source": [
        "a=input('1~9까지 정수 1개 입력 :')\n",
        "print(int(a)+int(a+a)+int(a+a+a))"
      ],
      "metadata": {
        "colab": {
          "base_uri": "https://localhost:8080/"
        },
        "id": "-WPD5BMFL5L0",
        "outputId": "4819fa98-6ae1-4ce6-919a-f9d90e45bcc4"
      },
      "execution_count": 13,
      "outputs": [
        {
          "output_type": "stream",
          "name": "stdout",
          "text": [
            "1~9까지 정수 1개 입력 :7\n",
            "861\n"
          ]
        }
      ]
    },
    {
      "cell_type": "code",
      "source": [
        "#eval() : 문자열을 숫자로 인식하고 계산하는 함수\n",
        "eval('7+77+777')\n",
        "calc=f'{a}+{a*2}+{a*3}'\n",
        "print(f'{calc}={eval(calc)}')"
      ],
      "metadata": {
        "colab": {
          "base_uri": "https://localhost:8080/"
        },
        "id": "jg9bYoc-M-r0",
        "outputId": "756ddd54-fdf0-40a9-df37-8173175bba9f"
      },
      "execution_count": 11,
      "outputs": [
        {
          "output_type": "stream",
          "name": "stdout",
          "text": [
            "7+77+777=861\n"
          ]
        }
      ]
    },
    {
      "cell_type": "markdown",
      "source": [
        "#문자열"
      ],
      "metadata": {
        "id": "lBNBBGwWOzxs"
      }
    },
    {
      "cell_type": "code",
      "source": [
        "# 큰 따옴표(or 작은 따옴표)로 표시\n",
        "a='사과'\n",
        "a=\"사과\"\n",
        "a=\"Yes, I can't\"\n",
        "a='\"사과는 정말 맛있지?\"라고 이야기 했습니다.'"
      ],
      "metadata": {
        "id": "sDxPajW5O12M"
      },
      "execution_count": 14,
      "outputs": []
    },
    {
      "cell_type": "code",
      "source": [
        "# 한 줄 이상 문장--->따옴표 3개 사용\n",
        "menu='''#맛있다 카페 메뉴판\n",
        "-아메리카노 : 3000원\n",
        "-카페라떼 : 4000원\n",
        "-카페모카 4000원'''\n",
        "\n",
        "coffee=input(f'{menu}\\n주문하실 메뉴를 골라주세요: ')\n",
        "print(f\"{'-'*30}\\n주문하신 메뉴는 '{coffee}' 입니다.\")"
      ],
      "metadata": {
        "colab": {
          "base_uri": "https://localhost:8080/"
        },
        "id": "0P791hJRRpXM",
        "outputId": "8e39f6ff-3acd-400b-bd13-cdd1567baffa"
      },
      "execution_count": 26,
      "outputs": [
        {
          "output_type": "stream",
          "name": "stdout",
          "text": [
            "#맛있다 카페 메뉴판\n",
            "-아메리카노 : 3000원\n",
            "-카페라떼 : 4000원\n",
            "-카페모카 4000원\n",
            "주문하실 메뉴를 골라주세요: 아메리카노\n",
            "------------------------------\n",
            "주문하신 메뉴는 '아메리카노' 입니다.\n"
          ]
        }
      ]
    },
    {
      "cell_type": "markdown",
      "source": [
        "###gtts 모듈 사용하여 텍스트를 음성을 읽어주기"
      ],
      "metadata": {
        "id": "cS6oYaKRT-zE"
      }
    },
    {
      "cell_type": "code",
      "source": [
        "!pip install gtts"
      ],
      "metadata": {
        "colab": {
          "base_uri": "https://localhost:8080/"
        },
        "id": "FLLrmSk7UEpN",
        "outputId": "ccb4aea1-652d-425c-b131-5b31633bfd7f"
      },
      "execution_count": 22,
      "outputs": [
        {
          "output_type": "stream",
          "name": "stdout",
          "text": [
            "Collecting gtts\n",
            "  Downloading gTTS-2.5.1-py3-none-any.whl (29 kB)\n",
            "Requirement already satisfied: requests<3,>=2.27 in /usr/local/lib/python3.10/dist-packages (from gtts) (2.31.0)\n",
            "Requirement already satisfied: click<8.2,>=7.1 in /usr/local/lib/python3.10/dist-packages (from gtts) (8.1.7)\n",
            "Requirement already satisfied: charset-normalizer<4,>=2 in /usr/local/lib/python3.10/dist-packages (from requests<3,>=2.27->gtts) (3.3.2)\n",
            "Requirement already satisfied: idna<4,>=2.5 in /usr/local/lib/python3.10/dist-packages (from requests<3,>=2.27->gtts) (3.6)\n",
            "Requirement already satisfied: urllib3<3,>=1.21.1 in /usr/local/lib/python3.10/dist-packages (from requests<3,>=2.27->gtts) (2.0.7)\n",
            "Requirement already satisfied: certifi>=2017.4.17 in /usr/local/lib/python3.10/dist-packages (from requests<3,>=2.27->gtts) (2024.2.2)\n",
            "Installing collected packages: gtts\n",
            "Successfully installed gtts-2.5.1\n"
          ]
        }
      ]
    },
    {
      "cell_type": "code",
      "source": [
        "from gtts import gTTS\n",
        "from IPython.display import Audio\n",
        "\n",
        "# eng_wav = gTTS('Hello World!')\n",
        "# eng_wav.save('eng.wav')\n",
        "kor_wav = gTTS('menu', lang = 'ko')\n",
        "kor_wav.save('kor.wav')\n",
        "\n",
        "display(Audio('kor.wav', autoplay=True))"
      ],
      "metadata": {
        "colab": {
          "base_uri": "https://localhost:8080/",
          "height": 74
        },
        "id": "Ckbe_IDjVVZM",
        "outputId": "f5d59eef-44db-4e9c-e9ad-6ca24fcc092c"
      },
      "execution_count": 27,
      "outputs": [
        {
          "output_type": "display_data",
          "data": {
            "text/plain": [
              "<IPython.lib.display.Audio object>"
            ],
            "text/html": [
              "\n",
              "                <audio  controls=\"controls\" autoplay=\"autoplay\">\n",
              "                    <source src=\"data:audio/x-wav;base64,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\" type=\"audio/x-wav\" />\n",
              "                    Your browser does not support the audio element.\n",
              "                </audio>\n",
              "              "
            ]
          },
          "metadata": {}
        }
      ]
    },
    {
      "cell_type": "code",
      "source": [
        "# gtts 모듈로 텍스트를 소리로 읽어주기\n",
        "from gtts import gTTS\n",
        "from IPython.display import Audio\n",
        "\n",
        "# 영어 출력\n",
        "# eng_wav = gTTS('Hello World!')\n",
        "# eng_wav.save('eng.wav')\n",
        "# display(Audio('kor.wav', autoplay=True))\n",
        "\n",
        "# 한국어 출력\n",
        "kor_wav = gTTS(menu, lang = 'ko')\n",
        "kor_wav.save('kor.wav')\n",
        "display(Audio('kor.wav', autoplay=True))"
      ],
      "metadata": {
        "colab": {
          "base_uri": "https://localhost:8080/",
          "height": 74
        },
        "id": "uzSQQG65dxEG",
        "outputId": "f45336db-725b-48fa-d8ee-8d10b30c573e"
      },
      "execution_count": 28,
      "outputs": [
        {
          "output_type": "display_data",
          "data": {
            "text/plain": [
              "<IPython.lib.display.Audio object>"
            ],
            "text/html": [
              "\n",
              "                <audio  controls=\"controls\" autoplay=\"autoplay\">\n",
              "                    <source src=\"data:audio/x-wav;base64,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\" type=\"audio/x-wav\" />\n",
              "                    Your browser does not support the audio element.\n",
              "                </audio>\n",
              "              "
            ]
          },
          "metadata": {}
        }
      ]
    },
    {
      "cell_type": "markdown",
      "source": [
        "### + 기호 : 문자열을 합쳐서 출력\n",
        "```\n",
        "\n"
      ],
      "metadata": {
        "id": "zXgfgeUFelOB"
      }
    },
    {
      "cell_type": "code",
      "source": [
        "print('사과'+'맛있어')"
      ],
      "metadata": {
        "colab": {
          "base_uri": "https://localhost:8080/"
        },
        "id": "kD4O7hUKes3b",
        "outputId": "1e55c2ff-5d65-49ee-ab3e-3313e947b29e"
      },
      "execution_count": 29,
      "outputs": [
        {
          "output_type": "stream",
          "name": "stdout",
          "text": [
            "사과맛있어\n"
          ]
        }
      ]
    },
    {
      "cell_type": "markdown",
      "source": [
        "###'*'기호:반복의 의미"
      ],
      "metadata": {
        "id": "DgmqJ2g_e-2Y"
      }
    },
    {
      "cell_type": "code",
      "source": [
        "print('반짝'*2,'눈이 부셔','노'*5)\n",
        "print('*'*50)"
      ],
      "metadata": {
        "colab": {
          "base_uri": "https://localhost:8080/"
        },
        "id": "ZRKURAVpfCZA",
        "outputId": "6b65ea68-2682-40a3-b438-85b352c21b48"
      },
      "execution_count": 31,
      "outputs": [
        {
          "output_type": "stream",
          "name": "stdout",
          "text": [
            "반짝반짝 눈이 부셔 노노노노노\n",
            "**************************************************\n"
          ]
        }
      ]
    },
    {
      "cell_type": "markdown",
      "source": [
        " 문자열 출력하기\n",
        " 아래 조건에 맞는 문자열을 출력해 보세요.\n"
      ],
      "metadata": {
        "id": "dTcTYWXxfklY"
      }
    },
    {
      "cell_type": "code",
      "source": [
        "print(\"Mary's cosmetics\")\n",
        "print('박씨가 소리질렀다.\"도둑이야!\"')\n",
        "print(\"안녕하세요.\\n오늘\\t날씨가\\t\\t좋습니다.\")"
      ],
      "metadata": {
        "colab": {
          "base_uri": "https://localhost:8080/"
        },
        "id": "LxxQNiOBfu7z",
        "outputId": "1ef1c67a-5740-4e0e-d7f3-ff5085199071"
      },
      "execution_count": 32,
      "outputs": [
        {
          "output_type": "stream",
          "name": "stdout",
          "text": [
            "Mary's cosmetics\n",
            "박씨가 소리질렀다.\"도둑이야!\"\n",
            "안녕하세요.\n",
            "오늘\t날씨가\t\t좋습니다.\n"
          ]
        }
      ]
    },
    {
      "cell_type": "markdown",
      "source": [
        "### 문자열에서 자주 사용하는 함수"
      ],
      "metadata": {
        "id": "YMy9amY4kk6J"
      }
    },
    {
      "cell_type": "code",
      "source": [
        "a=\"Life is too short\"\n",
        "print(f\"문자(열) 개수 세기 : {a.count('o')}\")\n",
        "print(f\"문자(열) 위치 : {a.find('f')}\") #없으면 '-1'반환\n",
        "print(f\"문자(열) 위치 : {a.index('f')}\") #없으면 오류\n",
        "b='*'\n",
        "print(f\"문자(열) 삽입 : {b.join(a)}\") #a에 b를 삽입\n",
        "print(f\"문자(열) 변환 : {a.replace('Life','Your leg')}\") #문자열 대체\n",
        "print(f\"문자(열) 나누기 : {a.split()}\")#공백으로 분리해서 리스트형으로 반환\n",
        "print(f\"문자(열) 나누기 : {a.split('is')}\")"
      ],
      "metadata": {
        "colab": {
          "base_uri": "https://localhost:8080/"
        },
        "id": "p4ZOEHHTkoRv",
        "outputId": "c01b68a4-5070-4393-fe48-ce98f3801b2b"
      },
      "execution_count": 41,
      "outputs": [
        {
          "output_type": "stream",
          "name": "stdout",
          "text": [
            "문자(열) 개수 세기 : 3\n",
            "문자(열) 위치 : 2\n",
            "문자(열) 위치 : 2\n",
            "문자(열) 삽입 : L*i*f*e* *i*s* *t*o*o* *s*h*o*r*t\n",
            "문자(열) 변환 : Your leg is too short\n",
            "문자(열) 나누기 : ['Life', 'is', 'too', 'short']\n",
            "문자(열) 나누기 : ['Life ', ' too short']\n"
          ]
        }
      ]
    },
    {
      "cell_type": "markdown",
      "source": [
        "문자열을 입력 받아 거꾸로 출력하는 프로그램을 작성하세요."
      ],
      "metadata": {
        "id": "i24YPOt0m7nb"
      }
    },
    {
      "cell_type": "code",
      "source": [
        "s=input('문자열을 입력하세요:')\n",
        "print(s[::-1])"
      ],
      "metadata": {
        "colab": {
          "base_uri": "https://localhost:8080/"
        },
        "id": "vy-pPHKrm8rx",
        "outputId": "05ebe941-c278-42f1-8dc7-f061ee7d89ea"
      },
      "execution_count": 42,
      "outputs": [
        {
          "output_type": "stream",
          "name": "stdout",
          "text": [
            "문자열을 입력하세요:사랑해요 파이썬!\n",
            "!썬이파 요해랑사\n"
          ]
        }
      ]
    },
    {
      "cell_type": "code",
      "source": [
        "# 확장자가 포함된 파일명 전체를 입력 받아 파일명과 확장자를 분리해서\n",
        "# 출력하는 프로그램을 만들어 보세요.\n",
        "\n",
        "filename=input('확장자포함 파일명 입력하기 :')\n",
        "a=filename.split('.')\n",
        "print(f\"파일명 : {a[0]}, 확장자 : {a[1]}\")"
      ],
      "metadata": {
        "colab": {
          "base_uri": "https://localhost:8080/"
        },
        "id": "2NIVYc3KoZID",
        "outputId": "b727e988-a96f-413d-e00c-cd5bb603dfc9"
      },
      "execution_count": 43,
      "outputs": [
        {
          "output_type": "stream",
          "name": "stdout",
          "text": [
            "확장자포함 파일명 입력하기 :test.ipynb\n",
            "파일명 : test, 확장자 : ipynb\n"
          ]
        }
      ]
    },
    {
      "cell_type": "code",
      "source": [
        "#지불할 음식 총 가격 계산하기"
      ],
      "metadata": {
        "id": "TwMhk0nTu8px"
      },
      "execution_count": null,
      "outputs": []
    },
    {
      "cell_type": "code",
      "source": [
        "meal=int(input('음식가격: '))\n",
        "tax=0.0675\n",
        "tip=0.15\n",
        "meal=meal+(meal*tax)\n",
        "total=meal+(meal*tip)\n",
        "print(f'내가 지불할 총 금액 : {round(total,2):,}')"
      ],
      "metadata": {
        "colab": {
          "base_uri": "https://localhost:8080/"
        },
        "id": "lmkwVUdxvCdx",
        "outputId": "1f1f12b5-7491-464b-b760-cc706749795d"
      },
      "execution_count": 46,
      "outputs": [
        {
          "output_type": "stream",
          "name": "stdout",
          "text": [
            "음식가격: 4450\n",
            "내가 지불할 총 금액 : 5,462.93\n"
          ]
        }
      ]
    },
    {
      "cell_type": "markdown",
      "source": [
        "###[실습문제]섭씨->화씨 변환"
      ],
      "metadata": {
        "id": "HGci3UvzxzkR"
      }
    },
    {
      "cell_type": "code",
      "source": [
        "C=float(input('섭씨온도: '))\n",
        "print(f\"섭씨 온도 {C}는 화씨온도 {(9/5)*C+32}°C\")"
      ],
      "metadata": {
        "colab": {
          "base_uri": "https://localhost:8080/"
        },
        "id": "kGVDxrxHx4WZ",
        "outputId": "b0514491-271d-4d25-a6a8-4f6a5fe0e0d7"
      },
      "execution_count": 47,
      "outputs": [
        {
          "output_type": "stream",
          "name": "stdout",
          "text": [
            "섭씨온도: 17.5\n",
            "섭씨 온도 17.5는 화씨온도 63.5°C\n"
          ]
        }
      ]
    },
    {
      "cell_type": "markdown",
      "source": [
        "###파이썬 연산자"
      ],
      "metadata": {
        "id": "3fo0OqRxzwKL"
      }
    },
    {
      "cell_type": "code",
      "source": [
        "#산술 연산자\n",
        "print(33//5) #몫\n",
        "print(33%5)  #나머지"
      ],
      "metadata": {
        "colab": {
          "base_uri": "https://localhost:8080/"
        },
        "id": "5xy6N9ohzyMr",
        "outputId": "fadac3a4-87aa-4d0b-9adb-deec984fa520"
      },
      "execution_count": 48,
      "outputs": [
        {
          "output_type": "stream",
          "name": "stdout",
          "text": [
            "6\n",
            "3\n"
          ]
        }
      ]
    },
    {
      "cell_type": "code",
      "source": [
        "# 대입 연산자\n",
        "a=a+1 #a+=1\n",
        "meal=meal+(meal*tax)\n",
        "meal+=(meal*tax)"
      ],
      "metadata": {
        "colab": {
          "base_uri": "https://localhost:8080/",
          "height": 166
        },
        "id": "deVCrEuO0MWA",
        "outputId": "64acb2da-854d-4ebd-e5c2-3f0b3630ff07"
      },
      "execution_count": 49,
      "outputs": [
        {
          "output_type": "error",
          "ename": "TypeError",
          "evalue": "can only concatenate list (not \"int\") to list",
          "traceback": [
            "\u001b[0;31m---------------------------------------------------------------------------\u001b[0m",
            "\u001b[0;31mTypeError\u001b[0m                                 Traceback (most recent call last)",
            "\u001b[0;32m<ipython-input-49-ae8fd228da8e>\u001b[0m in \u001b[0;36m<cell line: 2>\u001b[0;34m()\u001b[0m\n\u001b[1;32m      1\u001b[0m \u001b[0;31m# 대입 연산자\u001b[0m\u001b[0;34m\u001b[0m\u001b[0;34m\u001b[0m\u001b[0m\n\u001b[0;32m----> 2\u001b[0;31m \u001b[0ma\u001b[0m\u001b[0;34m=\u001b[0m\u001b[0ma\u001b[0m\u001b[0;34m+\u001b[0m\u001b[0;36m1\u001b[0m \u001b[0;31m#a+=1\u001b[0m\u001b[0;34m\u001b[0m\u001b[0;34m\u001b[0m\u001b[0m\n\u001b[0m",
            "\u001b[0;31mTypeError\u001b[0m: can only concatenate list (not \"int\") to list"
          ]
        }
      ]
    },
    {
      "cell_type": "code",
      "source": [
        "#관계 연산자(비교 연산자)\n",
        "a=100\n",
        "print(a>200)\n",
        "print(a==100)\n",
        "print(a!=100)"
      ],
      "metadata": {
        "colab": {
          "base_uri": "https://localhost:8080/"
        },
        "id": "xmNszF6B0pt5",
        "outputId": "ac0de71f-2a87-41be-d0a1-1e8cc13304b1"
      },
      "execution_count": 51,
      "outputs": [
        {
          "output_type": "stream",
          "name": "stdout",
          "text": [
            "False\n",
            "True\n",
            "False\n"
          ]
        }
      ]
    },
    {
      "cell_type": "code",
      "source": [
        "#논리 연산자\n",
        "a=100\n",
        "print(a>100 and a==100)\n",
        "print(a>100 or a==100)\n",
        "print(not(a==100))\n"
      ],
      "metadata": {
        "colab": {
          "base_uri": "https://localhost:8080/"
        },
        "id": "EQqEGkpL09TM",
        "outputId": "ae1df3fe-ff5c-4778-967a-b610ec7ee9f6"
      },
      "execution_count": 53,
      "outputs": [
        {
          "output_type": "stream",
          "name": "stdout",
          "text": [
            "False\n",
            "True\n",
            "False\n"
          ]
        }
      ]
    },
    {
      "cell_type": "code",
      "source": [
        "# 멤버쉽 연산자\n",
        "\n",
        "fruits=['사과','포도','오렌지','딸기']\n",
        "print('딸기' in fruits)\n",
        "print('키위' not in fruits)\n",
        "\n",
        "if '딸기' in fruits:\n",
        "  print('딸기는 fruits안에 있습니다.')\n",
        "else:\n",
        "  print('딸기는 fruits안에 없습니다.')\n",
        "\n"
      ],
      "metadata": {
        "colab": {
          "base_uri": "https://localhost:8080/"
        },
        "id": "SpxxLMBf1W6s",
        "outputId": "700579a6-0048-4365-e488-46078925d9b5"
      },
      "execution_count": 56,
      "outputs": [
        {
          "output_type": "stream",
          "name": "stdout",
          "text": [
            "True\n",
            "True\n",
            "딸기는 fruits안에 있습니다.\n"
          ]
        }
      ]
    },
    {
      "cell_type": "code",
      "source": [
        "for fruit in fruits:\n",
        "  print(f'내가 좋아하는 과일 \"{fruit}\"')"
      ],
      "metadata": {
        "colab": {
          "base_uri": "https://localhost:8080/"
        },
        "id": "fhW3OJgl2JXA",
        "outputId": "11a8cae3-766a-4383-8d27-07dd6b509e19"
      },
      "execution_count": 58,
      "outputs": [
        {
          "output_type": "stream",
          "name": "stdout",
          "text": [
            "내가 좋아하는 과일 \"사과\"\n",
            "내가 좋아하는 과일 \"포도\"\n",
            "내가 좋아하는 과일 \"오렌지\"\n",
            "내가 좋아하는 과일 \"딸기\"\n"
          ]
        }
      ]
    },
    {
      "cell_type": "code",
      "source": [
        "letters='Life is too short!'\n",
        "if 'too' in letters :\n",
        "   print(True)\n",
        "else:\n",
        "  print(False)"
      ],
      "metadata": {
        "colab": {
          "base_uri": "https://localhost:8080/"
        },
        "id": "2bCpkdaz2oGf",
        "outputId": "f844cc97-ea99-403f-8497-3b8a5ba0fdb6"
      },
      "execution_count": 59,
      "outputs": [
        {
          "output_type": "stream",
          "name": "stdout",
          "text": [
            "True\n"
          ]
        }
      ]
    },
    {
      "cell_type": "markdown",
      "source": [
        "###동전 교환 프로그램 만들기"
      ],
      "metadata": {
        "id": "mxiICc6O4Yx7"
      }
    },
    {
      "cell_type": "code",
      "source": [
        "money=int(input('동전으로 교환할 금액을 입력하세요 : '))\n",
        "print('-'*30)\n",
        "print(f'500원짜리 ==> {money//500}개\\n'\n",
        "      f'100원짜리 ==> {money%500//100}개\\n'\n",
        "      f'50원짜리 ==> {money%500%100//50}개\\n'\n",
        "      f'10원짜리 ==> {money%500%100%50//10}개\\n'\n",
        "      f'잔돈==>{money%500%100%50%10}원')\n"
      ],
      "metadata": {
        "colab": {
          "base_uri": "https://localhost:8080/"
        },
        "id": "cHm9CuiM4bDj",
        "outputId": "49d26203-9eab-4a09-e60b-f83ae99bded7"
      },
      "execution_count": 61,
      "outputs": [
        {
          "output_type": "stream",
          "name": "stdout",
          "text": [
            "동전으로 교환할 금액을 입력하세요 : 4321\n",
            "------------------------------\n",
            "500원짜리 ==> 8개\n",
            "100원짜리 ==> 3개\n",
            "50원짜리 ==> 0개\n",
            "10원짜리 ==> 2개\n",
            "잔돈==>1원\n"
          ]
        }
      ]
    }
  ]
}