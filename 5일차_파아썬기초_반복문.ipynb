{
  "nbformat": 4,
  "nbformat_minor": 0,
  "metadata": {
    "colab": {
      "provenance": [],
      "authorship_tag": "ABX9TyOCW0emOoQTxLQ+n5lSdxqp",
      "include_colab_link": true
    },
    "kernelspec": {
      "name": "python3",
      "display_name": "Python 3"
    },
    "language_info": {
      "name": "python"
    }
  },
  "cells": [
    {
      "cell_type": "markdown",
      "metadata": {
        "id": "view-in-github",
        "colab_type": "text"
      },
      "source": [
        "<a href=\"https://colab.research.google.com/github/ParkGeunHae/dataAnalysis/blob/main/5%EC%9D%BC%EC%B0%A8_%ED%8C%8C%EC%95%84%EC%8D%AC%EA%B8%B0%EC%B4%88_%EB%B0%98%EB%B3%B5%EB%AC%B8.ipynb\" target=\"_parent\"><img src=\"https://colab.research.google.com/assets/colab-badge.svg\" alt=\"Open In Colab\"/></a>"
      ]
    },
    {
      "cell_type": "markdown",
      "source": [
        "# 5.반복문"
      ],
      "metadata": {
        "id": "4mo-qYczoABg"
      }
    },
    {
      "cell_type": "markdown",
      "source": [
        "## 5-1. for 반복문\n",
        "유한개수의 반복"
      ],
      "metadata": {
        "id": "hQiedUvboF3O"
      }
    },
    {
      "cell_type": "markdown",
      "source": [
        "### 1. 다양한 반복문"
      ],
      "metadata": {
        "id": "ojJ7La3nnUbp"
      }
    },
    {
      "cell_type": "code",
      "execution_count": 2,
      "metadata": {
        "colab": {
          "base_uri": "https://localhost:8080/"
        },
        "id": "kVOk68X-mwzu",
        "outputId": "f2553d98-50ad-438b-992f-c9b555f50186"
      },
      "outputs": [
        {
          "output_type": "stream",
          "name": "stdout",
          "text": [
            "0\n",
            "1\n",
            "2\n"
          ]
        }
      ],
      "source": [
        "# 1. range() 함수 이용 : 정수를 차례로 발생시키는 함수\n",
        "# for 변수 in range(0,3,1):\n",
        "for 변수 in range(3):\n",
        "    print(변수)"
      ]
    },
    {
      "cell_type": "code",
      "source": [
        "# 2. 리스트 이용\n",
        "a=list(range(10,0,-1))\n",
        "a=list(range(1,11))\n",
        "for i in a:\n",
        "    print(i)\n",
        "\n",
        "for i in a:\n",
        "    print(i,end=',')"
      ],
      "metadata": {
        "colab": {
          "base_uri": "https://localhost:8080/"
        },
        "id": "bi-ngh89oPgf",
        "outputId": "d1ba3577-445c-483c-81d0-3a13b3e8959e"
      },
      "execution_count": 12,
      "outputs": [
        {
          "output_type": "stream",
          "name": "stdout",
          "text": [
            "1\n",
            "2\n",
            "3\n",
            "4\n",
            "5\n",
            "6\n",
            "7\n",
            "8\n",
            "9\n",
            "10\n",
            "1,2,3,4,5,6,7,8,9,10,"
          ]
        }
      ]
    },
    {
      "cell_type": "code",
      "source": [
        "# 한 줄로 표현하는 방법\n",
        "for i in range(1,101):\n",
        "    print(i,end=',')"
      ],
      "metadata": {
        "colab": {
          "base_uri": "https://localhost:8080/"
        },
        "id": "IMXFKUQ9piNn",
        "outputId": "a70e82a7-70b7-44fc-ffad-8dd5f551d529"
      },
      "execution_count": 13,
      "outputs": [
        {
          "output_type": "stream",
          "name": "stdout",
          "text": [
            "1,2,3,4,5,6,7,8,9,10,11,12,13,14,15,16,17,18,19,20,21,22,23,24,25,26,27,28,29,30,31,32,33,34,35,36,37,38,39,40,41,42,43,44,45,46,47,48,49,50,51,52,53,54,55,56,57,58,59,60,61,62,63,64,65,66,67,68,69,70,71,72,73,74,75,76,77,78,79,80,81,82,83,84,85,86,87,88,89,90,91,92,93,94,95,96,97,98,99,100,"
          ]
        }
      ]
    },
    {
      "cell_type": "code",
      "source": [
        "# 3. 문자열 이용\n",
        "for i in 'python':\n",
        "    print(i)"
      ],
      "metadata": {
        "colab": {
          "base_uri": "https://localhost:8080/"
        },
        "id": "1L_x6oqbqGdv",
        "outputId": "d7be30ae-786a-449f-ca95-8f3e944cd109"
      },
      "execution_count": 15,
      "outputs": [
        {
          "output_type": "stream",
          "name": "stdout",
          "text": [
            "p\n",
            "y\n",
            "t\n",
            "h\n",
            "o\n",
            "n\n"
          ]
        }
      ]
    },
    {
      "cell_type": "code",
      "source": [
        "# 4. 변수 사용 안 하고 반복만 할 때\n",
        "for _ in range(3):\n",
        "    print('좋은 아침!')"
      ],
      "metadata": {
        "colab": {
          "base_uri": "https://localhost:8080/"
        },
        "id": "BRTQNUHQqZOm",
        "outputId": "0cb4f657-007e-4f93-f6dd-c51f1631afc2"
      },
      "execution_count": 17,
      "outputs": [
        {
          "output_type": "stream",
          "name": "stdout",
          "text": [
            "좋은 아침!\n",
            "좋은 아침!\n",
            "좋은 아침!\n"
          ]
        }
      ]
    },
    {
      "cell_type": "code",
      "source": [
        "# 5. enumerate():리스트와 같은 순서가 있는 자료형의 인덱스를 함께 사용\n",
        "fruits= ['사과','포도','딸기','키위']\n",
        "\n",
        "idx=0\n",
        "for fruit in fruits:\n",
        "    print(idx,fruit)\n",
        "    idx+=1\n",
        "\n",
        "for idx,fruit in enumerate(fruits):\n",
        "    print(idx,fruit)"
      ],
      "metadata": {
        "colab": {
          "base_uri": "https://localhost:8080/"
        },
        "id": "am1cUrN-qozz",
        "outputId": "aea6eb0e-10a3-4712-a72d-a31919f2c768"
      },
      "execution_count": 22,
      "outputs": [
        {
          "output_type": "stream",
          "name": "stdout",
          "text": [
            "0 사과\n",
            "1 포도\n",
            "2 딸기\n",
            "3 키위\n",
            "0 사과\n",
            "1 포도\n",
            "2 딸기\n",
            "3 키위\n"
          ]
        }
      ]
    },
    {
      "cell_type": "code",
      "source": [
        "# 6. 컬렉션 자료형 특징 이용\n",
        "for a,b in [(1,2,),(3,4),(5,6)]:    #형태가 맞아야 함\n",
        "    print(a,b)\n",
        "    print('*'*30)\n",
        "\n",
        "# 딕셔너리\n",
        "dic={1:'사과',2:'포도'}\n",
        "\n",
        "for key in dic:\n",
        "    print(key,dic[key])\n",
        "\n",
        "print('*'*30)\n",
        "\n",
        "for key,value in dic.items():\n",
        "    print(key,value)\n",
        "\n",
        "print('*'*30)\n",
        "\n",
        "# 집합\n",
        "for v in {1,2,3,3,4,5,3}:\n",
        "    print(v)"
      ],
      "metadata": {
        "colab": {
          "base_uri": "https://localhost:8080/"
        },
        "id": "V63TSkpusYIG",
        "outputId": "bb5f3e3a-4c62-4ec4-af17-26541d6b3c38"
      },
      "execution_count": 30,
      "outputs": [
        {
          "output_type": "stream",
          "name": "stdout",
          "text": [
            "1 2\n",
            "******************************\n",
            "3 4\n",
            "******************************\n",
            "5 6\n",
            "******************************\n",
            "1 사과\n",
            "2 포도\n",
            "******************************\n",
            "1 사과\n",
            "2 포도\n",
            "******************************\n",
            "1\n",
            "2\n",
            "3\n",
            "4\n",
            "5\n"
          ]
        }
      ]
    },
    {
      "cell_type": "code",
      "source": [
        "n=int(input('합계를 구할 숫자 입력: '))\n",
        "hap=0\n",
        "\n",
        "for i in range(n+1):\n",
        "    if i%2==1 :\n",
        "        hap+=i\n",
        "print(f'1 ~ {n}까지 짝수를 제외한 합은: {hap}')"
      ],
      "metadata": {
        "colab": {
          "base_uri": "https://localhost:8080/"
        },
        "id": "o1r1b8EZuYmd",
        "outputId": "190e6bba-6522-4bad-a80d-17c0fcf479e8"
      },
      "execution_count": 36,
      "outputs": [
        {
          "output_type": "stream",
          "name": "stdout",
          "text": [
            "합계를 구할 숫자 입력: 100\n",
            "1 ~ 100까지 짝수를 제외한 합은: 2500\n"
          ]
        }
      ]
    },
    {
      "cell_type": "code",
      "source": [
        "n=int(input('합계를 구할 숫자 입력: '))\n",
        "hap=0\n",
        "\n",
        "for i in range(1,n+1,2):\n",
        "    hap+=i\n",
        "print(f'1 ~ {n}까지 짝수를 제외한 합은: {hap}')"
      ],
      "metadata": {
        "colab": {
          "base_uri": "https://localhost:8080/"
        },
        "id": "1o4aPGdQxT7k",
        "outputId": "d7f24732-fbcc-4b16-ef35-01d3dd5e3050"
      },
      "execution_count": 35,
      "outputs": [
        {
          "output_type": "stream",
          "name": "stdout",
          "text": [
            "합계를 구할 숫자 입력: 100\n",
            "1 ~ 100까지 짝수를 제외한 합은: 2500\n"
          ]
        }
      ]
    },
    {
      "cell_type": "code",
      "source": [
        "n=int(input('합계를 구할 숫자 입력: '))\n",
        "hap=sum([i for i in range(1,n+1,2)])\n",
        "print(f'1 ~ {n}까지 짝수를 제외한 합은: {hap}')"
      ],
      "metadata": {
        "colab": {
          "base_uri": "https://localhost:8080/"
        },
        "id": "5up6ZTl1u6fi",
        "outputId": "5afd2802-f81b-4e70-f896-e19f53389c64"
      },
      "execution_count": 34,
      "outputs": [
        {
          "output_type": "stream",
          "name": "stdout",
          "text": [
            "합계를 구할 숫자 입력: 100\n",
            "1 ~ 100까지 짝수를 제외한 합은: 2500\n"
          ]
        }
      ]
    },
    {
      "cell_type": "markdown",
      "source": [
        "### [실습문제]정오각형 그리기\n",
        "- turtle모듈은 사용할 수 없음"
      ],
      "metadata": {
        "id": "hkeVy0-z2Jt7"
      }
    },
    {
      "cell_type": "code",
      "source": [
        "import turtle\n",
        "\n",
        "t1=turtle.Pen()\n",
        "t2=turtle.Pen()\n",
        "\n",
        "t1.pensize(5)\n",
        "t1.color('blue')\n",
        "t1.shape('turtle')\n",
        "\n",
        "t2.goto(-100,100)\n",
        "t2.pensize(5)\n",
        "t2.color('red')\n",
        "t2.shape('turtle')\n",
        "\n",
        "\n",
        "\n",
        "for _ in range(5):\n",
        "    t1.forward(100)\n",
        "    t1.right(360/5)\n",
        "\n",
        "\n",
        "for _ in range(4):\n",
        "    t2.forward(100)\n",
        "    t2.right(360/4)\n",
        "\n",
        "turtle.exitonclick()\n"
      ],
      "metadata": {
        "colab": {
          "base_uri": "https://localhost:8080/",
          "height": 373
        },
        "id": "-yO1n2Ns2NaJ",
        "outputId": "2789accd-38c1-464e-a49b-e9e8057810a9"
      },
      "execution_count": 37,
      "outputs": [
        {
          "output_type": "error",
          "ename": "TclError",
          "evalue": "no display name and no $DISPLAY environment variable",
          "traceback": [
            "\u001b[0;31m---------------------------------------------------------------------------\u001b[0m",
            "\u001b[0;31mTclError\u001b[0m                                  Traceback (most recent call last)",
            "\u001b[0;32m<ipython-input-37-0b94673331d9>\u001b[0m in \u001b[0;36m<cell line: 2>\u001b[0;34m()\u001b[0m\n\u001b[1;32m      1\u001b[0m \u001b[0;32mimport\u001b[0m \u001b[0mturtle\u001b[0m\u001b[0;34m\u001b[0m\u001b[0;34m\u001b[0m\u001b[0m\n\u001b[0;32m----> 2\u001b[0;31m \u001b[0mt\u001b[0m\u001b[0;34m=\u001b[0m\u001b[0mturtle\u001b[0m\u001b[0;34m.\u001b[0m\u001b[0mPen\u001b[0m\u001b[0;34m(\u001b[0m\u001b[0;34m)\u001b[0m\u001b[0;34m\u001b[0m\u001b[0;34m\u001b[0m\u001b[0m\n\u001b[0m\u001b[1;32m      3\u001b[0m \u001b[0mt\u001b[0m\u001b[0;34m.\u001b[0m\u001b[0mforward\u001b[0m\u001b[0;34m(\u001b[0m\u001b[0;36m100\u001b[0m\u001b[0;34m)\u001b[0m\u001b[0;34m\u001b[0m\u001b[0;34m\u001b[0m\u001b[0m\n\u001b[1;32m      4\u001b[0m \u001b[0mt\u001b[0m\u001b[0;34m.\u001b[0m\u001b[0mright\u001b[0m\u001b[0;34m(\u001b[0m\u001b[0;36m72\u001b[0m\u001b[0;34m)\u001b[0m\u001b[0;34m\u001b[0m\u001b[0;34m\u001b[0m\u001b[0m\n\u001b[1;32m      5\u001b[0m \u001b[0;34m\u001b[0m\u001b[0m\n",
            "\u001b[0;32m/usr/lib/python3.10/turtle.py\u001b[0m in \u001b[0;36m__init__\u001b[0;34m(self, shape, undobuffersize, visible)\u001b[0m\n\u001b[1;32m   3812\u001b[0m                  visible=_CFG[\"visible\"]):\n\u001b[1;32m   3813\u001b[0m         \u001b[0;32mif\u001b[0m \u001b[0mTurtle\u001b[0m\u001b[0;34m.\u001b[0m\u001b[0m_screen\u001b[0m \u001b[0;32mis\u001b[0m \u001b[0;32mNone\u001b[0m\u001b[0;34m:\u001b[0m\u001b[0;34m\u001b[0m\u001b[0;34m\u001b[0m\u001b[0m\n\u001b[0;32m-> 3814\u001b[0;31m             \u001b[0mTurtle\u001b[0m\u001b[0;34m.\u001b[0m\u001b[0m_screen\u001b[0m \u001b[0;34m=\u001b[0m \u001b[0mScreen\u001b[0m\u001b[0;34m(\u001b[0m\u001b[0;34m)\u001b[0m\u001b[0;34m\u001b[0m\u001b[0;34m\u001b[0m\u001b[0m\n\u001b[0m\u001b[1;32m   3815\u001b[0m         RawTurtle.__init__(self, Turtle._screen,\n\u001b[1;32m   3816\u001b[0m                            \u001b[0mshape\u001b[0m\u001b[0;34m=\u001b[0m\u001b[0mshape\u001b[0m\u001b[0;34m,\u001b[0m\u001b[0;34m\u001b[0m\u001b[0;34m\u001b[0m\u001b[0m\n",
            "\u001b[0;32m/usr/lib/python3.10/turtle.py\u001b[0m in \u001b[0;36mScreen\u001b[0;34m()\u001b[0m\n\u001b[1;32m   3662\u001b[0m     else return the existing one.\"\"\"\n\u001b[1;32m   3663\u001b[0m     \u001b[0;32mif\u001b[0m \u001b[0mTurtle\u001b[0m\u001b[0;34m.\u001b[0m\u001b[0m_screen\u001b[0m \u001b[0;32mis\u001b[0m \u001b[0;32mNone\u001b[0m\u001b[0;34m:\u001b[0m\u001b[0;34m\u001b[0m\u001b[0;34m\u001b[0m\u001b[0m\n\u001b[0;32m-> 3664\u001b[0;31m         \u001b[0mTurtle\u001b[0m\u001b[0;34m.\u001b[0m\u001b[0m_screen\u001b[0m \u001b[0;34m=\u001b[0m \u001b[0m_Screen\u001b[0m\u001b[0;34m(\u001b[0m\u001b[0;34m)\u001b[0m\u001b[0;34m\u001b[0m\u001b[0;34m\u001b[0m\u001b[0m\n\u001b[0m\u001b[1;32m   3665\u001b[0m     \u001b[0;32mreturn\u001b[0m \u001b[0mTurtle\u001b[0m\u001b[0;34m.\u001b[0m\u001b[0m_screen\u001b[0m\u001b[0;34m\u001b[0m\u001b[0;34m\u001b[0m\u001b[0m\n\u001b[1;32m   3666\u001b[0m \u001b[0;34m\u001b[0m\u001b[0m\n",
            "\u001b[0;32m/usr/lib/python3.10/turtle.py\u001b[0m in \u001b[0;36m__init__\u001b[0;34m(self)\u001b[0m\n\u001b[1;32m   3678\u001b[0m         \u001b[0;31m# preserved (perhaps by passing it as an optional parameter)\u001b[0m\u001b[0;34m\u001b[0m\u001b[0;34m\u001b[0m\u001b[0m\n\u001b[1;32m   3679\u001b[0m         \u001b[0;32mif\u001b[0m \u001b[0m_Screen\u001b[0m\u001b[0;34m.\u001b[0m\u001b[0m_root\u001b[0m \u001b[0;32mis\u001b[0m \u001b[0;32mNone\u001b[0m\u001b[0;34m:\u001b[0m\u001b[0;34m\u001b[0m\u001b[0;34m\u001b[0m\u001b[0m\n\u001b[0;32m-> 3680\u001b[0;31m             \u001b[0m_Screen\u001b[0m\u001b[0;34m.\u001b[0m\u001b[0m_root\u001b[0m \u001b[0;34m=\u001b[0m \u001b[0mself\u001b[0m\u001b[0;34m.\u001b[0m\u001b[0m_root\u001b[0m \u001b[0;34m=\u001b[0m \u001b[0m_Root\u001b[0m\u001b[0;34m(\u001b[0m\u001b[0;34m)\u001b[0m\u001b[0;34m\u001b[0m\u001b[0;34m\u001b[0m\u001b[0m\n\u001b[0m\u001b[1;32m   3681\u001b[0m             \u001b[0mself\u001b[0m\u001b[0;34m.\u001b[0m\u001b[0m_root\u001b[0m\u001b[0;34m.\u001b[0m\u001b[0mtitle\u001b[0m\u001b[0;34m(\u001b[0m\u001b[0m_Screen\u001b[0m\u001b[0;34m.\u001b[0m\u001b[0m_title\u001b[0m\u001b[0;34m)\u001b[0m\u001b[0;34m\u001b[0m\u001b[0;34m\u001b[0m\u001b[0m\n\u001b[1;32m   3682\u001b[0m             \u001b[0mself\u001b[0m\u001b[0;34m.\u001b[0m\u001b[0m_root\u001b[0m\u001b[0;34m.\u001b[0m\u001b[0mondestroy\u001b[0m\u001b[0;34m(\u001b[0m\u001b[0mself\u001b[0m\u001b[0;34m.\u001b[0m\u001b[0m_destroy\u001b[0m\u001b[0;34m)\u001b[0m\u001b[0;34m\u001b[0m\u001b[0;34m\u001b[0m\u001b[0m\n",
            "\u001b[0;32m/usr/lib/python3.10/turtle.py\u001b[0m in \u001b[0;36m__init__\u001b[0;34m(self)\u001b[0m\n\u001b[1;32m    433\u001b[0m     \u001b[0;34m\"\"\"Root class for Screen based on Tkinter.\"\"\"\u001b[0m\u001b[0;34m\u001b[0m\u001b[0;34m\u001b[0m\u001b[0m\n\u001b[1;32m    434\u001b[0m     \u001b[0;32mdef\u001b[0m \u001b[0m__init__\u001b[0m\u001b[0;34m(\u001b[0m\u001b[0mself\u001b[0m\u001b[0;34m)\u001b[0m\u001b[0;34m:\u001b[0m\u001b[0;34m\u001b[0m\u001b[0;34m\u001b[0m\u001b[0m\n\u001b[0;32m--> 435\u001b[0;31m         \u001b[0mTK\u001b[0m\u001b[0;34m.\u001b[0m\u001b[0mTk\u001b[0m\u001b[0;34m.\u001b[0m\u001b[0m__init__\u001b[0m\u001b[0;34m(\u001b[0m\u001b[0mself\u001b[0m\u001b[0;34m)\u001b[0m\u001b[0;34m\u001b[0m\u001b[0;34m\u001b[0m\u001b[0m\n\u001b[0m\u001b[1;32m    436\u001b[0m \u001b[0;34m\u001b[0m\u001b[0m\n\u001b[1;32m    437\u001b[0m     \u001b[0;32mdef\u001b[0m \u001b[0msetupcanvas\u001b[0m\u001b[0;34m(\u001b[0m\u001b[0mself\u001b[0m\u001b[0;34m,\u001b[0m \u001b[0mwidth\u001b[0m\u001b[0;34m,\u001b[0m \u001b[0mheight\u001b[0m\u001b[0;34m,\u001b[0m \u001b[0mcwidth\u001b[0m\u001b[0;34m,\u001b[0m \u001b[0mcheight\u001b[0m\u001b[0;34m)\u001b[0m\u001b[0;34m:\u001b[0m\u001b[0;34m\u001b[0m\u001b[0;34m\u001b[0m\u001b[0m\n",
            "\u001b[0;32m/usr/lib/python3.10/tkinter/__init__.py\u001b[0m in \u001b[0;36m__init__\u001b[0;34m(self, screenName, baseName, className, useTk, sync, use)\u001b[0m\n\u001b[1;32m   2297\u001b[0m                 \u001b[0mbaseName\u001b[0m \u001b[0;34m=\u001b[0m \u001b[0mbaseName\u001b[0m \u001b[0;34m+\u001b[0m \u001b[0mext\u001b[0m\u001b[0;34m\u001b[0m\u001b[0;34m\u001b[0m\u001b[0m\n\u001b[1;32m   2298\u001b[0m         \u001b[0minteractive\u001b[0m \u001b[0;34m=\u001b[0m \u001b[0;32mFalse\u001b[0m\u001b[0;34m\u001b[0m\u001b[0;34m\u001b[0m\u001b[0m\n\u001b[0;32m-> 2299\u001b[0;31m         \u001b[0mself\u001b[0m\u001b[0;34m.\u001b[0m\u001b[0mtk\u001b[0m \u001b[0;34m=\u001b[0m \u001b[0m_tkinter\u001b[0m\u001b[0;34m.\u001b[0m\u001b[0mcreate\u001b[0m\u001b[0;34m(\u001b[0m\u001b[0mscreenName\u001b[0m\u001b[0;34m,\u001b[0m \u001b[0mbaseName\u001b[0m\u001b[0;34m,\u001b[0m \u001b[0mclassName\u001b[0m\u001b[0;34m,\u001b[0m \u001b[0minteractive\u001b[0m\u001b[0;34m,\u001b[0m \u001b[0mwantobjects\u001b[0m\u001b[0;34m,\u001b[0m \u001b[0museTk\u001b[0m\u001b[0;34m,\u001b[0m \u001b[0msync\u001b[0m\u001b[0;34m,\u001b[0m \u001b[0muse\u001b[0m\u001b[0;34m)\u001b[0m\u001b[0;34m\u001b[0m\u001b[0;34m\u001b[0m\u001b[0m\n\u001b[0m\u001b[1;32m   2300\u001b[0m         \u001b[0;32mif\u001b[0m \u001b[0museTk\u001b[0m\u001b[0;34m:\u001b[0m\u001b[0;34m\u001b[0m\u001b[0;34m\u001b[0m\u001b[0m\n\u001b[1;32m   2301\u001b[0m             \u001b[0mself\u001b[0m\u001b[0;34m.\u001b[0m\u001b[0m_loadtk\u001b[0m\u001b[0;34m(\u001b[0m\u001b[0;34m)\u001b[0m\u001b[0;34m\u001b[0m\u001b[0;34m\u001b[0m\u001b[0m\n",
            "\u001b[0;31mTclError\u001b[0m: no display name and no $DISPLAY environment variable"
          ]
        }
      ]
    },
    {
      "cell_type": "markdown",
      "source": [
        "### [실습문제]1~100숫자를 1줄로 출력하기"
      ],
      "metadata": {
        "id": "Q8IaZVEf8aOo"
      }
    },
    {
      "cell_type": "code",
      "source": [
        "for i in range(1,101):\n",
        "    print(i,end=' ')"
      ],
      "metadata": {
        "colab": {
          "base_uri": "https://localhost:8080/"
        },
        "id": "EIomvuJk8GI_",
        "outputId": "d41c4131-28de-4f9c-e229-56e1bb20ec9c"
      },
      "execution_count": 41,
      "outputs": [
        {
          "output_type": "stream",
          "name": "stdout",
          "text": [
            "1 2 3 4 5 6 7 8 9 10 11 12 13 14 15 16 17 18 19 20 21 22 23 24 25 26 27 28 29 30 31 32 33 34 35 36 37 38 39 40 41 42 43 44 45 46 47 48 49 50 51 52 53 54 55 56 57 58 59 60 61 62 63 64 65 66 67 68 69 70 71 72 73 74 75 76 77 78 79 80 81 82 83 84 85 86 87 88 89 90 91 92 93 94 95 96 97 98 99 100 "
          ]
        }
      ]
    },
    {
      "cell_type": "code",
      "source": [
        "print(' '.join([str(i) for i in range(1,101)])) #str함수는 문자열로 변환"
      ],
      "metadata": {
        "colab": {
          "base_uri": "https://localhost:8080/"
        },
        "id": "6JCDeFYN8rUv",
        "outputId": "b6da6c02-a79e-41e0-8efe-0fb39831f067"
      },
      "execution_count": 44,
      "outputs": [
        {
          "output_type": "stream",
          "name": "stdout",
          "text": [
            "1 2 3 4 5 6 7 8 9 10 11 12 13 14 15 16 17 18 19 20 21 22 23 24 25 26 27 28 29 30 31 32 33 34 35 36 37 38 39 40 41 42 43 44 45 46 47 48 49 50 51 52 53 54 55 56 57 58 59 60 61 62 63 64 65 66 67 68 69 70 71 72 73 74 75 76 77 78 79 80 81 82 83 84 85 86 87 88 89 90 91 92 93 94 95 96 97 98 99 100\n"
          ]
        }
      ]
    },
    {
      "cell_type": "markdown",
      "source": [
        "###[실습문제]리스트 읽어서 조건문으로 학생 성적 판별하기"
      ],
      "metadata": {
        "id": "EP3TZ4Jz_XoG"
      }
    },
    {
      "cell_type": "code",
      "source": [
        "# 방법 1\n",
        "\n",
        "scores=[90,25,67,45,80]\n",
        "\n",
        "for idx,score in enumerate(scores):\n",
        "    if score>=60:\n",
        "        print(f'{idx+1}번 학생 {score}점은 합격입니다.')\n",
        "    else:\n",
        "        print(f'{idx+1}번 학생 {score}점은 불합격입니다.')"
      ],
      "metadata": {
        "colab": {
          "base_uri": "https://localhost:8080/"
        },
        "id": "BEGIt0x99nNP",
        "outputId": "f7c00ed1-a828-4108-98a1-22a9393cd1fe"
      },
      "execution_count": 47,
      "outputs": [
        {
          "output_type": "stream",
          "name": "stdout",
          "text": [
            "1번 학생 90점은 합격입니다.\n",
            "2번 학생 25점은 불합격입니다.\n",
            "3번 학생 67점은 합격입니다.\n",
            "4번 학생 45점은 불합격입니다.\n",
            "5번 학생 80점은 합격입니다.\n"
          ]
        }
      ]
    },
    {
      "cell_type": "code",
      "source": [
        "# 방법 2 random하게 5개 발생시키기\n",
        "# 빈 리스트\n",
        "\n",
        "import random\n",
        "\n",
        "scores=[]\n",
        "for _ in range(5):\n",
        "    scores.append(random.randint(0,101))\n",
        "print(scores)\n",
        "\n",
        "for idx,score in enumerate(scores):\n",
        "    if score>=60:\n",
        "        print(f'{idx+1}번 학생 {score}점은 합격입니다.')\n",
        "    else:\n",
        "        print(f'{idx+1}번 학생 {score}점은 불합격입니다.')\n",
        "\n",
        "\n",
        "# 방법 3 : 방법2를 한 줄로 표현\n",
        "scores=[random.randint(0,101) for _ in range(5)]\n",
        "print(scores)\n",
        "\n",
        "for idx,score in enumerate(scores):\n",
        "    '''if score>=60:\n",
        "        print(f'{idx+1}번 학생 {score}점은 합격입니다.')\n",
        "    else:\n",
        "        print(f'{idx+1}번 학생 {score}점은 불합격입니다.')'''\n",
        "\n",
        "    result= '합격' if score>=60 else '불합격'\n",
        "    print(f'{idx+1}번 학생 {score}점 :  {result}입니다.')\n"
      ],
      "metadata": {
        "colab": {
          "base_uri": "https://localhost:8080/"
        },
        "id": "0C-R6uk0_n6k",
        "outputId": "36a07f72-2664-4156-9e7f-58e233e2a02c"
      },
      "execution_count": 50,
      "outputs": [
        {
          "output_type": "stream",
          "name": "stdout",
          "text": [
            "[50, 57, 83, 59, 40]\n",
            "1번 학생 50점은 불합격입니다.\n",
            "2번 학생 57점은 불합격입니다.\n",
            "3번 학생 83점은 합격입니다.\n",
            "4번 학생 59점은 불합격입니다.\n",
            "5번 학생 40점은 불합격입니다.\n",
            "[55, 19, 36, 28, 27]\n",
            "1번 학생 55점 :  불합격입니다.\n",
            "2번 학생 19점 :  불합격입니다.\n",
            "3번 학생 36점 :  불합격입니다.\n",
            "4번 학생 28점 :  불합격입니다.\n",
            "5번 학생 27점 :  불합격입니다.\n"
          ]
        }
      ]
    },
    {
      "cell_type": "code",
      "source": [
        "'''예)\n",
        ")))()()((( => False\n",
        "()()()()()) => False\n",
        "()(())()() => True\n",
        "))(())(( => False\n",
        "()(()))( => False\n",
        "((())()) => True'''\n",
        "\n",
        "\n",
        "p_list=list(input('괄호 : '))\n",
        "print(p_list)\n",
        "\n",
        "t=0\n",
        "for p in p_list:\n",
        "    if p=='(':\n",
        "        t+=1\n",
        "    elif p==')':\n",
        "        t-=1\n",
        "    if t<0:\n",
        "        break\n",
        "\n",
        "if t==0:\n",
        "    print('결과:True')\n",
        "else:\n",
        "    print('결과:False')\n"
      ],
      "metadata": {
        "colab": {
          "base_uri": "https://localhost:8080/"
        },
        "id": "s1B00N_nEHZF",
        "outputId": "e03974e7-e752-4aa4-bc4b-7a5eff569e8d"
      },
      "execution_count": 64,
      "outputs": [
        {
          "output_type": "stream",
          "name": "stdout",
          "text": [
            "괄호 : (())\n",
            "['(', '(', ')', ')']\n",
            "결과:True\n"
          ]
        }
      ]
    },
    {
      "cell_type": "markdown",
      "source": [
        "## 중첩 for 반복문 : 반복문 안에 반복문"
      ],
      "metadata": {
        "id": "ac8VbvJ6HG6A"
      }
    },
    {
      "cell_type": "code",
      "source": [
        "for i in range(3):\n",
        "    print(f'{i}-------')\n",
        "    for j in range(3):\n",
        "        print(f'i:{i},j:{j}')"
      ],
      "metadata": {
        "colab": {
          "base_uri": "https://localhost:8080/"
        },
        "id": "Vh-2QnPEHOCo",
        "outputId": "d40c2595-44bb-42a5-d3a6-05760673bc95"
      },
      "execution_count": 62,
      "outputs": [
        {
          "output_type": "stream",
          "name": "stdout",
          "text": [
            "0-------\n",
            "i:0,j:0\n",
            "i:0,j:1\n",
            "i:0,j:2\n",
            "1-------\n",
            "i:1,j:0\n",
            "i:1,j:1\n",
            "i:1,j:2\n",
            "2-------\n",
            "i:2,j:0\n",
            "i:2,j:1\n",
            "i:2,j:2\n"
          ]
        }
      ]
    },
    {
      "cell_type": "code",
      "source": [
        "p_lists=[')))()()(((','()()()()())','()(())()()','))(())(( ','()(()))(','((())())']\n",
        "\n",
        "for p_list in p_lists:\n",
        "    print(f'괄호:{p_list}')\n",
        "    t=0\n",
        "    for p in p_list:\n",
        "        if p=='(':\n",
        "            t+=1\n",
        "        elif p==')':\n",
        "            t-=1\n",
        "        if t<0:\n",
        "            break\n",
        "\n",
        "    if t==0:\n",
        "        print('->결과:True')\n",
        "    else:\n",
        "        print('->결과:False')"
      ],
      "metadata": {
        "colab": {
          "base_uri": "https://localhost:8080/"
        },
        "id": "PdUQoh1nIMdz",
        "outputId": "c79224fb-632c-4761-b5c8-7cf8ce1fe5b5"
      },
      "execution_count": 70,
      "outputs": [
        {
          "output_type": "stream",
          "name": "stdout",
          "text": [
            "괄호:)))()()(((\n",
            "->결과:False\n",
            "괄호:()()()()())\n",
            "->결과:False\n",
            "괄호:()(())()()\n",
            "->결과:True\n",
            "괄호:))(())(( \n",
            "->결과:False\n",
            "괄호:()(()))(\n",
            "->결과:False\n",
            "괄호:((())())\n",
            "->결과:True\n"
          ]
        }
      ]
    },
    {
      "cell_type": "markdown",
      "source": [
        "## 5-2.while 반복문"
      ],
      "metadata": {
        "id": "gJbXAjr1RgH4"
      }
    },
    {
      "cell_type": "markdown",
      "source": [
        "### while 반복문 기본형식"
      ],
      "metadata": {
        "id": "pRwIwfBZRmz9"
      }
    },
    {
      "cell_type": "code",
      "source": [
        "a=0\n",
        "while a<5: #조건이 참일 동안 반복\n",
        "    print(f'{a}는 5보다 작군요')\n",
        "    a+=1\n",
        "print(f'{a}는 5와 같군요')"
      ],
      "metadata": {
        "colab": {
          "base_uri": "https://localhost:8080/"
        },
        "id": "PuEPxjVGRk5l",
        "outputId": "ee880efb-af82-4696-adc1-b2b60f0586d1"
      },
      "execution_count": 72,
      "outputs": [
        {
          "output_type": "stream",
          "name": "stdout",
          "text": [
            "0는 5보다 작군요\n",
            "1는 5보다 작군요\n",
            "2는 5보다 작군요\n",
            "3는 5보다 작군요\n",
            "4는 5보다 작군요\n",
            "5는 5와 같군요\n"
          ]
        }
      ]
    },
    {
      "cell_type": "code",
      "source": [
        "a=0\n",
        "while True:\n",
        "    if a>=5:\n",
        "        break\n",
        "     print(f'{a}는 5보다 작군요')\n",
        "     a+=1\n",
        "print(f'{a}는 5보다 작군요')\n",
        "\n",
        ""
      ],
      "metadata": {
        "colab": {
          "base_uri": "https://localhost:8080/",
          "height": 110
        },
        "id": "yZI55HzsSSMw",
        "outputId": "225e8425-39b5-47b3-94d0-ee1a3149e36b"
      },
      "execution_count": 74,
      "outputs": [
        {
          "output_type": "error",
          "ename": "IndentationError",
          "evalue": "unindent does not match any outer indentation level (<tokenize>, line 5)",
          "traceback": [
            "\u001b[0;36m  File \u001b[0;32m\"<tokenize>\"\u001b[0;36m, line \u001b[0;32m5\u001b[0m\n\u001b[0;31m    print(f'{a}는 5보다 작군요')\u001b[0m\n\u001b[0m    ^\u001b[0m\n\u001b[0;31mIndentationError\u001b[0m\u001b[0;31m:\u001b[0m unindent does not match any outer indentation level\n"
          ]
        }
      ]
    },
    {
      "cell_type": "code",
      "source": [
        "treeHit=0\n",
        "while treeHit<11:\n",
        "    print(f'나무를 {treeHit}번 찍었습니다.')\n",
        "    treeHit+=1\n",
        "print(f'나무 넘어갑니다.')\n"
      ],
      "metadata": {
        "colab": {
          "base_uri": "https://localhost:8080/"
        },
        "id": "WaCUnGMpS_4J",
        "outputId": "992f8473-2d21-4362-a8a5-50b1a2a371f9"
      },
      "execution_count": 77,
      "outputs": [
        {
          "output_type": "stream",
          "name": "stdout",
          "text": [
            "나무를 0번 찍었습니다.\n",
            "나무를 1번 찍었습니다.\n",
            "나무를 2번 찍었습니다.\n",
            "나무를 3번 찍었습니다.\n",
            "나무를 4번 찍었습니다.\n",
            "나무를 5번 찍었습니다.\n",
            "나무를 6번 찍었습니다.\n",
            "나무를 7번 찍었습니다.\n",
            "나무를 8번 찍었습니다.\n",
            "나무를 9번 찍었습니다.\n",
            "나무를 10번 찍었습니다.\n",
            "나무 넘어갑니다.\n"
          ]
        }
      ]
    },
    {
      "cell_type": "code",
      "source": [
        "treeHit=0\n",
        "while True:\n",
        "    if treeHit>=10:\n",
        "        print('나무 넘어갑니다.')\n",
        "        break\n",
        "    treeHit+=1\n",
        "    print(f'나무를 {treeHit}번 찍었습니다.')"
      ],
      "metadata": {
        "colab": {
          "base_uri": "https://localhost:8080/"
        },
        "id": "qkS4v_y3UOiX",
        "outputId": "b230cc11-badf-4411-9a3b-ba2a13e055e2"
      },
      "execution_count": 78,
      "outputs": [
        {
          "output_type": "stream",
          "name": "stdout",
          "text": [
            "나무를 1번 찍었습니다.\n",
            "나무를 2번 찍었습니다.\n",
            "나무를 3번 찍었습니다.\n",
            "나무를 4번 찍었습니다.\n",
            "나무를 5번 찍었습니다.\n",
            "나무를 6번 찍었습니다.\n",
            "나무를 7번 찍었습니다.\n",
            "나무를 8번 찍었습니다.\n",
            "나무를 9번 찍었습니다.\n",
            "나무를 10번 찍었습니다.\n",
            "나무 넘어갑니다.\n"
          ]
        }
      ]
    }
  ]
}